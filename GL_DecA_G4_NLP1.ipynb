{
  "nbformat": 4,
  "nbformat_minor": 0,
  "metadata": {
    "colab": {
      "name": "GL_DecA_G4_NLP1.ipynb",
      "provenance": [],
      "include_colab_link": true
    },
    "kernelspec": {
      "name": "python3",
      "display_name": "Python 3"
    },
    "language_info": {
      "name": "python"
    }
  },
  "cells": [
    {
      "cell_type": "markdown",
      "metadata": {
        "id": "view-in-github",
        "colab_type": "text"
      },
      "source": [
        "<a href=\"https://colab.research.google.com/github/pbhuch/GL_DecA_G4_NLP1/blob/NLP1_PB/GL_DecA_G4_NLP1.ipynb\" target=\"_parent\"><img src=\"https://colab.research.google.com/assets/colab-badge.svg\" alt=\"Open In Colab\"/></a>"
      ]
    },
    {
      "cell_type": "markdown",
      "metadata": {
        "id": "2Vqh91aLDKOE"
      },
      "source": [
        "Great Learning : AIML Online Capstone -AUTOMATIC TICKET ASSIGNMENT\n",
        "\n",
        "DecA : Group 4: NLP 1\n",
        "\n",
        "Group Members :\n",
        "1. Priya Moily\n",
        "2. Priyanka Gupta\n",
        "3. Avinash Balani\n",
        "4. Priyank Bhuch"
      ]
    },
    {
      "cell_type": "markdown",
      "metadata": {
        "id": "2DOAo9YOEdQk"
      },
      "source": [
        "Importing relavant Libraries"
      ]
    },
    {
      "cell_type": "code",
      "metadata": {
        "id": "ATvXsfGZ8DiU"
      },
      "source": [
        "import pandas as pd\n",
        "import matplotlib.pyplot as plt\n",
        "import seaborn as sns\n",
        "import numpy as np\n",
        "import re\n",
        "\n",
        "\n",
        "from IPython.display import display\n",
        "pd.options.display.max_columns = None\n",
        "pd.options.display.max_rows = None"
      ],
      "execution_count": 4,
      "outputs": []
    },
    {
      "cell_type": "code",
      "metadata": {
        "id": "xBj276DI_b_8"
      },
      "source": [
        "df = pd.read_csv(\"sample_data/dataset1_combined.csv\", encoding = 'utf-8')"
      ],
      "execution_count": 5,
      "outputs": []
    },
    {
      "cell_type": "code",
      "metadata": {
        "id": "W4N5pD9CAi3K"
      },
      "source": [
        "df_copy = df.copy()"
      ],
      "execution_count": 6,
      "outputs": []
    },
    {
      "cell_type": "code",
      "metadata": {
        "id": "Ayoe5LFuAuSI",
        "colab": {
          "base_uri": "https://localhost:8080/",
          "height": 310
        },
        "outputId": "dad6cb4c-979b-451d-8ec7-56f519a448f4"
      },
      "source": [
        "df_copy.head()"
      ],
      "execution_count": 19,
      "outputs": [
        {
          "output_type": "execute_result",
          "data": {
            "text/html": [
              "<div>\n",
              "<style scoped>\n",
              "    .dataframe tbody tr th:only-of-type {\n",
              "        vertical-align: middle;\n",
              "    }\n",
              "\n",
              "    .dataframe tbody tr th {\n",
              "        vertical-align: top;\n",
              "    }\n",
              "\n",
              "    .dataframe thead th {\n",
              "        text-align: right;\n",
              "    }\n",
              "</style>\n",
              "<table border=\"1\" class=\"dataframe\">\n",
              "  <thead>\n",
              "    <tr style=\"text-align: right;\">\n",
              "      <th></th>\n",
              "      <th>Unnamed: 0</th>\n",
              "      <th>Short description</th>\n",
              "      <th>Description</th>\n",
              "      <th>Caller</th>\n",
              "      <th>Assignment group</th>\n",
              "      <th>combined_description</th>\n",
              "      <th>combined_description_caller</th>\n",
              "    </tr>\n",
              "  </thead>\n",
              "  <tbody>\n",
              "    <tr>\n",
              "      <th>0</th>\n",
              "      <td>0</td>\n",
              "      <td>login issue</td>\n",
              "      <td>-verified user details.(employee# &amp; manager na...</td>\n",
              "      <td>spxjnwir pjlcoqds</td>\n",
              "      <td>GRP_0</td>\n",
              "      <td>login issue -verified user details.(employee# ...</td>\n",
              "      <td>login issue -verified user details.(employee# ...</td>\n",
              "    </tr>\n",
              "    <tr>\n",
              "      <th>1</th>\n",
              "      <td>1</td>\n",
              "      <td>outlook</td>\n",
              "      <td>_x000D_\\n_x000D_\\nreceived from: hmjdrvpb.komu...</td>\n",
              "      <td>hmjdrvpb komuaywn</td>\n",
              "      <td>GRP_0</td>\n",
              "      <td>outlook _x000D_\\n_x000D_\\nreceived from: hmjdr...</td>\n",
              "      <td>outlook _x000D_\\n_x000D_\\nreceived from: hmjdr...</td>\n",
              "    </tr>\n",
              "    <tr>\n",
              "      <th>2</th>\n",
              "      <td>2</td>\n",
              "      <td>cant log in to vpn</td>\n",
              "      <td>_x000D_\\n_x000D_\\nreceived from: eylqgodm.ybqk...</td>\n",
              "      <td>eylqgodm ybqkwiam</td>\n",
              "      <td>GRP_0</td>\n",
              "      <td>cant log in to vpn _x000D_\\n_x000D_\\nreceived ...</td>\n",
              "      <td>cant log in to vpn _x000D_\\n_x000D_\\nreceived ...</td>\n",
              "    </tr>\n",
              "    <tr>\n",
              "      <th>3</th>\n",
              "      <td>3</td>\n",
              "      <td>unable to access hr_tool page</td>\n",
              "      <td>unable to access hr_tool page</td>\n",
              "      <td>xbkucsvz gcpydteq</td>\n",
              "      <td>GRP_0</td>\n",
              "      <td>unable to access hr_tool page unable to access...</td>\n",
              "      <td>unable to access hr_tool page unable to access...</td>\n",
              "    </tr>\n",
              "    <tr>\n",
              "      <th>4</th>\n",
              "      <td>4</td>\n",
              "      <td>skype error</td>\n",
              "      <td>skype error</td>\n",
              "      <td>owlgqjme qhcozdfx</td>\n",
              "      <td>GRP_0</td>\n",
              "      <td>skype error skype error</td>\n",
              "      <td>skype error skype error owlgqjme qhcozdfx</td>\n",
              "    </tr>\n",
              "  </tbody>\n",
              "</table>\n",
              "</div>"
            ],
            "text/plain": [
              "   Unnamed: 0              Short description  \\\n",
              "0           0                    login issue   \n",
              "1           1                        outlook   \n",
              "2           2             cant log in to vpn   \n",
              "3           3  unable to access hr_tool page   \n",
              "4           4                   skype error    \n",
              "\n",
              "                                         Description             Caller  \\\n",
              "0  -verified user details.(employee# & manager na...  spxjnwir pjlcoqds   \n",
              "1  _x000D_\\n_x000D_\\nreceived from: hmjdrvpb.komu...  hmjdrvpb komuaywn   \n",
              "2  _x000D_\\n_x000D_\\nreceived from: eylqgodm.ybqk...  eylqgodm ybqkwiam   \n",
              "3                      unable to access hr_tool page  xbkucsvz gcpydteq   \n",
              "4                                       skype error   owlgqjme qhcozdfx   \n",
              "\n",
              "  Assignment group                               combined_description  \\\n",
              "0            GRP_0  login issue -verified user details.(employee# ...   \n",
              "1            GRP_0  outlook _x000D_\\n_x000D_\\nreceived from: hmjdr...   \n",
              "2            GRP_0  cant log in to vpn _x000D_\\n_x000D_\\nreceived ...   \n",
              "3            GRP_0  unable to access hr_tool page unable to access...   \n",
              "4            GRP_0                            skype error skype error   \n",
              "\n",
              "                         combined_description_caller  \n",
              "0  login issue -verified user details.(employee# ...  \n",
              "1  outlook _x000D_\\n_x000D_\\nreceived from: hmjdr...  \n",
              "2  cant log in to vpn _x000D_\\n_x000D_\\nreceived ...  \n",
              "3  unable to access hr_tool page unable to access...  \n",
              "4          skype error skype error owlgqjme qhcozdfx  "
            ]
          },
          "metadata": {},
          "execution_count": 19
        }
      ]
    },
    {
      "cell_type": "code",
      "metadata": {
        "colab": {
          "base_uri": "https://localhost:8080/",
          "height": 310
        },
        "id": "Zrr1fvCE_rx9",
        "outputId": "601d6f95-2b59-4143-f53a-5463381da5b7"
      },
      "source": [
        "df.head()"
      ],
      "execution_count": 20,
      "outputs": [
        {
          "output_type": "execute_result",
          "data": {
            "text/html": [
              "<div>\n",
              "<style scoped>\n",
              "    .dataframe tbody tr th:only-of-type {\n",
              "        vertical-align: middle;\n",
              "    }\n",
              "\n",
              "    .dataframe tbody tr th {\n",
              "        vertical-align: top;\n",
              "    }\n",
              "\n",
              "    .dataframe thead th {\n",
              "        text-align: right;\n",
              "    }\n",
              "</style>\n",
              "<table border=\"1\" class=\"dataframe\">\n",
              "  <thead>\n",
              "    <tr style=\"text-align: right;\">\n",
              "      <th></th>\n",
              "      <th>Unnamed: 0</th>\n",
              "      <th>Short description</th>\n",
              "      <th>Description</th>\n",
              "      <th>Caller</th>\n",
              "      <th>Assignment group</th>\n",
              "      <th>combined_description</th>\n",
              "      <th>combined_description_caller</th>\n",
              "    </tr>\n",
              "  </thead>\n",
              "  <tbody>\n",
              "    <tr>\n",
              "      <th>0</th>\n",
              "      <td>0</td>\n",
              "      <td>login issue</td>\n",
              "      <td>-verified user details.(employee# &amp; manager na...</td>\n",
              "      <td>spxjnwir pjlcoqds</td>\n",
              "      <td>GRP_0</td>\n",
              "      <td>login issue -verified user details.(employee# ...</td>\n",
              "      <td>login issue -verified user details.(employee# ...</td>\n",
              "    </tr>\n",
              "    <tr>\n",
              "      <th>1</th>\n",
              "      <td>1</td>\n",
              "      <td>outlook</td>\n",
              "      <td>_x000D_\\n_x000D_\\nreceived from: hmjdrvpb.komu...</td>\n",
              "      <td>hmjdrvpb komuaywn</td>\n",
              "      <td>GRP_0</td>\n",
              "      <td>outlook _x000D_\\n_x000D_\\nreceived from: hmjdr...</td>\n",
              "      <td>outlook _x000D_\\n_x000D_\\nreceived from: hmjdr...</td>\n",
              "    </tr>\n",
              "    <tr>\n",
              "      <th>2</th>\n",
              "      <td>2</td>\n",
              "      <td>cant log in to vpn</td>\n",
              "      <td>_x000D_\\n_x000D_\\nreceived from: eylqgodm.ybqk...</td>\n",
              "      <td>eylqgodm ybqkwiam</td>\n",
              "      <td>GRP_0</td>\n",
              "      <td>cant log in to vpn _x000D_\\n_x000D_\\nreceived ...</td>\n",
              "      <td>cant log in to vpn _x000D_\\n_x000D_\\nreceived ...</td>\n",
              "    </tr>\n",
              "    <tr>\n",
              "      <th>3</th>\n",
              "      <td>3</td>\n",
              "      <td>unable to access hr_tool page</td>\n",
              "      <td>unable to access hr_tool page</td>\n",
              "      <td>xbkucsvz gcpydteq</td>\n",
              "      <td>GRP_0</td>\n",
              "      <td>unable to access hr_tool page unable to access...</td>\n",
              "      <td>unable to access hr_tool page unable to access...</td>\n",
              "    </tr>\n",
              "    <tr>\n",
              "      <th>4</th>\n",
              "      <td>4</td>\n",
              "      <td>skype error</td>\n",
              "      <td>skype error</td>\n",
              "      <td>owlgqjme qhcozdfx</td>\n",
              "      <td>GRP_0</td>\n",
              "      <td>skype error skype error</td>\n",
              "      <td>skype error skype error owlgqjme qhcozdfx</td>\n",
              "    </tr>\n",
              "  </tbody>\n",
              "</table>\n",
              "</div>"
            ],
            "text/plain": [
              "   Unnamed: 0              Short description  \\\n",
              "0           0                    login issue   \n",
              "1           1                        outlook   \n",
              "2           2             cant log in to vpn   \n",
              "3           3  unable to access hr_tool page   \n",
              "4           4                   skype error    \n",
              "\n",
              "                                         Description             Caller  \\\n",
              "0  -verified user details.(employee# & manager na...  spxjnwir pjlcoqds   \n",
              "1  _x000D_\\n_x000D_\\nreceived from: hmjdrvpb.komu...  hmjdrvpb komuaywn   \n",
              "2  _x000D_\\n_x000D_\\nreceived from: eylqgodm.ybqk...  eylqgodm ybqkwiam   \n",
              "3                      unable to access hr_tool page  xbkucsvz gcpydteq   \n",
              "4                                       skype error   owlgqjme qhcozdfx   \n",
              "\n",
              "  Assignment group                               combined_description  \\\n",
              "0            GRP_0  login issue -verified user details.(employee# ...   \n",
              "1            GRP_0  outlook _x000D_\\n_x000D_\\nreceived from: hmjdr...   \n",
              "2            GRP_0  cant log in to vpn _x000D_\\n_x000D_\\nreceived ...   \n",
              "3            GRP_0  unable to access hr_tool page unable to access...   \n",
              "4            GRP_0                            skype error skype error   \n",
              "\n",
              "                         combined_description_caller  \n",
              "0  login issue -verified user details.(employee# ...  \n",
              "1  outlook _x000D_\\n_x000D_\\nreceived from: hmjdr...  \n",
              "2  cant log in to vpn _x000D_\\n_x000D_\\nreceived ...  \n",
              "3  unable to access hr_tool page unable to access...  \n",
              "4          skype error skype error owlgqjme qhcozdfx  "
            ]
          },
          "metadata": {},
          "execution_count": 20
        }
      ]
    },
    {
      "cell_type": "code",
      "metadata": {
        "colab": {
          "base_uri": "https://localhost:8080/"
        },
        "id": "y5xJ6PJH_zQx",
        "outputId": "fd84df34-e81e-4947-fa88-62e922423d6a"
      },
      "source": [
        "df.shape"
      ],
      "execution_count": 7,
      "outputs": [
        {
          "output_type": "execute_result",
          "data": {
            "text/plain": [
              "(8417, 7)"
            ]
          },
          "metadata": {},
          "execution_count": 7
        }
      ]
    },
    {
      "cell_type": "code",
      "metadata": {
        "colab": {
          "base_uri": "https://localhost:8080/"
        },
        "id": "vempJKGJ_1eq",
        "outputId": "6482c995-d162-4ec1-e78c-c59242df72c9"
      },
      "source": [
        "df.info()"
      ],
      "execution_count": null,
      "outputs": [
        {
          "output_type": "stream",
          "name": "stdout",
          "text": [
            "<class 'pandas.core.frame.DataFrame'>\n",
            "RangeIndex: 8417 entries, 0 to 8416\n",
            "Data columns (total 7 columns):\n",
            " #   Column                       Non-Null Count  Dtype \n",
            "---  ------                       --------------  ----- \n",
            " 0   Unnamed: 0                   8417 non-null   int64 \n",
            " 1   Short description            8409 non-null   object\n",
            " 2   Description                  8416 non-null   object\n",
            " 3   Caller                       8417 non-null   object\n",
            " 4   Assignment group             8417 non-null   object\n",
            " 5   combined_description         8417 non-null   object\n",
            " 6   combined_description_caller  8417 non-null   object\n",
            "dtypes: int64(1), object(6)\n",
            "memory usage: 460.4+ KB\n"
          ]
        }
      ]
    },
    {
      "cell_type": "code",
      "metadata": {
        "colab": {
          "base_uri": "https://localhost:8080/"
        },
        "id": "AnOQTcjGAig6",
        "outputId": "a0e40618-290a-493c-e2e0-e88f7612eb62"
      },
      "source": [
        "df.columns"
      ],
      "execution_count": 21,
      "outputs": [
        {
          "output_type": "execute_result",
          "data": {
            "text/plain": [
              "Index(['Unnamed: 0', 'Short description', 'Description', 'Caller',\n",
              "       'Assignment group', 'combined_description',\n",
              "       'combined_description_caller'],\n",
              "      dtype='object')"
            ]
          },
          "metadata": {},
          "execution_count": 21
        }
      ]
    },
    {
      "cell_type": "code",
      "metadata": {
        "id": "bK9qaAhwA9Iq"
      },
      "source": [
        "df.drop(['Unnamed: 0','Short description','Description','Caller','combined_description_caller','Assignment group'],axis='columns', inplace=True)"
      ],
      "execution_count": 8,
      "outputs": []
    },
    {
      "cell_type": "code",
      "metadata": {
        "colab": {
          "base_uri": "https://localhost:8080/",
          "height": 206
        },
        "id": "3hfkgiXBCglG",
        "outputId": "05a69e87-e31c-44ac-833e-b640439e2a5e"
      },
      "source": [
        "df.head()"
      ],
      "execution_count": 5,
      "outputs": [
        {
          "output_type": "execute_result",
          "data": {
            "text/html": [
              "<div>\n",
              "<style scoped>\n",
              "    .dataframe tbody tr th:only-of-type {\n",
              "        vertical-align: middle;\n",
              "    }\n",
              "\n",
              "    .dataframe tbody tr th {\n",
              "        vertical-align: top;\n",
              "    }\n",
              "\n",
              "    .dataframe thead th {\n",
              "        text-align: right;\n",
              "    }\n",
              "</style>\n",
              "<table border=\"1\" class=\"dataframe\">\n",
              "  <thead>\n",
              "    <tr style=\"text-align: right;\">\n",
              "      <th></th>\n",
              "      <th>combined_description</th>\n",
              "    </tr>\n",
              "  </thead>\n",
              "  <tbody>\n",
              "    <tr>\n",
              "      <th>0</th>\n",
              "      <td>login issue -verified user details.(employee# ...</td>\n",
              "    </tr>\n",
              "    <tr>\n",
              "      <th>1</th>\n",
              "      <td>outlook _x000D_\\n_x000D_\\nreceived from: hmjdr...</td>\n",
              "    </tr>\n",
              "    <tr>\n",
              "      <th>2</th>\n",
              "      <td>cant log in to vpn _x000D_\\n_x000D_\\nreceived ...</td>\n",
              "    </tr>\n",
              "    <tr>\n",
              "      <th>3</th>\n",
              "      <td>unable to access hr_tool page unable to access...</td>\n",
              "    </tr>\n",
              "    <tr>\n",
              "      <th>4</th>\n",
              "      <td>skype error skype error</td>\n",
              "    </tr>\n",
              "  </tbody>\n",
              "</table>\n",
              "</div>"
            ],
            "text/plain": [
              "                                combined_description\n",
              "0  login issue -verified user details.(employee# ...\n",
              "1  outlook _x000D_\\n_x000D_\\nreceived from: hmjdr...\n",
              "2  cant log in to vpn _x000D_\\n_x000D_\\nreceived ...\n",
              "3  unable to access hr_tool page unable to access...\n",
              "4                            skype error skype error"
            ]
          },
          "metadata": {},
          "execution_count": 5
        }
      ]
    },
    {
      "cell_type": "code",
      "metadata": {
        "colab": {
          "base_uri": "https://localhost:8080/"
        },
        "id": "7G4_T7aeFZuT",
        "outputId": "d2603baa-f4bb-44da-a4a2-be2a8f1a2552"
      },
      "source": [
        "df.info()"
      ],
      "execution_count": null,
      "outputs": [
        {
          "output_type": "stream",
          "name": "stdout",
          "text": [
            "<class 'pandas.core.frame.DataFrame'>\n",
            "RangeIndex: 8417 entries, 0 to 8416\n",
            "Data columns (total 1 columns):\n",
            " #   Column                Non-Null Count  Dtype \n",
            "---  ------                --------------  ----- \n",
            " 0   combined_description  8417 non-null   object\n",
            "dtypes: object(1)\n",
            "memory usage: 65.9+ KB\n"
          ]
        }
      ]
    },
    {
      "cell_type": "code",
      "metadata": {
        "colab": {
          "base_uri": "https://localhost:8080/"
        },
        "id": "qAUbhCpuFc7s",
        "outputId": "08fb0670-0201-4be7-a3ef-c8684e4ba7be"
      },
      "source": [
        "df.isnull().sum()"
      ],
      "execution_count": 9,
      "outputs": [
        {
          "output_type": "execute_result",
          "data": {
            "text/plain": [
              "combined_description    0\n",
              "dtype: int64"
            ]
          },
          "metadata": {},
          "execution_count": 9
        }
      ]
    },
    {
      "cell_type": "code",
      "metadata": {
        "id": "caGl1qicxhhN"
      },
      "source": [
        "def fn_decode_to_ascii(df):\n",
        "  text = df.encode().decode('utf-8').encode('ascii', 'ignore')\n",
        "  return text.decode(\"utf-8\") \n",
        "\n",
        "df['combined_description'] = df['combined_description'].apply(fn_decode_to_ascii)"
      ],
      "execution_count": 10,
      "outputs": []
    },
    {
      "cell_type": "code",
      "metadata": {
        "id": "wrcaEyW8oi8G"
      },
      "source": [
        "regex = r'\\b[A-Za-z0-9._%+-]+@[A-Za-z0-9.-]+\\.[A-Z|a-z]{2,}\\b'"
      ],
      "execution_count": 13,
      "outputs": []
    },
    {
      "cell_type": "code",
      "metadata": {
        "id": "ZLIGlxuI2-cx",
        "colab": {
          "base_uri": "https://localhost:8080/",
          "height": 677
        },
        "outputId": "c3ff9948-6406-4225-bf08-c090ed7b6218"
      },
      "source": [
        "df.tail(20)"
      ],
      "execution_count": 26,
      "outputs": [
        {
          "output_type": "execute_result",
          "data": {
            "text/html": [
              "<div>\n",
              "<style scoped>\n",
              "    .dataframe tbody tr th:only-of-type {\n",
              "        vertical-align: middle;\n",
              "    }\n",
              "\n",
              "    .dataframe tbody tr th {\n",
              "        vertical-align: top;\n",
              "    }\n",
              "\n",
              "    .dataframe thead th {\n",
              "        text-align: right;\n",
              "    }\n",
              "</style>\n",
              "<table border=\"1\" class=\"dataframe\">\n",
              "  <thead>\n",
              "    <tr style=\"text-align: right;\">\n",
              "      <th></th>\n",
              "      <th>combined_description</th>\n",
              "    </tr>\n",
              "  </thead>\n",
              "  <tbody>\n",
              "    <tr>\n",
              "      <th>8397</th>\n",
              "      <td>customer group enhanced field _x000D_\\n_x000D_...</td>\n",
              "    </tr>\n",
              "    <tr>\n",
              "      <th>8398</th>\n",
              "      <td>ess portal received from: eagvusbr.nguqityl@gm...</td>\n",
              "    </tr>\n",
              "    <tr>\n",
              "      <th>8399</th>\n",
              "      <td>robot HostName_776 is inactive robot HostName_...</td>\n",
              "    </tr>\n",
              "    <tr>\n",
              "      <th>8400</th>\n",
              "      <td>fw: case id [ref:_case-111121032:ref] :: other...</td>\n",
              "    </tr>\n",
              "    <tr>\n",
              "      <th>8401</th>\n",
              "      <td>please remove user hugcadrn ixhlwdgt (ralfteim...</td>\n",
              "    </tr>\n",
              "    <tr>\n",
              "      <th>8402</th>\n",
              "      <td>ticket update on inc1538505 to user hbmwlprq i...</td>\n",
              "    </tr>\n",
              "    <tr>\n",
              "      <th>8403</th>\n",
              "      <td>ticket update on ticket_no0427635 ticket updat...</td>\n",
              "    </tr>\n",
              "    <tr>\n",
              "      <th>8404</th>\n",
              "      <td>telephony_software is missing from pc pc recei...</td>\n",
              "    </tr>\n",
              "    <tr>\n",
              "      <th>8405</th>\n",
              "      <td>erp account unlock name:mfeyouli ndobtzpw\\nlan...</td>\n",
              "    </tr>\n",
              "    <tr>\n",
              "      <th>8406</th>\n",
              "      <td>account locked account locked</td>\n",
              "    </tr>\n",
              "    <tr>\n",
              "      <th>8407</th>\n",
              "      <td>check status in purchasing please contact ed p...</td>\n",
              "    </tr>\n",
              "    <tr>\n",
              "      <th>8408</th>\n",
              "      <td>vpn for laptop received from: jxgobwrm.qkugdip...</td>\n",
              "    </tr>\n",
              "    <tr>\n",
              "      <th>8409</th>\n",
              "      <td>hr_tool etime option not visitble hr_tool etim...</td>\n",
              "    </tr>\n",
              "    <tr>\n",
              "      <th>8410</th>\n",
              "      <td>erp fi  - ob09, two accounts to be added i am ...</td>\n",
              "    </tr>\n",
              "    <tr>\n",
              "      <th>8411</th>\n",
              "      <td>tablet needs reimaged due to multiple issues w...</td>\n",
              "    </tr>\n",
              "    <tr>\n",
              "      <th>8412</th>\n",
              "      <td>emails not coming in from zz mail _x000D_\\n_x0...</td>\n",
              "    </tr>\n",
              "    <tr>\n",
              "      <th>8413</th>\n",
              "      <td>telephony_software issue telephony_software issue</td>\n",
              "    </tr>\n",
              "    <tr>\n",
              "      <th>8414</th>\n",
              "      <td>vip2: windows password reset for tifpdchb pedx...</td>\n",
              "    </tr>\n",
              "    <tr>\n",
              "      <th>8415</th>\n",
              "      <td>machine no est funcionando i am unable to acce...</td>\n",
              "    </tr>\n",
              "    <tr>\n",
              "      <th>8416</th>\n",
              "      <td>an mehreren pc`s lassen sich verschiedene prgr...</td>\n",
              "    </tr>\n",
              "  </tbody>\n",
              "</table>\n",
              "</div>"
            ],
            "text/plain": [
              "                                   combined_description\n",
              "8397  customer group enhanced field _x000D_\\n_x000D_...\n",
              "8398  ess portal received from: eagvusbr.nguqityl@gm...\n",
              "8399  robot HostName_776 is inactive robot HostName_...\n",
              "8400  fw: case id [ref:_case-111121032:ref] :: other...\n",
              "8401  please remove user hugcadrn ixhlwdgt (ralfteim...\n",
              "8402  ticket update on inc1538505 to user hbmwlprq i...\n",
              "8403  ticket update on ticket_no0427635 ticket updat...\n",
              "8404  telephony_software is missing from pc pc recei...\n",
              "8405  erp account unlock name:mfeyouli ndobtzpw\\nlan...\n",
              "8406                      account locked account locked\n",
              "8407  check status in purchasing please contact ed p...\n",
              "8408  vpn for laptop received from: jxgobwrm.qkugdip...\n",
              "8409  hr_tool etime option not visitble hr_tool etim...\n",
              "8410  erp fi  - ob09, two accounts to be added i am ...\n",
              "8411  tablet needs reimaged due to multiple issues w...\n",
              "8412  emails not coming in from zz mail _x000D_\\n_x0...\n",
              "8413  telephony_software issue telephony_software issue\n",
              "8414  vip2: windows password reset for tifpdchb pedx...\n",
              "8415  machine no est funcionando i am unable to acce...\n",
              "8416  an mehreren pc`s lassen sich verschiedene prgr..."
            ]
          },
          "metadata": {},
          "execution_count": 26
        }
      ]
    },
    {
      "cell_type": "code",
      "metadata": {
        "id": "qxUmeNZ9_TfA"
      },
      "source": [
        "def fn_remove_irrelaventWords(df,columnName):\n",
        "  for index in range(len(df)):\n",
        "    df[columnName][index] = df[columnName][index].lower()\n",
        "    df[columnName][index] = re.sub(regex,\"\",df.loc[index,columnName])\n",
        "    df[columnName][index] = re.sub(r'\\S*@\\S*\\s?', '', df.loc[index,columnName])\n",
        "    df[columnName][index] = re.sub(r\"received from:\",' ',df.loc[index,columnName])\n",
        "    df[columnName][index] = re.sub(r\"from:\",' ',df.loc[index,columnName])\n",
        "    df[columnName][index] = re.sub(r\"to:\",' ',df.loc[index,columnName])\n",
        "    df[columnName][index] = re.sub(r\"subject:\",' ',df.loc[index,columnName])\n",
        "    df[columnName][index] = re.sub(r\"sent:\",' ',df.loc[index,columnName])\n",
        "    df[columnName][index] = re.sub(r\"ic:\",' ',df.loc[index,columnName])\n",
        "    df[columnName][index] = re.sub(r\"cc:\",' ',df.loc[index,columnName])\n",
        "    df[columnName][index] = re.sub(r\"bcc:\",' ',df.loc[index,columnName])\n",
        "    # Remove numbers \n",
        "    df[columnName][index] = re.sub(r'\\d+','' ,df.loc[index,columnName])\n",
        "    # Remove new line characters \n",
        "    df[columnName][index] = re.sub(r'\\n',' ',df.loc[index,columnName])\n",
        "    # Remove hashtag while keeping hashtag text\n",
        "    df[columnName][index] = re.sub(r'#','', df.loc[index,columnName])\n",
        "    #& \n",
        "    df[columnName][index] = re.sub(r'&;?', 'and',df.loc[index,columnName])\n",
        "    # Remove HTML special entities (e.g. &amp;)\n",
        "    df[columnName][index] = re.sub(r'\\&\\w*;', '', df.loc[index,columnName])\n",
        "    # Remove hyperlinks\n",
        "    df[columnName][index] = re.sub(r'https?:\\/\\/.*\\/\\w*', '', df.loc[index,columnName])\n",
        "   return df"
      ],
      "execution_count": 19,
      "outputs": []
    },
    {
      "cell_type": "code",
      "metadata": {
        "id": "MQ1ZJ_-4AyPb"
      },
      "source": [
        "df_withCleanData = fn_remove_irrelaventWords(df,\"combined_description\")"
      ],
      "execution_count": 20,
      "outputs": []
    },
    {
      "cell_type": "code",
      "metadata": {
        "id": "GYJErrcUCBIC",
        "outputId": "35e65ca2-2ad6-4a92-876f-7a12383a6884",
        "colab": {
          "base_uri": "https://localhost:8080/",
          "height": 1000
        }
      },
      "source": [
        "df_withCleanData.head(50)"
      ],
      "execution_count": 21,
      "outputs": [
        {
          "output_type": "execute_result",
          "data": {
            "text/html": [
              "<div>\n",
              "<style scoped>\n",
              "    .dataframe tbody tr th:only-of-type {\n",
              "        vertical-align: middle;\n",
              "    }\n",
              "\n",
              "    .dataframe tbody tr th {\n",
              "        vertical-align: top;\n",
              "    }\n",
              "\n",
              "    .dataframe thead th {\n",
              "        text-align: right;\n",
              "    }\n",
              "</style>\n",
              "<table border=\"1\" class=\"dataframe\">\n",
              "  <thead>\n",
              "    <tr style=\"text-align: right;\">\n",
              "      <th></th>\n",
              "      <th>combined_description</th>\n",
              "    </tr>\n",
              "  </thead>\n",
              "  <tbody>\n",
              "    <tr>\n",
              "      <th>0</th>\n",
              "      <td>login issue -verified user details.(employee a...</td>\n",
              "    </tr>\n",
              "    <tr>\n",
              "      <th>1</th>\n",
              "      <td>outlook _xd_ _xd_   _xd_ hello team,_xd_ _xd_ ...</td>\n",
              "    </tr>\n",
              "    <tr>\n",
              "      <th>2</th>\n",
              "      <td>cant log in to vpn _xd_ _xd_   _xd_ hi_xd_ _xd...</td>\n",
              "    </tr>\n",
              "    <tr>\n",
              "      <th>3</th>\n",
              "      <td>unable to access hr_tool page unable to access...</td>\n",
              "    </tr>\n",
              "    <tr>\n",
              "      <th>4</th>\n",
              "      <td>skype error skype error</td>\n",
              "    </tr>\n",
              "    <tr>\n",
              "      <th>5</th>\n",
              "      <td>unable to log in to engineering tool and skype...</td>\n",
              "    </tr>\n",
              "    <tr>\n",
              "      <th>6</th>\n",
              "      <td>event: critical:hostname_.company.com the valu...</td>\n",
              "    </tr>\n",
              "    <tr>\n",
              "      <th>7</th>\n",
              "      <td>ticket_no- employment status - new non-employe...</td>\n",
              "    </tr>\n",
              "    <tr>\n",
              "      <th>8</th>\n",
              "      <td>unable to disable add ins on outlook unable to...</td>\n",
              "    </tr>\n",
              "    <tr>\n",
              "      <th>9</th>\n",
              "      <td>ticket update on inplant_ ticket update on inp...</td>\n",
              "    </tr>\n",
              "    <tr>\n",
              "      <th>10</th>\n",
              "      <td>engineering tool says not connected and unable...</td>\n",
              "    </tr>\n",
              "    <tr>\n",
              "      <th>11</th>\n",
              "      <td>hr_tool site not loading page correctly hr_too...</td>\n",
              "    </tr>\n",
              "    <tr>\n",
              "      <th>12</th>\n",
              "      <td>unable to login to hr_tool to sgxqsuojr xwbeso...</td>\n",
              "    </tr>\n",
              "    <tr>\n",
              "      <th>13</th>\n",
              "      <td>user wants to reset the password user wants to...</td>\n",
              "    </tr>\n",
              "    <tr>\n",
              "      <th>14</th>\n",
              "      <td>unable to open payslips unable to open payslips</td>\n",
              "    </tr>\n",
              "    <tr>\n",
              "      <th>15</th>\n",
              "      <td>ticket update on inplant_ ticket update on inp...</td>\n",
              "    </tr>\n",
              "    <tr>\n",
              "      <th>16</th>\n",
              "      <td>unable to login to company vpn     hi,  i am u...</td>\n",
              "    </tr>\n",
              "    <tr>\n",
              "      <th>17</th>\n",
              "      <td>when undocking pc , screen will not come back ...</td>\n",
              "    </tr>\n",
              "    <tr>\n",
              "      <th>18</th>\n",
              "      <td>erp sid_ account locked erp sid_ account locked</td>\n",
              "    </tr>\n",
              "    <tr>\n",
              "      <th>19</th>\n",
              "      <td>unable to sign into vpn unable to sign into vpn</td>\n",
              "    </tr>\n",
              "    <tr>\n",
              "      <th>20</th>\n",
              "      <td>unable to check payslips unable to check payslips</td>\n",
              "    </tr>\n",
              "    <tr>\n",
              "      <th>21</th>\n",
              "      <td>vpn issue _xd_ _xd_   _xd_ hello helpdesk_xd_ ...</td>\n",
              "    </tr>\n",
              "    <tr>\n",
              "      <th>22</th>\n",
              "      <td>unable to connect to vpn unable to connect to vpn</td>\n",
              "    </tr>\n",
              "    <tr>\n",
              "      <th>23</th>\n",
              "      <td>user called for vendor phone number user calle...</td>\n",
              "    </tr>\n",
              "    <tr>\n",
              "      <th>24</th>\n",
              "      <td>vpn not working     hello,  i'm not being able...</td>\n",
              "    </tr>\n",
              "    <tr>\n",
              "      <th>25</th>\n",
              "      <td>erp sid_ password reset erp sid_ password reset</td>\n",
              "    </tr>\n",
              "    <tr>\n",
              "      <th>26</th>\n",
              "      <td>unable to login to hr_tool to check payslips u...</td>\n",
              "    </tr>\n",
              "    <tr>\n",
              "      <th>27</th>\n",
              "      <td>account locked out account locked out</td>\n",
              "    </tr>\n",
              "    <tr>\n",
              "      <th>28</th>\n",
              "      <td>unable to login to hr_tool unable to login to ...</td>\n",
              "    </tr>\n",
              "    <tr>\n",
              "      <th>29</th>\n",
              "      <td>unable to log in to erp sid_ unable to log in ...</td>\n",
              "    </tr>\n",
              "    <tr>\n",
              "      <th>30</th>\n",
              "      <td>password reset for collaboration_platform pass...</td>\n",
              "    </tr>\n",
              "    <tr>\n",
              "      <th>31</th>\n",
              "      <td>reset  users hi  please reset users password  ...</td>\n",
              "    </tr>\n",
              "    <tr>\n",
              "      <th>32</th>\n",
              "      <td>duplication of network address.     gentles,  ...</td>\n",
              "    </tr>\n",
              "    <tr>\n",
              "      <th>33</th>\n",
              "      <td>ess password reset ess password reset</td>\n",
              "    </tr>\n",
              "    <tr>\n",
              "      <th>34</th>\n",
              "      <td>unable to install flash player unable to insta...</td>\n",
              "    </tr>\n",
              "    <tr>\n",
              "      <th>35</th>\n",
              "      <td>ticket_no-employment status - new non-employee...</td>\n",
              "    </tr>\n",
              "    <tr>\n",
              "      <th>36</th>\n",
              "      <td>erp sid_ account unlock and password reset erp...</td>\n",
              "    </tr>\n",
              "    <tr>\n",
              "      <th>37</th>\n",
              "      <td>unable to resolve ticket_no assigned to self t...</td>\n",
              "    </tr>\n",
              "    <tr>\n",
              "      <th>38</th>\n",
              "      <td>installing engineering tool need to install en...</td>\n",
              "    </tr>\n",
              "    <tr>\n",
              "      <th>39</th>\n",
              "      <td>call for ecwtrjnq jpecxuty call for ecwtrjnq j...</td>\n",
              "    </tr>\n",
              "    <tr>\n",
              "      <th>40</th>\n",
              "      <td>ticket update - inplant_ ticket update - inplant_</td>\n",
              "    </tr>\n",
              "    <tr>\n",
              "      <th>41</th>\n",
              "      <td>tablet -sound not working tablet -sound not wo...</td>\n",
              "    </tr>\n",
              "    <tr>\n",
              "      <th>42</th>\n",
              "      <td>unable to login to system unable to login to s...</td>\n",
              "    </tr>\n",
              "    <tr>\n",
              "      <th>43</th>\n",
              "      <td>please reroute jobs on printer to printer - is...</td>\n",
              "    </tr>\n",
              "    <tr>\n",
              "      <th>44</th>\n",
              "      <td>unable to login to hr_tool etime unable to log...</td>\n",
              "    </tr>\n",
              "    <tr>\n",
              "      <th>45</th>\n",
              "      <td>can not log into hr_tool etime through single ...</td>\n",
              "    </tr>\n",
              "    <tr>\n",
              "      <th>46</th>\n",
              "      <td>password changed in password_management_tool b...</td>\n",
              "    </tr>\n",
              "    <tr>\n",
              "      <th>47</th>\n",
              "      <td>job job_ failed in job_scheduler at: // ::   _...</td>\n",
              "    </tr>\n",
              "    <tr>\n",
              "      <th>48</th>\n",
              "      <td>windows password change via password_managemen...</td>\n",
              "    </tr>\n",
              "    <tr>\n",
              "      <th>49</th>\n",
              "      <td>status does not change on telephony_software w...</td>\n",
              "    </tr>\n",
              "  </tbody>\n",
              "</table>\n",
              "</div>"
            ],
            "text/plain": [
              "                                 combined_description\n",
              "0   login issue -verified user details.(employee a...\n",
              "1   outlook _xd_ _xd_   _xd_ hello team,_xd_ _xd_ ...\n",
              "2   cant log in to vpn _xd_ _xd_   _xd_ hi_xd_ _xd...\n",
              "3   unable to access hr_tool page unable to access...\n",
              "4                             skype error skype error\n",
              "5   unable to log in to engineering tool and skype...\n",
              "6   event: critical:hostname_.company.com the valu...\n",
              "7   ticket_no- employment status - new non-employe...\n",
              "8   unable to disable add ins on outlook unable to...\n",
              "9   ticket update on inplant_ ticket update on inp...\n",
              "10  engineering tool says not connected and unable...\n",
              "11  hr_tool site not loading page correctly hr_too...\n",
              "12  unable to login to hr_tool to sgxqsuojr xwbeso...\n",
              "13  user wants to reset the password user wants to...\n",
              "14    unable to open payslips unable to open payslips\n",
              "15  ticket update on inplant_ ticket update on inp...\n",
              "16  unable to login to company vpn     hi,  i am u...\n",
              "17  when undocking pc , screen will not come back ...\n",
              "18    erp sid_ account locked erp sid_ account locked\n",
              "19    unable to sign into vpn unable to sign into vpn\n",
              "20  unable to check payslips unable to check payslips\n",
              "21  vpn issue _xd_ _xd_   _xd_ hello helpdesk_xd_ ...\n",
              "22  unable to connect to vpn unable to connect to vpn\n",
              "23  user called for vendor phone number user calle...\n",
              "24  vpn not working     hello,  i'm not being able...\n",
              "25    erp sid_ password reset erp sid_ password reset\n",
              "26  unable to login to hr_tool to check payslips u...\n",
              "27              account locked out account locked out\n",
              "28  unable to login to hr_tool unable to login to ...\n",
              "29  unable to log in to erp sid_ unable to log in ...\n",
              "30  password reset for collaboration_platform pass...\n",
              "31  reset  users hi  please reset users password  ...\n",
              "32  duplication of network address.     gentles,  ...\n",
              "33              ess password reset ess password reset\n",
              "34  unable to install flash player unable to insta...\n",
              "35  ticket_no-employment status - new non-employee...\n",
              "36  erp sid_ account unlock and password reset erp...\n",
              "37  unable to resolve ticket_no assigned to self t...\n",
              "38  installing engineering tool need to install en...\n",
              "39  call for ecwtrjnq jpecxuty call for ecwtrjnq j...\n",
              "40  ticket update - inplant_ ticket update - inplant_\n",
              "41  tablet -sound not working tablet -sound not wo...\n",
              "42  unable to login to system unable to login to s...\n",
              "43  please reroute jobs on printer to printer - is...\n",
              "44  unable to login to hr_tool etime unable to log...\n",
              "45  can not log into hr_tool etime through single ...\n",
              "46  password changed in password_management_tool b...\n",
              "47  job job_ failed in job_scheduler at: // ::   _...\n",
              "48  windows password change via password_managemen...\n",
              "49  status does not change on telephony_software w..."
            ]
          },
          "metadata": {},
          "execution_count": 21
        }
      ]
    },
    {
      "cell_type": "code",
      "metadata": {
        "id": "rCmBkIy2CdzD"
      },
      "source": [
        "df_withCleanData.to_csv(\"dataset1_combined_CleanData\")"
      ],
      "execution_count": 11,
      "outputs": []
    },
    {
      "cell_type": "code",
      "metadata": {
        "id": "ryutz0W3FcLe"
      },
      "source": [
        "df_withCleanData_copy = df_withCleanData.copy()"
      ],
      "execution_count": 22,
      "outputs": []
    },
    {
      "cell_type": "code",
      "metadata": {
        "id": "9dzXpJfe8oUq",
        "outputId": "ef366aaf-d0fd-4519-bb52-5072e15f5f4f",
        "colab": {
          "base_uri": "https://localhost:8080/"
        }
      },
      "source": [
        "pip install ftfy"
      ],
      "execution_count": 23,
      "outputs": [
        {
          "output_type": "stream",
          "name": "stdout",
          "text": [
            "Requirement already satisfied: ftfy in /usr/local/lib/python3.7/dist-packages (6.0.3)\n",
            "Requirement already satisfied: wcwidth in /usr/local/lib/python3.7/dist-packages (from ftfy) (0.2.5)\n"
          ]
        }
      ]
    },
    {
      "cell_type": "code",
      "metadata": {
        "id": "5jMdC0LDHM1o"
      },
      "source": [
        "from ftfy import fix_encoding, fix_text, badness"
      ],
      "execution_count": 24,
      "outputs": []
    },
    {
      "cell_type": "code",
      "metadata": {
        "id": "SGUtltEc8odR"
      },
      "source": [
        "def is_mojibake_impacted(text):\n",
        "    if not badness.sequence_weirdness(text):\n",
        "        # nothing weird, should be okay\n",
        "        return True\n",
        "    try:\n",
        "        text.encode('sloppy-windows-1252')\n",
        "    except UnicodeEncodeError:\n",
        "        # Not CP-1252 encodable, probably fine\n",
        "        return True\n",
        "    else:\n",
        "        # Encodable as CP-1252, Mojibake alert level high\n",
        "        return False \n"
      ],
      "execution_count": 25,
      "outputs": []
    },
    {
      "cell_type": "code",
      "metadata": {
        "id": "U3jT2E6LHUFn",
        "outputId": "683e8453-36e4-402b-9d7a-e433330d1963",
        "colab": {
          "base_uri": "https://localhost:8080/",
          "height": 49
        }
      },
      "source": [
        "# Check the dataset for mojibake impact\n",
        "df_withCleanData[~df_withCleanData.iloc[:,:-1].applymap(is_mojibake_impacted).all(1)]"
      ],
      "execution_count": 26,
      "outputs": [
        {
          "output_type": "execute_result",
          "data": {
            "text/html": [
              "<div>\n",
              "<style scoped>\n",
              "    .dataframe tbody tr th:only-of-type {\n",
              "        vertical-align: middle;\n",
              "    }\n",
              "\n",
              "    .dataframe tbody tr th {\n",
              "        vertical-align: top;\n",
              "    }\n",
              "\n",
              "    .dataframe thead th {\n",
              "        text-align: right;\n",
              "    }\n",
              "</style>\n",
              "<table border=\"1\" class=\"dataframe\">\n",
              "  <thead>\n",
              "    <tr style=\"text-align: right;\">\n",
              "      <th></th>\n",
              "      <th>combined_description</th>\n",
              "    </tr>\n",
              "  </thead>\n",
              "  <tbody>\n",
              "  </tbody>\n",
              "</table>\n",
              "</div>"
            ],
            "text/plain": [
              "Empty DataFrame\n",
              "Columns: [combined_description]\n",
              "Index: []"
            ]
          },
          "metadata": {},
          "execution_count": 26
        }
      ]
    },
    {
      "cell_type": "code",
      "metadata": {
        "id": "p3-7Yfs-F8WM",
        "outputId": "bcb915bb-871f-4053-b7f6-80672299f4b5",
        "colab": {
          "base_uri": "https://localhost:8080/",
          "height": 206
        }
      },
      "source": [
        "df_withCleanData.head()"
      ],
      "execution_count": 27,
      "outputs": [
        {
          "output_type": "execute_result",
          "data": {
            "text/html": [
              "<div>\n",
              "<style scoped>\n",
              "    .dataframe tbody tr th:only-of-type {\n",
              "        vertical-align: middle;\n",
              "    }\n",
              "\n",
              "    .dataframe tbody tr th {\n",
              "        vertical-align: top;\n",
              "    }\n",
              "\n",
              "    .dataframe thead th {\n",
              "        text-align: right;\n",
              "    }\n",
              "</style>\n",
              "<table border=\"1\" class=\"dataframe\">\n",
              "  <thead>\n",
              "    <tr style=\"text-align: right;\">\n",
              "      <th></th>\n",
              "      <th>combined_description</th>\n",
              "    </tr>\n",
              "  </thead>\n",
              "  <tbody>\n",
              "    <tr>\n",
              "      <th>0</th>\n",
              "      <td>login issue -verified user details.(employee a...</td>\n",
              "    </tr>\n",
              "    <tr>\n",
              "      <th>1</th>\n",
              "      <td>outlook _xd_ _xd_   _xd_ hello team,_xd_ _xd_ ...</td>\n",
              "    </tr>\n",
              "    <tr>\n",
              "      <th>2</th>\n",
              "      <td>cant log in to vpn _xd_ _xd_   _xd_ hi_xd_ _xd...</td>\n",
              "    </tr>\n",
              "    <tr>\n",
              "      <th>3</th>\n",
              "      <td>unable to access hr_tool page unable to access...</td>\n",
              "    </tr>\n",
              "    <tr>\n",
              "      <th>4</th>\n",
              "      <td>skype error skype error</td>\n",
              "    </tr>\n",
              "  </tbody>\n",
              "</table>\n",
              "</div>"
            ],
            "text/plain": [
              "                                combined_description\n",
              "0  login issue -verified user details.(employee a...\n",
              "1  outlook _xd_ _xd_   _xd_ hello team,_xd_ _xd_ ...\n",
              "2  cant log in to vpn _xd_ _xd_   _xd_ hi_xd_ _xd...\n",
              "3  unable to access hr_tool page unable to access...\n",
              "4                            skype error skype error"
            ]
          },
          "metadata": {},
          "execution_count": 27
        }
      ]
    },
    {
      "cell_type": "code",
      "metadata": {
        "id": "v49Zi1wq8ogv",
        "outputId": "e645dcdf-0c24-4981-9c7f-2aa37289ba97",
        "colab": {
          "base_uri": "https://localhost:8080/"
        }
      },
      "source": [
        "df_withCleanData.info()"
      ],
      "execution_count": 28,
      "outputs": [
        {
          "output_type": "stream",
          "name": "stdout",
          "text": [
            "<class 'pandas.core.frame.DataFrame'>\n",
            "RangeIndex: 8417 entries, 0 to 8416\n",
            "Data columns (total 1 columns):\n",
            " #   Column                Non-Null Count  Dtype \n",
            "---  ------                --------------  ----- \n",
            " 0   combined_description  8417 non-null   object\n",
            "dtypes: object(1)\n",
            "memory usage: 65.9+ KB\n"
          ]
        }
      ]
    },
    {
      "cell_type": "code",
      "metadata": {
        "id": "Ua7671og8okK",
        "outputId": "7778adb7-7a5d-4e51-fb01-e887c5ddf1dc",
        "colab": {
          "base_uri": "https://localhost:8080/"
        }
      },
      "source": [
        "df_withCleanData.isnull().sum()"
      ],
      "execution_count": 19,
      "outputs": [
        {
          "output_type": "execute_result",
          "data": {
            "text/plain": [
              "combined_description    0\n",
              "dtype: int64"
            ]
          },
          "metadata": {},
          "execution_count": 19
        }
      ]
    },
    {
      "cell_type": "code",
      "metadata": {
        "id": "YFOZiOze8om8"
      },
      "source": [
        "df_withCleanData['combined_description'] = df_withCleanData['combined_description'].apply(fix_text) "
      ],
      "execution_count": 29,
      "outputs": []
    },
    {
      "cell_type": "code",
      "metadata": {
        "id": "rfMswrIE8osr"
      },
      "source": [
        ""
      ],
      "execution_count": null,
      "outputs": []
    },
    {
      "cell_type": "code",
      "metadata": {
        "id": "tct9bQvb8ovD"
      },
      "source": [
        ""
      ],
      "execution_count": null,
      "outputs": []
    },
    {
      "cell_type": "code",
      "metadata": {
        "id": "g8oIb5mA8oyE"
      },
      "source": [
        ""
      ],
      "execution_count": null,
      "outputs": []
    },
    {
      "cell_type": "code",
      "metadata": {
        "id": "aokx_VrQrPoc",
        "colab": {
          "base_uri": "https://localhost:8080/"
        },
        "outputId": "4a4e27bd-9175-454b-a99a-b232c8254b60"
      },
      "source": [
        "df_withCleanData.info()"
      ],
      "execution_count": 30,
      "outputs": [
        {
          "output_type": "stream",
          "name": "stdout",
          "text": [
            "<class 'pandas.core.frame.DataFrame'>\n",
            "RangeIndex: 8417 entries, 0 to 8416\n",
            "Data columns (total 1 columns):\n",
            " #   Column                Non-Null Count  Dtype \n",
            "---  ------                --------------  ----- \n",
            " 0   combined_description  8417 non-null   object\n",
            "dtypes: object(1)\n",
            "memory usage: 65.9+ KB\n"
          ]
        }
      ]
    },
    {
      "cell_type": "code",
      "metadata": {
        "colab": {
          "base_uri": "https://localhost:8080/"
        },
        "id": "NdXb90jQzYdp",
        "outputId": "fe0dd65a-11cc-45be-ad59-ee1914a8e7d8"
      },
      "source": [
        "pip install langdetect"
      ],
      "execution_count": 31,
      "outputs": [
        {
          "output_type": "stream",
          "name": "stdout",
          "text": [
            "Requirement already satisfied: langdetect in /usr/local/lib/python3.7/dist-packages (1.0.9)\n",
            "Requirement already satisfied: six in /usr/local/lib/python3.7/dist-packages (from langdetect) (1.15.0)\n"
          ]
        }
      ]
    },
    {
      "cell_type": "code",
      "metadata": {
        "id": "4zi_nBl7zoee"
      },
      "source": [
        "from langdetect import detect"
      ],
      "execution_count": 32,
      "outputs": []
    },
    {
      "cell_type": "code",
      "metadata": {
        "id": "njqrRVIqzvGu"
      },
      "source": [
        "def fn_lan_detect(df):                                        \n",
        "   try:                                                          \n",
        "      return detect(df)                                      \n",
        "   except:                                                       \n",
        "      return 'no'                                                  \n",
        "\n"
      ],
      "execution_count": 33,
      "outputs": []
    },
    {
      "cell_type": "code",
      "metadata": {
        "id": "0O2Nmsi6K_Jx"
      },
      "source": [
        "df_withCleanData['Language'] = df_withCleanData['combined_description'].apply(fn_lan_detect)"
      ],
      "execution_count": 34,
      "outputs": []
    },
    {
      "cell_type": "code",
      "metadata": {
        "colab": {
          "base_uri": "https://localhost:8080/"
        },
        "id": "g7JA75RK0RQT",
        "outputId": "31a77af1-25cf-48cb-98d2-7dad189ca4fd"
      },
      "source": [
        "df['Language'].value_counts()"
      ],
      "execution_count": 35,
      "outputs": [
        {
          "output_type": "execute_result",
          "data": {
            "text/plain": [
              "en    6857\n",
              "de     390\n",
              "af     290\n",
              "sl     130\n",
              "it     125\n",
              "fr     102\n",
              "no      98\n",
              "nl      71\n",
              "da      69\n",
              "sv      56\n",
              "es      53\n",
              "ca      50\n",
              "pl      23\n",
              "pt      19\n",
              "tl      14\n",
              "cy      12\n",
              "ro      10\n",
              "sq       9\n",
              "so       8\n",
              "hr       7\n",
              "et       6\n",
              "fi       5\n",
              "cs       3\n",
              "id       3\n",
              "lv       3\n",
              "sk       2\n",
              "lt       1\n",
              "vi       1\n",
              "Name: Language, dtype: int64"
            ]
          },
          "metadata": {},
          "execution_count": 35
        }
      ]
    },
    {
      "cell_type": "code",
      "metadata": {
        "colab": {
          "base_uri": "https://localhost:8080/",
          "height": 459
        },
        "id": "ykzDfv066MDc",
        "outputId": "f4193d62-f859-401f-f28a-b3e1e2e07416"
      },
      "source": [
        "x = df[\"Language\"].value_counts()\n",
        "x=x.sort_index()\n",
        "plt.figure(figsize=(10,6))\n",
        "ax= sns.barplot(x.index, x.values, alpha=0.8)\n",
        "plt.title(\"Distribution of text by language\")\n",
        "plt.ylabel('number of records')\n",
        "plt.xlabel('Language')\n",
        "rects = ax.patches\n",
        "labels = x.values\n",
        "for rect, label in zip(rects, labels):\n",
        "    height = rect.get_height()\n",
        "    ax.text(rect.get_x() + rect.get_width()/2, height + 5, label, ha='center', va='bottom')\n",
        "plt.show();"
      ],
      "execution_count": 36,
      "outputs": [
        {
          "output_type": "stream",
          "name": "stderr",
          "text": [
            "/usr/local/lib/python3.7/dist-packages/seaborn/_decorators.py:43: FutureWarning: Pass the following variables as keyword args: x, y. From version 0.12, the only valid positional argument will be `data`, and passing other arguments without an explicit keyword will result in an error or misinterpretation.\n",
            "  FutureWarning\n"
          ]
        },
        {
          "output_type": "display_data",
          "data": {
            "image/png": "[encoded data removed]",
            "text/plain": [
              "<Figure size 720x432 with 1 Axes>"
            ]
          },
          "metadata": {
            "needs_background": "light"
          }
        }
      ]
    },
    {
      "cell_type": "code",
      "metadata": {
        "id": "m2VDgvRa9HKJ",
        "colab": {
          "base_uri": "https://localhost:8080/",
          "height": 206
        },
        "outputId": "d29a4b64-0de7-485b-dc13-e2218aa3e5dd"
      },
      "source": [
        "df_withCleanData.head()"
      ],
      "execution_count": 37,
      "outputs": [
        {
          "output_type": "execute_result",
          "data": {
            "text/html": [
              "<div>\n",
              "<style scoped>\n",
              "    .dataframe tbody tr th:only-of-type {\n",
              "        vertical-align: middle;\n",
              "    }\n",
              "\n",
              "    .dataframe tbody tr th {\n",
              "        vertical-align: top;\n",
              "    }\n",
              "\n",
              "    .dataframe thead th {\n",
              "        text-align: right;\n",
              "    }\n",
              "</style>\n",
              "<table border=\"1\" class=\"dataframe\">\n",
              "  <thead>\n",
              "    <tr style=\"text-align: right;\">\n",
              "      <th></th>\n",
              "      <th>combined_description</th>\n",
              "      <th>Language</th>\n",
              "    </tr>\n",
              "  </thead>\n",
              "  <tbody>\n",
              "    <tr>\n",
              "      <th>0</th>\n",
              "      <td>login issue -verified user details.(employee a...</td>\n",
              "      <td>en</td>\n",
              "    </tr>\n",
              "    <tr>\n",
              "      <th>1</th>\n",
              "      <td>outlook _xd_ _xd_   _xd_ hello team,_xd_ _xd_ ...</td>\n",
              "      <td>en</td>\n",
              "    </tr>\n",
              "    <tr>\n",
              "      <th>2</th>\n",
              "      <td>cant log in to vpn _xd_ _xd_   _xd_ hi_xd_ _xd...</td>\n",
              "      <td>en</td>\n",
              "    </tr>\n",
              "    <tr>\n",
              "      <th>3</th>\n",
              "      <td>unable to access hr_tool page unable to access...</td>\n",
              "      <td>en</td>\n",
              "    </tr>\n",
              "    <tr>\n",
              "      <th>4</th>\n",
              "      <td>skype error skype error</td>\n",
              "      <td>no</td>\n",
              "    </tr>\n",
              "  </tbody>\n",
              "</table>\n",
              "</div>"
            ],
            "text/plain": [
              "                                combined_description Language\n",
              "0  login issue -verified user details.(employee a...       en\n",
              "1  outlook _xd_ _xd_   _xd_ hello team,_xd_ _xd_ ...       en\n",
              "2  cant log in to vpn _xd_ _xd_   _xd_ hi_xd_ _xd...       en\n",
              "3  unable to access hr_tool page unable to access...       en\n",
              "4                            skype error skype error       no"
            ]
          },
          "metadata": {},
          "execution_count": 37
        }
      ]
    },
    {
      "cell_type": "code",
      "metadata": {
        "id": "1SaxCAhqQ2hy",
        "outputId": "2811425b-a064-4c46-8178-452888c27bdf",
        "colab": {
          "base_uri": "https://localhost:8080/",
          "height": 524
        }
      },
      "source": [
        "pip install goslate"
      ],
      "execution_count": 40,
      "outputs": [
        {
          "output_type": "stream",
          "name": "stdout",
          "text": [
            "Collecting goslate\n",
            "  Downloading goslate-1.5.1.tar.gz (17 kB)\n",
            "Collecting futures\n",
            "  Downloading futures-3.0.5.tar.gz (25 kB)\n",
            "\u001b[33mWARNING: Discarding https://files.pythonhosted.org/packages/55/db/97c1ca37edab586a1ae03d6892b6633d8eaa23b23ac40c7e5bbc55423c78/futures-3.0.5.tar.gz#sha256=0542525145d5afc984c88f914a0c85c77527f65946617edb5274f72406f981df (from https://pypi.org/simple/futures/). Command errored out with exit status 1: python setup.py egg_info Check the logs for full command output.\u001b[0m\n",
            "  Downloading futures-3.0.4.tar.gz (25 kB)\n",
            "\u001b[33mWARNING: Discarding https://files.pythonhosted.org/packages/8d/73/b5fff618482bc06c9711e7cdc0d5d7eb1904d35898f48f2d7f9696b08bef/futures-3.0.4.tar.gz#sha256=19485d83f7bd2151c0aeaf88fbba3ee50dadfb222ffc3b66a344ef4952b782a3 (from https://pypi.org/simple/futures/). Command errored out with exit status 1: python setup.py egg_info Check the logs for full command output.\u001b[0m\n",
            "  Downloading futures-3.0.3.tar.gz (24 kB)\n",
            "\u001b[33mWARNING: Discarding https://files.pythonhosted.org/packages/4c/dc/f9473006d4c9c52d4a4e977173fbcbfb1a8ef3a57e32e885edf994fd4a45/futures-3.0.3.tar.gz#sha256=2fe2342bb4fe8b8e217f0d21b5921cbe5408bf966d9f92025e707e881b198bed (from https://pypi.org/simple/futures/). Command errored out with exit status 1: python setup.py egg_info Check the logs for full command output.\u001b[0m\n",
            "  Downloading futures-3.0.2.tar.gz (24 kB)\n",
            "\u001b[33mWARNING: Discarding https://files.pythonhosted.org/packages/f8/e7/fc0fcbeb9193ba2d4de00b065e7fd5aecd0679e93ce95a07322b2b1434f4/futures-3.0.2.tar.gz#sha256=dc3fc91508e49e0fd2f8625f0132d16e49c80f882e7e1d565c56b0d5dfbae257 (from https://pypi.org/simple/futures/). Command errored out with exit status 1: python setup.py egg_info Check the logs for full command output.\u001b[0m\n",
            "  Downloading futures-3.0.1.tar.gz (24 kB)\n",
            "\u001b[33mWARNING: Discarding https://files.pythonhosted.org/packages/b2/2c/6b6a57379e47031c6f52e625e0e2b8f6702a8d1f61b6e0daee391e82c187/futures-3.0.1.tar.gz#sha256=f78f2ef458639d72a625cf9c7643cf5442bb222ac11c12bcc445c6ad1cd862e2 (from https://pypi.org/simple/futures/). Command errored out with exit status 1: python setup.py egg_info Check the logs for full command output.\u001b[0m\n",
            "  Downloading futures-3.0.0.tar.gz (24 kB)\n",
            "\u001b[33mWARNING: Discarding https://files.pythonhosted.org/packages/ea/c9/35287369718fc05059e7a9d0d73c53745fe981010b4185b3858e7d46eff1/futures-3.0.0.tar.gz#sha256=d9cd7bb09aa01f0e4940af64c31fbd7045098b7b4354420d7838ea39e8b86ee3 (from https://pypi.org/simple/futures/). Command errored out with exit status 1: python setup.py egg_info Check the logs for full command output.\u001b[0m\n",
            "  Downloading futures-2.2.0-py2.py3-none-any.whl (16 kB)\n",
            "Building wheels for collected packages: goslate\n",
            "  Building wheel for goslate (setup.py) ... \u001b[?25l\u001b[?25hdone\n",
            "  Created wheel for goslate: filename=goslate-1.5.1-py3-none-any.whl size=11411 sha256=9f4c4e36dc8a89f5b471d7cc5cbc1073b0076c8cefba63325d96fa4edcc70693\n",
            "  Stored in directory: /root/.cache/pip/wheels/16/5c/86/f561bb944dc9f853f9502427bde8fe557a6fafe146d4a432f2\n",
            "Successfully built goslate\n",
            "Installing collected packages: futures, goslate\n",
            "Successfully installed futures-2.2.0 goslate-1.5.1\n"
          ]
        },
        {
          "output_type": "display_data",
          "data": {
            "application/vnd.colab-display-data+json": {
              "pip_warning": {
                "packages": [
                  "concurrent"
                ]
              }
            }
          },
          "metadata": {}
        }
      ]
    },
    {
      "cell_type": "code",
      "metadata": {
        "id": "PQgo6n5ERK6i"
      },
      "source": [
        "from goslate import Goslate"
      ],
      "execution_count": 41,
      "outputs": []
    },
    {
      "cell_type": "code",
      "metadata": {
        "id": "UHyoudaRSVam"
      },
      "source": [
        "import goslate"
      ],
      "execution_count": 44,
      "outputs": []
    },
    {
      "cell_type": "code",
      "metadata": {
        "id": "mMMAN_n08opm"
      },
      "source": [
        "svc_domains = ['.com','.com.au','.com.ar','.co.kr','.co.in','.co.jp','.at','.de','.ru','.ch','.fr','.es','.ae']\n",
        "svc_urls = ['http://translate.google' + domain for domain in svc_domains]"
      ],
      "execution_count": 42,
      "outputs": []
    },
    {
      "cell_type": "code",
      "metadata": {
        "id": "I0VbPs50Q2pd"
      },
      "source": [
        "gs = goslate.Goslate()"
      ],
      "execution_count": 45,
      "outputs": []
    },
    {
      "cell_type": "code",
      "metadata": {
        "id": "BqnERBNuTnQd"
      },
      "source": [
        "df_withCleanData['ConvertedToEnglish'] = df_withCleanData['combined_description']"
      ],
      "execution_count": 50,
      "outputs": []
    },
    {
      "cell_type": "code",
      "metadata": {
        "id": "KmnKi5WdT8Nd",
        "outputId": "2401b468-96b8-4dc5-a9da-d552e6ca06e7",
        "colab": {
          "base_uri": "https://localhost:8080/",
          "height": 206
        }
      },
      "source": [
        "df_withCleanData.head()"
      ],
      "execution_count": 62,
      "outputs": [
        {
          "output_type": "execute_result",
          "data": {
            "text/html": [
              "<div>\n",
              "<style scoped>\n",
              "    .dataframe tbody tr th:only-of-type {\n",
              "        vertical-align: middle;\n",
              "    }\n",
              "\n",
              "    .dataframe tbody tr th {\n",
              "        vertical-align: top;\n",
              "    }\n",
              "\n",
              "    .dataframe thead th {\n",
              "        text-align: right;\n",
              "    }\n",
              "</style>\n",
              "<table border=\"1\" class=\"dataframe\">\n",
              "  <thead>\n",
              "    <tr style=\"text-align: right;\">\n",
              "      <th></th>\n",
              "      <th>combined_description</th>\n",
              "      <th>Language</th>\n",
              "      <th>ConvertedToEnglish</th>\n",
              "    </tr>\n",
              "  </thead>\n",
              "  <tbody>\n",
              "    <tr>\n",
              "      <th>0</th>\n",
              "      <td>login issue -verified user details.(employee a...</td>\n",
              "      <td>en</td>\n",
              "      <td>login issue -verified user details.(employee a...</td>\n",
              "    </tr>\n",
              "    <tr>\n",
              "      <th>1</th>\n",
              "      <td>outlook _xd_ _xd_   _xd_ hello team,_xd_ _xd_ ...</td>\n",
              "      <td>en</td>\n",
              "      <td>outlook _xd_ _xd_   _xd_ hello team,_xd_ _xd_ ...</td>\n",
              "    </tr>\n",
              "    <tr>\n",
              "      <th>2</th>\n",
              "      <td>cant log in to vpn _xd_ _xd_   _xd_ hi_xd_ _xd...</td>\n",
              "      <td>en</td>\n",
              "      <td>cant log in to vpn _xd_ _xd_   _xd_ hi_xd_ _xd...</td>\n",
              "    </tr>\n",
              "    <tr>\n",
              "      <th>3</th>\n",
              "      <td>unable to access hr_tool page unable to access...</td>\n",
              "      <td>en</td>\n",
              "      <td>unable to access hr_tool page unable to access...</td>\n",
              "    </tr>\n",
              "    <tr>\n",
              "      <th>4</th>\n",
              "      <td>skype error skype error</td>\n",
              "      <td>no</td>\n",
              "      <td>skype error skype error</td>\n",
              "    </tr>\n",
              "  </tbody>\n",
              "</table>\n",
              "</div>"
            ],
            "text/plain": [
              "                                combined_description Language  \\\n",
              "0  login issue -verified user details.(employee a...       en   \n",
              "1  outlook _xd_ _xd_   _xd_ hello team,_xd_ _xd_ ...       en   \n",
              "2  cant log in to vpn _xd_ _xd_   _xd_ hi_xd_ _xd...       en   \n",
              "3  unable to access hr_tool page unable to access...       en   \n",
              "4                            skype error skype error       no   \n",
              "\n",
              "                                  ConvertedToEnglish  \n",
              "0  login issue -verified user details.(employee a...  \n",
              "1  outlook _xd_ _xd_   _xd_ hello team,_xd_ _xd_ ...  \n",
              "2  cant log in to vpn _xd_ _xd_   _xd_ hi_xd_ _xd...  \n",
              "3  unable to access hr_tool page unable to access...  \n",
              "4                            skype error skype error  "
            ]
          },
          "metadata": {},
          "execution_count": 62
        }
      ]
    },
    {
      "cell_type": "code",
      "metadata": {
        "id": "94IAeDjDe5RK"
      },
      "source": [
        ""
      ],
      "execution_count": null,
      "outputs": []
    },
    {
      "cell_type": "code",
      "metadata": {
        "id": "v1E7FKrTe5Y1"
      },
      "source": [
        ""
      ],
      "execution_count": null,
      "outputs": []
    },
    {
      "cell_type": "code",
      "metadata": {
        "id": "SFDQyL8qQ2sE"
      },
      "source": [
        "def fn_convertToEnglish(df,columnName):\n",
        "  for index in range(len(df)):\n",
        "    if not df['Language'][index] == \"en\":\n",
        "      gs.translate(df[columnName][index],'en',source_language='auto')"
      ],
      "execution_count": 55,
      "outputs": []
    },
    {
      "cell_type": "code",
      "metadata": {
        "id": "RgI84z2_Q2uw",
        "outputId": "2e75b938-28d8-45e0-a5f7-a93f142014c2",
        "colab": {
          "base_uri": "https://localhost:8080/",
          "height": 313
        }
      },
      "source": [
        "fn_convertToEnglish()"
      ],
      "execution_count": 59,
      "outputs": [
        {
          "output_type": "error",
          "ename": "HTTPError",
          "evalue": "ignored",
          "traceback": [
            "\u001b[0;31m---------------------------------------------------------------------------\u001b[0m",
            "\u001b[0;31mHTTPError\u001b[0m                                 Traceback (most recent call last)",
            "\u001b[0;32m<ipython-input-59-d3bd6330b29e>\u001b[0m in \u001b[0;36m<module>\u001b[0;34m()\u001b[0m\n\u001b[0;32m----> 1\u001b[0;31m \u001b[0mfn_convertToEnglish\u001b[0m\u001b[0;34m(\u001b[0m\u001b[0mdf_withCleanData\u001b[0m\u001b[0;34m,\u001b[0m\u001b[0;34m\"combined_description\"\u001b[0m\u001b[0;34m)\u001b[0m\u001b[0;34m\u001b[0m\u001b[0;34m\u001b[0m\u001b[0m\n\u001b[0m",
            "\u001b[0;32m<ipython-input-55-6a1d10996202>\u001b[0m in \u001b[0;36mfn_convertToEnglish\u001b[0;34m(df, columnName)\u001b[0m\n\u001b[1;32m      2\u001b[0m   \u001b[0;32mfor\u001b[0m \u001b[0mindex\u001b[0m \u001b[0;32min\u001b[0m \u001b[0mrange\u001b[0m\u001b[0;34m(\u001b[0m\u001b[0mlen\u001b[0m\u001b[0;34m(\u001b[0m\u001b[0mdf\u001b[0m\u001b[0;34m)\u001b[0m\u001b[0;34m)\u001b[0m\u001b[0;34m:\u001b[0m\u001b[0;34m\u001b[0m\u001b[0;34m\u001b[0m\u001b[0m\n\u001b[1;32m      3\u001b[0m     \u001b[0;32mif\u001b[0m \u001b[0;32mnot\u001b[0m \u001b[0mdf\u001b[0m\u001b[0;34m[\u001b[0m\u001b[0;34m'Language'\u001b[0m\u001b[0;34m]\u001b[0m\u001b[0;34m[\u001b[0m\u001b[0mindex\u001b[0m\u001b[0;34m]\u001b[0m \u001b[0;34m==\u001b[0m \u001b[0;34m\"en\"\u001b[0m\u001b[0;34m:\u001b[0m\u001b[0;34m\u001b[0m\u001b[0;34m\u001b[0m\u001b[0m\n\u001b[0;32m----> 4\u001b[0;31m       \u001b[0mgs\u001b[0m\u001b[0;34m.\u001b[0m\u001b[0mtranslate\u001b[0m\u001b[0;34m(\u001b[0m\u001b[0mdf\u001b[0m\u001b[0;34m[\u001b[0m\u001b[0mcolumnName\u001b[0m\u001b[0;34m]\u001b[0m\u001b[0;34m[\u001b[0m\u001b[0mindex\u001b[0m\u001b[0;34m]\u001b[0m\u001b[0;34m,\u001b[0m\u001b[0;34m'en'\u001b[0m\u001b[0;34m,\u001b[0m\u001b[0msource_language\u001b[0m\u001b[0;34m=\u001b[0m\u001b[0;34m'auto'\u001b[0m\u001b[0;34m)\u001b[0m\u001b[0;34m\u001b[0m\u001b[0;34m\u001b[0m\u001b[0m\n\u001b[0m",
            "\u001b[0;32m/usr/local/lib/python3.7/dist-packages/goslate.py\u001b[0m in \u001b[0;36mtranslate\u001b[0;34m(self, text, target_language, source_language)\u001b[0m\n\u001b[1;32m    407\u001b[0m             \u001b[0;32mif\u001b[0m \u001b[0misinstance\u001b[0m\u001b[0;34m(\u001b[0m\u001b[0mtext\u001b[0m\u001b[0;34m,\u001b[0m \u001b[0municode\u001b[0m\u001b[0;34m)\u001b[0m\u001b[0;34m:\u001b[0m\u001b[0;34m\u001b[0m\u001b[0;34m\u001b[0m\u001b[0m\n\u001b[1;32m    408\u001b[0m                 \u001b[0mtext\u001b[0m \u001b[0;34m=\u001b[0m \u001b[0mtext\u001b[0m\u001b[0;34m.\u001b[0m\u001b[0mencode\u001b[0m\u001b[0;34m(\u001b[0m\u001b[0;34m'utf-8'\u001b[0m\u001b[0;34m)\u001b[0m\u001b[0;34m\u001b[0m\u001b[0;34m\u001b[0m\u001b[0m\n\u001b[0;32m--> 409\u001b[0;31m             \u001b[0;32mreturn\u001b[0m \u001b[0m_unwrapper_single_element\u001b[0m\u001b[0;34m(\u001b[0m\u001b[0mself\u001b[0m\u001b[0;34m.\u001b[0m\u001b[0m_translate_single_text\u001b[0m\u001b[0;34m(\u001b[0m\u001b[0mtext\u001b[0m\u001b[0;34m,\u001b[0m \u001b[0mtarget_language\u001b[0m\u001b[0;34m,\u001b[0m \u001b[0msource_language\u001b[0m\u001b[0;34m)\u001b[0m\u001b[0;34m)\u001b[0m\u001b[0;34m\u001b[0m\u001b[0;34m\u001b[0m\u001b[0m\n\u001b[0m\u001b[1;32m    410\u001b[0m \u001b[0;34m\u001b[0m\u001b[0m\n\u001b[1;32m    411\u001b[0m         \u001b[0mJOINT\u001b[0m \u001b[0;34m=\u001b[0m \u001b[0;34mu'\\u26ff'\u001b[0m\u001b[0;34m\u001b[0m\u001b[0;34m\u001b[0m\u001b[0m\n",
            "\u001b[0;32m/usr/local/lib/python3.7/dist-packages/goslate.py\u001b[0m in \u001b[0;36m_translate_single_text\u001b[0;34m(self, text, target_language, source_lauguage)\u001b[0m\n\u001b[1;32m    332\u001b[0m             \u001b[0;32mreturn\u001b[0m \u001b[0;32mlambda\u001b[0m\u001b[0;34m:\u001b[0m \u001b[0mself\u001b[0m\u001b[0;34m.\u001b[0m\u001b[0m_basic_translate\u001b[0m\u001b[0;34m(\u001b[0m\u001b[0mtext\u001b[0m\u001b[0;34m,\u001b[0m \u001b[0mtarget_language\u001b[0m\u001b[0;34m,\u001b[0m \u001b[0msource_lauguage\u001b[0m\u001b[0;34m)\u001b[0m\u001b[0;34m[\u001b[0m\u001b[0;36m0\u001b[0m\u001b[0;34m]\u001b[0m\u001b[0;34m\u001b[0m\u001b[0;34m\u001b[0m\u001b[0m\n\u001b[1;32m    333\u001b[0m \u001b[0;34m\u001b[0m\u001b[0m\n\u001b[0;32m--> 334\u001b[0;31m         \u001b[0mresults\u001b[0m \u001b[0;34m=\u001b[0m \u001b[0mlist\u001b[0m\u001b[0;34m(\u001b[0m\u001b[0mself\u001b[0m\u001b[0;34m.\u001b[0m\u001b[0m_execute\u001b[0m\u001b[0;34m(\u001b[0m\u001b[0mmake_task\u001b[0m\u001b[0;34m(\u001b[0m\u001b[0mi\u001b[0m\u001b[0;34m)\u001b[0m \u001b[0;32mfor\u001b[0m \u001b[0mi\u001b[0m \u001b[0;32min\u001b[0m \u001b[0msplit_text\u001b[0m\u001b[0;34m(\u001b[0m\u001b[0mtext\u001b[0m\u001b[0;34m)\u001b[0m\u001b[0;34m)\u001b[0m\u001b[0;34m)\u001b[0m\u001b[0;34m\u001b[0m\u001b[0;34m\u001b[0m\u001b[0m\n\u001b[0m\u001b[1;32m    335\u001b[0m         \u001b[0;32mreturn\u001b[0m \u001b[0mtuple\u001b[0m\u001b[0;34m(\u001b[0m\u001b[0;34m''\u001b[0m\u001b[0;34m.\u001b[0m\u001b[0mjoin\u001b[0m\u001b[0;34m(\u001b[0m\u001b[0mi\u001b[0m\u001b[0;34m[\u001b[0m\u001b[0mn\u001b[0m\u001b[0;34m]\u001b[0m \u001b[0;32mfor\u001b[0m \u001b[0mi\u001b[0m \u001b[0;32min\u001b[0m \u001b[0mresults\u001b[0m\u001b[0;34m)\u001b[0m \u001b[0;32mfor\u001b[0m \u001b[0mn\u001b[0m \u001b[0;32min\u001b[0m \u001b[0mrange\u001b[0m\u001b[0;34m(\u001b[0m\u001b[0mlen\u001b[0m\u001b[0;34m(\u001b[0m\u001b[0mself\u001b[0m\u001b[0;34m.\u001b[0m\u001b[0m_writing\u001b[0m\u001b[0;34m)\u001b[0m\u001b[0;34m)\u001b[0m\u001b[0;34m)\u001b[0m\u001b[0;34m\u001b[0m\u001b[0;34m\u001b[0m\u001b[0m\n\u001b[1;32m    336\u001b[0m \u001b[0;34m\u001b[0m\u001b[0m\n",
            "\u001b[0;32m/usr/local/lib/python3.7/dist-packages/goslate.py\u001b[0m in \u001b[0;36m_execute\u001b[0;34m(self, tasks)\u001b[0m\n\u001b[1;32m    201\u001b[0m         \u001b[0;32mif\u001b[0m \u001b[0;32mnot\u001b[0m \u001b[0mfirst_tasks\u001b[0m\u001b[0;34m[\u001b[0m\u001b[0;34m-\u001b[0m\u001b[0;36m1\u001b[0m\u001b[0;34m]\u001b[0m \u001b[0;32mor\u001b[0m \u001b[0;32mnot\u001b[0m \u001b[0mself\u001b[0m\u001b[0;34m.\u001b[0m\u001b[0m_executor\u001b[0m\u001b[0;34m:\u001b[0m\u001b[0;34m\u001b[0m\u001b[0;34m\u001b[0m\u001b[0m\n\u001b[1;32m    202\u001b[0m             \u001b[0;32mfor\u001b[0m \u001b[0meach\u001b[0m \u001b[0;32min\u001b[0m \u001b[0mtasks\u001b[0m\u001b[0;34m:\u001b[0m\u001b[0;34m\u001b[0m\u001b[0;34m\u001b[0m\u001b[0m\n\u001b[0;32m--> 203\u001b[0;31m                 \u001b[0;32myield\u001b[0m \u001b[0meach\u001b[0m\u001b[0;34m(\u001b[0m\u001b[0;34m)\u001b[0m\u001b[0;34m\u001b[0m\u001b[0;34m\u001b[0m\u001b[0m\n\u001b[0m\u001b[1;32m    204\u001b[0m         \u001b[0;32melse\u001b[0m\u001b[0;34m:\u001b[0m\u001b[0;34m\u001b[0m\u001b[0;34m\u001b[0m\u001b[0m\n\u001b[1;32m    205\u001b[0m             \u001b[0mexception\u001b[0m \u001b[0;34m=\u001b[0m \u001b[0;32mNone\u001b[0m\u001b[0;34m\u001b[0m\u001b[0;34m\u001b[0m\u001b[0m\n",
            "\u001b[0;32m/usr/local/lib/python3.7/dist-packages/goslate.py\u001b[0m in \u001b[0;36m<lambda>\u001b[0;34m()\u001b[0m\n\u001b[1;32m    330\u001b[0m \u001b[0;34m\u001b[0m\u001b[0m\n\u001b[1;32m    331\u001b[0m         \u001b[0;32mdef\u001b[0m \u001b[0mmake_task\u001b[0m\u001b[0;34m(\u001b[0m\u001b[0mtext\u001b[0m\u001b[0;34m)\u001b[0m\u001b[0;34m:\u001b[0m\u001b[0;34m\u001b[0m\u001b[0;34m\u001b[0m\u001b[0m\n\u001b[0;32m--> 332\u001b[0;31m             \u001b[0;32mreturn\u001b[0m \u001b[0;32mlambda\u001b[0m\u001b[0;34m:\u001b[0m \u001b[0mself\u001b[0m\u001b[0;34m.\u001b[0m\u001b[0m_basic_translate\u001b[0m\u001b[0;34m(\u001b[0m\u001b[0mtext\u001b[0m\u001b[0;34m,\u001b[0m \u001b[0mtarget_language\u001b[0m\u001b[0;34m,\u001b[0m \u001b[0msource_lauguage\u001b[0m\u001b[0;34m)\u001b[0m\u001b[0;34m[\u001b[0m\u001b[0;36m0\u001b[0m\u001b[0;34m]\u001b[0m\u001b[0;34m\u001b[0m\u001b[0;34m\u001b[0m\u001b[0m\n\u001b[0m\u001b[1;32m    333\u001b[0m \u001b[0;34m\u001b[0m\u001b[0m\n\u001b[1;32m    334\u001b[0m         \u001b[0mresults\u001b[0m \u001b[0;34m=\u001b[0m \u001b[0mlist\u001b[0m\u001b[0;34m(\u001b[0m\u001b[0mself\u001b[0m\u001b[0;34m.\u001b[0m\u001b[0m_execute\u001b[0m\u001b[0;34m(\u001b[0m\u001b[0mmake_task\u001b[0m\u001b[0;34m(\u001b[0m\u001b[0mi\u001b[0m\u001b[0;34m)\u001b[0m \u001b[0;32mfor\u001b[0m \u001b[0mi\u001b[0m \u001b[0;32min\u001b[0m \u001b[0msplit_text\u001b[0m\u001b[0;34m(\u001b[0m\u001b[0mtext\u001b[0m\u001b[0;34m)\u001b[0m\u001b[0;34m)\u001b[0m\u001b[0;34m)\u001b[0m\u001b[0;34m\u001b[0m\u001b[0;34m\u001b[0m\u001b[0m\n",
            "\u001b[0;32m/usr/local/lib/python3.7/dist-packages/goslate.py\u001b[0m in \u001b[0;36m_basic_translate\u001b[0;34m(self, text, target_language, source_language)\u001b[0m\n\u001b[1;32m    249\u001b[0m             \u001b[0murl\u001b[0m \u001b[0;34m+=\u001b[0m \u001b[0;34m'&dt=rm'\u001b[0m\u001b[0;34m\u001b[0m\u001b[0;34m\u001b[0m\u001b[0m\n\u001b[1;32m    250\u001b[0m \u001b[0;34m\u001b[0m\u001b[0m\n\u001b[0;32m--> 251\u001b[0;31m         \u001b[0mresponse_content\u001b[0m \u001b[0;34m=\u001b[0m \u001b[0mself\u001b[0m\u001b[0;34m.\u001b[0m\u001b[0m_open_url\u001b[0m\u001b[0;34m(\u001b[0m\u001b[0murl\u001b[0m\u001b[0;34m)\u001b[0m\u001b[0;34m\u001b[0m\u001b[0;34m\u001b[0m\u001b[0m\n\u001b[0m\u001b[1;32m    252\u001b[0m         \u001b[0mraw_data\u001b[0m \u001b[0;34m=\u001b[0m \u001b[0mjson\u001b[0m\u001b[0;34m.\u001b[0m\u001b[0mloads\u001b[0m\u001b[0;34m(\u001b[0m\u001b[0m_empty_comma\u001b[0m\u001b[0;34m.\u001b[0m\u001b[0msubn\u001b[0m\u001b[0;34m(\u001b[0m\u001b[0;34m''\u001b[0m\u001b[0;34m,\u001b[0m \u001b[0mresponse_content\u001b[0m\u001b[0;34m)\u001b[0m\u001b[0;34m[\u001b[0m\u001b[0;36m0\u001b[0m\u001b[0;34m]\u001b[0m\u001b[0;34m.\u001b[0m\u001b[0mreplace\u001b[0m\u001b[0;34m(\u001b[0m\u001b[0;34mu'\\xA0'\u001b[0m\u001b[0;34m,\u001b[0m \u001b[0;34mu' '\u001b[0m\u001b[0;34m)\u001b[0m\u001b[0;34m.\u001b[0m\u001b[0mreplace\u001b[0m\u001b[0;34m(\u001b[0m\u001b[0;34m'[,'\u001b[0m\u001b[0;34m,\u001b[0m \u001b[0;34m'[1,'\u001b[0m\u001b[0;34m)\u001b[0m\u001b[0;34m)\u001b[0m\u001b[0;34m\u001b[0m\u001b[0;34m\u001b[0m\u001b[0m\n\u001b[1;32m    253\u001b[0m         \u001b[0mdata\u001b[0m \u001b[0;34m=\u001b[0m \u001b[0;34m{\u001b[0m\u001b[0;34m'src'\u001b[0m\u001b[0;34m:\u001b[0m \u001b[0mraw_data\u001b[0m\u001b[0;34m[\u001b[0m\u001b[0;34m-\u001b[0m\u001b[0;36m1\u001b[0m\u001b[0;34m]\u001b[0m\u001b[0;34m[\u001b[0m\u001b[0;36m0\u001b[0m\u001b[0;34m]\u001b[0m\u001b[0;34m[\u001b[0m\u001b[0;36m0\u001b[0m\u001b[0;34m]\u001b[0m\u001b[0;34m}\u001b[0m\u001b[0;34m\u001b[0m\u001b[0;34m\u001b[0m\u001b[0m\n",
            "\u001b[0;32m/usr/local/lib/python3.7/dist-packages/goslate.py\u001b[0m in \u001b[0;36m_open_url\u001b[0;34m(self, url)\u001b[0m\n\u001b[1;32m    189\u001b[0m                     \u001b[0mprint\u001b[0m\u001b[0;34m(\u001b[0m\u001b[0mthreading\u001b[0m\u001b[0;34m.\u001b[0m\u001b[0mcurrentThread\u001b[0m\u001b[0;34m(\u001b[0m\u001b[0;34m)\u001b[0m\u001b[0;34m,\u001b[0m \u001b[0me\u001b[0m\u001b[0;34m)\u001b[0m\u001b[0;34m\u001b[0m\u001b[0;34m\u001b[0m\u001b[0m\n\u001b[1;32m    190\u001b[0m                 \u001b[0;32mif\u001b[0m \u001b[0;34m'Connection reset by peer'\u001b[0m \u001b[0;32mnot\u001b[0m \u001b[0;32min\u001b[0m \u001b[0mstr\u001b[0m\u001b[0;34m(\u001b[0m\u001b[0me\u001b[0m\u001b[0;34m)\u001b[0m\u001b[0;34m:\u001b[0m\u001b[0;34m\u001b[0m\u001b[0;34m\u001b[0m\u001b[0m\n\u001b[0;32m--> 191\u001b[0;31m                     \u001b[0;32mraise\u001b[0m \u001b[0me\u001b[0m\u001b[0;34m\u001b[0m\u001b[0;34m\u001b[0m\u001b[0m\n\u001b[0m\u001b[1;32m    192\u001b[0m                 \u001b[0mexception\u001b[0m \u001b[0;34m=\u001b[0m \u001b[0me\u001b[0m\u001b[0;34m\u001b[0m\u001b[0;34m\u001b[0m\u001b[0m\n\u001b[1;32m    193\u001b[0m                 \u001b[0mtime\u001b[0m\u001b[0;34m.\u001b[0m\u001b[0msleep\u001b[0m\u001b[0;34m(\u001b[0m\u001b[0;36m0.0001\u001b[0m\u001b[0;34m)\u001b[0m\u001b[0;34m\u001b[0m\u001b[0;34m\u001b[0m\u001b[0m\n",
            "\u001b[0;32m/usr/local/lib/python3.7/dist-packages/goslate.py\u001b[0m in \u001b[0;36m_open_url\u001b[0;34m(self, url)\u001b[0m\n\u001b[1;32m    179\u001b[0m         \u001b[0;32mfor\u001b[0m \u001b[0mi\u001b[0m \u001b[0;32min\u001b[0m \u001b[0mrange\u001b[0m\u001b[0;34m(\u001b[0m\u001b[0mself\u001b[0m\u001b[0;34m.\u001b[0m\u001b[0m_RETRY_TIMES\u001b[0m\u001b[0;34m)\u001b[0m\u001b[0;34m:\u001b[0m\u001b[0;34m\u001b[0m\u001b[0;34m\u001b[0m\u001b[0m\n\u001b[1;32m    180\u001b[0m             \u001b[0;32mtry\u001b[0m\u001b[0;34m:\u001b[0m\u001b[0;34m\u001b[0m\u001b[0;34m\u001b[0m\u001b[0m\n\u001b[0;32m--> 181\u001b[0;31m                 \u001b[0mresponse\u001b[0m \u001b[0;34m=\u001b[0m \u001b[0mself\u001b[0m\u001b[0;34m.\u001b[0m\u001b[0m_opener\u001b[0m\u001b[0;34m.\u001b[0m\u001b[0mopen\u001b[0m\u001b[0;34m(\u001b[0m\u001b[0mrequest\u001b[0m\u001b[0;34m,\u001b[0m \u001b[0mtimeout\u001b[0m\u001b[0;34m=\u001b[0m\u001b[0mself\u001b[0m\u001b[0;34m.\u001b[0m\u001b[0m_TIMEOUT\u001b[0m\u001b[0;34m)\u001b[0m\u001b[0;34m\u001b[0m\u001b[0;34m\u001b[0m\u001b[0m\n\u001b[0m\u001b[1;32m    182\u001b[0m                 \u001b[0mresponse_content\u001b[0m \u001b[0;34m=\u001b[0m \u001b[0mresponse\u001b[0m\u001b[0;34m.\u001b[0m\u001b[0mread\u001b[0m\u001b[0;34m(\u001b[0m\u001b[0;34m)\u001b[0m\u001b[0;34m.\u001b[0m\u001b[0mdecode\u001b[0m\u001b[0;34m(\u001b[0m\u001b[0;34m'utf-8'\u001b[0m\u001b[0;34m)\u001b[0m\u001b[0;34m\u001b[0m\u001b[0;34m\u001b[0m\u001b[0m\n\u001b[1;32m    183\u001b[0m                 \u001b[0;32mif\u001b[0m \u001b[0mself\u001b[0m\u001b[0;34m.\u001b[0m\u001b[0m_DEBUG\u001b[0m\u001b[0;34m:\u001b[0m\u001b[0;34m\u001b[0m\u001b[0;34m\u001b[0m\u001b[0m\n",
            "\u001b[0;32m/usr/lib/python3.7/urllib/request.py\u001b[0m in \u001b[0;36mopen\u001b[0;34m(self, fullurl, data, timeout)\u001b[0m\n\u001b[1;32m    529\u001b[0m         \u001b[0;32mfor\u001b[0m \u001b[0mprocessor\u001b[0m \u001b[0;32min\u001b[0m \u001b[0mself\u001b[0m\u001b[0;34m.\u001b[0m\u001b[0mprocess_response\u001b[0m\u001b[0;34m.\u001b[0m\u001b[0mget\u001b[0m\u001b[0;34m(\u001b[0m\u001b[0mprotocol\u001b[0m\u001b[0;34m,\u001b[0m \u001b[0;34m[\u001b[0m\u001b[0;34m]\u001b[0m\u001b[0;34m)\u001b[0m\u001b[0;34m:\u001b[0m\u001b[0;34m\u001b[0m\u001b[0;34m\u001b[0m\u001b[0m\n\u001b[1;32m    530\u001b[0m             \u001b[0mmeth\u001b[0m \u001b[0;34m=\u001b[0m \u001b[0mgetattr\u001b[0m\u001b[0;34m(\u001b[0m\u001b[0mprocessor\u001b[0m\u001b[0;34m,\u001b[0m \u001b[0mmeth_name\u001b[0m\u001b[0;34m)\u001b[0m\u001b[0;34m\u001b[0m\u001b[0;34m\u001b[0m\u001b[0m\n\u001b[0;32m--> 531\u001b[0;31m             \u001b[0mresponse\u001b[0m \u001b[0;34m=\u001b[0m \u001b[0mmeth\u001b[0m\u001b[0;34m(\u001b[0m\u001b[0mreq\u001b[0m\u001b[0;34m,\u001b[0m \u001b[0mresponse\u001b[0m\u001b[0;34m)\u001b[0m\u001b[0;34m\u001b[0m\u001b[0;34m\u001b[0m\u001b[0m\n\u001b[0m\u001b[1;32m    532\u001b[0m \u001b[0;34m\u001b[0m\u001b[0m\n\u001b[1;32m    533\u001b[0m         \u001b[0;32mreturn\u001b[0m \u001b[0mresponse\u001b[0m\u001b[0;34m\u001b[0m\u001b[0;34m\u001b[0m\u001b[0m\n",
            "\u001b[0;32m/usr/lib/python3.7/urllib/request.py\u001b[0m in \u001b[0;36mhttp_response\u001b[0;34m(self, request, response)\u001b[0m\n\u001b[1;32m    639\u001b[0m         \u001b[0;32mif\u001b[0m \u001b[0;32mnot\u001b[0m \u001b[0;34m(\u001b[0m\u001b[0;36m200\u001b[0m \u001b[0;34m<=\u001b[0m \u001b[0mcode\u001b[0m \u001b[0;34m<\u001b[0m \u001b[0;36m300\u001b[0m\u001b[0;34m)\u001b[0m\u001b[0;34m:\u001b[0m\u001b[0;34m\u001b[0m\u001b[0;34m\u001b[0m\u001b[0m\n\u001b[1;32m    640\u001b[0m             response = self.parent.error(\n\u001b[0;32m--> 641\u001b[0;31m                 'http', request, response, code, msg, hdrs)\n\u001b[0m\u001b[1;32m    642\u001b[0m \u001b[0;34m\u001b[0m\u001b[0m\n\u001b[1;32m    643\u001b[0m         \u001b[0;32mreturn\u001b[0m \u001b[0mresponse\u001b[0m\u001b[0;34m\u001b[0m\u001b[0;34m\u001b[0m\u001b[0m\n",
            "\u001b[0;32m/usr/lib/python3.7/urllib/request.py\u001b[0m in \u001b[0;36merror\u001b[0;34m(self, proto, *args)\u001b[0m\n\u001b[1;32m    567\u001b[0m         \u001b[0;32mif\u001b[0m \u001b[0mhttp_err\u001b[0m\u001b[0;34m:\u001b[0m\u001b[0;34m\u001b[0m\u001b[0;34m\u001b[0m\u001b[0m\n\u001b[1;32m    568\u001b[0m             \u001b[0margs\u001b[0m \u001b[0;34m=\u001b[0m \u001b[0;34m(\u001b[0m\u001b[0mdict\u001b[0m\u001b[0;34m,\u001b[0m \u001b[0;34m'default'\u001b[0m\u001b[0;34m,\u001b[0m \u001b[0;34m'http_error_default'\u001b[0m\u001b[0;34m)\u001b[0m \u001b[0;34m+\u001b[0m \u001b[0morig_args\u001b[0m\u001b[0;34m\u001b[0m\u001b[0;34m\u001b[0m\u001b[0m\n\u001b[0;32m--> 569\u001b[0;31m             \u001b[0;32mreturn\u001b[0m \u001b[0mself\u001b[0m\u001b[0;34m.\u001b[0m\u001b[0m_call_chain\u001b[0m\u001b[0;34m(\u001b[0m\u001b[0;34m*\u001b[0m\u001b[0margs\u001b[0m\u001b[0;34m)\u001b[0m\u001b[0;34m\u001b[0m\u001b[0;34m\u001b[0m\u001b[0m\n\u001b[0m\u001b[1;32m    570\u001b[0m \u001b[0;34m\u001b[0m\u001b[0m\n\u001b[1;32m    571\u001b[0m \u001b[0;31m# XXX probably also want an abstract factory that knows when it makes\u001b[0m\u001b[0;34m\u001b[0m\u001b[0;34m\u001b[0m\u001b[0;34m\u001b[0m\u001b[0m\n",
            "\u001b[0;32m/usr/lib/python3.7/urllib/request.py\u001b[0m in \u001b[0;36m_call_chain\u001b[0;34m(self, chain, kind, meth_name, *args)\u001b[0m\n\u001b[1;32m    501\u001b[0m         \u001b[0;32mfor\u001b[0m \u001b[0mhandler\u001b[0m \u001b[0;32min\u001b[0m \u001b[0mhandlers\u001b[0m\u001b[0;34m:\u001b[0m\u001b[0;34m\u001b[0m\u001b[0;34m\u001b[0m\u001b[0m\n\u001b[1;32m    502\u001b[0m             \u001b[0mfunc\u001b[0m \u001b[0;34m=\u001b[0m \u001b[0mgetattr\u001b[0m\u001b[0;34m(\u001b[0m\u001b[0mhandler\u001b[0m\u001b[0;34m,\u001b[0m \u001b[0mmeth_name\u001b[0m\u001b[0;34m)\u001b[0m\u001b[0;34m\u001b[0m\u001b[0;34m\u001b[0m\u001b[0m\n\u001b[0;32m--> 503\u001b[0;31m             \u001b[0mresult\u001b[0m \u001b[0;34m=\u001b[0m \u001b[0mfunc\u001b[0m\u001b[0;34m(\u001b[0m\u001b[0;34m*\u001b[0m\u001b[0margs\u001b[0m\u001b[0;34m)\u001b[0m\u001b[0;34m\u001b[0m\u001b[0;34m\u001b[0m\u001b[0m\n\u001b[0m\u001b[1;32m    504\u001b[0m             \u001b[0;32mif\u001b[0m \u001b[0mresult\u001b[0m \u001b[0;32mis\u001b[0m \u001b[0;32mnot\u001b[0m \u001b[0;32mNone\u001b[0m\u001b[0;34m:\u001b[0m\u001b[0;34m\u001b[0m\u001b[0;34m\u001b[0m\u001b[0m\n\u001b[1;32m    505\u001b[0m                 \u001b[0;32mreturn\u001b[0m \u001b[0mresult\u001b[0m\u001b[0;34m\u001b[0m\u001b[0;34m\u001b[0m\u001b[0m\n",
            "\u001b[0;32m/usr/lib/python3.7/urllib/request.py\u001b[0m in \u001b[0;36mhttp_error_default\u001b[0;34m(self, req, fp, code, msg, hdrs)\u001b[0m\n\u001b[1;32m    647\u001b[0m \u001b[0;32mclass\u001b[0m \u001b[0mHTTPDefaultErrorHandler\u001b[0m\u001b[0;34m(\u001b[0m\u001b[0mBaseHandler\u001b[0m\u001b[0;34m)\u001b[0m\u001b[0;34m:\u001b[0m\u001b[0;34m\u001b[0m\u001b[0;34m\u001b[0m\u001b[0m\n\u001b[1;32m    648\u001b[0m     \u001b[0;32mdef\u001b[0m \u001b[0mhttp_error_default\u001b[0m\u001b[0;34m(\u001b[0m\u001b[0mself\u001b[0m\u001b[0;34m,\u001b[0m \u001b[0mreq\u001b[0m\u001b[0;34m,\u001b[0m \u001b[0mfp\u001b[0m\u001b[0;34m,\u001b[0m \u001b[0mcode\u001b[0m\u001b[0;34m,\u001b[0m \u001b[0mmsg\u001b[0m\u001b[0;34m,\u001b[0m \u001b[0mhdrs\u001b[0m\u001b[0;34m)\u001b[0m\u001b[0;34m:\u001b[0m\u001b[0;34m\u001b[0m\u001b[0;34m\u001b[0m\u001b[0m\n\u001b[0;32m--> 649\u001b[0;31m         \u001b[0;32mraise\u001b[0m \u001b[0mHTTPError\u001b[0m\u001b[0;34m(\u001b[0m\u001b[0mreq\u001b[0m\u001b[0;34m.\u001b[0m\u001b[0mfull_url\u001b[0m\u001b[0;34m,\u001b[0m \u001b[0mcode\u001b[0m\u001b[0;34m,\u001b[0m \u001b[0mmsg\u001b[0m\u001b[0;34m,\u001b[0m \u001b[0mhdrs\u001b[0m\u001b[0;34m,\u001b[0m \u001b[0mfp\u001b[0m\u001b[0;34m)\u001b[0m\u001b[0;34m\u001b[0m\u001b[0;34m\u001b[0m\u001b[0m\n\u001b[0m\u001b[1;32m    650\u001b[0m \u001b[0;34m\u001b[0m\u001b[0m\n\u001b[1;32m    651\u001b[0m \u001b[0;32mclass\u001b[0m \u001b[0mHTTPRedirectHandler\u001b[0m\u001b[0;34m(\u001b[0m\u001b[0mBaseHandler\u001b[0m\u001b[0;34m)\u001b[0m\u001b[0;34m:\u001b[0m\u001b[0;34m\u001b[0m\u001b[0;34m\u001b[0m\u001b[0m\n",
            "\u001b[0;31mHTTPError\u001b[0m: HTTP Error 429: Too Many Requests"
          ]
        }
      ]
    },
    {
      "cell_type": "code",
      "metadata": {
        "id": "DKtsvjeHQ2x1",
        "outputId": "ec81d195-0c8b-440d-b849-0712963c45f9",
        "colab": {
          "base_uri": "https://localhost:8080/"
        }
      },
      "source": [
        "pip install -U deep_translator"
      ],
      "execution_count": 57,
      "outputs": [
        {
          "output_type": "stream",
          "name": "stdout",
          "text": [
            "Collecting deep_translator\n",
            "  Downloading deep_translator-1.5.4-py3-none-any.whl (29 kB)\n",
            "Collecting beautifulsoup4<5.0.0,>=4.9.1\n",
            "  Downloading beautifulsoup4-4.10.0-py3-none-any.whl (97 kB)\n",
            "\u001b[?25l\r\u001b[K     |███▍                            | 10 kB 21.6 MB/s eta 0:00:01\r\u001b[K     |██████▊                         | 20 kB 23.0 MB/s eta 0:00:01\r\u001b[K     |██████████                      | 30 kB 27.4 MB/s eta 0:00:01\r\u001b[K     |█████████████▌                  | 40 kB 32.6 MB/s eta 0:00:01\r\u001b[K     |████████████████▉               | 51 kB 28.8 MB/s eta 0:00:01\r\u001b[K     |████████████████████▏           | 61 kB 31.8 MB/s eta 0:00:01\r\u001b[K     |███████████████████████▌        | 71 kB 34.3 MB/s eta 0:00:01\r\u001b[K     |███████████████████████████     | 81 kB 36.8 MB/s eta 0:00:01\r\u001b[K     |██████████████████████████████▎ | 92 kB 39.4 MB/s eta 0:00:01\r\u001b[K     |████████████████████████████████| 97 kB 7.7 MB/s \n",
            "\u001b[?25hCollecting click<9.0.0,>=8.0.1\n",
            "  Downloading click-8.0.3-py3-none-any.whl (97 kB)\n",
            "\u001b[K     |████████████████████████████████| 97 kB 8.6 MB/s \n",
            "\u001b[?25hRequirement already satisfied: requests<3.0.0,>=2.23.0 in /usr/local/lib/python3.7/dist-packages (from deep_translator) (2.23.0)\n",
            "Collecting soupsieve>1.2\n",
            "  Downloading soupsieve-2.3-py3-none-any.whl (37 kB)\n",
            "Requirement already satisfied: importlib-metadata in /usr/local/lib/python3.7/dist-packages (from click<9.0.0,>=8.0.1->deep_translator) (4.8.1)\n",
            "Requirement already satisfied: idna<3,>=2.5 in /usr/local/lib/python3.7/dist-packages (from requests<3.0.0,>=2.23.0->deep_translator) (2.10)\n",
            "Requirement already satisfied: certifi>=2017.4.17 in /usr/local/lib/python3.7/dist-packages (from requests<3.0.0,>=2.23.0->deep_translator) (2021.10.8)\n",
            "Requirement already satisfied: chardet<4,>=3.0.2 in /usr/local/lib/python3.7/dist-packages (from requests<3.0.0,>=2.23.0->deep_translator) (3.0.4)\n",
            "Requirement already satisfied: urllib3!=1.25.0,!=1.25.1,<1.26,>=1.21.1 in /usr/local/lib/python3.7/dist-packages (from requests<3.0.0,>=2.23.0->deep_translator) (1.24.3)\n",
            "Requirement already satisfied: typing-extensions>=3.6.4 in /usr/local/lib/python3.7/dist-packages (from importlib-metadata->click<9.0.0,>=8.0.1->deep_translator) (3.10.0.2)\n",
            "Requirement already satisfied: zipp>=0.5 in /usr/local/lib/python3.7/dist-packages (from importlib-metadata->click<9.0.0,>=8.0.1->deep_translator) (3.6.0)\n",
            "Installing collected packages: soupsieve, click, beautifulsoup4, deep-translator\n",
            "  Attempting uninstall: click\n",
            "    Found existing installation: click 7.1.2\n",
            "    Uninstalling click-7.1.2:\n",
            "      Successfully uninstalled click-7.1.2\n",
            "  Attempting uninstall: beautifulsoup4\n",
            "    Found existing installation: beautifulsoup4 4.6.3\n",
            "    Uninstalling beautifulsoup4-4.6.3:\n",
            "      Successfully uninstalled beautifulsoup4-4.6.3\n",
            "\u001b[31mERROR: pip's dependency resolver does not currently take into account all the packages that are installed. This behaviour is the source of the following dependency conflicts.\n",
            "flask 1.1.4 requires click<8.0,>=5.1, but you have click 8.0.3 which is incompatible.\u001b[0m\n",
            "Successfully installed beautifulsoup4-4.10.0 click-8.0.3 deep-translator-1.5.4 soupsieve-2.3\n"
          ]
        }
      ]
    },
    {
      "cell_type": "code",
      "metadata": {
        "id": "6JFLj2y2Q21G"
      },
      "source": [
        "from deep_translator import GoogleTranslator"
      ],
      "execution_count": 58,
      "outputs": []
    },
    {
      "cell_type": "code",
      "metadata": {
        "id": "uYtT0iLSQ22o"
      },
      "source": [
        "def fn_convertToEnglish_deepTrans(df,columnName):\n",
        "  for index in range(len(df)):\n",
        "    if not df['Language'][index] == \"en\":\n",
        "      #gs.translate(df[columnName][index],'en',source_language='auto')\n",
        "      translated = GoogleTranslator(source='auto',target='en').translate(text=df[columnName][index])\n",
        "      df[columnName][index]=translated"
      ],
      "execution_count": 61,
      "outputs": []
    },
    {
      "cell_type": "code",
      "metadata": {
        "id": "e2rl56L1Q25e",
        "outputId": "1b60a963-e198-421a-ee49-6a89c16b87d1",
        "colab": {
          "base_uri": "https://localhost:8080/",
          "height": 313
        }
      },
      "source": [
        "fn_convertToEnglish_deepTrans(df_withCleanData,'ConvertedToEnglish')"
      ],
      "execution_count": 63,
      "outputs": [
        {
          "output_type": "error",
          "ename": "NotValidPayload",
          "evalue": "ignored",
          "traceback": [
            "\u001b[0;31m---------------------------------------------------------------------------\u001b[0m",
            "\u001b[0;31mNotValidPayload\u001b[0m                           Traceback (most recent call last)",
            "\u001b[0;32m<ipython-input-63-9ef40c25795d>\u001b[0m in \u001b[0;36m<module>\u001b[0;34m()\u001b[0m\n\u001b[0;32m----> 1\u001b[0;31m \u001b[0mfn_convertToEnglish_deepTrans\u001b[0m\u001b[0;34m(\u001b[0m\u001b[0mdf_withCleanData\u001b[0m\u001b[0;34m,\u001b[0m\u001b[0;34m'ConvertedToEnglish'\u001b[0m\u001b[0;34m)\u001b[0m\u001b[0;34m\u001b[0m\u001b[0;34m\u001b[0m\u001b[0m\n\u001b[0m",
            "\u001b[0;32m<ipython-input-61-1a8fc9c644e5>\u001b[0m in \u001b[0;36mfn_convertToEnglish_deepTrans\u001b[0;34m(df, columnName)\u001b[0m\n\u001b[1;32m      3\u001b[0m     \u001b[0;32mif\u001b[0m \u001b[0;32mnot\u001b[0m \u001b[0mdf\u001b[0m\u001b[0;34m[\u001b[0m\u001b[0;34m'Language'\u001b[0m\u001b[0;34m]\u001b[0m\u001b[0;34m[\u001b[0m\u001b[0mindex\u001b[0m\u001b[0;34m]\u001b[0m \u001b[0;34m==\u001b[0m \u001b[0;34m\"en\"\u001b[0m\u001b[0;34m:\u001b[0m\u001b[0;34m\u001b[0m\u001b[0;34m\u001b[0m\u001b[0m\n\u001b[1;32m      4\u001b[0m       \u001b[0;31m#gs.translate(df[columnName][index],'en',source_language='auto')\u001b[0m\u001b[0;34m\u001b[0m\u001b[0;34m\u001b[0m\u001b[0;34m\u001b[0m\u001b[0m\n\u001b[0;32m----> 5\u001b[0;31m       \u001b[0mtranslated\u001b[0m \u001b[0;34m=\u001b[0m \u001b[0mGoogleTranslator\u001b[0m\u001b[0;34m(\u001b[0m\u001b[0msource\u001b[0m\u001b[0;34m=\u001b[0m\u001b[0;34m'auto'\u001b[0m\u001b[0;34m,\u001b[0m\u001b[0mtarget\u001b[0m\u001b[0;34m=\u001b[0m\u001b[0;34m'en'\u001b[0m\u001b[0;34m)\u001b[0m\u001b[0;34m.\u001b[0m\u001b[0mtranslate\u001b[0m\u001b[0;34m(\u001b[0m\u001b[0mtext\u001b[0m\u001b[0;34m=\u001b[0m\u001b[0mdf\u001b[0m\u001b[0;34m[\u001b[0m\u001b[0mcolumnName\u001b[0m\u001b[0;34m]\u001b[0m\u001b[0;34m[\u001b[0m\u001b[0mindex\u001b[0m\u001b[0;34m]\u001b[0m\u001b[0;34m)\u001b[0m\u001b[0;34m\u001b[0m\u001b[0;34m\u001b[0m\u001b[0m\n\u001b[0m\u001b[1;32m      6\u001b[0m       \u001b[0mdf\u001b[0m\u001b[0;34m[\u001b[0m\u001b[0mcolumnName\u001b[0m\u001b[0;34m]\u001b[0m\u001b[0;34m[\u001b[0m\u001b[0mindex\u001b[0m\u001b[0;34m]\u001b[0m\u001b[0;34m=\u001b[0m\u001b[0mtranslated\u001b[0m\u001b[0;34m\u001b[0m\u001b[0;34m\u001b[0m\u001b[0m\n",
            "\u001b[0;32m/usr/local/lib/python3.7/dist-packages/deep_translator/google_trans.py\u001b[0m in \u001b[0;36mtranslate\u001b[0;34m(self, text, **kwargs)\u001b[0m\n\u001b[1;32m     85\u001b[0m         \"\"\"\n\u001b[1;32m     86\u001b[0m \u001b[0;34m\u001b[0m\u001b[0m\n\u001b[0;32m---> 87\u001b[0;31m         \u001b[0;32mif\u001b[0m \u001b[0mself\u001b[0m\u001b[0;34m.\u001b[0m\u001b[0m_validate_payload\u001b[0m\u001b[0;34m(\u001b[0m\u001b[0mtext\u001b[0m\u001b[0;34m)\u001b[0m\u001b[0;34m:\u001b[0m\u001b[0;34m\u001b[0m\u001b[0;34m\u001b[0m\u001b[0m\n\u001b[0m\u001b[1;32m     88\u001b[0m             \u001b[0mtext\u001b[0m \u001b[0;34m=\u001b[0m \u001b[0mtext\u001b[0m\u001b[0;34m.\u001b[0m\u001b[0mstrip\u001b[0m\u001b[0;34m(\u001b[0m\u001b[0;34m)\u001b[0m\u001b[0;34m\u001b[0m\u001b[0;34m\u001b[0m\u001b[0m\n\u001b[1;32m     89\u001b[0m \u001b[0;34m\u001b[0m\u001b[0m\n",
            "\u001b[0;32m/usr/local/lib/python3.7/dist-packages/deep_translator/parent.py\u001b[0m in \u001b[0;36m_validate_payload\u001b[0;34m(payload, min_chars, max_chars)\u001b[0m\n\u001b[1;32m     44\u001b[0m \u001b[0;34m\u001b[0m\u001b[0m\n\u001b[1;32m     45\u001b[0m         \u001b[0;32mif\u001b[0m \u001b[0;32mnot\u001b[0m \u001b[0mpayload\u001b[0m \u001b[0;32mor\u001b[0m \u001b[0;32mnot\u001b[0m \u001b[0misinstance\u001b[0m\u001b[0;34m(\u001b[0m\u001b[0mpayload\u001b[0m\u001b[0;34m,\u001b[0m \u001b[0mstr\u001b[0m\u001b[0;34m)\u001b[0m \u001b[0;32mor\u001b[0m \u001b[0;32mnot\u001b[0m \u001b[0mpayload\u001b[0m\u001b[0;34m.\u001b[0m\u001b[0mstrip\u001b[0m\u001b[0;34m(\u001b[0m\u001b[0;34m)\u001b[0m \u001b[0;32mor\u001b[0m \u001b[0mpayload\u001b[0m\u001b[0;34m.\u001b[0m\u001b[0misdigit\u001b[0m\u001b[0;34m(\u001b[0m\u001b[0;34m)\u001b[0m\u001b[0;34m:\u001b[0m\u001b[0;34m\u001b[0m\u001b[0;34m\u001b[0m\u001b[0m\n\u001b[0;32m---> 46\u001b[0;31m             \u001b[0;32mraise\u001b[0m \u001b[0mNotValidPayload\u001b[0m\u001b[0;34m(\u001b[0m\u001b[0mpayload\u001b[0m\u001b[0;34m)\u001b[0m\u001b[0;34m\u001b[0m\u001b[0;34m\u001b[0m\u001b[0m\n\u001b[0m\u001b[1;32m     47\u001b[0m \u001b[0;34m\u001b[0m\u001b[0m\n\u001b[1;32m     48\u001b[0m         \u001b[0;31m# check if payload contains only symbols\u001b[0m\u001b[0;34m\u001b[0m\u001b[0;34m\u001b[0m\u001b[0;34m\u001b[0m\u001b[0m\n",
            "\u001b[0;31mNotValidPayload\u001b[0m:   --> text must be a valid text with maximum 5000 character, otherwise it cannot be translated"
          ]
        }
      ]
    },
    {
      "cell_type": "code",
      "metadata": {
        "id": "nD7KTizrhhyD"
      },
      "source": [
        "df_withCleanData['combined_description'] = df_withCleanData.apply(lambda x: x['com'])"
      ],
      "execution_count": null,
      "outputs": []
    },
    {
      "cell_type": "code",
      "metadata": {
        "id": "zbjYXmEHQ27e"
      },
      "source": [
        ""
      ],
      "execution_count": null,
      "outputs": []
    },
    {
      "cell_type": "code",
      "metadata": {
        "id": "I-SCgleY6m2p"
      },
      "source": [
        "def fn_translate(df,lang):\n",
        "  try:\n",
        "    if lang == 'en':\n",
        "        return df\n",
        "    else:\n",
        "        return translator.translate(df).text\n",
        "  except:\n",
        "    return df\n",
        "    \n",
        "    \n",
        "df['English_Description'] = df.apply(lambda x: fn_translate(x['combined_description'], x['Language']), axis=1)"
      ],
      "execution_count": null,
      "outputs": []
    },
    {
      "cell_type": "code",
      "metadata": {
        "id": "g2lNleHw9Y5Z",
        "colab": {
          "base_uri": "https://localhost:8080/",
          "height": 206
        },
        "outputId": "fba25a05-0497-4b51-cbf8-c6628bb9c00e"
      },
      "source": [
        "df.head()"
      ],
      "execution_count": null,
      "outputs": [
        {
          "output_type": "execute_result",
          "data": {
            "text/html": [
              "<div>\n",
              "<style scoped>\n",
              "    .dataframe tbody tr th:only-of-type {\n",
              "        vertical-align: middle;\n",
              "    }\n",
              "\n",
              "    .dataframe tbody tr th {\n",
              "        vertical-align: top;\n",
              "    }\n",
              "\n",
              "    .dataframe thead th {\n",
              "        text-align: right;\n",
              "    }\n",
              "</style>\n",
              "<table border=\"1\" class=\"dataframe\">\n",
              "  <thead>\n",
              "    <tr style=\"text-align: right;\">\n",
              "      <th></th>\n",
              "      <th>combined_description</th>\n",
              "      <th>Language</th>\n",
              "      <th>English_Description</th>\n",
              "    </tr>\n",
              "  </thead>\n",
              "  <tbody>\n",
              "    <tr>\n",
              "      <th>0</th>\n",
              "      <td>login issue -verified user details.(employee# ...</td>\n",
              "      <td>en</td>\n",
              "      <td>login issue -verified user details.(employee# ...</td>\n",
              "    </tr>\n",
              "    <tr>\n",
              "      <th>1</th>\n",
              "      <td>outlook _x000D_\\n_x000D_\\nreceived from: hmjdr...</td>\n",
              "      <td>en</td>\n",
              "      <td>outlook _x000D_\\n_x000D_\\nreceived from: hmjdr...</td>\n",
              "    </tr>\n",
              "    <tr>\n",
              "      <th>2</th>\n",
              "      <td>cant log in to vpn _x000D_\\n_x000D_\\nreceived ...</td>\n",
              "      <td>en</td>\n",
              "      <td>cant log in to vpn _x000D_\\n_x000D_\\nreceived ...</td>\n",
              "    </tr>\n",
              "    <tr>\n",
              "      <th>3</th>\n",
              "      <td>unable to access hr_tool page unable to access...</td>\n",
              "      <td>en</td>\n",
              "      <td>unable to access hr_tool page unable to access...</td>\n",
              "    </tr>\n",
              "    <tr>\n",
              "      <th>4</th>\n",
              "      <td>skype error skype error</td>\n",
              "      <td>no</td>\n",
              "      <td>skype error skype error</td>\n",
              "    </tr>\n",
              "  </tbody>\n",
              "</table>\n",
              "</div>"
            ],
            "text/plain": [
              "                                combined_description Language  \\\n",
              "0  login issue -verified user details.(employee# ...       en   \n",
              "1  outlook _x000D_\\n_x000D_\\nreceived from: hmjdr...       en   \n",
              "2  cant log in to vpn _x000D_\\n_x000D_\\nreceived ...       en   \n",
              "3  unable to access hr_tool page unable to access...       en   \n",
              "4                            skype error skype error       no   \n",
              "\n",
              "                                 English_Description  \n",
              "0  login issue -verified user details.(employee# ...  \n",
              "1  outlook _x000D_\\n_x000D_\\nreceived from: hmjdr...  \n",
              "2  cant log in to vpn _x000D_\\n_x000D_\\nreceived ...  \n",
              "3  unable to access hr_tool page unable to access...  \n",
              "4                            skype error skype error  "
            ]
          },
          "metadata": {},
          "execution_count": 36
        }
      ]
    },
    {
      "cell_type": "code",
      "metadata": {
        "id": "5FXvp92y_vKF",
        "colab": {
          "base_uri": "https://localhost:8080/"
        },
        "outputId": "7298dbc6-9415-457e-e3be-080d1d0e6d92"
      },
      "source": [
        "df.shape"
      ],
      "execution_count": null,
      "outputs": [
        {
          "output_type": "execute_result",
          "data": {
            "text/plain": [
              "(8417, 3)"
            ]
          },
          "metadata": {},
          "execution_count": 37
        }
      ]
    },
    {
      "cell_type": "code",
      "metadata": {
        "id": "hjzBV7uwAOuA"
      },
      "source": [
        "df_copy['English_Description'] = df['English_Description']"
      ],
      "execution_count": null,
      "outputs": []
    },
    {
      "cell_type": "code",
      "metadata": {
        "id": "ASW_OTe0CXQY",
        "colab": {
          "base_uri": "https://localhost:8080/",
          "height": 345
        },
        "outputId": "bb73505a-fb19-49fe-fad8-761aac04b846"
      },
      "source": [
        "df_copy.head()"
      ],
      "execution_count": null,
      "outputs": [
        {
          "output_type": "execute_result",
          "data": {
            "text/html": [
              "<div>\n",
              "<style scoped>\n",
              "    .dataframe tbody tr th:only-of-type {\n",
              "        vertical-align: middle;\n",
              "    }\n",
              "\n",
              "    .dataframe tbody tr th {\n",
              "        vertical-align: top;\n",
              "    }\n",
              "\n",
              "    .dataframe thead th {\n",
              "        text-align: right;\n",
              "    }\n",
              "</style>\n",
              "<table border=\"1\" class=\"dataframe\">\n",
              "  <thead>\n",
              "    <tr style=\"text-align: right;\">\n",
              "      <th></th>\n",
              "      <th>Unnamed: 0</th>\n",
              "      <th>Short description</th>\n",
              "      <th>Description</th>\n",
              "      <th>Caller</th>\n",
              "      <th>Assignment group</th>\n",
              "      <th>combined_description</th>\n",
              "      <th>combined_description_caller</th>\n",
              "      <th>English_Description</th>\n",
              "    </tr>\n",
              "  </thead>\n",
              "  <tbody>\n",
              "    <tr>\n",
              "      <th>0</th>\n",
              "      <td>0</td>\n",
              "      <td>login issue</td>\n",
              "      <td>-verified user details.(employee# &amp; manager na...</td>\n",
              "      <td>spxjnwir pjlcoqds</td>\n",
              "      <td>GRP_0</td>\n",
              "      <td>login issue -verified user details.(employee# ...</td>\n",
              "      <td>login issue -verified user details.(employee# ...</td>\n",
              "      <td>login issue -verified user details.(employee# ...</td>\n",
              "    </tr>\n",
              "    <tr>\n",
              "      <th>1</th>\n",
              "      <td>1</td>\n",
              "      <td>outlook</td>\n",
              "      <td>_x000D_\\n_x000D_\\nreceived from: hmjdrvpb.komu...</td>\n",
              "      <td>hmjdrvpb komuaywn</td>\n",
              "      <td>GRP_0</td>\n",
              "      <td>outlook _x000D_\\n_x000D_\\nreceived from: hmjdr...</td>\n",
              "      <td>outlook _x000D_\\n_x000D_\\nreceived from: hmjdr...</td>\n",
              "      <td>outlook _x000D_\\n_x000D_\\nreceived from: hmjdr...</td>\n",
              "    </tr>\n",
              "    <tr>\n",
              "      <th>2</th>\n",
              "      <td>2</td>\n",
              "      <td>cant log in to vpn</td>\n",
              "      <td>_x000D_\\n_x000D_\\nreceived from: eylqgodm.ybqk...</td>\n",
              "      <td>eylqgodm ybqkwiam</td>\n",
              "      <td>GRP_0</td>\n",
              "      <td>cant log in to vpn _x000D_\\n_x000D_\\nreceived ...</td>\n",
              "      <td>cant log in to vpn _x000D_\\n_x000D_\\nreceived ...</td>\n",
              "      <td>cant log in to vpn _x000D_\\n_x000D_\\nreceived ...</td>\n",
              "    </tr>\n",
              "    <tr>\n",
              "      <th>3</th>\n",
              "      <td>3</td>\n",
              "      <td>unable to access hr_tool page</td>\n",
              "      <td>unable to access hr_tool page</td>\n",
              "      <td>xbkucsvz gcpydteq</td>\n",
              "      <td>GRP_0</td>\n",
              "      <td>unable to access hr_tool page unable to access...</td>\n",
              "      <td>unable to access hr_tool page unable to access...</td>\n",
              "      <td>unable to access hr_tool page unable to access...</td>\n",
              "    </tr>\n",
              "    <tr>\n",
              "      <th>4</th>\n",
              "      <td>4</td>\n",
              "      <td>skype error</td>\n",
              "      <td>skype error</td>\n",
              "      <td>owlgqjme qhcozdfx</td>\n",
              "      <td>GRP_0</td>\n",
              "      <td>skype error skype error</td>\n",
              "      <td>skype error skype error owlgqjme qhcozdfx</td>\n",
              "      <td>skype error skype error</td>\n",
              "    </tr>\n",
              "  </tbody>\n",
              "</table>\n",
              "</div>"
            ],
            "text/plain": [
              "   Unnamed: 0              Short description  \\\n",
              "0           0                    login issue   \n",
              "1           1                        outlook   \n",
              "2           2             cant log in to vpn   \n",
              "3           3  unable to access hr_tool page   \n",
              "4           4                   skype error    \n",
              "\n",
              "                                         Description             Caller  \\\n",
              "0  -verified user details.(employee# & manager na...  spxjnwir pjlcoqds   \n",
              "1  _x000D_\\n_x000D_\\nreceived from: hmjdrvpb.komu...  hmjdrvpb komuaywn   \n",
              "2  _x000D_\\n_x000D_\\nreceived from: eylqgodm.ybqk...  eylqgodm ybqkwiam   \n",
              "3                      unable to access hr_tool page  xbkucsvz gcpydteq   \n",
              "4                                       skype error   owlgqjme qhcozdfx   \n",
              "\n",
              "  Assignment group                               combined_description  \\\n",
              "0            GRP_0  login issue -verified user details.(employee# ...   \n",
              "1            GRP_0  outlook _x000D_\\n_x000D_\\nreceived from: hmjdr...   \n",
              "2            GRP_0  cant log in to vpn _x000D_\\n_x000D_\\nreceived ...   \n",
              "3            GRP_0  unable to access hr_tool page unable to access...   \n",
              "4            GRP_0                            skype error skype error   \n",
              "\n",
              "                         combined_description_caller  \\\n",
              "0  login issue -verified user details.(employee# ...   \n",
              "1  outlook _x000D_\\n_x000D_\\nreceived from: hmjdr...   \n",
              "2  cant log in to vpn _x000D_\\n_x000D_\\nreceived ...   \n",
              "3  unable to access hr_tool page unable to access...   \n",
              "4          skype error skype error owlgqjme qhcozdfx   \n",
              "\n",
              "                                 English_Description  \n",
              "0  login issue -verified user details.(employee# ...  \n",
              "1  outlook _x000D_\\n_x000D_\\nreceived from: hmjdr...  \n",
              "2  cant log in to vpn _x000D_\\n_x000D_\\nreceived ...  \n",
              "3  unable to access hr_tool page unable to access...  \n",
              "4                            skype error skype error  "
            ]
          },
          "metadata": {},
          "execution_count": 39
        }
      ]
    },
    {
      "cell_type": "code",
      "metadata": {
        "id": "Y6g3n3uQCa_e"
      },
      "source": [
        "df_copy['Language'] = df['Language']"
      ],
      "execution_count": null,
      "outputs": []
    },
    {
      "cell_type": "code",
      "metadata": {
        "id": "HzThggTdCgxE",
        "colab": {
          "base_uri": "https://localhost:8080/",
          "height": 362
        },
        "outputId": "23986438-cf88-476a-85cc-8b5c4504c093"
      },
      "source": [
        "df_copy.head()"
      ],
      "execution_count": null,
      "outputs": [
        {
          "output_type": "execute_result",
          "data": {
            "text/html": [
              "<div>\n",
              "<style scoped>\n",
              "    .dataframe tbody tr th:only-of-type {\n",
              "        vertical-align: middle;\n",
              "    }\n",
              "\n",
              "    .dataframe tbody tr th {\n",
              "        vertical-align: top;\n",
              "    }\n",
              "\n",
              "    .dataframe thead th {\n",
              "        text-align: right;\n",
              "    }\n",
              "</style>\n",
              "<table border=\"1\" class=\"dataframe\">\n",
              "  <thead>\n",
              "    <tr style=\"text-align: right;\">\n",
              "      <th></th>\n",
              "      <th>Unnamed: 0</th>\n",
              "      <th>Short description</th>\n",
              "      <th>Description</th>\n",
              "      <th>Caller</th>\n",
              "      <th>Assignment group</th>\n",
              "      <th>combined_description</th>\n",
              "      <th>combined_description_caller</th>\n",
              "      <th>English_Description</th>\n",
              "      <th>Language</th>\n",
              "    </tr>\n",
              "  </thead>\n",
              "  <tbody>\n",
              "    <tr>\n",
              "      <th>0</th>\n",
              "      <td>0</td>\n",
              "      <td>login issue</td>\n",
              "      <td>-verified user details.(employee# &amp; manager na...</td>\n",
              "      <td>spxjnwir pjlcoqds</td>\n",
              "      <td>GRP_0</td>\n",
              "      <td>login issue -verified user details.(employee# ...</td>\n",
              "      <td>login issue -verified user details.(employee# ...</td>\n",
              "      <td>login issue -verified user details.(employee# ...</td>\n",
              "      <td>en</td>\n",
              "    </tr>\n",
              "    <tr>\n",
              "      <th>1</th>\n",
              "      <td>1</td>\n",
              "      <td>outlook</td>\n",
              "      <td>_x000D_\\n_x000D_\\nreceived from: hmjdrvpb.komu...</td>\n",
              "      <td>hmjdrvpb komuaywn</td>\n",
              "      <td>GRP_0</td>\n",
              "      <td>outlook _x000D_\\n_x000D_\\nreceived from: hmjdr...</td>\n",
              "      <td>outlook _x000D_\\n_x000D_\\nreceived from: hmjdr...</td>\n",
              "      <td>outlook _x000D_\\n_x000D_\\nreceived from: hmjdr...</td>\n",
              "      <td>en</td>\n",
              "    </tr>\n",
              "    <tr>\n",
              "      <th>2</th>\n",
              "      <td>2</td>\n",
              "      <td>cant log in to vpn</td>\n",
              "      <td>_x000D_\\n_x000D_\\nreceived from: eylqgodm.ybqk...</td>\n",
              "      <td>eylqgodm ybqkwiam</td>\n",
              "      <td>GRP_0</td>\n",
              "      <td>cant log in to vpn _x000D_\\n_x000D_\\nreceived ...</td>\n",
              "      <td>cant log in to vpn _x000D_\\n_x000D_\\nreceived ...</td>\n",
              "      <td>cant log in to vpn _x000D_\\n_x000D_\\nreceived ...</td>\n",
              "      <td>en</td>\n",
              "    </tr>\n",
              "    <tr>\n",
              "      <th>3</th>\n",
              "      <td>3</td>\n",
              "      <td>unable to access hr_tool page</td>\n",
              "      <td>unable to access hr_tool page</td>\n",
              "      <td>xbkucsvz gcpydteq</td>\n",
              "      <td>GRP_0</td>\n",
              "      <td>unable to access hr_tool page unable to access...</td>\n",
              "      <td>unable to access hr_tool page unable to access...</td>\n",
              "      <td>unable to access hr_tool page unable to access...</td>\n",
              "      <td>en</td>\n",
              "    </tr>\n",
              "    <tr>\n",
              "      <th>4</th>\n",
              "      <td>4</td>\n",
              "      <td>skype error</td>\n",
              "      <td>skype error</td>\n",
              "      <td>owlgqjme qhcozdfx</td>\n",
              "      <td>GRP_0</td>\n",
              "      <td>skype error skype error</td>\n",
              "      <td>skype error skype error owlgqjme qhcozdfx</td>\n",
              "      <td>skype error skype error</td>\n",
              "      <td>no</td>\n",
              "    </tr>\n",
              "  </tbody>\n",
              "</table>\n",
              "</div>"
            ],
            "text/plain": [
              "   Unnamed: 0              Short description  \\\n",
              "0           0                    login issue   \n",
              "1           1                        outlook   \n",
              "2           2             cant log in to vpn   \n",
              "3           3  unable to access hr_tool page   \n",
              "4           4                   skype error    \n",
              "\n",
              "                                         Description             Caller  \\\n",
              "0  -verified user details.(employee# & manager na...  spxjnwir pjlcoqds   \n",
              "1  _x000D_\\n_x000D_\\nreceived from: hmjdrvpb.komu...  hmjdrvpb komuaywn   \n",
              "2  _x000D_\\n_x000D_\\nreceived from: eylqgodm.ybqk...  eylqgodm ybqkwiam   \n",
              "3                      unable to access hr_tool page  xbkucsvz gcpydteq   \n",
              "4                                       skype error   owlgqjme qhcozdfx   \n",
              "\n",
              "  Assignment group                               combined_description  \\\n",
              "0            GRP_0  login issue -verified user details.(employee# ...   \n",
              "1            GRP_0  outlook _x000D_\\n_x000D_\\nreceived from: hmjdr...   \n",
              "2            GRP_0  cant log in to vpn _x000D_\\n_x000D_\\nreceived ...   \n",
              "3            GRP_0  unable to access hr_tool page unable to access...   \n",
              "4            GRP_0                            skype error skype error   \n",
              "\n",
              "                         combined_description_caller  \\\n",
              "0  login issue -verified user details.(employee# ...   \n",
              "1  outlook _x000D_\\n_x000D_\\nreceived from: hmjdr...   \n",
              "2  cant log in to vpn _x000D_\\n_x000D_\\nreceived ...   \n",
              "3  unable to access hr_tool page unable to access...   \n",
              "4          skype error skype error owlgqjme qhcozdfx   \n",
              "\n",
              "                                 English_Description Language  \n",
              "0  login issue -verified user details.(employee# ...       en  \n",
              "1  outlook _x000D_\\n_x000D_\\nreceived from: hmjdr...       en  \n",
              "2  cant log in to vpn _x000D_\\n_x000D_\\nreceived ...       en  \n",
              "3  unable to access hr_tool page unable to access...       en  \n",
              "4                            skype error skype error       no  "
            ]
          },
          "metadata": {},
          "execution_count": 41
        }
      ]
    },
    {
      "cell_type": "code",
      "metadata": {
        "id": "NuUGuGbgCxrB"
      },
      "source": [
        "df_copy.to_csv(\"dataset1_combined_translatedToEnglish\")"
      ],
      "execution_count": null,
      "outputs": []
    },
    {
      "cell_type": "code",
      "metadata": {
        "id": "KcWkT7dgD4Hg"
      },
      "source": [
        ""
      ],
      "execution_count": null,
      "outputs": []
    }
  ]
}