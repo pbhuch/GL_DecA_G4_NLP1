{
  "nbformat": 4,
  "nbformat_minor": 0,
  "metadata": {
    "colab": {
      "name": "GL_DecA_G4_NLP1.ipynb",
      "provenance": [],
      "include_colab_link": true
    },
    "kernelspec": {
      "name": "python3",
      "display_name": "Python 3"
    },
    "language_info": {
      "name": "python"
    }
  },
  "cells": [
    {
      "cell_type": "markdown",
      "metadata": {
        "id": "view-in-github",
        "colab_type": "text"
      },
      "source": [
        "<a href=\"https://colab.research.google.com/github/pbhuch/GL_DecA_G4_NLP1/blob/NLP1_PB/GL_DecA_G4_NLP1.ipynb\" target=\"_parent\"><img src=\"https://colab.research.google.com/assets/colab-badge.svg\" alt=\"Open In Colab\"/></a>"
      ]
    },
    {
      "cell_type": "markdown",
      "metadata": {
        "id": "2Vqh91aLDKOE"
      },
      "source": [
        "Great Learning : AIML Online Capstone -AUTOMATIC TICKET ASSIGNMENT\n",
        "\n",
        "DecA : Group 4: NLP 1\n",
        "\n",
        "Group Members :\n",
        "1. Priya Moily\n",
        "2. Priyanka Gupta\n",
        "3. Avinash Balani\n",
        "4. Priyank Bhuch"
      ]
    },
    {
      "cell_type": "markdown",
      "metadata": {
        "id": "2DOAo9YOEdQk"
      },
      "source": [
        "Importing relavant Libraries"
      ]
    },
    {
      "cell_type": "code",
      "metadata": {
        "id": "ATvXsfGZ8DiU"
      },
      "source": [
        "import pandas as pd\n",
        "import matplotlib.pyplot as plt\n",
        "import seaborn as sns\n",
        "import numpy as np\n",
        "\n",
        "from IPython.display import display\n",
        "pd.options.display.max_columns = None\n",
        "pd.options.display.max_rows = None"
      ],
      "execution_count": 2,
      "outputs": []
    },
    {
      "cell_type": "code",
      "metadata": {
        "id": "xBj276DI_b_8"
      },
      "source": [
        "df = pd.read_csv(\"sample_data/dataset1_combined.csv\", encoding = 'utf-8')"
      ],
      "execution_count": 24,
      "outputs": []
    },
    {
      "cell_type": "code",
      "metadata": {
        "id": "W4N5pD9CAi3K"
      },
      "source": [
        "df_copy = df.copy()"
      ],
      "execution_count": 25,
      "outputs": []
    },
    {
      "cell_type": "code",
      "metadata": {
        "id": "Ayoe5LFuAuSI",
        "outputId": "ef493a06-9003-4e1b-9ef2-27b1b0cdf8bf",
        "colab": {
          "base_uri": "https://localhost:8080/",
          "height": 310
        }
      },
      "source": [
        "df_copy.head()"
      ],
      "execution_count": 26,
      "outputs": [
        {
          "output_type": "execute_result",
          "data": {
            "text/html": [
              "<div>\n",
              "<style scoped>\n",
              "    .dataframe tbody tr th:only-of-type {\n",
              "        vertical-align: middle;\n",
              "    }\n",
              "\n",
              "    .dataframe tbody tr th {\n",
              "        vertical-align: top;\n",
              "    }\n",
              "\n",
              "    .dataframe thead th {\n",
              "        text-align: right;\n",
              "    }\n",
              "</style>\n",
              "<table border=\"1\" class=\"dataframe\">\n",
              "  <thead>\n",
              "    <tr style=\"text-align: right;\">\n",
              "      <th></th>\n",
              "      <th>Unnamed: 0</th>\n",
              "      <th>Short description</th>\n",
              "      <th>Description</th>\n",
              "      <th>Caller</th>\n",
              "      <th>Assignment group</th>\n",
              "      <th>combined_description</th>\n",
              "      <th>combined_description_caller</th>\n",
              "    </tr>\n",
              "  </thead>\n",
              "  <tbody>\n",
              "    <tr>\n",
              "      <th>0</th>\n",
              "      <td>0</td>\n",
              "      <td>login issue</td>\n",
              "      <td>-verified user details.(employee# &amp; manager na...</td>\n",
              "      <td>spxjnwir pjlcoqds</td>\n",
              "      <td>GRP_0</td>\n",
              "      <td>login issue -verified user details.(employee# ...</td>\n",
              "      <td>login issue -verified user details.(employee# ...</td>\n",
              "    </tr>\n",
              "    <tr>\n",
              "      <th>1</th>\n",
              "      <td>1</td>\n",
              "      <td>outlook</td>\n",
              "      <td>_x000D_\\n_x000D_\\nreceived from: hmjdrvpb.komu...</td>\n",
              "      <td>hmjdrvpb komuaywn</td>\n",
              "      <td>GRP_0</td>\n",
              "      <td>outlook _x000D_\\n_x000D_\\nreceived from: hmjdr...</td>\n",
              "      <td>outlook _x000D_\\n_x000D_\\nreceived from: hmjdr...</td>\n",
              "    </tr>\n",
              "    <tr>\n",
              "      <th>2</th>\n",
              "      <td>2</td>\n",
              "      <td>cant log in to vpn</td>\n",
              "      <td>_x000D_\\n_x000D_\\nreceived from: eylqgodm.ybqk...</td>\n",
              "      <td>eylqgodm ybqkwiam</td>\n",
              "      <td>GRP_0</td>\n",
              "      <td>cant log in to vpn _x000D_\\n_x000D_\\nreceived ...</td>\n",
              "      <td>cant log in to vpn _x000D_\\n_x000D_\\nreceived ...</td>\n",
              "    </tr>\n",
              "    <tr>\n",
              "      <th>3</th>\n",
              "      <td>3</td>\n",
              "      <td>unable to access hr_tool page</td>\n",
              "      <td>unable to access hr_tool page</td>\n",
              "      <td>xbkucsvz gcpydteq</td>\n",
              "      <td>GRP_0</td>\n",
              "      <td>unable to access hr_tool page unable to access...</td>\n",
              "      <td>unable to access hr_tool page unable to access...</td>\n",
              "    </tr>\n",
              "    <tr>\n",
              "      <th>4</th>\n",
              "      <td>4</td>\n",
              "      <td>skype error</td>\n",
              "      <td>skype error</td>\n",
              "      <td>owlgqjme qhcozdfx</td>\n",
              "      <td>GRP_0</td>\n",
              "      <td>skype error skype error</td>\n",
              "      <td>skype error skype error owlgqjme qhcozdfx</td>\n",
              "    </tr>\n",
              "  </tbody>\n",
              "</table>\n",
              "</div>"
            ],
            "text/plain": [
              "   Unnamed: 0              Short description  \\\n",
              "0           0                    login issue   \n",
              "1           1                        outlook   \n",
              "2           2             cant log in to vpn   \n",
              "3           3  unable to access hr_tool page   \n",
              "4           4                   skype error    \n",
              "\n",
              "                                         Description             Caller  \\\n",
              "0  -verified user details.(employee# & manager na...  spxjnwir pjlcoqds   \n",
              "1  _x000D_\\n_x000D_\\nreceived from: hmjdrvpb.komu...  hmjdrvpb komuaywn   \n",
              "2  _x000D_\\n_x000D_\\nreceived from: eylqgodm.ybqk...  eylqgodm ybqkwiam   \n",
              "3                      unable to access hr_tool page  xbkucsvz gcpydteq   \n",
              "4                                       skype error   owlgqjme qhcozdfx   \n",
              "\n",
              "  Assignment group                               combined_description  \\\n",
              "0            GRP_0  login issue -verified user details.(employee# ...   \n",
              "1            GRP_0  outlook _x000D_\\n_x000D_\\nreceived from: hmjdr...   \n",
              "2            GRP_0  cant log in to vpn _x000D_\\n_x000D_\\nreceived ...   \n",
              "3            GRP_0  unable to access hr_tool page unable to access...   \n",
              "4            GRP_0                            skype error skype error   \n",
              "\n",
              "                         combined_description_caller  \n",
              "0  login issue -verified user details.(employee# ...  \n",
              "1  outlook _x000D_\\n_x000D_\\nreceived from: hmjdr...  \n",
              "2  cant log in to vpn _x000D_\\n_x000D_\\nreceived ...  \n",
              "3  unable to access hr_tool page unable to access...  \n",
              "4          skype error skype error owlgqjme qhcozdfx  "
            ]
          },
          "metadata": {},
          "execution_count": 26
        }
      ]
    },
    {
      "cell_type": "code",
      "metadata": {
        "colab": {
          "base_uri": "https://localhost:8080/",
          "height": 310
        },
        "id": "Zrr1fvCE_rx9",
        "outputId": "d089094f-50e7-4ae2-cf9c-879f82b2dd19"
      },
      "source": [
        "df.head()"
      ],
      "execution_count": 5,
      "outputs": [
        {
          "output_type": "execute_result",
          "data": {
            "text/html": [
              "<div>\n",
              "<style scoped>\n",
              "    .dataframe tbody tr th:only-of-type {\n",
              "        vertical-align: middle;\n",
              "    }\n",
              "\n",
              "    .dataframe tbody tr th {\n",
              "        vertical-align: top;\n",
              "    }\n",
              "\n",
              "    .dataframe thead th {\n",
              "        text-align: right;\n",
              "    }\n",
              "</style>\n",
              "<table border=\"1\" class=\"dataframe\">\n",
              "  <thead>\n",
              "    <tr style=\"text-align: right;\">\n",
              "      <th></th>\n",
              "      <th>Unnamed: 0</th>\n",
              "      <th>Short description</th>\n",
              "      <th>Description</th>\n",
              "      <th>Caller</th>\n",
              "      <th>Assignment group</th>\n",
              "      <th>combined_description</th>\n",
              "      <th>combined_description_caller</th>\n",
              "    </tr>\n",
              "  </thead>\n",
              "  <tbody>\n",
              "    <tr>\n",
              "      <th>0</th>\n",
              "      <td>0</td>\n",
              "      <td>login issue</td>\n",
              "      <td>-verified user details.(employee# &amp; manager na...</td>\n",
              "      <td>spxjnwir pjlcoqds</td>\n",
              "      <td>GRP_0</td>\n",
              "      <td>login issue -verified user details.(employee# ...</td>\n",
              "      <td>login issue -verified user details.(employee# ...</td>\n",
              "    </tr>\n",
              "    <tr>\n",
              "      <th>1</th>\n",
              "      <td>1</td>\n",
              "      <td>outlook</td>\n",
              "      <td>_x000D_\\n_x000D_\\nreceived from: hmjdrvpb.komu...</td>\n",
              "      <td>hmjdrvpb komuaywn</td>\n",
              "      <td>GRP_0</td>\n",
              "      <td>outlook _x000D_\\n_x000D_\\nreceived from: hmjdr...</td>\n",
              "      <td>outlook _x000D_\\n_x000D_\\nreceived from: hmjdr...</td>\n",
              "    </tr>\n",
              "    <tr>\n",
              "      <th>2</th>\n",
              "      <td>2</td>\n",
              "      <td>cant log in to vpn</td>\n",
              "      <td>_x000D_\\n_x000D_\\nreceived from: eylqgodm.ybqk...</td>\n",
              "      <td>eylqgodm ybqkwiam</td>\n",
              "      <td>GRP_0</td>\n",
              "      <td>cant log in to vpn _x000D_\\n_x000D_\\nreceived ...</td>\n",
              "      <td>cant log in to vpn _x000D_\\n_x000D_\\nreceived ...</td>\n",
              "    </tr>\n",
              "    <tr>\n",
              "      <th>3</th>\n",
              "      <td>3</td>\n",
              "      <td>unable to access hr_tool page</td>\n",
              "      <td>unable to access hr_tool page</td>\n",
              "      <td>xbkucsvz gcpydteq</td>\n",
              "      <td>GRP_0</td>\n",
              "      <td>unable to access hr_tool page unable to access...</td>\n",
              "      <td>unable to access hr_tool page unable to access...</td>\n",
              "    </tr>\n",
              "    <tr>\n",
              "      <th>4</th>\n",
              "      <td>4</td>\n",
              "      <td>skype error</td>\n",
              "      <td>skype error</td>\n",
              "      <td>owlgqjme qhcozdfx</td>\n",
              "      <td>GRP_0</td>\n",
              "      <td>skype error skype error</td>\n",
              "      <td>skype error skype error owlgqjme qhcozdfx</td>\n",
              "    </tr>\n",
              "  </tbody>\n",
              "</table>\n",
              "</div>"
            ],
            "text/plain": [
              "   Unnamed: 0              Short description  \\\n",
              "0           0                    login issue   \n",
              "1           1                        outlook   \n",
              "2           2             cant log in to vpn   \n",
              "3           3  unable to access hr_tool page   \n",
              "4           4                   skype error    \n",
              "\n",
              "                                         Description             Caller  \\\n",
              "0  -verified user details.(employee# & manager na...  spxjnwir pjlcoqds   \n",
              "1  _x000D_\\n_x000D_\\nreceived from: hmjdrvpb.komu...  hmjdrvpb komuaywn   \n",
              "2  _x000D_\\n_x000D_\\nreceived from: eylqgodm.ybqk...  eylqgodm ybqkwiam   \n",
              "3                      unable to access hr_tool page  xbkucsvz gcpydteq   \n",
              "4                                       skype error   owlgqjme qhcozdfx   \n",
              "\n",
              "  Assignment group                               combined_description  \\\n",
              "0            GRP_0  login issue -verified user details.(employee# ...   \n",
              "1            GRP_0  outlook _x000D_\\n_x000D_\\nreceived from: hmjdr...   \n",
              "2            GRP_0  cant log in to vpn _x000D_\\n_x000D_\\nreceived ...   \n",
              "3            GRP_0  unable to access hr_tool page unable to access...   \n",
              "4            GRP_0                            skype error skype error   \n",
              "\n",
              "                         combined_description_caller  \n",
              "0  login issue -verified user details.(employee# ...  \n",
              "1  outlook _x000D_\\n_x000D_\\nreceived from: hmjdr...  \n",
              "2  cant log in to vpn _x000D_\\n_x000D_\\nreceived ...  \n",
              "3  unable to access hr_tool page unable to access...  \n",
              "4          skype error skype error owlgqjme qhcozdfx  "
            ]
          },
          "metadata": {},
          "execution_count": 5
        }
      ]
    },
    {
      "cell_type": "code",
      "metadata": {
        "colab": {
          "base_uri": "https://localhost:8080/"
        },
        "id": "y5xJ6PJH_zQx",
        "outputId": "886c5481-5f7d-42ee-87a4-95c09675943f"
      },
      "source": [
        "df.shape"
      ],
      "execution_count": 4,
      "outputs": [
        {
          "output_type": "execute_result",
          "data": {
            "text/plain": [
              "(8417, 7)"
            ]
          },
          "metadata": {},
          "execution_count": 4
        }
      ]
    },
    {
      "cell_type": "code",
      "metadata": {
        "colab": {
          "base_uri": "https://localhost:8080/"
        },
        "id": "vempJKGJ_1eq",
        "outputId": "6482c995-d162-4ec1-e78c-c59242df72c9"
      },
      "source": [
        "df.info()"
      ],
      "execution_count": 5,
      "outputs": [
        {
          "output_type": "stream",
          "name": "stdout",
          "text": [
            "<class 'pandas.core.frame.DataFrame'>\n",
            "RangeIndex: 8417 entries, 0 to 8416\n",
            "Data columns (total 7 columns):\n",
            " #   Column                       Non-Null Count  Dtype \n",
            "---  ------                       --------------  ----- \n",
            " 0   Unnamed: 0                   8417 non-null   int64 \n",
            " 1   Short description            8409 non-null   object\n",
            " 2   Description                  8416 non-null   object\n",
            " 3   Caller                       8417 non-null   object\n",
            " 4   Assignment group             8417 non-null   object\n",
            " 5   combined_description         8417 non-null   object\n",
            " 6   combined_description_caller  8417 non-null   object\n",
            "dtypes: int64(1), object(6)\n",
            "memory usage: 460.4+ KB\n"
          ]
        }
      ]
    },
    {
      "cell_type": "code",
      "metadata": {
        "colab": {
          "base_uri": "https://localhost:8080/"
        },
        "id": "AnOQTcjGAig6",
        "outputId": "38acc9cc-a24f-4de6-99b4-054f58d1c860"
      },
      "source": [
        "df.columns"
      ],
      "execution_count": 6,
      "outputs": [
        {
          "output_type": "execute_result",
          "data": {
            "text/plain": [
              "Index(['Unnamed: 0', 'Short description', 'Description', 'Caller',\n",
              "       'Assignment group', 'combined_description',\n",
              "       'combined_description_caller'],\n",
              "      dtype='object')"
            ]
          },
          "metadata": {},
          "execution_count": 6
        }
      ]
    },
    {
      "cell_type": "code",
      "metadata": {
        "id": "bK9qaAhwA9Iq"
      },
      "source": [
        "df.drop(['Unnamed: 0','Short description','Description','Caller','combined_description_caller','Assignment group'],axis='columns', inplace=True)"
      ],
      "execution_count": 27,
      "outputs": []
    },
    {
      "cell_type": "code",
      "metadata": {
        "colab": {
          "base_uri": "https://localhost:8080/",
          "height": 206
        },
        "id": "3hfkgiXBCglG",
        "outputId": "69cbcf96-9fc3-4a0a-92ed-d6856ad09ec5"
      },
      "source": [
        "df.head()"
      ],
      "execution_count": 28,
      "outputs": [
        {
          "output_type": "execute_result",
          "data": {
            "text/html": [
              "<div>\n",
              "<style scoped>\n",
              "    .dataframe tbody tr th:only-of-type {\n",
              "        vertical-align: middle;\n",
              "    }\n",
              "\n",
              "    .dataframe tbody tr th {\n",
              "        vertical-align: top;\n",
              "    }\n",
              "\n",
              "    .dataframe thead th {\n",
              "        text-align: right;\n",
              "    }\n",
              "</style>\n",
              "<table border=\"1\" class=\"dataframe\">\n",
              "  <thead>\n",
              "    <tr style=\"text-align: right;\">\n",
              "      <th></th>\n",
              "      <th>combined_description</th>\n",
              "    </tr>\n",
              "  </thead>\n",
              "  <tbody>\n",
              "    <tr>\n",
              "      <th>0</th>\n",
              "      <td>login issue -verified user details.(employee# ...</td>\n",
              "    </tr>\n",
              "    <tr>\n",
              "      <th>1</th>\n",
              "      <td>outlook _x000D_\\n_x000D_\\nreceived from: hmjdr...</td>\n",
              "    </tr>\n",
              "    <tr>\n",
              "      <th>2</th>\n",
              "      <td>cant log in to vpn _x000D_\\n_x000D_\\nreceived ...</td>\n",
              "    </tr>\n",
              "    <tr>\n",
              "      <th>3</th>\n",
              "      <td>unable to access hr_tool page unable to access...</td>\n",
              "    </tr>\n",
              "    <tr>\n",
              "      <th>4</th>\n",
              "      <td>skype error skype error</td>\n",
              "    </tr>\n",
              "  </tbody>\n",
              "</table>\n",
              "</div>"
            ],
            "text/plain": [
              "                                combined_description\n",
              "0  login issue -verified user details.(employee# ...\n",
              "1  outlook _x000D_\\n_x000D_\\nreceived from: hmjdr...\n",
              "2  cant log in to vpn _x000D_\\n_x000D_\\nreceived ...\n",
              "3  unable to access hr_tool page unable to access...\n",
              "4                            skype error skype error"
            ]
          },
          "metadata": {},
          "execution_count": 28
        }
      ]
    },
    {
      "cell_type": "code",
      "metadata": {
        "colab": {
          "base_uri": "https://localhost:8080/"
        },
        "id": "7G4_T7aeFZuT",
        "outputId": "d2603baa-f4bb-44da-a4a2-be2a8f1a2552"
      },
      "source": [
        "df.info()"
      ],
      "execution_count": 29,
      "outputs": [
        {
          "output_type": "stream",
          "name": "stdout",
          "text": [
            "<class 'pandas.core.frame.DataFrame'>\n",
            "RangeIndex: 8417 entries, 0 to 8416\n",
            "Data columns (total 1 columns):\n",
            " #   Column                Non-Null Count  Dtype \n",
            "---  ------                --------------  ----- \n",
            " 0   combined_description  8417 non-null   object\n",
            "dtypes: object(1)\n",
            "memory usage: 65.9+ KB\n"
          ]
        }
      ]
    },
    {
      "cell_type": "code",
      "metadata": {
        "colab": {
          "base_uri": "https://localhost:8080/"
        },
        "id": "qAUbhCpuFc7s",
        "outputId": "272dc326-4f22-4f27-87a8-fd5240707993"
      },
      "source": [
        "df.isnull().sum()"
      ],
      "execution_count": 9,
      "outputs": [
        {
          "output_type": "execute_result",
          "data": {
            "text/plain": [
              "combined_description    0\n",
              "dtype: int64"
            ]
          },
          "metadata": {},
          "execution_count": 9
        }
      ]
    },
    {
      "cell_type": "code",
      "metadata": {
        "id": "caGl1qicxhhN"
      },
      "source": [
        "def fn_decode_to_ascii(df):\n",
        "  text = df.encode().decode('utf-8').encode('ascii', 'ignore')\n",
        "  return text.decode(\"utf-8\") \n",
        "\n",
        "df['combined_description'] = df['combined_description'].apply(fn_decode_to_ascii)"
      ],
      "execution_count": 30,
      "outputs": []
    },
    {
      "cell_type": "code",
      "metadata": {
        "colab": {
          "base_uri": "https://localhost:8080/"
        },
        "id": "NdXb90jQzYdp",
        "outputId": "80baf5a9-244a-4756-c0d7-9ae523c58cb6"
      },
      "source": [
        "pip install langdetect"
      ],
      "execution_count": 12,
      "outputs": [
        {
          "output_type": "stream",
          "name": "stdout",
          "text": [
            "Collecting langdetect\n",
            "  Downloading langdetect-1.0.9.tar.gz (981 kB)\n",
            "\u001b[?25l\r\u001b[K     |▍                               | 10 kB 22.1 MB/s eta 0:00:01\r\u001b[K     |▊                               | 20 kB 27.4 MB/s eta 0:00:01\r\u001b[K     |█                               | 30 kB 13.0 MB/s eta 0:00:01\r\u001b[K     |█▍                              | 40 kB 9.7 MB/s eta 0:00:01\r\u001b[K     |█▊                              | 51 kB 4.2 MB/s eta 0:00:01\r\u001b[K     |██                              | 61 kB 4.4 MB/s eta 0:00:01\r\u001b[K     |██▍                             | 71 kB 4.3 MB/s eta 0:00:01\r\u001b[K     |██▊                             | 81 kB 4.8 MB/s eta 0:00:01\r\u001b[K     |███                             | 92 kB 4.7 MB/s eta 0:00:01\r\u001b[K     |███▍                            | 102 kB 4.0 MB/s eta 0:00:01\r\u001b[K     |███▊                            | 112 kB 4.0 MB/s eta 0:00:01\r\u001b[K     |████                            | 122 kB 4.0 MB/s eta 0:00:01\r\u001b[K     |████▍                           | 133 kB 4.0 MB/s eta 0:00:01\r\u001b[K     |████▊                           | 143 kB 4.0 MB/s eta 0:00:01\r\u001b[K     |█████                           | 153 kB 4.0 MB/s eta 0:00:01\r\u001b[K     |█████▍                          | 163 kB 4.0 MB/s eta 0:00:01\r\u001b[K     |█████▊                          | 174 kB 4.0 MB/s eta 0:00:01\r\u001b[K     |██████                          | 184 kB 4.0 MB/s eta 0:00:01\r\u001b[K     |██████▍                         | 194 kB 4.0 MB/s eta 0:00:01\r\u001b[K     |██████▊                         | 204 kB 4.0 MB/s eta 0:00:01\r\u001b[K     |███████                         | 215 kB 4.0 MB/s eta 0:00:01\r\u001b[K     |███████▍                        | 225 kB 4.0 MB/s eta 0:00:01\r\u001b[K     |███████▊                        | 235 kB 4.0 MB/s eta 0:00:01\r\u001b[K     |████████                        | 245 kB 4.0 MB/s eta 0:00:01\r\u001b[K     |████████▍                       | 256 kB 4.0 MB/s eta 0:00:01\r\u001b[K     |████████▊                       | 266 kB 4.0 MB/s eta 0:00:01\r\u001b[K     |█████████                       | 276 kB 4.0 MB/s eta 0:00:01\r\u001b[K     |█████████▍                      | 286 kB 4.0 MB/s eta 0:00:01\r\u001b[K     |█████████▊                      | 296 kB 4.0 MB/s eta 0:00:01\r\u001b[K     |██████████                      | 307 kB 4.0 MB/s eta 0:00:01\r\u001b[K     |██████████▍                     | 317 kB 4.0 MB/s eta 0:00:01\r\u001b[K     |██████████▊                     | 327 kB 4.0 MB/s eta 0:00:01\r\u001b[K     |███████████                     | 337 kB 4.0 MB/s eta 0:00:01\r\u001b[K     |███████████▍                    | 348 kB 4.0 MB/s eta 0:00:01\r\u001b[K     |███████████▊                    | 358 kB 4.0 MB/s eta 0:00:01\r\u001b[K     |████████████                    | 368 kB 4.0 MB/s eta 0:00:01\r\u001b[K     |████████████▍                   | 378 kB 4.0 MB/s eta 0:00:01\r\u001b[K     |████████████▊                   | 389 kB 4.0 MB/s eta 0:00:01\r\u001b[K     |█████████████                   | 399 kB 4.0 MB/s eta 0:00:01\r\u001b[K     |█████████████▍                  | 409 kB 4.0 MB/s eta 0:00:01\r\u001b[K     |█████████████▊                  | 419 kB 4.0 MB/s eta 0:00:01\r\u001b[K     |██████████████                  | 430 kB 4.0 MB/s eta 0:00:01\r\u001b[K     |██████████████▍                 | 440 kB 4.0 MB/s eta 0:00:01\r\u001b[K     |██████████████▊                 | 450 kB 4.0 MB/s eta 0:00:01\r\u001b[K     |███████████████                 | 460 kB 4.0 MB/s eta 0:00:01\r\u001b[K     |███████████████▍                | 471 kB 4.0 MB/s eta 0:00:01\r\u001b[K     |███████████████▊                | 481 kB 4.0 MB/s eta 0:00:01\r\u001b[K     |████████████████                | 491 kB 4.0 MB/s eta 0:00:01\r\u001b[K     |████████████████▍               | 501 kB 4.0 MB/s eta 0:00:01\r\u001b[K     |████████████████▊               | 512 kB 4.0 MB/s eta 0:00:01\r\u001b[K     |█████████████████               | 522 kB 4.0 MB/s eta 0:00:01\r\u001b[K     |█████████████████▍              | 532 kB 4.0 MB/s eta 0:00:01\r\u001b[K     |█████████████████▊              | 542 kB 4.0 MB/s eta 0:00:01\r\u001b[K     |██████████████████              | 552 kB 4.0 MB/s eta 0:00:01\r\u001b[K     |██████████████████▍             | 563 kB 4.0 MB/s eta 0:00:01\r\u001b[K     |██████████████████▊             | 573 kB 4.0 MB/s eta 0:00:01\r\u001b[K     |███████████████████             | 583 kB 4.0 MB/s eta 0:00:01\r\u001b[K     |███████████████████▍            | 593 kB 4.0 MB/s eta 0:00:01\r\u001b[K     |███████████████████▊            | 604 kB 4.0 MB/s eta 0:00:01\r\u001b[K     |████████████████████            | 614 kB 4.0 MB/s eta 0:00:01\r\u001b[K     |████████████████████▍           | 624 kB 4.0 MB/s eta 0:00:01\r\u001b[K     |████████████████████▊           | 634 kB 4.0 MB/s eta 0:00:01\r\u001b[K     |█████████████████████           | 645 kB 4.0 MB/s eta 0:00:01\r\u001b[K     |█████████████████████▍          | 655 kB 4.0 MB/s eta 0:00:01\r\u001b[K     |█████████████████████▊          | 665 kB 4.0 MB/s eta 0:00:01\r\u001b[K     |██████████████████████          | 675 kB 4.0 MB/s eta 0:00:01\r\u001b[K     |██████████████████████▍         | 686 kB 4.0 MB/s eta 0:00:01\r\u001b[K     |██████████████████████▊         | 696 kB 4.0 MB/s eta 0:00:01\r\u001b[K     |███████████████████████         | 706 kB 4.0 MB/s eta 0:00:01\r\u001b[K     |███████████████████████▍        | 716 kB 4.0 MB/s eta 0:00:01\r\u001b[K     |███████████████████████▊        | 727 kB 4.0 MB/s eta 0:00:01\r\u001b[K     |████████████████████████        | 737 kB 4.0 MB/s eta 0:00:01\r\u001b[K     |████████████████████████▍       | 747 kB 4.0 MB/s eta 0:00:01\r\u001b[K     |████████████████████████▊       | 757 kB 4.0 MB/s eta 0:00:01\r\u001b[K     |█████████████████████████       | 768 kB 4.0 MB/s eta 0:00:01\r\u001b[K     |█████████████████████████▍      | 778 kB 4.0 MB/s eta 0:00:01\r\u001b[K     |█████████████████████████▊      | 788 kB 4.0 MB/s eta 0:00:01\r\u001b[K     |██████████████████████████      | 798 kB 4.0 MB/s eta 0:00:01\r\u001b[K     |██████████████████████████▍     | 808 kB 4.0 MB/s eta 0:00:01\r\u001b[K     |██████████████████████████▊     | 819 kB 4.0 MB/s eta 0:00:01\r\u001b[K     |███████████████████████████     | 829 kB 4.0 MB/s eta 0:00:01\r\u001b[K     |███████████████████████████▍    | 839 kB 4.0 MB/s eta 0:00:01\r\u001b[K     |███████████████████████████▊    | 849 kB 4.0 MB/s eta 0:00:01\r\u001b[K     |████████████████████████████    | 860 kB 4.0 MB/s eta 0:00:01\r\u001b[K     |████████████████████████████▍   | 870 kB 4.0 MB/s eta 0:00:01\r\u001b[K     |████████████████████████████▊   | 880 kB 4.0 MB/s eta 0:00:01\r\u001b[K     |█████████████████████████████   | 890 kB 4.0 MB/s eta 0:00:01\r\u001b[K     |█████████████████████████████▍  | 901 kB 4.0 MB/s eta 0:00:01\r\u001b[K     |█████████████████████████████▊  | 911 kB 4.0 MB/s eta 0:00:01\r\u001b[K     |██████████████████████████████  | 921 kB 4.0 MB/s eta 0:00:01\r\u001b[K     |██████████████████████████████▍ | 931 kB 4.0 MB/s eta 0:00:01\r\u001b[K     |██████████████████████████████▊ | 942 kB 4.0 MB/s eta 0:00:01\r\u001b[K     |███████████████████████████████ | 952 kB 4.0 MB/s eta 0:00:01\r\u001b[K     |███████████████████████████████▍| 962 kB 4.0 MB/s eta 0:00:01\r\u001b[K     |███████████████████████████████▊| 972 kB 4.0 MB/s eta 0:00:01\r\u001b[K     |████████████████████████████████| 981 kB 4.0 MB/s \n",
            "\u001b[?25hRequirement already satisfied: six in /usr/local/lib/python3.7/dist-packages (from langdetect) (1.15.0)\n",
            "Building wheels for collected packages: langdetect\n",
            "  Building wheel for langdetect (setup.py) ... \u001b[?25l\u001b[?25hdone\n",
            "  Created wheel for langdetect: filename=langdetect-1.0.9-py3-none-any.whl size=993242 sha256=54a182c80daf2b12fef45b47844a18cddce94ec91c825d654eb5d0ca5b750280\n",
            "  Stored in directory: /root/.cache/pip/wheels/c5/96/8a/f90c59ed25d75e50a8c10a1b1c2d4c402e4dacfa87f3aff36a\n",
            "Successfully built langdetect\n",
            "Installing collected packages: langdetect\n",
            "Successfully installed langdetect-1.0.9\n"
          ]
        }
      ]
    },
    {
      "cell_type": "code",
      "metadata": {
        "id": "4zi_nBl7zoee"
      },
      "source": [
        "from langdetect import detect"
      ],
      "execution_count": 13,
      "outputs": []
    },
    {
      "cell_type": "code",
      "metadata": {
        "id": "njqrRVIqzvGu"
      },
      "source": [
        "def fn_lan_detect(df):                                        \n",
        "   try:                                                          \n",
        "      return detect(df)                                      \n",
        "   except:                                                       \n",
        "      return 'no'                                                  \n",
        "\n",
        "df['Language'] = df['combined_description'].apply(fn_lan_detect)"
      ],
      "execution_count": 31,
      "outputs": []
    },
    {
      "cell_type": "code",
      "metadata": {
        "colab": {
          "base_uri": "https://localhost:8080/"
        },
        "id": "g7JA75RK0RQT",
        "outputId": "e5cb063a-0080-4f8a-95fc-f280c6a3cc94"
      },
      "source": [
        "df['Language'].value_counts()"
      ],
      "execution_count": 32,
      "outputs": [
        {
          "output_type": "execute_result",
          "data": {
            "text/plain": [
              "en    7045\n",
              "de     378\n",
              "af     287\n",
              "it     129\n",
              "fr     105\n",
              "no      96\n",
              "nl      68\n",
              "sv      56\n",
              "es      50\n",
              "ca      31\n",
              "pl      28\n",
              "da      24\n",
              "pt      18\n",
              "cy      14\n",
              "tl      13\n",
              "ro      13\n",
              "sl      13\n",
              "sq      12\n",
              "hr       7\n",
              "et       5\n",
              "so       5\n",
              "id       5\n",
              "fi       4\n",
              "cs       3\n",
              "sk       2\n",
              "lt       2\n",
              "lv       1\n",
              "tr       1\n",
              "hu       1\n",
              "vi       1\n",
              "Name: Language, dtype: int64"
            ]
          },
          "metadata": {},
          "execution_count": 32
        }
      ]
    },
    {
      "cell_type": "code",
      "metadata": {
        "colab": {
          "base_uri": "https://localhost:8080/",
          "height": 459
        },
        "id": "ykzDfv066MDc",
        "outputId": "00247e9c-6657-4d57-95b0-af5f395418b1"
      },
      "source": [
        "x = df[\"Language\"].value_counts()\n",
        "x=x.sort_index()\n",
        "plt.figure(figsize=(10,6))\n",
        "ax= sns.barplot(x.index, x.values, alpha=0.8)\n",
        "plt.title(\"Distribution of text by language\")\n",
        "plt.ylabel('number of records')\n",
        "plt.xlabel('Language')\n",
        "rects = ax.patches\n",
        "labels = x.values\n",
        "for rect, label in zip(rects, labels):\n",
        "    height = rect.get_height()\n",
        "    ax.text(rect.get_x() + rect.get_width()/2, height + 5, label, ha='center', va='bottom')\n",
        "plt.show();"
      ],
      "execution_count": 33,
      "outputs": [
        {
          "output_type": "stream",
          "name": "stderr",
          "text": [
            "/usr/local/lib/python3.7/dist-packages/seaborn/_decorators.py:43: FutureWarning: Pass the following variables as keyword args: x, y. From version 0.12, the only valid positional argument will be `data`, and passing other arguments without an explicit keyword will result in an error or misinterpretation.\n",
            "  FutureWarning\n"
          ]
        },
        {
          "output_type": "display_data",
          "data": {
            "image/png": "[encoded data removed]",
            "text/plain": [
              "<Figure size 720x432 with 1 Axes>"
            ]
          },
          "metadata": {
            "needs_background": "light"
          }
        }
      ]
    },
    {
      "cell_type": "code",
      "metadata": {
        "id": "m2VDgvRa9HKJ",
        "outputId": "2ca27f7c-e59e-4a8d-a951-8ece56458271",
        "colab": {
          "base_uri": "https://localhost:8080/",
          "height": 206
        }
      },
      "source": [
        "df.head()"
      ],
      "execution_count": 34,
      "outputs": [
        {
          "output_type": "execute_result",
          "data": {
            "text/html": [
              "<div>\n",
              "<style scoped>\n",
              "    .dataframe tbody tr th:only-of-type {\n",
              "        vertical-align: middle;\n",
              "    }\n",
              "\n",
              "    .dataframe tbody tr th {\n",
              "        vertical-align: top;\n",
              "    }\n",
              "\n",
              "    .dataframe thead th {\n",
              "        text-align: right;\n",
              "    }\n",
              "</style>\n",
              "<table border=\"1\" class=\"dataframe\">\n",
              "  <thead>\n",
              "    <tr style=\"text-align: right;\">\n",
              "      <th></th>\n",
              "      <th>combined_description</th>\n",
              "      <th>Language</th>\n",
              "    </tr>\n",
              "  </thead>\n",
              "  <tbody>\n",
              "    <tr>\n",
              "      <th>0</th>\n",
              "      <td>login issue -verified user details.(employee# ...</td>\n",
              "      <td>en</td>\n",
              "    </tr>\n",
              "    <tr>\n",
              "      <th>1</th>\n",
              "      <td>outlook _x000D_\\n_x000D_\\nreceived from: hmjdr...</td>\n",
              "      <td>en</td>\n",
              "    </tr>\n",
              "    <tr>\n",
              "      <th>2</th>\n",
              "      <td>cant log in to vpn _x000D_\\n_x000D_\\nreceived ...</td>\n",
              "      <td>en</td>\n",
              "    </tr>\n",
              "    <tr>\n",
              "      <th>3</th>\n",
              "      <td>unable to access hr_tool page unable to access...</td>\n",
              "      <td>en</td>\n",
              "    </tr>\n",
              "    <tr>\n",
              "      <th>4</th>\n",
              "      <td>skype error skype error</td>\n",
              "      <td>no</td>\n",
              "    </tr>\n",
              "  </tbody>\n",
              "</table>\n",
              "</div>"
            ],
            "text/plain": [
              "                                combined_description Language\n",
              "0  login issue -verified user details.(employee# ...       en\n",
              "1  outlook _x000D_\\n_x000D_\\nreceived from: hmjdr...       en\n",
              "2  cant log in to vpn _x000D_\\n_x000D_\\nreceived ...       en\n",
              "3  unable to access hr_tool page unable to access...       en\n",
              "4                            skype error skype error       no"
            ]
          },
          "metadata": {},
          "execution_count": 34
        }
      ]
    },
    {
      "cell_type": "code",
      "metadata": {
        "id": "I-SCgleY6m2p"
      },
      "source": [
        "def fn_translate(df,lang):\n",
        "  try:\n",
        "    if lang == 'en':\n",
        "        return df\n",
        "    else:\n",
        "        return translator.translate(df).text\n",
        "  except:\n",
        "    return df\n",
        "    \n",
        "    \n",
        "df['English_Description'] = df.apply(lambda x: fn_translate(x['combined_description'], x['Language']), axis=1)"
      ],
      "execution_count": 35,
      "outputs": []
    },
    {
      "cell_type": "code",
      "metadata": {
        "id": "g2lNleHw9Y5Z",
        "outputId": "fba25a05-0497-4b51-cbf8-c6628bb9c00e",
        "colab": {
          "base_uri": "https://localhost:8080/",
          "height": 206
        }
      },
      "source": [
        "df.head()"
      ],
      "execution_count": 36,
      "outputs": [
        {
          "output_type": "execute_result",
          "data": {
            "text/html": [
              "<div>\n",
              "<style scoped>\n",
              "    .dataframe tbody tr th:only-of-type {\n",
              "        vertical-align: middle;\n",
              "    }\n",
              "\n",
              "    .dataframe tbody tr th {\n",
              "        vertical-align: top;\n",
              "    }\n",
              "\n",
              "    .dataframe thead th {\n",
              "        text-align: right;\n",
              "    }\n",
              "</style>\n",
              "<table border=\"1\" class=\"dataframe\">\n",
              "  <thead>\n",
              "    <tr style=\"text-align: right;\">\n",
              "      <th></th>\n",
              "      <th>combined_description</th>\n",
              "      <th>Language</th>\n",
              "      <th>English_Description</th>\n",
              "    </tr>\n",
              "  </thead>\n",
              "  <tbody>\n",
              "    <tr>\n",
              "      <th>0</th>\n",
              "      <td>login issue -verified user details.(employee# ...</td>\n",
              "      <td>en</td>\n",
              "      <td>login issue -verified user details.(employee# ...</td>\n",
              "    </tr>\n",
              "    <tr>\n",
              "      <th>1</th>\n",
              "      <td>outlook _x000D_\\n_x000D_\\nreceived from: hmjdr...</td>\n",
              "      <td>en</td>\n",
              "      <td>outlook _x000D_\\n_x000D_\\nreceived from: hmjdr...</td>\n",
              "    </tr>\n",
              "    <tr>\n",
              "      <th>2</th>\n",
              "      <td>cant log in to vpn _x000D_\\n_x000D_\\nreceived ...</td>\n",
              "      <td>en</td>\n",
              "      <td>cant log in to vpn _x000D_\\n_x000D_\\nreceived ...</td>\n",
              "    </tr>\n",
              "    <tr>\n",
              "      <th>3</th>\n",
              "      <td>unable to access hr_tool page unable to access...</td>\n",
              "      <td>en</td>\n",
              "      <td>unable to access hr_tool page unable to access...</td>\n",
              "    </tr>\n",
              "    <tr>\n",
              "      <th>4</th>\n",
              "      <td>skype error skype error</td>\n",
              "      <td>no</td>\n",
              "      <td>skype error skype error</td>\n",
              "    </tr>\n",
              "  </tbody>\n",
              "</table>\n",
              "</div>"
            ],
            "text/plain": [
              "                                combined_description Language  \\\n",
              "0  login issue -verified user details.(employee# ...       en   \n",
              "1  outlook _x000D_\\n_x000D_\\nreceived from: hmjdr...       en   \n",
              "2  cant log in to vpn _x000D_\\n_x000D_\\nreceived ...       en   \n",
              "3  unable to access hr_tool page unable to access...       en   \n",
              "4                            skype error skype error       no   \n",
              "\n",
              "                                 English_Description  \n",
              "0  login issue -verified user details.(employee# ...  \n",
              "1  outlook _x000D_\\n_x000D_\\nreceived from: hmjdr...  \n",
              "2  cant log in to vpn _x000D_\\n_x000D_\\nreceived ...  \n",
              "3  unable to access hr_tool page unable to access...  \n",
              "4                            skype error skype error  "
            ]
          },
          "metadata": {},
          "execution_count": 36
        }
      ]
    },
    {
      "cell_type": "code",
      "metadata": {
        "id": "5FXvp92y_vKF",
        "outputId": "7298dbc6-9415-457e-e3be-080d1d0e6d92",
        "colab": {
          "base_uri": "https://localhost:8080/"
        }
      },
      "source": [
        "df.shape"
      ],
      "execution_count": 37,
      "outputs": [
        {
          "output_type": "execute_result",
          "data": {
            "text/plain": [
              "(8417, 3)"
            ]
          },
          "metadata": {},
          "execution_count": 37
        }
      ]
    },
    {
      "cell_type": "code",
      "metadata": {
        "id": "hjzBV7uwAOuA"
      },
      "source": [
        "df_copy['English_Description'] = df['English_Description']"
      ],
      "execution_count": 38,
      "outputs": []
    },
    {
      "cell_type": "code",
      "metadata": {
        "id": "ASW_OTe0CXQY",
        "outputId": "bb73505a-fb19-49fe-fad8-761aac04b846",
        "colab": {
          "base_uri": "https://localhost:8080/",
          "height": 345
        }
      },
      "source": [
        "df_copy.head()"
      ],
      "execution_count": 39,
      "outputs": [
        {
          "output_type": "execute_result",
          "data": {
            "text/html": [
              "<div>\n",
              "<style scoped>\n",
              "    .dataframe tbody tr th:only-of-type {\n",
              "        vertical-align: middle;\n",
              "    }\n",
              "\n",
              "    .dataframe tbody tr th {\n",
              "        vertical-align: top;\n",
              "    }\n",
              "\n",
              "    .dataframe thead th {\n",
              "        text-align: right;\n",
              "    }\n",
              "</style>\n",
              "<table border=\"1\" class=\"dataframe\">\n",
              "  <thead>\n",
              "    <tr style=\"text-align: right;\">\n",
              "      <th></th>\n",
              "      <th>Unnamed: 0</th>\n",
              "      <th>Short description</th>\n",
              "      <th>Description</th>\n",
              "      <th>Caller</th>\n",
              "      <th>Assignment group</th>\n",
              "      <th>combined_description</th>\n",
              "      <th>combined_description_caller</th>\n",
              "      <th>English_Description</th>\n",
              "    </tr>\n",
              "  </thead>\n",
              "  <tbody>\n",
              "    <tr>\n",
              "      <th>0</th>\n",
              "      <td>0</td>\n",
              "      <td>login issue</td>\n",
              "      <td>-verified user details.(employee# &amp; manager na...</td>\n",
              "      <td>spxjnwir pjlcoqds</td>\n",
              "      <td>GRP_0</td>\n",
              "      <td>login issue -verified user details.(employee# ...</td>\n",
              "      <td>login issue -verified user details.(employee# ...</td>\n",
              "      <td>login issue -verified user details.(employee# ...</td>\n",
              "    </tr>\n",
              "    <tr>\n",
              "      <th>1</th>\n",
              "      <td>1</td>\n",
              "      <td>outlook</td>\n",
              "      <td>_x000D_\\n_x000D_\\nreceived from: hmjdrvpb.komu...</td>\n",
              "      <td>hmjdrvpb komuaywn</td>\n",
              "      <td>GRP_0</td>\n",
              "      <td>outlook _x000D_\\n_x000D_\\nreceived from: hmjdr...</td>\n",
              "      <td>outlook _x000D_\\n_x000D_\\nreceived from: hmjdr...</td>\n",
              "      <td>outlook _x000D_\\n_x000D_\\nreceived from: hmjdr...</td>\n",
              "    </tr>\n",
              "    <tr>\n",
              "      <th>2</th>\n",
              "      <td>2</td>\n",
              "      <td>cant log in to vpn</td>\n",
              "      <td>_x000D_\\n_x000D_\\nreceived from: eylqgodm.ybqk...</td>\n",
              "      <td>eylqgodm ybqkwiam</td>\n",
              "      <td>GRP_0</td>\n",
              "      <td>cant log in to vpn _x000D_\\n_x000D_\\nreceived ...</td>\n",
              "      <td>cant log in to vpn _x000D_\\n_x000D_\\nreceived ...</td>\n",
              "      <td>cant log in to vpn _x000D_\\n_x000D_\\nreceived ...</td>\n",
              "    </tr>\n",
              "    <tr>\n",
              "      <th>3</th>\n",
              "      <td>3</td>\n",
              "      <td>unable to access hr_tool page</td>\n",
              "      <td>unable to access hr_tool page</td>\n",
              "      <td>xbkucsvz gcpydteq</td>\n",
              "      <td>GRP_0</td>\n",
              "      <td>unable to access hr_tool page unable to access...</td>\n",
              "      <td>unable to access hr_tool page unable to access...</td>\n",
              "      <td>unable to access hr_tool page unable to access...</td>\n",
              "    </tr>\n",
              "    <tr>\n",
              "      <th>4</th>\n",
              "      <td>4</td>\n",
              "      <td>skype error</td>\n",
              "      <td>skype error</td>\n",
              "      <td>owlgqjme qhcozdfx</td>\n",
              "      <td>GRP_0</td>\n",
              "      <td>skype error skype error</td>\n",
              "      <td>skype error skype error owlgqjme qhcozdfx</td>\n",
              "      <td>skype error skype error</td>\n",
              "    </tr>\n",
              "  </tbody>\n",
              "</table>\n",
              "</div>"
            ],
            "text/plain": [
              "   Unnamed: 0              Short description  \\\n",
              "0           0                    login issue   \n",
              "1           1                        outlook   \n",
              "2           2             cant log in to vpn   \n",
              "3           3  unable to access hr_tool page   \n",
              "4           4                   skype error    \n",
              "\n",
              "                                         Description             Caller  \\\n",
              "0  -verified user details.(employee# & manager na...  spxjnwir pjlcoqds   \n",
              "1  _x000D_\\n_x000D_\\nreceived from: hmjdrvpb.komu...  hmjdrvpb komuaywn   \n",
              "2  _x000D_\\n_x000D_\\nreceived from: eylqgodm.ybqk...  eylqgodm ybqkwiam   \n",
              "3                      unable to access hr_tool page  xbkucsvz gcpydteq   \n",
              "4                                       skype error   owlgqjme qhcozdfx   \n",
              "\n",
              "  Assignment group                               combined_description  \\\n",
              "0            GRP_0  login issue -verified user details.(employee# ...   \n",
              "1            GRP_0  outlook _x000D_\\n_x000D_\\nreceived from: hmjdr...   \n",
              "2            GRP_0  cant log in to vpn _x000D_\\n_x000D_\\nreceived ...   \n",
              "3            GRP_0  unable to access hr_tool page unable to access...   \n",
              "4            GRP_0                            skype error skype error   \n",
              "\n",
              "                         combined_description_caller  \\\n",
              "0  login issue -verified user details.(employee# ...   \n",
              "1  outlook _x000D_\\n_x000D_\\nreceived from: hmjdr...   \n",
              "2  cant log in to vpn _x000D_\\n_x000D_\\nreceived ...   \n",
              "3  unable to access hr_tool page unable to access...   \n",
              "4          skype error skype error owlgqjme qhcozdfx   \n",
              "\n",
              "                                 English_Description  \n",
              "0  login issue -verified user details.(employee# ...  \n",
              "1  outlook _x000D_\\n_x000D_\\nreceived from: hmjdr...  \n",
              "2  cant log in to vpn _x000D_\\n_x000D_\\nreceived ...  \n",
              "3  unable to access hr_tool page unable to access...  \n",
              "4                            skype error skype error  "
            ]
          },
          "metadata": {},
          "execution_count": 39
        }
      ]
    },
    {
      "cell_type": "code",
      "metadata": {
        "id": "Y6g3n3uQCa_e"
      },
      "source": [
        "df_copy['Language'] = df['Language']"
      ],
      "execution_count": 40,
      "outputs": []
    },
    {
      "cell_type": "code",
      "metadata": {
        "id": "HzThggTdCgxE",
        "outputId": "23986438-cf88-476a-85cc-8b5c4504c093",
        "colab": {
          "base_uri": "https://localhost:8080/",
          "height": 362
        }
      },
      "source": [
        "df_copy.head()"
      ],
      "execution_count": 41,
      "outputs": [
        {
          "output_type": "execute_result",
          "data": {
            "text/html": [
              "<div>\n",
              "<style scoped>\n",
              "    .dataframe tbody tr th:only-of-type {\n",
              "        vertical-align: middle;\n",
              "    }\n",
              "\n",
              "    .dataframe tbody tr th {\n",
              "        vertical-align: top;\n",
              "    }\n",
              "\n",
              "    .dataframe thead th {\n",
              "        text-align: right;\n",
              "    }\n",
              "</style>\n",
              "<table border=\"1\" class=\"dataframe\">\n",
              "  <thead>\n",
              "    <tr style=\"text-align: right;\">\n",
              "      <th></th>\n",
              "      <th>Unnamed: 0</th>\n",
              "      <th>Short description</th>\n",
              "      <th>Description</th>\n",
              "      <th>Caller</th>\n",
              "      <th>Assignment group</th>\n",
              "      <th>combined_description</th>\n",
              "      <th>combined_description_caller</th>\n",
              "      <th>English_Description</th>\n",
              "      <th>Language</th>\n",
              "    </tr>\n",
              "  </thead>\n",
              "  <tbody>\n",
              "    <tr>\n",
              "      <th>0</th>\n",
              "      <td>0</td>\n",
              "      <td>login issue</td>\n",
              "      <td>-verified user details.(employee# &amp; manager na...</td>\n",
              "      <td>spxjnwir pjlcoqds</td>\n",
              "      <td>GRP_0</td>\n",
              "      <td>login issue -verified user details.(employee# ...</td>\n",
              "      <td>login issue -verified user details.(employee# ...</td>\n",
              "      <td>login issue -verified user details.(employee# ...</td>\n",
              "      <td>en</td>\n",
              "    </tr>\n",
              "    <tr>\n",
              "      <th>1</th>\n",
              "      <td>1</td>\n",
              "      <td>outlook</td>\n",
              "      <td>_x000D_\\n_x000D_\\nreceived from: hmjdrvpb.komu...</td>\n",
              "      <td>hmjdrvpb komuaywn</td>\n",
              "      <td>GRP_0</td>\n",
              "      <td>outlook _x000D_\\n_x000D_\\nreceived from: hmjdr...</td>\n",
              "      <td>outlook _x000D_\\n_x000D_\\nreceived from: hmjdr...</td>\n",
              "      <td>outlook _x000D_\\n_x000D_\\nreceived from: hmjdr...</td>\n",
              "      <td>en</td>\n",
              "    </tr>\n",
              "    <tr>\n",
              "      <th>2</th>\n",
              "      <td>2</td>\n",
              "      <td>cant log in to vpn</td>\n",
              "      <td>_x000D_\\n_x000D_\\nreceived from: eylqgodm.ybqk...</td>\n",
              "      <td>eylqgodm ybqkwiam</td>\n",
              "      <td>GRP_0</td>\n",
              "      <td>cant log in to vpn _x000D_\\n_x000D_\\nreceived ...</td>\n",
              "      <td>cant log in to vpn _x000D_\\n_x000D_\\nreceived ...</td>\n",
              "      <td>cant log in to vpn _x000D_\\n_x000D_\\nreceived ...</td>\n",
              "      <td>en</td>\n",
              "    </tr>\n",
              "    <tr>\n",
              "      <th>3</th>\n",
              "      <td>3</td>\n",
              "      <td>unable to access hr_tool page</td>\n",
              "      <td>unable to access hr_tool page</td>\n",
              "      <td>xbkucsvz gcpydteq</td>\n",
              "      <td>GRP_0</td>\n",
              "      <td>unable to access hr_tool page unable to access...</td>\n",
              "      <td>unable to access hr_tool page unable to access...</td>\n",
              "      <td>unable to access hr_tool page unable to access...</td>\n",
              "      <td>en</td>\n",
              "    </tr>\n",
              "    <tr>\n",
              "      <th>4</th>\n",
              "      <td>4</td>\n",
              "      <td>skype error</td>\n",
              "      <td>skype error</td>\n",
              "      <td>owlgqjme qhcozdfx</td>\n",
              "      <td>GRP_0</td>\n",
              "      <td>skype error skype error</td>\n",
              "      <td>skype error skype error owlgqjme qhcozdfx</td>\n",
              "      <td>skype error skype error</td>\n",
              "      <td>no</td>\n",
              "    </tr>\n",
              "  </tbody>\n",
              "</table>\n",
              "</div>"
            ],
            "text/plain": [
              "   Unnamed: 0              Short description  \\\n",
              "0           0                    login issue   \n",
              "1           1                        outlook   \n",
              "2           2             cant log in to vpn   \n",
              "3           3  unable to access hr_tool page   \n",
              "4           4                   skype error    \n",
              "\n",
              "                                         Description             Caller  \\\n",
              "0  -verified user details.(employee# & manager na...  spxjnwir pjlcoqds   \n",
              "1  _x000D_\\n_x000D_\\nreceived from: hmjdrvpb.komu...  hmjdrvpb komuaywn   \n",
              "2  _x000D_\\n_x000D_\\nreceived from: eylqgodm.ybqk...  eylqgodm ybqkwiam   \n",
              "3                      unable to access hr_tool page  xbkucsvz gcpydteq   \n",
              "4                                       skype error   owlgqjme qhcozdfx   \n",
              "\n",
              "  Assignment group                               combined_description  \\\n",
              "0            GRP_0  login issue -verified user details.(employee# ...   \n",
              "1            GRP_0  outlook _x000D_\\n_x000D_\\nreceived from: hmjdr...   \n",
              "2            GRP_0  cant log in to vpn _x000D_\\n_x000D_\\nreceived ...   \n",
              "3            GRP_0  unable to access hr_tool page unable to access...   \n",
              "4            GRP_0                            skype error skype error   \n",
              "\n",
              "                         combined_description_caller  \\\n",
              "0  login issue -verified user details.(employee# ...   \n",
              "1  outlook _x000D_\\n_x000D_\\nreceived from: hmjdr...   \n",
              "2  cant log in to vpn _x000D_\\n_x000D_\\nreceived ...   \n",
              "3  unable to access hr_tool page unable to access...   \n",
              "4          skype error skype error owlgqjme qhcozdfx   \n",
              "\n",
              "                                 English_Description Language  \n",
              "0  login issue -verified user details.(employee# ...       en  \n",
              "1  outlook _x000D_\\n_x000D_\\nreceived from: hmjdr...       en  \n",
              "2  cant log in to vpn _x000D_\\n_x000D_\\nreceived ...       en  \n",
              "3  unable to access hr_tool page unable to access...       en  \n",
              "4                            skype error skype error       no  "
            ]
          },
          "metadata": {},
          "execution_count": 41
        }
      ]
    },
    {
      "cell_type": "code",
      "metadata": {
        "id": "NuUGuGbgCxrB"
      },
      "source": [
        "df_copy.to_csv(\"dataset1_combined_translatedToEnglish\")"
      ],
      "execution_count": 42,
      "outputs": []
    },
    {
      "cell_type": "code",
      "metadata": {
        "id": "KcWkT7dgD4Hg"
      },
      "source": [
        ""
      ],
      "execution_count": null,
      "outputs": []
    }
  ]
}