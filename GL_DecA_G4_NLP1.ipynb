{
  "nbformat": 4,
  "nbformat_minor": 0,
  "metadata": {
    "colab": {
      "name": "GL_DecA_G4_NLP1.ipynb",
      "provenance": [],
      "include_colab_link": true
    },
    "kernelspec": {
      "name": "python3",
      "display_name": "Python 3"
    },
    "language_info": {
      "name": "python"
    }
  },
  "cells": [
    {
      "cell_type": "markdown",
      "metadata": {
        "id": "view-in-github",
        "colab_type": "text"
      },
      "source": [
        "<a href=\"https://colab.research.google.com/github/pbhuch/GL_DecA_G4_NLP1/blob/main/GL_DecA_G4_NLP1.ipynb\" target=\"_parent\"><img src=\"https://colab.research.google.com/assets/colab-badge.svg\" alt=\"Open In Colab\"/></a>"
      ]
    },
    {
      "cell_type": "markdown",
      "metadata": {
        "id": "2Vqh91aLDKOE"
      },
      "source": [
        "Great Learning : AIML Online Capstone -AUTOMATIC TICKET ASSIGNMENT\n",
        "\n",
        "DecA : Group 4: NLP 1\n",
        "\n",
        "Group Members :\n",
        "1. Priya Moily\n",
        "2. Priyanka Gupta\n",
        "3. Avinash Balani\n",
        "4. Priyank Bhuch"
      ]
    },
    {
      "cell_type": "markdown",
      "metadata": {
        "id": "p7upPQ1SO4OI"
      },
      "source": [
        ""
      ]
    },
    {
      "cell_type": "code",
      "metadata": {
        "id": "skVgy2MzO4oW"
      },
      "source": [
        ""
      ],
      "execution_count": null,
      "outputs": []
    },
    {
      "cell_type": "code",
      "metadata": {
        "id": "Mw4B6iqtO5Lp"
      },
      "source": [
        ""
      ],
      "execution_count": null,
      "outputs": []
    },
    {
      "cell_type": "markdown",
      "metadata": {
        "id": "S1-13tsRO6uz"
      },
      "source": [
        "# New Section"
      ]
    },
    {
      "cell_type": "markdown",
      "metadata": {
        "id": "Tnf0cV-jO7Fu"
      },
      "source": [
        "# New Section"
      ]
    },
    {
      "cell_type": "markdown",
      "metadata": {
        "id": "jG0_aaa6O7eE"
      },
      "source": [
        "# New Section"
      ]
    },
    {
      "cell_type": "markdown",
      "metadata": {
        "id": "nz1Va0VkOziZ"
      },
      "source": [
        ""
      ]
    },
    {
      "cell_type": "code",
      "metadata": {
        "id": "eSwkHiPEOz6Z"
      },
      "source": [
        ""
      ],
      "execution_count": null,
      "outputs": []
    },
    {
      "cell_type": "markdown",
      "metadata": {
        "id": "2DOAo9YOEdQk"
      },
      "source": [
        "Importing relavant Libraries"
      ]
    },
    {
      "cell_type": "code",
      "metadata": {
        "id": "ATvXsfGZ8DiU"
      },
      "source": [
        "import pandas as pd\n",
        "import numpy as np"
      ],
      "execution_count": null,
      "outputs": []
    }
  ]
}