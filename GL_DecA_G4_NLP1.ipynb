{
  "nbformat": 4,
  "nbformat_minor": 0,
  "metadata": {
    "colab": {
      "name": "GL_DecA_G4_NLP1.ipynb",
      "provenance": [],
      "include_colab_link": true
    },
    "kernelspec": {
      "name": "python3",
      "display_name": "Python 3"
    },
    "language_info": {
      "name": "python"
    }
  },
  "cells": [
    {
      "cell_type": "markdown",
      "metadata": {
        "id": "view-in-github",
        "colab_type": "text"
      },
      "source": [
        "<a href=\"https://colab.research.google.com/github/pbhuch/GL_DecA_G4_NLP1/blob/NLP1_PG/GL_DecA_G4_NLP1.ipynb\" target=\"_parent\"><img src=\"https://colab.research.google.com/assets/colab-badge.svg\" alt=\"Open In Colab\"/></a>"
      ]
    },
    {
      "cell_type": "markdown",
      "metadata": {
        "id": "2Vqh91aLDKOE"
      },
      "source": [
        "Great Learning : AIML Online Capstone -AUTOMATIC TICKET ASSIGNMENT\n",
        "\n",
        "DecA : Group 4: NLP 1\n",
        "\n",
        "Group Members :\n",
        "1. Priya Moily\n",
        "2. Priyanka Gupta\n",
        "3. Avinash Balani\n",
        "4. Priyank Bhuch"
      ]
    },
    {
      "cell_type": "markdown",
      "metadata": {
        "id": "2DOAo9YOEdQk"
      },
      "source": [
        "Importing relavant Libraries"
      ]
    },
    {
      "cell_type": "code",
      "metadata": {
        "id": "ATvXsfGZ8DiU"
      },
      "source": [
        "import pandas as pd\n",
        "import numpy as np\n",
        "import os"
      ],
      "execution_count": null,
      "outputs": []
    },
    {
      "cell_type": "code",
      "metadata": {
        "id": "EQaqWsUUsiEk",
        "outputId": "74ff447f-01cc-40d3-ac8f-41851e68f4a4",
        "colab": {
          "base_uri": "https://localhost:8080/"
        }
      },
      "source": [
        "# mount google drive\n",
        "\n",
        "from google.colab import drive\n",
        "drive.mount('/gdrive')"
      ],
      "execution_count": 25,
      "outputs": [
        {
          "output_type": "stream",
          "name": "stdout",
          "text": [
            "Mounted at /gdrive\n"
          ]
        }
      ]
    },
    {
      "cell_type": "code",
      "metadata": {
        "id": "U9Ouxlsasmbu",
        "outputId": "c195ed11-93f7-4944-9622-62b99daf2124",
        "colab": {
          "base_uri": "https://localhost:8080/",
          "height": 377
        }
      },
      "source": [
        "# read in the data\n",
        "df = pd.read_csv('/content/sample_data/dataset1_combined.csv')\n",
        "\n",
        "df.head()"
      ],
      "execution_count": 26,
      "outputs": [
        {
          "output_type": "execute_result",
          "data": {
            "text/html": [
              "<div>\n",
              "<style scoped>\n",
              "    .dataframe tbody tr th:only-of-type {\n",
              "        vertical-align: middle;\n",
              "    }\n",
              "\n",
              "    .dataframe tbody tr th {\n",
              "        vertical-align: top;\n",
              "    }\n",
              "\n",
              "    .dataframe thead th {\n",
              "        text-align: right;\n",
              "    }\n",
              "</style>\n",
              "<table border=\"1\" class=\"dataframe\">\n",
              "  <thead>\n",
              "    <tr style=\"text-align: right;\">\n",
              "      <th></th>\n",
              "      <th>Unnamed: 0</th>\n",
              "      <th>Short description</th>\n",
              "      <th>Description</th>\n",
              "      <th>Caller</th>\n",
              "      <th>Assignment group</th>\n",
              "      <th>combined_description</th>\n",
              "      <th>combined_description_caller</th>\n",
              "    </tr>\n",
              "  </thead>\n",
              "  <tbody>\n",
              "    <tr>\n",
              "      <th>0</th>\n",
              "      <td>0</td>\n",
              "      <td>login issue</td>\n",
              "      <td>-verified user details.(employee# &amp; manager na...</td>\n",
              "      <td>spxjnwir pjlcoqds</td>\n",
              "      <td>GRP_0</td>\n",
              "      <td>login issue -verified user details.(employee# ...</td>\n",
              "      <td>login issue -verified user details.(employee# ...</td>\n",
              "    </tr>\n",
              "    <tr>\n",
              "      <th>1</th>\n",
              "      <td>1</td>\n",
              "      <td>outlook</td>\n",
              "      <td>_x000D_\\n_x000D_\\nreceived from: hmjdrvpb.komu...</td>\n",
              "      <td>hmjdrvpb komuaywn</td>\n",
              "      <td>GRP_0</td>\n",
              "      <td>outlook _x000D_\\n_x000D_\\nreceived from: hmjdr...</td>\n",
              "      <td>outlook _x000D_\\n_x000D_\\nreceived from: hmjdr...</td>\n",
              "    </tr>\n",
              "    <tr>\n",
              "      <th>2</th>\n",
              "      <td>2</td>\n",
              "      <td>cant log in to vpn</td>\n",
              "      <td>_x000D_\\n_x000D_\\nreceived from: eylqgodm.ybqk...</td>\n",
              "      <td>eylqgodm ybqkwiam</td>\n",
              "      <td>GRP_0</td>\n",
              "      <td>cant log in to vpn _x000D_\\n_x000D_\\nreceived ...</td>\n",
              "      <td>cant log in to vpn _x000D_\\n_x000D_\\nreceived ...</td>\n",
              "    </tr>\n",
              "    <tr>\n",
              "      <th>3</th>\n",
              "      <td>3</td>\n",
              "      <td>unable to access hr_tool page</td>\n",
              "      <td>unable to access hr_tool page</td>\n",
              "      <td>xbkucsvz gcpydteq</td>\n",
              "      <td>GRP_0</td>\n",
              "      <td>unable to access hr_tool page unable to access...</td>\n",
              "      <td>unable to access hr_tool page unable to access...</td>\n",
              "    </tr>\n",
              "    <tr>\n",
              "      <th>4</th>\n",
              "      <td>4</td>\n",
              "      <td>skype error</td>\n",
              "      <td>skype error</td>\n",
              "      <td>owlgqjme qhcozdfx</td>\n",
              "      <td>GRP_0</td>\n",
              "      <td>skype error skype error</td>\n",
              "      <td>skype error skype error owlgqjme qhcozdfx</td>\n",
              "    </tr>\n",
              "  </tbody>\n",
              "</table>\n",
              "</div>"
            ],
            "text/plain": [
              "   Unnamed: 0  ...                        combined_description_caller\n",
              "0           0  ...  login issue -verified user details.(employee# ...\n",
              "1           1  ...  outlook _x000D_\\n_x000D_\\nreceived from: hmjdr...\n",
              "2           2  ...  cant log in to vpn _x000D_\\n_x000D_\\nreceived ...\n",
              "3           3  ...  unable to access hr_tool page unable to access...\n",
              "4           4  ...          skype error skype error owlgqjme qhcozdfx\n",
              "\n",
              "[5 rows x 7 columns]"
            ]
          },
          "metadata": {},
          "execution_count": 26
        }
      ]
    }
  ]
}