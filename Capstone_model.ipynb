{
  "nbformat": 4,
  "nbformat_minor": 0,
  "metadata": {
    "colab": {
      "name": "Capstone model.ipynb",
      "provenance": [],
      "collapsed_sections": [],
      "mount_file_id": "1c1XqPZBhdY7bDIpswFYuyMmlrx8hgJuH",
      "authorship_tag": "ABX9TyPsDEJ5jNKCXtbYUs0zujFQ",
      "include_colab_link": true
    },
    "kernelspec": {
      "name": "python3",
      "display_name": "Python 3"
    },
    "language_info": {
      "name": "python"
    }
  },
  "cells": [
    {
      "cell_type": "markdown",
      "metadata": {
        "id": "view-in-github",
        "colab_type": "text"
      },
      "source": [
        "<a href=\"https://colab.research.google.com/github/pbhuch/GL_DecA_G4_NLP1/blob/NLP1_PM/Capstone_model.ipynb\" target=\"_parent\"><img src=\"https://colab.research.google.com/assets/colab-badge.svg\" alt=\"Open In Colab\"/></a>"
      ]
    },
    {
      "cell_type": "markdown",
      "metadata": {
        "id": "iivbby1fO1TJ"
      },
      "source": [
        "**Project Modelling part**"
      ]
    },
    {
      "cell_type": "code",
      "metadata": {
        "id": "py1kCQQuO_Kd"
      },
      "source": [
        ""
      ],
      "execution_count": null,
      "outputs": []
    },
    {
      "cell_type": "code",
      "metadata": {
        "colab": {
          "base_uri": "https://localhost:8080/"
        },
        "id": "OGopcBgLPLXf",
        "outputId": "5001bd8c-540b-4bc8-c5a3-682f9de336fe"
      },
      "source": [
        "from google.colab import drive\n",
        "drive.mount('/content/drive')"
      ],
      "execution_count": 3,
      "outputs": [
        {
          "output_type": "stream",
          "name": "stdout",
          "text": [
            "Drive already mounted at /content/drive; to attempt to forcibly remount, call drive.mount(\"/content/drive\", force_remount=True).\n"
          ]
        }
      ]
    },
    {
      "cell_type": "code",
      "metadata": {
        "colab": {
          "base_uri": "https://localhost:8080/"
        },
        "id": "Pze_BiXjQYtO",
        "outputId": "ad16c371-d286-4416-8871-3e99ea2e6624"
      },
      "source": [
        "!pip install ftfy"
      ],
      "execution_count": 4,
      "outputs": [
        {
          "output_type": "stream",
          "name": "stdout",
          "text": [
            "Collecting ftfy\n",
            "  Downloading ftfy-6.0.3.tar.gz (64 kB)\n",
            "\u001b[?25l\r\u001b[K     |█████                           | 10 kB 25.3 MB/s eta 0:00:01\r\u001b[K     |██████████▏                     | 20 kB 27.8 MB/s eta 0:00:01\r\u001b[K     |███████████████▎                | 30 kB 31.8 MB/s eta 0:00:01\r\u001b[K     |████████████████████▍           | 40 kB 29.5 MB/s eta 0:00:01\r\u001b[K     |█████████████████████████▌      | 51 kB 28.3 MB/s eta 0:00:01\r\u001b[K     |██████████████████████████████▋ | 61 kB 28.8 MB/s eta 0:00:01\r\u001b[K     |████████████████████████████████| 64 kB 2.8 MB/s \n",
            "\u001b[?25hRequirement already satisfied: wcwidth in /usr/local/lib/python3.7/dist-packages (from ftfy) (0.2.5)\n",
            "Building wheels for collected packages: ftfy\n",
            "  Building wheel for ftfy (setup.py) ... \u001b[?25l\u001b[?25hdone\n",
            "  Created wheel for ftfy: filename=ftfy-6.0.3-py3-none-any.whl size=41933 sha256=017a6a885f6b84e55aeed51b080d36e37e379b5df9b545db55891d64c50ef091\n",
            "  Stored in directory: /root/.cache/pip/wheels/19/f5/38/273eb3b5e76dfd850619312f693716ac4518b498f5ffb6f56d\n",
            "Successfully built ftfy\n",
            "Installing collected packages: ftfy\n",
            "Successfully installed ftfy-6.0.3\n"
          ]
        }
      ]
    },
    {
      "cell_type": "code",
      "metadata": {
        "id": "eKsQtDHtQMHh"
      },
      "source": [
        "# importing libraries\n",
        "from time import time\n",
        "from PIL import Image\n",
        "from zipfile import ZipFile\n",
        "import os, sys, itertools, re\n",
        "import tensorflow as tf\n",
        "import pandas as pd\n",
        "import numpy as np\n",
        "import seaborn as sns\n",
        "import matplotlib.pyplot as plt\n",
        "%matplotlib inline\n",
        "from sklearn.model_selection import train_test_split\n",
        "import plotly as py\n",
        "import plotly.graph_objs as go\n",
        "import plotly.express as px\n",
        "from plotly.offline import init_notebook_mode, iplot, plot\n",
        "from sklearn.preprocessing import QuantileTransformer\n",
        "from sklearn.ensemble import RandomForestClassifier\n",
        "from sklearn.ensemble import VotingClassifier\n",
        "from sklearn.ensemble import BaggingClassifier\n",
        "from sklearn.tree import DecisionTreeClassifier\n",
        "from sklearn.metrics import accuracy_score,f1_score,recall_score,precision_score, confusion_matrix, classification_report\n",
        "import sklearn.neighbors._base\n",
        "#import sys\n",
        "#sys.modules['sklearn.neighbors.base'] = sklearn.neighbors._base\n",
        "import imblearn\n",
        "from imblearn.over_sampling import SMOTE\n",
        "\n",
        "from tensorflow.keras.utils import to_categorical\n",
        "from tensorflow.keras.models import Model, Sequential\n",
        "from tensorflow.keras.initializers import Constant\n",
        "from tensorflow.keras.layers import Flatten, Dense, Dropout, BatchNormalization, Activation, Conv2D, MaxPooling2D, Reshape, Embedding, LSTM,  TimeDistributed, Bidirectional, Lambda, Input, Add, GlobalMaxPool1D\n",
        "from tensorflow.keras import regularizers, optimizers\n",
        "from sklearn.metrics import r2_score\n",
        "from tensorflow.keras.models import load_model\n",
        "from tensorflow import keras\n",
        "from tensorflow.keras.optimizers import Adam\n",
        "from tensorflow.keras.wrappers.scikit_learn import KerasClassifier, KerasRegressor\n",
        "#import cv2\n",
        "from tensorflow.keras.applications.mobilenet import preprocess_input\n",
        "from tensorflow.keras.callbacks import ModelCheckpoint, EarlyStopping, ReduceLROnPlateau\n",
        "\n",
        "# to define loss\n",
        "from tensorflow.keras.losses import binary_crossentropy\n",
        "from tensorflow.keras.backend import log, epsilon\n",
        "\n",
        "from tensorflow.keras.preprocessing.sequence import pad_sequences\n",
        "from tensorflow.keras.preprocessing.text import Tokenizer\n",
        "from tensorflow.keras.preprocessing import sequence\n",
        "from tensorflow.keras.datasets import imdb\n",
        "\n",
        "from itertools import islice\n",
        "\n",
        "import re\n",
        "import nltk\n",
        "from nltk.corpus import stopwords\n",
        "\n",
        "from ftfy import fix_encoding, fix_text, badness\n",
        "from wordcloud import WordCloud, STOPWORDS, ImageColorGenerator\n",
        "\n",
        "from sklearn.utils import resample\n",
        "\n",
        "import pickle, string\n",
        "\n",
        "import cufflinks as cf\n",
        "cf.go_offline()\n",
        "cf.set_config_file(offline=False, world_readable=True)\n",
        "\n",
        "import plotly as py\n",
        "import plotly.graph_objs as go\n",
        "from plotly.offline import download_plotlyjs,init_notebook_mode,plot,iplot\n",
        "\n",
        "import spacy\n",
        "\n",
        "# Suppress warnings\n",
        "import warnings; warnings.filterwarnings('ignore')\n",
        "\n",
        "SEED = 123                 # to be able to rerun the same NN\n",
        "np.random.seed(SEED)\n",
        "tf.random.set_seed(SEED)\n",
        "\n",
        "from IPython.display import display\n",
        "pd.options.display.max_columns = None\n",
        "pd.options.display.max_rows = None"
      ],
      "execution_count": null,
      "outputs": []
    },
    {
      "cell_type": "code",
      "metadata": {
        "id": "rNLrZ-uBQmmE"
      },
      "source": [
        "import os; \n",
        "os.chdir('/content/drive/MyDrive/Great_Learning/Capstone')"
      ],
      "execution_count": 6,
      "outputs": []
    },
    {
      "cell_type": "code",
      "metadata": {
        "id": "P8FJjSgiQ7cy"
      },
      "source": [
        "dataset = pd.read_csv(\"dataset1_mojibaked_LangDetect_NewColumnAdded.csv\", encoding = 'utf-8')"
      ],
      "execution_count": 7,
      "outputs": []
    },
    {
      "cell_type": "code",
      "metadata": {
        "colab": {
          "base_uri": "https://localhost:8080/",
          "height": 377
        },
        "id": "2A05TIkfRNfA",
        "outputId": "c136c78a-8245-4b80-ab7c-560f72561edd"
      },
      "source": [
        "dataset.head()"
      ],
      "execution_count": 8,
      "outputs": [
        {
          "output_type": "execute_result",
          "data": {
            "text/html": [
              "<div>\n",
              "<style scoped>\n",
              "    .dataframe tbody tr th:only-of-type {\n",
              "        vertical-align: middle;\n",
              "    }\n",
              "\n",
              "    .dataframe tbody tr th {\n",
              "        vertical-align: top;\n",
              "    }\n",
              "\n",
              "    .dataframe thead th {\n",
              "        text-align: right;\n",
              "    }\n",
              "</style>\n",
              "<table border=\"1\" class=\"dataframe\">\n",
              "  <thead>\n",
              "    <tr style=\"text-align: right;\">\n",
              "      <th></th>\n",
              "      <th>Unnamed: 0</th>\n",
              "      <th>Short description</th>\n",
              "      <th>Description</th>\n",
              "      <th>Caller</th>\n",
              "      <th>Assignment group</th>\n",
              "      <th>combined_description_caller</th>\n",
              "      <th>combined_description</th>\n",
              "      <th>ConvertedToEnglish</th>\n",
              "      <th>Language</th>\n",
              "    </tr>\n",
              "  </thead>\n",
              "  <tbody>\n",
              "    <tr>\n",
              "      <th>0</th>\n",
              "      <td>0</td>\n",
              "      <td>login issue</td>\n",
              "      <td>verified user detailsemployee manager name che...</td>\n",
              "      <td>spxjnwir pjlcoqds</td>\n",
              "      <td>GRP_0</td>\n",
              "      <td>login issue verified user detailsemployee mana...</td>\n",
              "      <td>login issue verified user detailsemployee mana...</td>\n",
              "      <td>NaN</td>\n",
              "      <td>en</td>\n",
              "    </tr>\n",
              "    <tr>\n",
              "      <th>1</th>\n",
              "      <td>1</td>\n",
              "      <td>outlook</td>\n",
              "      <td>received from hmjdrvpb.komuaywn@gmail.com\\n he...</td>\n",
              "      <td>hmjdrvpb komuaywn</td>\n",
              "      <td>GRP_0</td>\n",
              "      <td>outlook received from hmjdrvpb.komuaywn@gmail....</td>\n",
              "      <td>outlook received from hmjdrvpb.komuaywn@gmail....</td>\n",
              "      <td>NaN</td>\n",
              "      <td>en</td>\n",
              "    </tr>\n",
              "    <tr>\n",
              "      <th>2</th>\n",
              "      <td>2</td>\n",
              "      <td>cant log in to vpn</td>\n",
              "      <td>received from eylqgodm.ybqkwiam@gmail.com\\n hi...</td>\n",
              "      <td>eylqgodm ybqkwiam</td>\n",
              "      <td>GRP_0</td>\n",
              "      <td>cant log in to vpn received from eylqgodm.ybqk...</td>\n",
              "      <td>cant log in to vpn received from eylqgodm.ybqk...</td>\n",
              "      <td>NaN</td>\n",
              "      <td>en</td>\n",
              "    </tr>\n",
              "    <tr>\n",
              "      <th>3</th>\n",
              "      <td>3</td>\n",
              "      <td>unable to access hrtool page</td>\n",
              "      <td>unable to access hrtool page</td>\n",
              "      <td>xbkucsvz gcpydteq</td>\n",
              "      <td>GRP_0</td>\n",
              "      <td>unable to access hrtool page unable to access ...</td>\n",
              "      <td>unable to access hrtool page unable to access ...</td>\n",
              "      <td>NaN</td>\n",
              "      <td>en</td>\n",
              "    </tr>\n",
              "    <tr>\n",
              "      <th>4</th>\n",
              "      <td>4</td>\n",
              "      <td>skype error</td>\n",
              "      <td>skype error</td>\n",
              "      <td>owlgqjme qhcozdfx</td>\n",
              "      <td>GRP_0</td>\n",
              "      <td>skype error skype error owlgqjme qhcozdfx</td>\n",
              "      <td>skype error skype error</td>\n",
              "      <td>NaN</td>\n",
              "      <td>no</td>\n",
              "    </tr>\n",
              "  </tbody>\n",
              "</table>\n",
              "</div>"
            ],
            "text/plain": [
              "   Unnamed: 0             Short description  \\\n",
              "0           0                   login issue   \n",
              "1           1                       outlook   \n",
              "2           2            cant log in to vpn   \n",
              "3           3  unable to access hrtool page   \n",
              "4           4                   skype error   \n",
              "\n",
              "                                         Description             Caller  \\\n",
              "0  verified user detailsemployee manager name che...  spxjnwir pjlcoqds   \n",
              "1  received from hmjdrvpb.komuaywn@gmail.com\\n he...  hmjdrvpb komuaywn   \n",
              "2  received from eylqgodm.ybqkwiam@gmail.com\\n hi...  eylqgodm ybqkwiam   \n",
              "3                       unable to access hrtool page  xbkucsvz gcpydteq   \n",
              "4                                        skype error  owlgqjme qhcozdfx   \n",
              "\n",
              "  Assignment group                        combined_description_caller  \\\n",
              "0            GRP_0  login issue verified user detailsemployee mana...   \n",
              "1            GRP_0  outlook received from hmjdrvpb.komuaywn@gmail....   \n",
              "2            GRP_0  cant log in to vpn received from eylqgodm.ybqk...   \n",
              "3            GRP_0  unable to access hrtool page unable to access ...   \n",
              "4            GRP_0          skype error skype error owlgqjme qhcozdfx   \n",
              "\n",
              "                                combined_description  ConvertedToEnglish  \\\n",
              "0  login issue verified user detailsemployee mana...                 NaN   \n",
              "1  outlook received from hmjdrvpb.komuaywn@gmail....                 NaN   \n",
              "2  cant log in to vpn received from eylqgodm.ybqk...                 NaN   \n",
              "3  unable to access hrtool page unable to access ...                 NaN   \n",
              "4                            skype error skype error                 NaN   \n",
              "\n",
              "  Language  \n",
              "0       en  \n",
              "1       en  \n",
              "2       en  \n",
              "3       en  \n",
              "4       no  "
            ]
          },
          "metadata": {},
          "execution_count": 8
        }
      ]
    },
    {
      "cell_type": "code",
      "metadata": {
        "colab": {
          "base_uri": "https://localhost:8080/"
        },
        "id": "e3WmSOoRRUXO",
        "outputId": "cf9203fe-52b7-4c01-bb2f-bdc458516219"
      },
      "source": [
        "dataset.info()"
      ],
      "execution_count": 9,
      "outputs": [
        {
          "output_type": "stream",
          "name": "stdout",
          "text": [
            "<class 'pandas.core.frame.DataFrame'>\n",
            "RangeIndex: 8417 entries, 0 to 8416\n",
            "Data columns (total 9 columns):\n",
            " #   Column                       Non-Null Count  Dtype  \n",
            "---  ------                       --------------  -----  \n",
            " 0   Unnamed: 0                   8417 non-null   int64  \n",
            " 1   Short description            8408 non-null   object \n",
            " 2   Description                  8413 non-null   object \n",
            " 3   Caller                       8417 non-null   object \n",
            " 4   Assignment group             8417 non-null   object \n",
            " 5   combined_description_caller  8417 non-null   object \n",
            " 6   combined_description         8417 non-null   object \n",
            " 7   ConvertedToEnglish           0 non-null      float64\n",
            " 8   Language                     8417 non-null   object \n",
            "dtypes: float64(1), int64(1), object(7)\n",
            "memory usage: 591.9+ KB\n"
          ]
        }
      ]
    },
    {
      "cell_type": "code",
      "metadata": {
        "colab": {
          "base_uri": "https://localhost:8080/"
        },
        "id": "3pecNdzjRcDr",
        "outputId": "663e903c-f27c-4cc8-bfa1-1944bdea71db"
      },
      "source": [
        "dataset['Assignment group'].value_counts()\n"
      ],
      "execution_count": 13,
      "outputs": [
        {
          "output_type": "execute_result",
          "data": {
            "text/plain": [
              "GRP_0     3934\n",
              "GRP_8      645\n",
              "GRP_24     285\n",
              "GRP_12     257\n",
              "GRP_9      252\n",
              "GRP_2      241\n",
              "GRP_19     215\n",
              "GRP_3      200\n",
              "GRP_6      183\n",
              "GRP_13     145\n",
              "GRP_10     140\n",
              "GRP_5      128\n",
              "GRP_14     118\n",
              "GRP_25     116\n",
              "GRP_33     107\n",
              "GRP_4      100\n",
              "GRP_29      97\n",
              "GRP_18      88\n",
              "GRP_16      85\n",
              "GRP_31      69\n",
              "GRP_7       68\n",
              "GRP_17      68\n",
              "GRP_34      62\n",
              "GRP_26      56\n",
              "GRP_40      45\n",
              "GRP_28      44\n",
              "GRP_41      40\n",
              "GRP_30      39\n",
              "GRP_15      38\n",
              "GRP_42      37\n",
              "GRP_20      36\n",
              "GRP_45      35\n",
              "GRP_1       31\n",
              "GRP_22      31\n",
              "GRP_11      30\n",
              "GRP_21      28\n",
              "GRP_47      27\n",
              "GRP_23      25\n",
              "GRP_48      25\n",
              "GRP_62      25\n",
              "GRP_39      19\n",
              "GRP_27      18\n",
              "GRP_60      16\n",
              "GRP_37      16\n",
              "GRP_36      15\n",
              "GRP_44      15\n",
              "GRP_50      14\n",
              "GRP_53      11\n",
              "GRP_65      11\n",
              "GRP_52       9\n",
              "GRP_51       8\n",
              "GRP_55       8\n",
              "GRP_59       6\n",
              "GRP_46       6\n",
              "GRP_49       6\n",
              "GRP_43       5\n",
              "GRP_66       4\n",
              "GRP_32       4\n",
              "GRP_56       3\n",
              "GRP_38       3\n",
              "GRP_63       3\n",
              "GRP_58       3\n",
              "GRP_68       3\n",
              "GRP_57       2\n",
              "GRP_71       2\n",
              "GRP_54       2\n",
              "GRP_72       2\n",
              "GRP_69       2\n",
              "GRP_70       1\n",
              "GRP_73       1\n",
              "GRP_67       1\n",
              "GRP_35       1\n",
              "GRP_61       1\n",
              "GRP_64       1\n",
              "Name: Assignment group, dtype: int64"
            ]
          },
          "metadata": {},
          "execution_count": 13
        }
      ]
    },
    {
      "cell_type": "code",
      "metadata": {
        "colab": {
          "base_uri": "https://localhost:8080/"
        },
        "id": "_f2BoP45SLeG",
        "outputId": "776f9717-3bfe-4747-dd0f-45c9fa1e8222"
      },
      "source": [
        "dataset['Language'].value_counts()"
      ],
      "execution_count": 14,
      "outputs": [
        {
          "output_type": "execute_result",
          "data": {
            "text/plain": [
              "en       7010\n",
              "de        415\n",
              "af        271\n",
              "it        121\n",
              "fr        105\n",
              "no         71\n",
              "nl         68\n",
              "sv         53\n",
              "zh-cn      49\n",
              "es         47\n",
              "ca         39\n",
              "pl         27\n",
              "da         25\n",
              "ko         17\n",
              "pt         17\n",
              "tl         11\n",
              "cy         11\n",
              "et         10\n",
              "ro         10\n",
              "sq          8\n",
              "hr          6\n",
              "sl          6\n",
              "fi          5\n",
              "vi          3\n",
              "id          3\n",
              "lt          2\n",
              "so          2\n",
              "cs          2\n",
              "ja          1\n",
              "tr          1\n",
              "hu          1\n",
              "Name: Language, dtype: int64"
            ]
          },
          "metadata": {},
          "execution_count": 14
        }
      ]
    },
    {
      "cell_type": "code",
      "metadata": {
        "id": "BEviHD8HSSUG"
      },
      "source": [
        "data_eng = dataset[dataset['Language']=='en']"
      ],
      "execution_count": 15,
      "outputs": []
    },
    {
      "cell_type": "code",
      "metadata": {
        "colab": {
          "base_uri": "https://localhost:8080/",
          "height": 428
        },
        "id": "25xQyX4_TFlE",
        "outputId": "3f62b8b6-3314-46b7-aaef-ba24936944e7"
      },
      "source": [
        "data_eng.head()"
      ],
      "execution_count": 16,
      "outputs": [
        {
          "output_type": "execute_result",
          "data": {
            "text/html": [
              "<div>\n",
              "<style scoped>\n",
              "    .dataframe tbody tr th:only-of-type {\n",
              "        vertical-align: middle;\n",
              "    }\n",
              "\n",
              "    .dataframe tbody tr th {\n",
              "        vertical-align: top;\n",
              "    }\n",
              "\n",
              "    .dataframe thead th {\n",
              "        text-align: right;\n",
              "    }\n",
              "</style>\n",
              "<table border=\"1\" class=\"dataframe\">\n",
              "  <thead>\n",
              "    <tr style=\"text-align: right;\">\n",
              "      <th></th>\n",
              "      <th>Unnamed: 0</th>\n",
              "      <th>Short description</th>\n",
              "      <th>Description</th>\n",
              "      <th>Caller</th>\n",
              "      <th>Assignment group</th>\n",
              "      <th>combined_description_caller</th>\n",
              "      <th>combined_description</th>\n",
              "      <th>ConvertedToEnglish</th>\n",
              "      <th>Language</th>\n",
              "    </tr>\n",
              "  </thead>\n",
              "  <tbody>\n",
              "    <tr>\n",
              "      <th>0</th>\n",
              "      <td>0</td>\n",
              "      <td>login issue</td>\n",
              "      <td>verified user detailsemployee manager name che...</td>\n",
              "      <td>spxjnwir pjlcoqds</td>\n",
              "      <td>GRP_0</td>\n",
              "      <td>login issue verified user detailsemployee mana...</td>\n",
              "      <td>login issue verified user detailsemployee mana...</td>\n",
              "      <td>NaN</td>\n",
              "      <td>en</td>\n",
              "    </tr>\n",
              "    <tr>\n",
              "      <th>1</th>\n",
              "      <td>1</td>\n",
              "      <td>outlook</td>\n",
              "      <td>received from hmjdrvpb.komuaywn@gmail.com\\n he...</td>\n",
              "      <td>hmjdrvpb komuaywn</td>\n",
              "      <td>GRP_0</td>\n",
              "      <td>outlook received from hmjdrvpb.komuaywn@gmail....</td>\n",
              "      <td>outlook received from hmjdrvpb.komuaywn@gmail....</td>\n",
              "      <td>NaN</td>\n",
              "      <td>en</td>\n",
              "    </tr>\n",
              "    <tr>\n",
              "      <th>2</th>\n",
              "      <td>2</td>\n",
              "      <td>cant log in to vpn</td>\n",
              "      <td>received from eylqgodm.ybqkwiam@gmail.com\\n hi...</td>\n",
              "      <td>eylqgodm ybqkwiam</td>\n",
              "      <td>GRP_0</td>\n",
              "      <td>cant log in to vpn received from eylqgodm.ybqk...</td>\n",
              "      <td>cant log in to vpn received from eylqgodm.ybqk...</td>\n",
              "      <td>NaN</td>\n",
              "      <td>en</td>\n",
              "    </tr>\n",
              "    <tr>\n",
              "      <th>3</th>\n",
              "      <td>3</td>\n",
              "      <td>unable to access hrtool page</td>\n",
              "      <td>unable to access hrtool page</td>\n",
              "      <td>xbkucsvz gcpydteq</td>\n",
              "      <td>GRP_0</td>\n",
              "      <td>unable to access hrtool page unable to access ...</td>\n",
              "      <td>unable to access hrtool page unable to access ...</td>\n",
              "      <td>NaN</td>\n",
              "      <td>en</td>\n",
              "    </tr>\n",
              "    <tr>\n",
              "      <th>5</th>\n",
              "      <td>5</td>\n",
              "      <td>unable to log in to engineering tool and skype</td>\n",
              "      <td>unable to log in to engineering tool and skype</td>\n",
              "      <td>eflahbxn ltdgrvkz</td>\n",
              "      <td>GRP_0</td>\n",
              "      <td>unable to log in to engineering tool and skype...</td>\n",
              "      <td>unable to log in to engineering tool and skype...</td>\n",
              "      <td>NaN</td>\n",
              "      <td>en</td>\n",
              "    </tr>\n",
              "  </tbody>\n",
              "</table>\n",
              "</div>"
            ],
            "text/plain": [
              "   Unnamed: 0                               Short description  \\\n",
              "0           0                                     login issue   \n",
              "1           1                                         outlook   \n",
              "2           2                              cant log in to vpn   \n",
              "3           3                    unable to access hrtool page   \n",
              "5           5  unable to log in to engineering tool and skype   \n",
              "\n",
              "                                         Description             Caller  \\\n",
              "0  verified user detailsemployee manager name che...  spxjnwir pjlcoqds   \n",
              "1  received from hmjdrvpb.komuaywn@gmail.com\\n he...  hmjdrvpb komuaywn   \n",
              "2  received from eylqgodm.ybqkwiam@gmail.com\\n hi...  eylqgodm ybqkwiam   \n",
              "3                       unable to access hrtool page  xbkucsvz gcpydteq   \n",
              "5     unable to log in to engineering tool and skype  eflahbxn ltdgrvkz   \n",
              "\n",
              "  Assignment group                        combined_description_caller  \\\n",
              "0            GRP_0  login issue verified user detailsemployee mana...   \n",
              "1            GRP_0  outlook received from hmjdrvpb.komuaywn@gmail....   \n",
              "2            GRP_0  cant log in to vpn received from eylqgodm.ybqk...   \n",
              "3            GRP_0  unable to access hrtool page unable to access ...   \n",
              "5            GRP_0  unable to log in to engineering tool and skype...   \n",
              "\n",
              "                                combined_description  ConvertedToEnglish  \\\n",
              "0  login issue verified user detailsemployee mana...                 NaN   \n",
              "1  outlook received from hmjdrvpb.komuaywn@gmail....                 NaN   \n",
              "2  cant log in to vpn received from eylqgodm.ybqk...                 NaN   \n",
              "3  unable to access hrtool page unable to access ...                 NaN   \n",
              "5  unable to log in to engineering tool and skype...                 NaN   \n",
              "\n",
              "  Language  \n",
              "0       en  \n",
              "1       en  \n",
              "2       en  \n",
              "3       en  \n",
              "5       en  "
            ]
          },
          "metadata": {},
          "execution_count": 16
        }
      ]
    },
    {
      "cell_type": "code",
      "metadata": {
        "colab": {
          "base_uri": "https://localhost:8080/"
        },
        "id": "rzKi5EYYUfbG",
        "outputId": "5aae0a33-a1ae-476e-c2b0-90aef44fcca5"
      },
      "source": [
        "# Create a target categorical column\n",
        "data_eng['target'] = data_eng['Assignment group'].astype('category').cat.codes\n",
        "data_eng.info()"
      ],
      "execution_count": 17,
      "outputs": [
        {
          "output_type": "stream",
          "name": "stdout",
          "text": [
            "<class 'pandas.core.frame.DataFrame'>\n",
            "Int64Index: 7010 entries, 0 to 8415\n",
            "Data columns (total 10 columns):\n",
            " #   Column                       Non-Null Count  Dtype  \n",
            "---  ------                       --------------  -----  \n",
            " 0   Unnamed: 0                   7010 non-null   int64  \n",
            " 1   Short description            7002 non-null   object \n",
            " 2   Description                  7006 non-null   object \n",
            " 3   Caller                       7010 non-null   object \n",
            " 4   Assignment group             7010 non-null   object \n",
            " 5   combined_description_caller  7010 non-null   object \n",
            " 6   combined_description         7010 non-null   object \n",
            " 7   ConvertedToEnglish           0 non-null      float64\n",
            " 8   Language                     7010 non-null   object \n",
            " 9   target                       7010 non-null   int8   \n",
            "dtypes: float64(1), int64(1), int8(1), object(7)\n",
            "memory usage: 554.5+ KB\n"
          ]
        }
      ]
    },
    {
      "cell_type": "code",
      "metadata": {
        "colab": {
          "base_uri": "https://localhost:8080/"
        },
        "id": "KZKxDxENUozq",
        "outputId": "31087b6c-395f-4f87-c3ce-0ac3cc1a939f"
      },
      "source": [
        "data_eng['target'].value_counts()"
      ],
      "execution_count": 18,
      "outputs": [
        {
          "output_type": "execute_result",
          "data": {
            "text/plain": [
              "0     3138\n",
              "72     642\n",
              "73     249\n",
              "12     235\n",
              "4      224\n",
              "11     199\n",
              "23     194\n",
              "56     180\n",
              "5      142\n",
              "2      134\n",
              "45     126\n",
              "6      115\n",
              "34     100\n",
              "18      97\n",
              "22      94\n",
              "10      87\n",
              "8       83\n",
              "67      68\n",
              "9       65\n",
              "17      59\n",
              "19      53\n",
              "28      47\n",
              "35      42\n",
              "36      40\n",
              "7       36\n",
              "40      34\n",
              "13      34\n",
              "21      34\n",
              "25      33\n",
              "15      31\n",
              "3       29\n",
              "1       29\n",
              "14      28\n",
              "27      28\n",
              "42      27\n",
              "16      24\n",
              "33      19\n",
              "57      16\n",
              "31      16\n",
              "20      16\n",
              "39      14\n",
              "46      13\n",
              "30      13\n",
              "62      11\n",
              "49      11\n",
              "59      10\n",
              "48       8\n",
              "51       8\n",
              "24       8\n",
              "47       8\n",
              "38       5\n",
              "55       5\n",
              "37       4\n",
              "63       4\n",
              "41       4\n",
              "60       3\n",
              "44       3\n",
              "65       3\n",
              "32       3\n",
              "54       3\n",
              "52       3\n",
              "69       2\n",
              "53       2\n",
              "26       2\n",
              "50       2\n",
              "66       2\n",
              "43       2\n",
              "64       1\n",
              "68       1\n",
              "29       1\n",
              "61       1\n",
              "58       1\n",
              "70       1\n",
              "71       1\n",
              "Name: target, dtype: int64"
            ]
          },
          "metadata": {},
          "execution_count": 18
        }
      ]
    },
    {
      "cell_type": "code",
      "metadata": {
        "id": "Omh6fJS0eLkB"
      },
      "source": [
        "# A class that logs the time\n",
        "class Timer():\n",
        "    '''\n",
        "    A generic class to log the time\n",
        "    '''\n",
        "    def __init__(self):\n",
        "        self.start_time = None\n",
        "    def start(self):\n",
        "        self.start_time = time()\n",
        "    def stop(self):\n",
        "        return 'Time taken: %2fs' % (time()-self.start_time)\n",
        "    \n",
        "timer = Timer()\n",
        "\n",
        "# A method that plots the Precision-Recall curve\n",
        "def plot_prec_recall_vs_thresh(precisions, recalls, thresholds):\n",
        "    plt.figure(figsize=(15,10))\n",
        "    plt.plot(thresholds, precisions[:-1], 'b--', label='precision')\n",
        "    plt.plot(thresholds, recalls[:-1], 'g--', label = 'recall')\n",
        "    plt.xlabel('Threshold')\n",
        "    plt.legend()\n",
        "\n",
        "    \n",
        "\n",
        "\n",
        "\n",
        "# A method to train and test the model\n",
        "def run_ML(estimator, X_train, X_test, y_train, y_test, arch_name=None, pipelineRequired=True, DeepLearning=False):\n",
        "    timer.start()\n",
        "    # train the model\n",
        "    clf = estimator\n",
        "\n",
        "    if pipelineRequired :\n",
        "        clf = Pipeline([('vect', CountVectorizer()),\n",
        "                     ('tfidf', TfidfTransformer()),\n",
        "                     ('clf', estimator),\n",
        "                     ])\n",
        "      \n",
        "    if DeepLearning:\n",
        "        clf.fit(X_train, y_train, validation_data=(X_test, y_test),epochs=10, batch_size=128,verbose=1,callbacks=call_backs(arch_name))\n",
        "        # predict from the claffier\n",
        "        y_pred = clf.predict(X_test)\n",
        "        y_pred = np.argmax(y_pred, axis=1)\n",
        "        y_train_pred = clf.predict(X_train) # predict target for train\n",
        "        y_train_pred = np.argmax(y_train_pred, axis=1)\n",
        "    else :\n",
        "        clf.fit(X_train, y_train)\n",
        "        y_pred = clf.predict(X_test) # predict target for test\n",
        "        y_train_pred = clf.predict(X_train)\n",
        "    \n",
        "    print('Estimator:', clf)\n",
        "    print('='*80)\n",
        "    print('Training accuracy: %.2f%%' % (accuracy_score(y_train,y_train_pred) * 100))\n",
        "    print('Testing accuracy: %.2f%%' % (accuracy_score(y_test, y_pred) * 100))\n",
        "    print('='*80)\n",
        "    print('Confusion matrix:\\n %s' % (confusion_matrix(y_test, y_pred)))\n",
        "    print('='*80)\n",
        "    print('Classification report:\\n %s' % (classification_report(y_test, y_pred)))\n",
        "    print(timer.stop(), 'to run the model')\n",
        "\n"
      ],
      "execution_count": 24,
      "outputs": []
    },
    {
      "cell_type": "code",
      "metadata": {
        "colab": {
          "base_uri": "https://localhost:8080/"
        },
        "id": "2sYu8iIzdcmk",
        "outputId": "cfdec9c3-9472-42cf-f32d-b5a1e26b4acd"
      },
      "source": [
        "# Create training and test datasets with 80:20 ratio\n",
        "X_train, X_test, y_train, y_test = train_test_split(data_eng.combined_description, \n",
        "                                                    data_eng.target, \n",
        "                                                    test_size=0.20, \n",
        "                                                    random_state=42)\n",
        "print('\\033[1mShape of the training set:\\033[0m', X_train.shape, X_test.shape)\n",
        "print('\\033[1mShape of the test set:\\033[0m', y_train.shape, y_test.shape)"
      ],
      "execution_count": 25,
      "outputs": [
        {
          "output_type": "stream",
          "name": "stdout",
          "text": [
            "\u001b[1mShape of the training set:\u001b[0m (5608,) (1402,)\n",
            "\u001b[1mShape of the test set:\u001b[0m (5608,) (1402,)\n"
          ]
        }
      ]
    },
    {
      "cell_type": "code",
      "metadata": {
        "id": "5KXTNnhheEZ-"
      },
      "source": [
        "# ML Modeling\n",
        "from sklearn.naive_bayes import MultinomialNB\n",
        "from sklearn.neighbors import KNeighborsClassifier\n",
        "from sklearn.pipeline import Pipeline\n",
        "from sklearn.feature_extraction.text import CountVectorizer, TfidfVectorizer, TfidfTransformer\n",
        "from sklearn.svm import SVC, LinearSVC\n",
        "from sklearn.tree import DecisionTreeClassifier\n",
        "from sklearn.ensemble import RandomForestClassifier"
      ],
      "execution_count": 26,
      "outputs": []
    },
    {
      "cell_type": "markdown",
      "metadata": {
        "id": "w87_jIcid0Z9"
      },
      "source": [
        "**Naive Bayes Classifier**"
      ]
    },
    {
      "cell_type": "code",
      "metadata": {
        "colab": {
          "base_uri": "https://localhost:8080/"
        },
        "id": "tVPsRpppdqb2",
        "outputId": "a3e16e57-e72b-4a6f-bef2-4bb0f8e5508c"
      },
      "source": [
        "run_ML(MultinomialNB(), X_train, X_test, y_train, y_test)\n"
      ],
      "execution_count": 27,
      "outputs": [
        {
          "output_type": "stream",
          "name": "stdout",
          "text": [
            "Estimator: Pipeline(steps=[('vect', CountVectorizer()), ('tfidf', TfidfTransformer()),\n",
            "                ('clf', MultinomialNB())])\n",
            "================================================================================\n",
            "Training accuracy: 54.21%\n",
            "Testing accuracy: 53.92%\n",
            "================================================================================\n",
            "Confusion matrix:\n",
            " [[629   0   0 ...   0   0   0]\n",
            " [  3   0   0 ...   0   2   0]\n",
            " [ 21   0   0 ...   0  15   0]\n",
            " ...\n",
            " [  1   0   0 ...   0   0   0]\n",
            " [ 10   0   0 ...   0 123   0]\n",
            " [ 16   0   0 ...   0  32   0]]\n",
            "================================================================================\n",
            "Classification report:\n",
            "               precision    recall  f1-score   support\n",
            "\n",
            "           0       0.55      1.00      0.71       629\n",
            "           1       0.00      0.00      0.00         8\n",
            "           2       0.00      0.00      0.00        36\n",
            "           3       0.00      0.00      0.00         6\n",
            "           4       0.33      0.10      0.15        41\n",
            "           5       0.00      0.00      0.00        21\n",
            "           6       0.00      0.00      0.00        28\n",
            "           7       0.00      0.00      0.00        11\n",
            "           8       0.00      0.00      0.00        13\n",
            "           9       0.00      0.00      0.00        16\n",
            "          10       0.00      0.00      0.00        15\n",
            "          11       0.00      0.00      0.00        36\n",
            "          12       0.00      0.00      0.00        48\n",
            "          13       0.00      0.00      0.00        10\n",
            "          14       0.00      0.00      0.00         5\n",
            "          15       0.00      0.00      0.00         7\n",
            "          16       0.00      0.00      0.00         2\n",
            "          17       0.00      0.00      0.00         9\n",
            "          18       0.00      0.00      0.00        13\n",
            "          19       0.00      0.00      0.00         8\n",
            "          20       0.00      0.00      0.00         2\n",
            "          21       0.00      0.00      0.00         5\n",
            "          22       0.00      0.00      0.00        14\n",
            "          23       0.00      0.00      0.00        37\n",
            "          24       0.00      0.00      0.00         4\n",
            "          25       0.00      0.00      0.00         9\n",
            "          27       0.00      0.00      0.00         4\n",
            "          28       0.00      0.00      0.00         8\n",
            "          30       0.00      0.00      0.00         6\n",
            "          31       0.00      0.00      0.00         5\n",
            "          32       0.00      0.00      0.00         1\n",
            "          33       0.00      0.00      0.00         4\n",
            "          34       0.00      0.00      0.00        18\n",
            "          35       0.00      0.00      0.00        11\n",
            "          36       0.00      0.00      0.00        10\n",
            "          37       0.00      0.00      0.00         1\n",
            "          38       0.00      0.00      0.00         2\n",
            "          39       0.00      0.00      0.00         2\n",
            "          40       0.00      0.00      0.00        12\n",
            "          41       0.00      0.00      0.00         1\n",
            "          42       0.00      0.00      0.00         8\n",
            "          43       0.00      0.00      0.00         1\n",
            "          44       0.00      0.00      0.00         1\n",
            "          45       0.00      0.00      0.00        31\n",
            "          46       0.00      0.00      0.00         4\n",
            "          47       0.00      0.00      0.00         1\n",
            "          48       0.00      0.00      0.00         1\n",
            "          49       0.00      0.00      0.00         3\n",
            "          50       0.00      0.00      0.00         1\n",
            "          52       0.00      0.00      0.00         2\n",
            "          54       0.00      0.00      0.00         1\n",
            "          56       0.00      0.00      0.00        30\n",
            "          57       0.00      0.00      0.00         2\n",
            "          60       0.00      0.00      0.00         1\n",
            "          62       0.00      0.00      0.00         3\n",
            "          67       0.00      0.00      0.00        12\n",
            "          69       0.00      0.00      0.00         1\n",
            "          72       0.53      0.92      0.67       133\n",
            "          73       0.00      0.00      0.00        48\n",
            "\n",
            "    accuracy                           0.54      1402\n",
            "   macro avg       0.02      0.03      0.03      1402\n",
            "weighted avg       0.30      0.54      0.38      1402\n",
            "\n",
            "Time taken: 0.529229s to run the model\n"
          ]
        }
      ]
    },
    {
      "cell_type": "code",
      "metadata": {
        "colab": {
          "base_uri": "https://localhost:8080/"
        },
        "id": "QvvECKRRhPt0",
        "outputId": "a3ffafe1-70ea-49b3-b7d3-e704db3c8b16"
      },
      "source": [
        "run_ML(KNeighborsClassifier(), X_train, X_test, y_train, y_test)"
      ],
      "execution_count": null,
      "outputs": [
        {
          "output_type": "stream",
          "name": "stdout",
          "text": [
            "Estimator: Pipeline(steps=[('vect', CountVectorizer()), ('tfidf', TfidfTransformer()),\n",
            "                ('clf', KNeighborsClassifier())])\n",
            "================================================================================\n",
            "Training accuracy: 68.38%\n",
            "Testing accuracy: 63.12%\n",
            "================================================================================\n",
            "Confusion matrix:\n",
            " [[616   0   0 ...   0   1   1]\n",
            " [  1   0   0 ...   0   0   0]\n",
            " [ 13   0  15 ...   0   4   0]\n",
            " ...\n",
            " [  1   0   0 ...   0   0   0]\n",
            " [  5   0   1 ...   0 106   3]\n",
            " [ 11   0   0 ...   0  25   7]]\n",
            "================================================================================\n",
            "Classification report:\n",
            "               precision    recall  f1-score   support\n",
            "\n",
            "           0       0.64      0.98      0.77       629\n",
            "           1       0.00      0.00      0.00         8\n",
            "           2       0.83      0.42      0.56        36\n",
            "           3       1.00      0.33      0.50         6\n",
            "           4       0.42      0.32      0.36        41\n",
            "           5       0.43      0.14      0.21        21\n",
            "           6       0.60      0.43      0.50        28\n",
            "           7       0.50      0.09      0.15        11\n",
            "           8       0.00      0.00      0.00        13\n",
            "           9       1.00      0.81      0.90        16\n",
            "          10       0.60      0.40      0.48        15\n",
            "          11       0.50      0.17      0.25        36\n",
            "          12       0.79      0.31      0.45        48\n",
            "          13       0.00      0.00      0.00        10\n",
            "          14       0.00      0.00      0.00         5\n",
            "          15       1.00      0.14      0.25         7\n",
            "          16       0.33      0.50      0.40         2\n",
            "          17       0.75      0.67      0.71         9\n",
            "          18       1.00      0.15      0.27        13\n",
            "          19       0.00      0.00      0.00         8\n",
            "          20       0.00      0.00      0.00         2\n",
            "          21       0.00      0.00      0.00         5\n",
            "          22       0.86      0.43      0.57        14\n",
            "          23       0.43      0.16      0.24        37\n",
            "          24       1.00      0.25      0.40         4\n",
            "          25       0.75      0.33      0.46         9\n",
            "          27       0.00      0.00      0.00         4\n",
            "          28       0.67      0.25      0.36         8\n",
            "          30       0.00      0.00      0.00         6\n",
            "          31       0.00      0.00      0.00         5\n",
            "          32       0.00      0.00      0.00         1\n",
            "          33       0.00      0.00      0.00         4\n",
            "          34       0.22      0.11      0.15        18\n",
            "          35       0.00      0.00      0.00        11\n",
            "          36       1.00      0.20      0.33        10\n",
            "          37       0.00      0.00      0.00         1\n",
            "          38       0.00      0.00      0.00         2\n",
            "          39       0.50      0.50      0.50         2\n",
            "          40       0.00      0.00      0.00        12\n",
            "          41       0.00      0.00      0.00         1\n",
            "          42       0.00      0.00      0.00         8\n",
            "          43       0.00      0.00      0.00         1\n",
            "          44       0.00      0.00      0.00         1\n",
            "          45       0.62      0.42      0.50        31\n",
            "          46       0.00      0.00      0.00         4\n",
            "          47       0.00      0.00      0.00         1\n",
            "          48       0.00      0.00      0.00         1\n",
            "          49       0.00      0.00      0.00         3\n",
            "          50       0.00      0.00      0.00         1\n",
            "          52       0.00      0.00      0.00         2\n",
            "          54       1.00      1.00      1.00         1\n",
            "          56       0.53      0.60      0.56        30\n",
            "          57       0.00      0.00      0.00         2\n",
            "          60       0.00      0.00      0.00         1\n",
            "          62       0.00      0.00      0.00         3\n",
            "          67       1.00      0.42      0.59        12\n",
            "          69       0.00      0.00      0.00         1\n",
            "          72       0.62      0.80      0.70       133\n",
            "          73       0.50      0.15      0.23        48\n",
            "\n",
            "    accuracy                           0.63      1402\n",
            "   macro avg       0.34      0.19      0.23      1402\n",
            "weighted avg       0.58      0.63      0.56      1402\n",
            "\n",
            "Time taken: 2.322376s to run the model\n"
          ]
        }
      ]
    },
    {
      "cell_type": "code",
      "metadata": {
        "colab": {
          "base_uri": "https://localhost:8080/"
        },
        "id": "Y-VjxEx_i9w7",
        "outputId": "fe5b7c12-36ef-4244-c077-fbd4f313216a"
      },
      "source": [
        "# SVM with Linear kernel\n",
        "run_ML(LinearSVC(), X_train, X_test, y_train, y_test)"
      ],
      "execution_count": null,
      "outputs": [
        {
          "output_type": "stream",
          "name": "stdout",
          "text": [
            "Estimator: Pipeline(steps=[('vect', CountVectorizer()), ('tfidf', TfidfTransformer()),\n",
            "                ('clf', LinearSVC())])\n",
            "================================================================================\n",
            "Training accuracy: 92.96%\n",
            "Testing accuracy: 67.97%\n",
            "================================================================================\n",
            "Confusion matrix:\n",
            " [[579   0   1 ...   0   0   3]\n",
            " [  0   0   0 ...   0   1   0]\n",
            " [  5   0  22 ...   0   4   1]\n",
            " ...\n",
            " [  1   0   0 ...   0   0   0]\n",
            " [  4   0   1 ...   0 115   0]\n",
            " [  4   0   0 ...   0  30  13]]\n",
            "================================================================================\n",
            "Classification report:\n",
            "               precision    recall  f1-score   support\n",
            "\n",
            "           0       0.74      0.92      0.82       629\n",
            "           1       0.00      0.00      0.00         8\n",
            "           2       0.81      0.61      0.70        36\n",
            "           3       1.00      0.33      0.50         6\n",
            "           4       0.62      0.61      0.62        41\n",
            "           5       0.40      0.48      0.43        21\n",
            "           6       0.61      0.50      0.55        28\n",
            "           7       0.67      0.18      0.29        11\n",
            "           8       0.25      0.08      0.12        13\n",
            "           9       1.00      1.00      1.00        16\n",
            "          10       0.42      0.33      0.37        15\n",
            "          11       0.38      0.28      0.32        36\n",
            "          12       0.60      0.38      0.46        48\n",
            "          13       0.33      0.10      0.15        10\n",
            "          14       0.00      0.00      0.00         5\n",
            "          15       1.00      0.57      0.73         7\n",
            "          16       0.33      0.50      0.40         2\n",
            "          17       0.75      0.67      0.71         9\n",
            "          18       0.50      0.38      0.43        13\n",
            "          19       0.00      0.00      0.00         8\n",
            "          20       0.00      0.00      0.00         2\n",
            "          21       0.00      0.00      0.00         5\n",
            "          22       0.60      0.64      0.62        14\n",
            "          23       0.38      0.32      0.35        37\n",
            "          24       0.50      0.25      0.33         4\n",
            "          25       1.00      0.44      0.62         9\n",
            "          27       0.33      0.25      0.29         4\n",
            "          28       0.33      0.12      0.18         8\n",
            "          30       1.00      0.17      0.29         6\n",
            "          31       1.00      0.40      0.57         5\n",
            "          32       1.00      1.00      1.00         1\n",
            "          33       0.60      0.75      0.67         4\n",
            "          34       0.69      0.50      0.58        18\n",
            "          35       0.50      0.45      0.48        11\n",
            "          36       1.00      0.80      0.89        10\n",
            "          37       0.00      0.00      0.00         1\n",
            "          38       0.00      0.00      0.00         2\n",
            "          39       0.50      0.50      0.50         2\n",
            "          40       0.33      0.08      0.13        12\n",
            "          41       0.00      0.00      0.00         1\n",
            "          42       0.00      0.00      0.00         8\n",
            "          43       0.00      0.00      0.00         1\n",
            "          44       0.00      0.00      0.00         1\n",
            "          45       0.65      0.48      0.56        31\n",
            "          46       1.00      0.25      0.40         4\n",
            "          47       0.00      0.00      0.00         1\n",
            "          48       0.00      0.00      0.00         1\n",
            "          49       0.00      0.00      0.00         3\n",
            "          50       0.00      0.00      0.00         1\n",
            "          52       0.00      0.00      0.00         2\n",
            "          54       1.00      1.00      1.00         1\n",
            "          56       0.75      0.60      0.67        30\n",
            "          57       0.50      0.50      0.50         2\n",
            "          59       0.00      0.00      0.00         0\n",
            "          60       0.00      0.00      0.00         1\n",
            "          62       0.00      0.00      0.00         3\n",
            "          67       0.60      0.75      0.67        12\n",
            "          69       0.00      0.00      0.00         1\n",
            "          72       0.61      0.86      0.72       133\n",
            "          73       0.57      0.27      0.37        48\n",
            "\n",
            "    accuracy                           0.68      1402\n",
            "   macro avg       0.43      0.32      0.35      1402\n",
            "weighted avg       0.64      0.68      0.64      1402\n",
            "\n",
            "Time taken: 1.143014s to run the model\n"
          ]
        }
      ]
    },
    {
      "cell_type": "code",
      "metadata": {
        "colab": {
          "base_uri": "https://localhost:8080/"
        },
        "id": "U5P_xm81mDNY",
        "outputId": "ccbc9762-29a7-47c2-e451-9b6f60e9026b"
      },
      "source": [
        "run_ML(RandomForestClassifier(n_estimators=100), X_train, X_test, y_train, y_test)"
      ],
      "execution_count": null,
      "outputs": [
        {
          "output_type": "stream",
          "name": "stdout",
          "text": [
            "Estimator: Pipeline(steps=[('vect', CountVectorizer()), ('tfidf', TfidfTransformer()),\n",
            "                ('clf', RandomForestClassifier())])\n",
            "================================================================================\n",
            "Training accuracy: 94.72%\n",
            "Testing accuracy: 61.91%\n",
            "================================================================================\n",
            "Confusion matrix:\n",
            " [[629   0   0 ...   0   0   0]\n",
            " [  0   0   0 ...   0   3   0]\n",
            " [ 19   0  11 ...   0   4   0]\n",
            " ...\n",
            " [  1   0   0 ...   0   0   0]\n",
            " [  6   0   1 ...   0 117   4]\n",
            " [ 16   0   0 ...   0  25   7]]\n",
            "================================================================================\n",
            "Classification report:\n",
            "               precision    recall  f1-score   support\n",
            "\n",
            "           0       0.60      1.00      0.75       629\n",
            "           1       0.00      0.00      0.00         8\n",
            "           2       0.92      0.31      0.46        36\n",
            "           3       0.00      0.00      0.00         6\n",
            "           4       0.63      0.29      0.40        41\n",
            "           5       0.20      0.05      0.08        21\n",
            "           6       0.77      0.36      0.49        28\n",
            "           7       0.00      0.00      0.00        11\n",
            "           8       0.00      0.00      0.00        13\n",
            "           9       1.00      0.88      0.93        16\n",
            "          10       0.00      0.00      0.00        15\n",
            "          11       1.00      0.03      0.05        36\n",
            "          12       1.00      0.23      0.37        48\n",
            "          13       0.00      0.00      0.00        10\n",
            "          14       0.00      0.00      0.00         5\n",
            "          15       0.00      0.00      0.00         7\n",
            "          16       0.00      0.00      0.00         2\n",
            "          17       1.00      0.67      0.80         9\n",
            "          18       0.00      0.00      0.00        13\n",
            "          19       0.00      0.00      0.00         8\n",
            "          20       0.00      0.00      0.00         2\n",
            "          21       0.00      0.00      0.00         5\n",
            "          22       0.00      0.00      0.00        14\n",
            "          23       0.80      0.11      0.19        37\n",
            "          24       0.50      0.25      0.33         4\n",
            "          25       0.80      0.44      0.57         9\n",
            "          27       0.00      0.00      0.00         4\n",
            "          28       0.00      0.00      0.00         8\n",
            "          30       0.00      0.00      0.00         6\n",
            "          31       0.00      0.00      0.00         5\n",
            "          32       0.00      0.00      0.00         1\n",
            "          33       0.00      0.00      0.00         4\n",
            "          34       1.00      0.33      0.50        18\n",
            "          35       0.00      0.00      0.00        11\n",
            "          36       1.00      0.10      0.18        10\n",
            "          37       0.00      0.00      0.00         1\n",
            "          38       0.00      0.00      0.00         2\n",
            "          39       0.00      0.00      0.00         2\n",
            "          40       0.00      0.00      0.00        12\n",
            "          41       0.00      0.00      0.00         1\n",
            "          42       0.00      0.00      0.00         8\n",
            "          43       0.00      0.00      0.00         1\n",
            "          44       0.00      0.00      0.00         1\n",
            "          45       0.83      0.48      0.61        31\n",
            "          46       0.00      0.00      0.00         4\n",
            "          47       0.00      0.00      0.00         1\n",
            "          48       0.00      0.00      0.00         1\n",
            "          49       0.00      0.00      0.00         3\n",
            "          50       0.00      0.00      0.00         1\n",
            "          52       0.00      0.00      0.00         2\n",
            "          54       0.00      0.00      0.00         1\n",
            "          56       0.80      0.53      0.64        30\n",
            "          57       0.00      0.00      0.00         2\n",
            "          59       0.00      0.00      0.00         0\n",
            "          60       0.00      0.00      0.00         1\n",
            "          62       0.00      0.00      0.00         3\n",
            "          66       0.00      0.00      0.00         0\n",
            "          67       1.00      0.17      0.29        12\n",
            "          69       0.00      0.00      0.00         1\n",
            "          72       0.64      0.88      0.74       133\n",
            "          73       0.41      0.15      0.22        48\n",
            "\n",
            "    accuracy                           0.62      1402\n",
            "   macro avg       0.24      0.12      0.14      1402\n",
            "weighted avg       0.57      0.62      0.52      1402\n",
            "\n",
            "Time taken: 10.939314s to run the model\n"
          ]
        }
      ]
    },
    {
      "cell_type": "code",
      "metadata": {
        "colab": {
          "base_uri": "https://localhost:8080/"
        },
        "id": "_NWJvZ0hmwQf",
        "outputId": "8cc346e7-f361-48d6-eb78-0d0e43546a7a"
      },
      "source": [
        "run_ML(XGBClassifier(n_estimators=100), X_train, X_test, y_train, y_test)"
      ],
      "execution_count": null,
      "outputs": [
        {
          "output_type": "stream",
          "name": "stdout",
          "text": [
            "Estimator: Pipeline(steps=[('vect', CountVectorizer()), ('tfidf', TfidfTransformer()),\n",
            "                ('clf', XGBClassifier(objective='multi:softprob'))])\n",
            "================================================================================\n",
            "Training accuracy: 80.28%\n",
            "Testing accuracy: 62.20%\n",
            "================================================================================\n",
            "Confusion matrix:\n",
            " [[586   0   0 ...   0   2   1]\n",
            " [  0   0   0 ...   0   2   0]\n",
            " [ 13   0  12 ...   0   4   0]\n",
            " ...\n",
            " [  1   0   0 ...   0   0   0]\n",
            " [  6   0   1 ...   0 110   0]\n",
            " [ 11   0   0 ...   0  30   6]]\n",
            "================================================================================\n",
            "Classification report:\n",
            "               precision    recall  f1-score   support\n",
            "\n",
            "           0       0.65      0.93      0.77       629\n",
            "           1       0.00      0.00      0.00         8\n",
            "           2       0.86      0.33      0.48        36\n",
            "           3       0.25      0.33      0.29         6\n",
            "           4       0.50      0.37      0.42        41\n",
            "           5       0.50      0.33      0.40        21\n",
            "           6       0.67      0.29      0.40        28\n",
            "           7       0.75      0.27      0.40        11\n",
            "           8       0.45      0.38      0.42        13\n",
            "           9       1.00      0.44      0.61        16\n",
            "          10       0.50      0.47      0.48        15\n",
            "          11       0.50      0.19      0.28        36\n",
            "          12       0.79      0.31      0.45        48\n",
            "          13       0.00      0.00      0.00        10\n",
            "          14       0.00      0.00      0.00         5\n",
            "          15       0.50      0.57      0.53         7\n",
            "          16       0.20      0.50      0.29         2\n",
            "          17       0.83      0.56      0.67         9\n",
            "          18       0.50      0.31      0.38        13\n",
            "          19       0.00      0.00      0.00         8\n",
            "          20       0.00      0.00      0.00         2\n",
            "          21       0.00      0.00      0.00         5\n",
            "          22       0.42      0.36      0.38        14\n",
            "          23       0.50      0.22      0.30        37\n",
            "          24       0.00      0.00      0.00         4\n",
            "          25       0.50      0.11      0.18         9\n",
            "          27       0.00      0.00      0.00         4\n",
            "          28       0.50      0.25      0.33         8\n",
            "          30       0.00      0.00      0.00         6\n",
            "          31       0.00      0.00      0.00         5\n",
            "          32       0.00      0.00      0.00         1\n",
            "          33       0.75      0.75      0.75         4\n",
            "          34       0.43      0.33      0.38        18\n",
            "          35       0.33      0.09      0.14        11\n",
            "          36       1.00      0.40      0.57        10\n",
            "          37       0.00      0.00      0.00         1\n",
            "          38       0.00      0.00      0.00         2\n",
            "          39       0.00      0.00      0.00         2\n",
            "          40       0.00      0.00      0.00        12\n",
            "          41       0.00      0.00      0.00         1\n",
            "          42       0.00      0.00      0.00         8\n",
            "          43       0.00      0.00      0.00         1\n",
            "          44       0.00      0.00      0.00         1\n",
            "          45       0.60      0.48      0.54        31\n",
            "          46       0.00      0.00      0.00         4\n",
            "          47       0.00      0.00      0.00         1\n",
            "          48       0.00      0.00      0.00         1\n",
            "          49       0.00      0.00      0.00         3\n",
            "          50       0.00      0.00      0.00         1\n",
            "          52       0.00      0.00      0.00         2\n",
            "          54       0.00      0.00      0.00         1\n",
            "          56       0.71      0.50      0.59        30\n",
            "          57       0.00      0.00      0.00         2\n",
            "          59       0.00      0.00      0.00         0\n",
            "          60       0.00      0.00      0.00         1\n",
            "          62       0.00      0.00      0.00         3\n",
            "          67       0.44      0.67      0.53        12\n",
            "          69       0.00      0.00      0.00         1\n",
            "          72       0.59      0.83      0.69       133\n",
            "          73       0.75      0.12      0.21        48\n",
            "\n",
            "    accuracy                           0.62      1402\n",
            "   macro avg       0.28      0.19      0.21      1402\n",
            "weighted avg       0.58      0.62      0.56      1402\n",
            "\n",
            "Time taken: 160.655017s to run the model\n"
          ]
        }
      ]
    },
    {
      "cell_type": "code",
      "metadata": {
        "id": "TUBW8S6pyjYm"
      },
      "source": [
        "gloveFileName = '/content/drive/MyDrive/Great_Learning/NLP_sarcasm_detection/glove.6B/glove.6B.200d.txt'"
      ],
      "execution_count": 97,
      "outputs": []
    },
    {
      "cell_type": "code",
      "metadata": {
        "id": "cxOfdxMWz3V2"
      },
      "source": [
        "#Tokenizing and Padding the Independent features\n",
        "\n",
        "from tensorflow.python.keras.preprocessing.sequence import pad_sequences\n",
        "\n",
        "MAX_LENGTH = 300\n",
        "tokenizer = Tokenizer()\n",
        "tokenizer.fit_on_texts(data_eng.combined_description.values)\n",
        "post_seq = tokenizer.texts_to_sequences(data_eng.combined_description.values)\n",
        "post_seq_padded = pad_sequences(post_seq, maxlen=MAX_LENGTH)"
      ],
      "execution_count": 100,
      "outputs": []
    },
    {
      "cell_type": "code",
      "metadata": {
        "id": "R57X65lQ0Hld"
      },
      "source": [
        "y = data_eng['target']"
      ],
      "execution_count": 101,
      "outputs": []
    },
    {
      "cell_type": "code",
      "metadata": {
        "id": "OAGf2lw50Kut"
      },
      "source": [
        "#Splitting the data into Train and Test (Ratio = 0.30)\n",
        "X_train, X_test, y_train, y_test = train_test_split(post_seq_padded, y, test_size=0.3, random_state=1)"
      ],
      "execution_count": 102,
      "outputs": []
    },
    {
      "cell_type": "code",
      "metadata": {
        "colab": {
          "base_uri": "https://localhost:8080/"
        },
        "id": "bvXtsVXO0K6C",
        "outputId": "846e5d88-eaa9-41c7-c89d-f0d310f000ba"
      },
      "source": [
        "X_train.shape,X_test.shape"
      ],
      "execution_count": 103,
      "outputs": [
        {
          "output_type": "execute_result",
          "data": {
            "text/plain": [
              "((4907, 300), (2103, 300))"
            ]
          },
          "metadata": {},
          "execution_count": 103
        }
      ]
    },
    {
      "cell_type": "code",
      "metadata": {
        "colab": {
          "base_uri": "https://localhost:8080/"
        },
        "id": "9gYjc7Ju0Orv",
        "outputId": "0b462f42-8e4a-42b0-a638-e8921cdd05b1"
      },
      "source": [
        "y_train.shape, y_test.shape"
      ],
      "execution_count": 104,
      "outputs": [
        {
          "output_type": "execute_result",
          "data": {
            "text/plain": [
              "((4907,), (2103,))"
            ]
          },
          "metadata": {},
          "execution_count": 104
        }
      ]
    },
    {
      "cell_type": "code",
      "metadata": {
        "colab": {
          "base_uri": "https://localhost:8080/"
        },
        "id": "VVhYKq-C0Q5K",
        "outputId": "6bc3b362-a92c-4874-a74f-be09b1712ee3"
      },
      "source": [
        "#Creating input dimension ('vocab_size')\n",
        "\n",
        "vocab_size = len(tokenizer.word_index) + 1\n",
        "max_features = vocab_size \n",
        "vocab_size"
      ],
      "execution_count": 105,
      "outputs": [
        {
          "output_type": "execute_result",
          "data": {
            "text/plain": [
              "15541"
            ]
          },
          "metadata": {},
          "execution_count": 105
        }
      ]
    },
    {
      "cell_type": "code",
      "metadata": {
        "colab": {
          "base_uri": "https://localhost:8080/"
        },
        "id": "jeiPKEal0TVy",
        "outputId": "7eb65f98-4bcd-4f4f-cae0-097e62f9e1ac"
      },
      "source": [
        "# Creating Output dimension ('num_class')\n",
        "num_class = len(np.unique(data_eng['target'].values))\n",
        "num_class"
      ],
      "execution_count": 107,
      "outputs": [
        {
          "output_type": "execute_result",
          "data": {
            "text/plain": [
              "74"
            ]
          },
          "metadata": {},
          "execution_count": 107
        }
      ]
    },
    {
      "cell_type": "markdown",
      "metadata": {
        "id": "UAHI8zgA3TDk"
      },
      "source": [
        "**Implementing Bi LSTM**"
      ]
    },
    {
      "cell_type": "code",
      "metadata": {
        "id": "aGdN0ioD0Xhr"
      },
      "source": [
        "max_features = vocab_size  \n",
        "maxlen = 200\n",
        "seq_output_size = 128\n",
        "filters = 64\n",
        "kernel_size = 5\n",
        "pool_size = 4\n",
        "activation_func = 'sigmoid'"
      ],
      "execution_count": 108,
      "outputs": []
    },
    {
      "cell_type": "code",
      "metadata": {
        "colab": {
          "base_uri": "https://localhost:8080/"
        },
        "id": "2VcdOFEZ0vUt",
        "outputId": "0714c0f0-2af9-4a55-c466-5656e5274d1f"
      },
      "source": [
        "from keras import layers\n",
        "# For Embedding Layer\n",
        "from keras.layers.embeddings import Embedding\n",
        "\n",
        "\n",
        "# Bi directional LSTM\n",
        "# Input for variable-length sequences of integers\n",
        "inputs = keras.Input(shape=(None,), dtype=\"int32\")\n",
        "# Embed each integer in a 128-dimensional vector\n",
        "x = layers.Embedding(max_features, 128)(inputs)\n",
        "x = layers.Dropout(0.2)(x)\n",
        "# Add 2 bidirectional LSTMs\n",
        "x = layers.Bidirectional(layers.LSTM(64, return_sequences=True))(x)\n",
        "x = layers.Bidirectional(layers.LSTM(64))(x)\n",
        "x = layers.Dropout(0.2)(x)\n",
        "x = layers.Dense(32, activation='relu')(x)\n",
        "outputs = layers.Dense(num_class, activation='softmax')(x)\n",
        "# Add a classifier\n",
        "bilstm_model = keras.Model(inputs, outputs)\n",
        "bilstm_model.summary()"
      ],
      "execution_count": 110,
      "outputs": [
        {
          "output_type": "stream",
          "name": "stdout",
          "text": [
            "Model: \"model\"\n",
            "_________________________________________________________________\n",
            " Layer (type)                Output Shape              Param #   \n",
            "=================================================================\n",
            " input_2 (InputLayer)        [(None, None)]            0         \n",
            "                                                                 \n",
            " embedding (Embedding)       (None, None, 128)         1989248   \n",
            "                                                                 \n",
            " dropout (Dropout)           (None, None, 128)         0         \n",
            "                                                                 \n",
            " bidirectional (Bidirectiona  (None, None, 128)        98816     \n",
            " l)                                                              \n",
            "                                                                 \n",
            " bidirectional_1 (Bidirectio  (None, 128)              98816     \n",
            " nal)                                                            \n",
            "                                                                 \n",
            " dropout_1 (Dropout)         (None, 128)               0         \n",
            "                                                                 \n",
            " dense (Dense)               (None, 32)                4128      \n",
            "                                                                 \n",
            " dense_1 (Dense)             (None, 74)                2442      \n",
            "                                                                 \n",
            "=================================================================\n",
            "Total params: 2,193,450\n",
            "Trainable params: 2,193,450\n",
            "Non-trainable params: 0\n",
            "_________________________________________________________________\n"
          ]
        }
      ]
    },
    {
      "cell_type": "code",
      "metadata": {
        "colab": {
          "base_uri": "https://localhost:8080/"
        },
        "id": "LrVXpGB40xic",
        "outputId": "e92a0312-f2b4-4727-9351-a5785c7a87ec"
      },
      "source": [
        "#model.compile(\"adam\", \"binary_crossentropy\", metrics=[\"accuracy\"])\n",
        "bilstm_model.compile(optimizer='adam',\n",
        "              loss='sparse_categorical_crossentropy',\n",
        "              metrics=['acc'])\n",
        "bilstm_model.fit(X_train, y_train, batch_size=20, epochs=7, validation_data=(X_test, y_test))"
      ],
      "execution_count": 111,
      "outputs": [
        {
          "output_type": "stream",
          "name": "stdout",
          "text": [
            "Epoch 1/7\n",
            "246/246 [==============================] - 183s 713ms/step - loss: 2.4484 - acc: 0.5038 - val_loss: 2.0154 - val_acc: 0.5487\n",
            "Epoch 2/7\n",
            "246/246 [==============================] - 173s 705ms/step - loss: 1.9279 - acc: 0.5396 - val_loss: 1.9627 - val_acc: 0.5473\n",
            "Epoch 3/7\n",
            "246/246 [==============================] - 178s 722ms/step - loss: 1.7358 - acc: 0.5561 - val_loss: 2.0018 - val_acc: 0.5502\n",
            "Epoch 4/7\n",
            "246/246 [==============================] - 176s 718ms/step - loss: 1.5594 - acc: 0.5861 - val_loss: 2.0315 - val_acc: 0.5521\n",
            "Epoch 5/7\n",
            "246/246 [==============================] - 177s 719ms/step - loss: 1.3946 - acc: 0.6199 - val_loss: 2.0114 - val_acc: 0.5630\n",
            "Epoch 6/7\n",
            "246/246 [==============================] - 176s 715ms/step - loss: 1.2220 - acc: 0.6621 - val_loss: 2.1098 - val_acc: 0.5473\n",
            "Epoch 7/7\n",
            "246/246 [==============================] - 177s 720ms/step - loss: 1.0614 - acc: 0.7021 - val_loss: 2.1719 - val_acc: 0.5568\n"
          ]
        },
        {
          "output_type": "execute_result",
          "data": {
            "text/plain": [
              "<keras.callbacks.History at 0x7fd816507b90>"
            ]
          },
          "metadata": {},
          "execution_count": 111
        }
      ]
    },
    {
      "cell_type": "code",
      "metadata": {
        "colab": {
          "base_uri": "https://localhost:8080/"
        },
        "id": "nWGlm1h-3v0P",
        "outputId": "78fe122c-2bd7-4765-f42a-f86695c89a78"
      },
      "source": [
        "bi_lstm_predicted = bilstm_model.predict(X_test)\n",
        "bi_lstm_predicted = np.argmax(bi_lstm_predicted, axis=1)\n",
        "accuracy_score(y_test, bi_lstm_predicted)"
      ],
      "execution_count": 112,
      "outputs": [
        {
          "output_type": "execute_result",
          "data": {
            "text/plain": [
              "0.5568235853542558"
            ]
          },
          "metadata": {},
          "execution_count": 112
        }
      ]
    }
  ]
}