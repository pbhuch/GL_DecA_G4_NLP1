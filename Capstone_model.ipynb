{
  "nbformat": 4,
  "nbformat_minor": 0,
  "metadata": {
    "colab": {
      "name": "Capstone model.ipynb",
      "provenance": [],
      "collapsed_sections": [],
      "mount_file_id": "1c1XqPZBhdY7bDIpswFYuyMmlrx8hgJuH",
      "authorship_tag": "ABX9TyPyIjJhgKn/ssSSZnlmWoS3",
      "include_colab_link": true
    },
    "kernelspec": {
      "name": "python3",
      "display_name": "Python 3"
    },
    "language_info": {
      "name": "python"
    }
  },
  "cells": [
    {
      "cell_type": "markdown",
      "metadata": {
        "id": "view-in-github",
        "colab_type": "text"
      },
      "source": [
        "<a href=\"https://colab.research.google.com/github/pbhuch/GL_DecA_G4_NLP1/blob/NLP1_PM/Capstone_model.ipynb\" target=\"_parent\"><img src=\"https://colab.research.google.com/assets/colab-badge.svg\" alt=\"Open In Colab\"/></a>"
      ]
    },
    {
      "cell_type": "markdown",
      "metadata": {
        "id": "iivbby1fO1TJ"
      },
      "source": [
        "**Project Modelling part**"
      ]
    },
    {
      "cell_type": "code",
      "metadata": {
        "id": "py1kCQQuO_Kd"
      },
      "source": [
        ""
      ],
      "execution_count": null,
      "outputs": []
    },
    {
      "cell_type": "code",
      "metadata": {
        "colab": {
          "base_uri": "https://localhost:8080/"
        },
        "id": "OGopcBgLPLXf",
        "outputId": "2dfc1711-245a-4bae-d4fd-277eb153fc6d"
      },
      "source": [
        "from google.colab import drive\n",
        "drive.mount('/content/drive')"
      ],
      "execution_count": 4,
      "outputs": [
        {
          "output_type": "stream",
          "name": "stdout",
          "text": [
            "Drive already mounted at /content/drive; to attempt to forcibly remount, call drive.mount(\"/content/drive\", force_remount=True).\n"
          ]
        }
      ]
    },
    {
      "cell_type": "code",
      "metadata": {
        "colab": {
          "base_uri": "https://localhost:8080/"
        },
        "id": "Pze_BiXjQYtO",
        "outputId": "087485fa-dd21-4639-e999-fb3a4f259ffc"
      },
      "source": [
        "!pip install ftfy"
      ],
      "execution_count": 5,
      "outputs": [
        {
          "output_type": "stream",
          "name": "stdout",
          "text": [
            "Collecting ftfy\n",
            "  Downloading ftfy-6.0.3.tar.gz (64 kB)\n",
            "\u001b[?25l\r\u001b[K     |█████                           | 10 kB 24.7 MB/s eta 0:00:01\r\u001b[K     |██████████▏                     | 20 kB 32.0 MB/s eta 0:00:01\r\u001b[K     |███████████████▎                | 30 kB 23.1 MB/s eta 0:00:01\r\u001b[K     |████████████████████▍           | 40 kB 18.0 MB/s eta 0:00:01\r\u001b[K     |█████████████████████████▌      | 51 kB 8.3 MB/s eta 0:00:01\r\u001b[K     |██████████████████████████████▋ | 61 kB 9.0 MB/s eta 0:00:01\r\u001b[K     |████████████████████████████████| 64 kB 2.3 MB/s \n",
            "\u001b[?25hRequirement already satisfied: wcwidth in /usr/local/lib/python3.7/dist-packages (from ftfy) (0.2.5)\n",
            "Building wheels for collected packages: ftfy\n",
            "  Building wheel for ftfy (setup.py) ... \u001b[?25l\u001b[?25hdone\n",
            "  Created wheel for ftfy: filename=ftfy-6.0.3-py3-none-any.whl size=41933 sha256=e1d93707bffba1533ca6b7d3dec01eff97de4b54387eba3e809f89645e934aae\n",
            "  Stored in directory: /root/.cache/pip/wheels/19/f5/38/273eb3b5e76dfd850619312f693716ac4518b498f5ffb6f56d\n",
            "Successfully built ftfy\n",
            "Installing collected packages: ftfy\n",
            "Successfully installed ftfy-6.0.3\n"
          ]
        }
      ]
    },
    {
      "cell_type": "code",
      "metadata": {
        "id": "eKsQtDHtQMHh",
        "colab": {
          "base_uri": "https://localhost:8080/",
          "height": 17
        },
        "outputId": "fbb77d64-16a9-499c-8d5e-5fdb55cd37a2"
      },
      "source": [
        "# importing libraries\n",
        "from time import time\n",
        "from PIL import Image\n",
        "from zipfile import ZipFile\n",
        "import os, sys, itertools, re\n",
        "import tensorflow as tf\n",
        "import pandas as pd\n",
        "import numpy as np\n",
        "import seaborn as sns\n",
        "import matplotlib.pyplot as plt\n",
        "%matplotlib inline\n",
        "from sklearn.model_selection import train_test_split\n",
        "import plotly as py\n",
        "import plotly.graph_objs as go\n",
        "import plotly.express as px\n",
        "from plotly.offline import init_notebook_mode, iplot, plot\n",
        "from sklearn.preprocessing import QuantileTransformer\n",
        "from sklearn.ensemble import RandomForestClassifier\n",
        "from sklearn.ensemble import VotingClassifier\n",
        "from sklearn.ensemble import BaggingClassifier\n",
        "from sklearn.tree import DecisionTreeClassifier\n",
        "from sklearn.metrics import accuracy_score,f1_score,recall_score,precision_score, confusion_matrix, classification_report\n",
        "import sklearn.neighbors._base\n",
        "#import sys\n",
        "#sys.modules['sklearn.neighbors.base'] = sklearn.neighbors._base\n",
        "import imblearn\n",
        "from imblearn.over_sampling import SMOTE\n",
        "\n",
        "from tensorflow.keras.utils import to_categorical\n",
        "from tensorflow.keras.models import Model, Sequential\n",
        "from tensorflow.keras.initializers import Constant\n",
        "from tensorflow.keras.layers import Flatten, Dense, Dropout, BatchNormalization, Activation, Conv2D, MaxPooling2D, Reshape, Embedding, LSTM,  TimeDistributed, Bidirectional, Lambda, Input, Add, GlobalMaxPool1D\n",
        "from tensorflow.keras import regularizers, optimizers\n",
        "from sklearn.metrics import r2_score\n",
        "from tensorflow.keras.models import load_model\n",
        "from tensorflow import keras\n",
        "from tensorflow.keras.optimizers import Adam\n",
        "from tensorflow.keras.wrappers.scikit_learn import KerasClassifier, KerasRegressor\n",
        "#import cv2\n",
        "from tensorflow.keras.applications.mobilenet import preprocess_input\n",
        "from tensorflow.keras.callbacks import ModelCheckpoint, EarlyStopping, ReduceLROnPlateau\n",
        "\n",
        "# to define loss\n",
        "from tensorflow.keras.losses import binary_crossentropy\n",
        "from tensorflow.keras.backend import log, epsilon\n",
        "\n",
        "from tensorflow.keras.preprocessing.sequence import pad_sequences\n",
        "from tensorflow.keras.preprocessing.text import Tokenizer\n",
        "from tensorflow.keras.preprocessing import sequence\n",
        "from tensorflow.keras.datasets import imdb\n",
        "\n",
        "from itertools import islice\n",
        "\n",
        "import re\n",
        "import nltk\n",
        "from nltk.corpus import stopwords\n",
        "\n",
        "from ftfy import fix_encoding, fix_text, badness\n",
        "from wordcloud import WordCloud, STOPWORDS, ImageColorGenerator\n",
        "\n",
        "from sklearn.utils import resample\n",
        "\n",
        "import pickle, string\n",
        "\n",
        "import cufflinks as cf\n",
        "cf.go_offline()\n",
        "cf.set_config_file(offline=False, world_readable=True)\n",
        "\n",
        "import plotly as py\n",
        "import plotly.graph_objs as go\n",
        "from plotly.offline import download_plotlyjs,init_notebook_mode,plot,iplot\n",
        "\n",
        "import spacy\n",
        "\n",
        "# Suppress warnings\n",
        "import warnings; warnings.filterwarnings('ignore')\n",
        "\n",
        "SEED = 123                 # to be able to rerun the same NN\n",
        "np.random.seed(SEED)\n",
        "tf.random.set_seed(SEED)\n",
        "\n",
        "from IPython.display import display\n",
        "pd.options.display.max_columns = None\n",
        "pd.options.display.max_rows = None\n",
        "\n",
        "\n",
        "\n",
        "\n",
        "import time\n",
        "# ML Modeling\n",
        "from sklearn.naive_bayes import MultinomialNB\n",
        "from sklearn.neighbors import KNeighborsClassifier\n",
        "from sklearn.pipeline import Pipeline\n",
        "from sklearn.feature_extraction.text import CountVectorizer, TfidfVectorizer, TfidfTransformer\n",
        "from sklearn.svm import SVC, LinearSVC\n",
        "from sklearn.tree import DecisionTreeClassifier\n",
        "from sklearn.ensemble import RandomForestClassifier\n",
        "from xgboost import XGBClassifier\n",
        "\n",
        "\n",
        "from sklearn.metrics import accuracy_score,f1_score,recall_score,precision_score, confusion_matrix\n",
        "from sklearn.metrics import roc_auc_score\n",
        "from sklearn.metrics import roc_curve"
      ],
      "execution_count": 6,
      "outputs": [
        {
          "output_type": "display_data",
          "data": {
            "text/html": [
              "        <script type=\"text/javascript\">\n",
              "        window.PlotlyConfig = {MathJaxConfig: 'local'};\n",
              "        if (window.MathJax) {MathJax.Hub.Config({SVG: {font: \"STIX-Web\"}});}\n",
              "        if (typeof require !== 'undefined') {\n",
              "        require.undef(\"plotly\");\n",
              "        requirejs.config({\n",
              "            paths: {\n",
              "                'plotly': ['https://cdn.plot.ly/plotly-latest.min']\n",
              "            }\n",
              "        });\n",
              "        require(['plotly'], function(Plotly) {\n",
              "            window._Plotly = Plotly;\n",
              "        });\n",
              "        }\n",
              "        </script>\n",
              "        "
            ]
          },
          "metadata": {}
        }
      ]
    },
    {
      "cell_type": "code",
      "metadata": {
        "id": "rNLrZ-uBQmmE"
      },
      "source": [
        "import os; \n",
        "os.chdir('/content/drive/MyDrive/Great_Learning/Capstone')"
      ],
      "execution_count": 8,
      "outputs": []
    },
    {
      "cell_type": "code",
      "metadata": {
        "id": "P8FJjSgiQ7cy"
      },
      "source": [
        "dataset = pd.read_csv(\"dataset1_mojibaked_LangDetect_NewColumnAdded.csv\", encoding = 'utf-8')"
      ],
      "execution_count": 127,
      "outputs": []
    },
    {
      "cell_type": "code",
      "metadata": {
        "colab": {
          "base_uri": "https://localhost:8080/",
          "height": 382
        },
        "id": "2A05TIkfRNfA",
        "outputId": "47c3c5ae-d9a1-4190-e3d1-81ff755c1ba6"
      },
      "source": [
        "dataset.head()"
      ],
      "execution_count": 128,
      "outputs": [
        {
          "output_type": "execute_result",
          "data": {
            "text/html": [
              "<div>\n",
              "<style scoped>\n",
              "    .dataframe tbody tr th:only-of-type {\n",
              "        vertical-align: middle;\n",
              "    }\n",
              "\n",
              "    .dataframe tbody tr th {\n",
              "        vertical-align: top;\n",
              "    }\n",
              "\n",
              "    .dataframe thead th {\n",
              "        text-align: right;\n",
              "    }\n",
              "</style>\n",
              "<table border=\"1\" class=\"dataframe\">\n",
              "  <thead>\n",
              "    <tr style=\"text-align: right;\">\n",
              "      <th></th>\n",
              "      <th>Unnamed: 0</th>\n",
              "      <th>Short description</th>\n",
              "      <th>Description</th>\n",
              "      <th>Caller</th>\n",
              "      <th>Assignment group</th>\n",
              "      <th>combined_description_caller</th>\n",
              "      <th>combined_description</th>\n",
              "      <th>ConvertedToEnglish</th>\n",
              "      <th>Language</th>\n",
              "    </tr>\n",
              "  </thead>\n",
              "  <tbody>\n",
              "    <tr>\n",
              "      <th>0</th>\n",
              "      <td>0</td>\n",
              "      <td>login issue</td>\n",
              "      <td>verified user detailsemployee manager name che...</td>\n",
              "      <td>spxjnwir pjlcoqds</td>\n",
              "      <td>GRP_0</td>\n",
              "      <td>login issue verified user detailsemployee mana...</td>\n",
              "      <td>login issue verified user detailsemployee mana...</td>\n",
              "      <td>NaN</td>\n",
              "      <td>en</td>\n",
              "    </tr>\n",
              "    <tr>\n",
              "      <th>1</th>\n",
              "      <td>1</td>\n",
              "      <td>outlook</td>\n",
              "      <td>received from hmjdrvpb.komuaywn@gmail.com\\n he...</td>\n",
              "      <td>hmjdrvpb komuaywn</td>\n",
              "      <td>GRP_0</td>\n",
              "      <td>outlook received from hmjdrvpb.komuaywn@gmail....</td>\n",
              "      <td>outlook received from hmjdrvpb.komuaywn@gmail....</td>\n",
              "      <td>NaN</td>\n",
              "      <td>en</td>\n",
              "    </tr>\n",
              "    <tr>\n",
              "      <th>2</th>\n",
              "      <td>2</td>\n",
              "      <td>cant log in to vpn</td>\n",
              "      <td>received from eylqgodm.ybqkwiam@gmail.com\\n hi...</td>\n",
              "      <td>eylqgodm ybqkwiam</td>\n",
              "      <td>GRP_0</td>\n",
              "      <td>cant log in to vpn received from eylqgodm.ybqk...</td>\n",
              "      <td>cant log in to vpn received from eylqgodm.ybqk...</td>\n",
              "      <td>NaN</td>\n",
              "      <td>en</td>\n",
              "    </tr>\n",
              "    <tr>\n",
              "      <th>3</th>\n",
              "      <td>3</td>\n",
              "      <td>unable to access hrtool page</td>\n",
              "      <td>unable to access hrtool page</td>\n",
              "      <td>xbkucsvz gcpydteq</td>\n",
              "      <td>GRP_0</td>\n",
              "      <td>unable to access hrtool page unable to access ...</td>\n",
              "      <td>unable to access hrtool page unable to access ...</td>\n",
              "      <td>NaN</td>\n",
              "      <td>en</td>\n",
              "    </tr>\n",
              "    <tr>\n",
              "      <th>4</th>\n",
              "      <td>4</td>\n",
              "      <td>skype error</td>\n",
              "      <td>skype error</td>\n",
              "      <td>owlgqjme qhcozdfx</td>\n",
              "      <td>GRP_0</td>\n",
              "      <td>skype error skype error owlgqjme qhcozdfx</td>\n",
              "      <td>skype error skype error</td>\n",
              "      <td>NaN</td>\n",
              "      <td>no</td>\n",
              "    </tr>\n",
              "  </tbody>\n",
              "</table>\n",
              "</div>"
            ],
            "text/plain": [
              "   Unnamed: 0             Short description  \\\n",
              "0           0                   login issue   \n",
              "1           1                       outlook   \n",
              "2           2            cant log in to vpn   \n",
              "3           3  unable to access hrtool page   \n",
              "4           4                   skype error   \n",
              "\n",
              "                                         Description             Caller  \\\n",
              "0  verified user detailsemployee manager name che...  spxjnwir pjlcoqds   \n",
              "1  received from hmjdrvpb.komuaywn@gmail.com\\n he...  hmjdrvpb komuaywn   \n",
              "2  received from eylqgodm.ybqkwiam@gmail.com\\n hi...  eylqgodm ybqkwiam   \n",
              "3                       unable to access hrtool page  xbkucsvz gcpydteq   \n",
              "4                                        skype error  owlgqjme qhcozdfx   \n",
              "\n",
              "  Assignment group                        combined_description_caller  \\\n",
              "0            GRP_0  login issue verified user detailsemployee mana...   \n",
              "1            GRP_0  outlook received from hmjdrvpb.komuaywn@gmail....   \n",
              "2            GRP_0  cant log in to vpn received from eylqgodm.ybqk...   \n",
              "3            GRP_0  unable to access hrtool page unable to access ...   \n",
              "4            GRP_0          skype error skype error owlgqjme qhcozdfx   \n",
              "\n",
              "                                combined_description  ConvertedToEnglish  \\\n",
              "0  login issue verified user detailsemployee mana...                 NaN   \n",
              "1  outlook received from hmjdrvpb.komuaywn@gmail....                 NaN   \n",
              "2  cant log in to vpn received from eylqgodm.ybqk...                 NaN   \n",
              "3  unable to access hrtool page unable to access ...                 NaN   \n",
              "4                            skype error skype error                 NaN   \n",
              "\n",
              "  Language  \n",
              "0       en  \n",
              "1       en  \n",
              "2       en  \n",
              "3       en  \n",
              "4       no  "
            ]
          },
          "metadata": {},
          "execution_count": 128
        }
      ]
    },
    {
      "cell_type": "code",
      "metadata": {
        "colab": {
          "base_uri": "https://localhost:8080/"
        },
        "id": "e3WmSOoRRUXO",
        "outputId": "0a67b579-5d58-4660-a4be-1b8065cfcc08"
      },
      "source": [
        "dataset.info()"
      ],
      "execution_count": 129,
      "outputs": [
        {
          "output_type": "stream",
          "name": "stdout",
          "text": [
            "<class 'pandas.core.frame.DataFrame'>\n",
            "RangeIndex: 8417 entries, 0 to 8416\n",
            "Data columns (total 9 columns):\n",
            " #   Column                       Non-Null Count  Dtype  \n",
            "---  ------                       --------------  -----  \n",
            " 0   Unnamed: 0                   8417 non-null   int64  \n",
            " 1   Short description            8408 non-null   object \n",
            " 2   Description                  8413 non-null   object \n",
            " 3   Caller                       8417 non-null   object \n",
            " 4   Assignment group             8417 non-null   object \n",
            " 5   combined_description_caller  8417 non-null   object \n",
            " 6   combined_description         8417 non-null   object \n",
            " 7   ConvertedToEnglish           0 non-null      float64\n",
            " 8   Language                     8417 non-null   object \n",
            "dtypes: float64(1), int64(1), object(7)\n",
            "memory usage: 591.9+ KB\n"
          ]
        }
      ]
    },
    {
      "cell_type": "code",
      "metadata": {
        "colab": {
          "base_uri": "https://localhost:8080/"
        },
        "id": "3pecNdzjRcDr",
        "outputId": "11066c27-be3e-4677-c177-da0e3c03f75e"
      },
      "source": [
        "dataset['Assignment group'].value_counts()\n"
      ],
      "execution_count": null,
      "outputs": [
        {
          "output_type": "execute_result",
          "data": {
            "text/plain": [
              "GRP_0     3934\n",
              "GRP_8      645\n",
              "GRP_24     285\n",
              "GRP_12     257\n",
              "GRP_9      252\n",
              "GRP_2      241\n",
              "GRP_19     215\n",
              "GRP_3      200\n",
              "GRP_6      183\n",
              "GRP_13     145\n",
              "GRP_10     140\n",
              "GRP_5      128\n",
              "GRP_14     118\n",
              "GRP_25     116\n",
              "GRP_33     107\n",
              "GRP_4      100\n",
              "GRP_29      97\n",
              "GRP_18      88\n",
              "GRP_16      85\n",
              "GRP_31      69\n",
              "GRP_17      68\n",
              "GRP_7       68\n",
              "GRP_34      62\n",
              "GRP_26      56\n",
              "GRP_40      45\n",
              "GRP_28      44\n",
              "GRP_41      40\n",
              "GRP_30      39\n",
              "GRP_15      38\n",
              "GRP_42      37\n",
              "GRP_20      36\n",
              "GRP_45      35\n",
              "GRP_22      31\n",
              "GRP_1       31\n",
              "GRP_11      30\n",
              "GRP_21      28\n",
              "GRP_47      27\n",
              "GRP_48      25\n",
              "GRP_62      25\n",
              "GRP_23      25\n",
              "GRP_39      19\n",
              "GRP_27      18\n",
              "GRP_60      16\n",
              "GRP_37      16\n",
              "GRP_36      15\n",
              "GRP_44      15\n",
              "GRP_50      14\n",
              "GRP_65      11\n",
              "GRP_53      11\n",
              "GRP_52       9\n",
              "GRP_55       8\n",
              "GRP_51       8\n",
              "GRP_46       6\n",
              "GRP_59       6\n",
              "GRP_49       6\n",
              "GRP_43       5\n",
              "GRP_66       4\n",
              "GRP_32       4\n",
              "GRP_68       3\n",
              "GRP_58       3\n",
              "GRP_63       3\n",
              "GRP_56       3\n",
              "GRP_38       3\n",
              "GRP_71       2\n",
              "GRP_57       2\n",
              "GRP_72       2\n",
              "GRP_54       2\n",
              "GRP_69       2\n",
              "GRP_61       1\n",
              "GRP_67       1\n",
              "GRP_73       1\n",
              "GRP_35       1\n",
              "GRP_64       1\n",
              "GRP_70       1\n",
              "Name: Assignment group, dtype: int64"
            ]
          },
          "metadata": {},
          "execution_count": 10
        }
      ]
    },
    {
      "cell_type": "code",
      "metadata": {
        "colab": {
          "base_uri": "https://localhost:8080/"
        },
        "id": "_f2BoP45SLeG",
        "outputId": "4f4eae40-7077-4f7e-a556-e6c0ec0b60ea"
      },
      "source": [
        "dataset['Language'].value_counts()"
      ],
      "execution_count": 130,
      "outputs": [
        {
          "output_type": "execute_result",
          "data": {
            "text/plain": [
              "en       7010\n",
              "de        415\n",
              "af        271\n",
              "it        121\n",
              "fr        105\n",
              "no         71\n",
              "nl         68\n",
              "sv         53\n",
              "zh-cn      49\n",
              "es         47\n",
              "ca         39\n",
              "pl         27\n",
              "da         25\n",
              "ko         17\n",
              "pt         17\n",
              "tl         11\n",
              "cy         11\n",
              "ro         10\n",
              "et         10\n",
              "sq          8\n",
              "sl          6\n",
              "hr          6\n",
              "fi          5\n",
              "vi          3\n",
              "id          3\n",
              "so          2\n",
              "lt          2\n",
              "cs          2\n",
              "ja          1\n",
              "tr          1\n",
              "hu          1\n",
              "Name: Language, dtype: int64"
            ]
          },
          "metadata": {},
          "execution_count": 130
        }
      ]
    },
    {
      "cell_type": "code",
      "metadata": {
        "id": "BEviHD8HSSUG"
      },
      "source": [
        "data_eng = dataset[dataset['Language']=='en']"
      ],
      "execution_count": 131,
      "outputs": []
    },
    {
      "cell_type": "code",
      "metadata": {
        "colab": {
          "base_uri": "https://localhost:8080/",
          "height": 434
        },
        "id": "25xQyX4_TFlE",
        "outputId": "a82dd55a-4265-46ec-ad58-e749e2038c3f"
      },
      "source": [
        "data_eng.head()"
      ],
      "execution_count": 132,
      "outputs": [
        {
          "output_type": "execute_result",
          "data": {
            "text/html": [
              "<div>\n",
              "<style scoped>\n",
              "    .dataframe tbody tr th:only-of-type {\n",
              "        vertical-align: middle;\n",
              "    }\n",
              "\n",
              "    .dataframe tbody tr th {\n",
              "        vertical-align: top;\n",
              "    }\n",
              "\n",
              "    .dataframe thead th {\n",
              "        text-align: right;\n",
              "    }\n",
              "</style>\n",
              "<table border=\"1\" class=\"dataframe\">\n",
              "  <thead>\n",
              "    <tr style=\"text-align: right;\">\n",
              "      <th></th>\n",
              "      <th>Unnamed: 0</th>\n",
              "      <th>Short description</th>\n",
              "      <th>Description</th>\n",
              "      <th>Caller</th>\n",
              "      <th>Assignment group</th>\n",
              "      <th>combined_description_caller</th>\n",
              "      <th>combined_description</th>\n",
              "      <th>ConvertedToEnglish</th>\n",
              "      <th>Language</th>\n",
              "    </tr>\n",
              "  </thead>\n",
              "  <tbody>\n",
              "    <tr>\n",
              "      <th>0</th>\n",
              "      <td>0</td>\n",
              "      <td>login issue</td>\n",
              "      <td>verified user detailsemployee manager name che...</td>\n",
              "      <td>spxjnwir pjlcoqds</td>\n",
              "      <td>GRP_0</td>\n",
              "      <td>login issue verified user detailsemployee mana...</td>\n",
              "      <td>login issue verified user detailsemployee mana...</td>\n",
              "      <td>NaN</td>\n",
              "      <td>en</td>\n",
              "    </tr>\n",
              "    <tr>\n",
              "      <th>1</th>\n",
              "      <td>1</td>\n",
              "      <td>outlook</td>\n",
              "      <td>received from hmjdrvpb.komuaywn@gmail.com\\n he...</td>\n",
              "      <td>hmjdrvpb komuaywn</td>\n",
              "      <td>GRP_0</td>\n",
              "      <td>outlook received from hmjdrvpb.komuaywn@gmail....</td>\n",
              "      <td>outlook received from hmjdrvpb.komuaywn@gmail....</td>\n",
              "      <td>NaN</td>\n",
              "      <td>en</td>\n",
              "    </tr>\n",
              "    <tr>\n",
              "      <th>2</th>\n",
              "      <td>2</td>\n",
              "      <td>cant log in to vpn</td>\n",
              "      <td>received from eylqgodm.ybqkwiam@gmail.com\\n hi...</td>\n",
              "      <td>eylqgodm ybqkwiam</td>\n",
              "      <td>GRP_0</td>\n",
              "      <td>cant log in to vpn received from eylqgodm.ybqk...</td>\n",
              "      <td>cant log in to vpn received from eylqgodm.ybqk...</td>\n",
              "      <td>NaN</td>\n",
              "      <td>en</td>\n",
              "    </tr>\n",
              "    <tr>\n",
              "      <th>3</th>\n",
              "      <td>3</td>\n",
              "      <td>unable to access hrtool page</td>\n",
              "      <td>unable to access hrtool page</td>\n",
              "      <td>xbkucsvz gcpydteq</td>\n",
              "      <td>GRP_0</td>\n",
              "      <td>unable to access hrtool page unable to access ...</td>\n",
              "      <td>unable to access hrtool page unable to access ...</td>\n",
              "      <td>NaN</td>\n",
              "      <td>en</td>\n",
              "    </tr>\n",
              "    <tr>\n",
              "      <th>5</th>\n",
              "      <td>5</td>\n",
              "      <td>unable to log in to engineering tool and skype</td>\n",
              "      <td>unable to log in to engineering tool and skype</td>\n",
              "      <td>eflahbxn ltdgrvkz</td>\n",
              "      <td>GRP_0</td>\n",
              "      <td>unable to log in to engineering tool and skype...</td>\n",
              "      <td>unable to log in to engineering tool and skype...</td>\n",
              "      <td>NaN</td>\n",
              "      <td>en</td>\n",
              "    </tr>\n",
              "  </tbody>\n",
              "</table>\n",
              "</div>"
            ],
            "text/plain": [
              "   Unnamed: 0                               Short description  \\\n",
              "0           0                                     login issue   \n",
              "1           1                                         outlook   \n",
              "2           2                              cant log in to vpn   \n",
              "3           3                    unable to access hrtool page   \n",
              "5           5  unable to log in to engineering tool and skype   \n",
              "\n",
              "                                         Description             Caller  \\\n",
              "0  verified user detailsemployee manager name che...  spxjnwir pjlcoqds   \n",
              "1  received from hmjdrvpb.komuaywn@gmail.com\\n he...  hmjdrvpb komuaywn   \n",
              "2  received from eylqgodm.ybqkwiam@gmail.com\\n hi...  eylqgodm ybqkwiam   \n",
              "3                       unable to access hrtool page  xbkucsvz gcpydteq   \n",
              "5     unable to log in to engineering tool and skype  eflahbxn ltdgrvkz   \n",
              "\n",
              "  Assignment group                        combined_description_caller  \\\n",
              "0            GRP_0  login issue verified user detailsemployee mana...   \n",
              "1            GRP_0  outlook received from hmjdrvpb.komuaywn@gmail....   \n",
              "2            GRP_0  cant log in to vpn received from eylqgodm.ybqk...   \n",
              "3            GRP_0  unable to access hrtool page unable to access ...   \n",
              "5            GRP_0  unable to log in to engineering tool and skype...   \n",
              "\n",
              "                                combined_description  ConvertedToEnglish  \\\n",
              "0  login issue verified user detailsemployee mana...                 NaN   \n",
              "1  outlook received from hmjdrvpb.komuaywn@gmail....                 NaN   \n",
              "2  cant log in to vpn received from eylqgodm.ybqk...                 NaN   \n",
              "3  unable to access hrtool page unable to access ...                 NaN   \n",
              "5  unable to log in to engineering tool and skype...                 NaN   \n",
              "\n",
              "  Language  \n",
              "0       en  \n",
              "1       en  \n",
              "2       en  \n",
              "3       en  \n",
              "5       en  "
            ]
          },
          "metadata": {},
          "execution_count": 132
        }
      ]
    },
    {
      "cell_type": "code",
      "metadata": {
        "id": "gz6b10SLRKl-"
      },
      "source": [
        "dataset = pd.read_csv(\"df_ML.csv\", encoding = 'utf-8')"
      ],
      "execution_count": 9,
      "outputs": []
    },
    {
      "cell_type": "code",
      "metadata": {
        "colab": {
          "base_uri": "https://localhost:8080/"
        },
        "id": "rzKi5EYYUfbG",
        "outputId": "8c039017-9269-489d-c76b-ebf86a5ae27b"
      },
      "source": [
        "# Create a target categorical column\n",
        "dataset['target'] = dataset['Assignment group'].astype('category').cat.codes\n",
        "dataset.info()"
      ],
      "execution_count": 10,
      "outputs": [
        {
          "output_type": "stream",
          "name": "stdout",
          "text": [
            "<class 'pandas.core.frame.DataFrame'>\n",
            "RangeIndex: 8417 entries, 0 to 8416\n",
            "Data columns (total 8 columns):\n",
            " #   Column                Non-Null Count  Dtype \n",
            "---  ------                --------------  ----- \n",
            " 0   Unnamed: 0            8417 non-null   int64 \n",
            " 1   Caller                8417 non-null   object\n",
            " 2   Assignment group      8417 non-null   object\n",
            " 3   combined_description  8417 non-null   object\n",
            " 4   Language              8417 non-null   object\n",
            " 5   ConvertedToEnglish    8416 non-null   object\n",
            " 6   pred_group            301 non-null    object\n",
            " 7   target                8417 non-null   int8  \n",
            "dtypes: int64(1), int8(1), object(6)\n",
            "memory usage: 468.6+ KB\n"
          ]
        }
      ]
    },
    {
      "cell_type": "code",
      "metadata": {
        "colab": {
          "base_uri": "https://localhost:8080/"
        },
        "id": "KZKxDxENUozq",
        "outputId": "80b059d9-5d00-40e1-8dd6-dc38fa37549d"
      },
      "source": [
        "dataset['target'].value_counts()"
      ],
      "execution_count": 11,
      "outputs": [
        {
          "output_type": "execute_result",
          "data": {
            "text/plain": [
              "0     3934\n",
              "72     645\n",
              "17     285\n",
              "4      257\n",
              "73     252\n",
              "12     241\n",
              "11     215\n",
              "23     200\n",
              "56     183\n",
              "5      145\n",
              "2      140\n",
              "45     128\n",
              "6      118\n",
              "18     116\n",
              "27     107\n",
              "34     100\n",
              "22      97\n",
              "10      88\n",
              "8       85\n",
              "25      69\n",
              "9       68\n",
              "67      68\n",
              "28      62\n",
              "19      56\n",
              "35      45\n",
              "21      44\n",
              "36      40\n",
              "24      39\n",
              "7       38\n",
              "37      37\n",
              "13      36\n",
              "40      35\n",
              "15      31\n",
              "1       31\n",
              "3       30\n",
              "14      28\n",
              "42      27\n",
              "16      25\n",
              "43      25\n",
              "59      25\n",
              "33      19\n",
              "20      18\n",
              "57      16\n",
              "31      16\n",
              "39      15\n",
              "30      15\n",
              "46      14\n",
              "49      11\n",
              "62      11\n",
              "48       9\n",
              "47       8\n",
              "51       8\n",
              "55       6\n",
              "44       6\n",
              "41       6\n",
              "38       5\n",
              "63       4\n",
              "26       4\n",
              "54       3\n",
              "65       3\n",
              "52       3\n",
              "60       3\n",
              "32       3\n",
              "70       2\n",
              "66       2\n",
              "53       2\n",
              "50       2\n",
              "69       2\n",
              "64       1\n",
              "58       1\n",
              "61       1\n",
              "68       1\n",
              "29       1\n",
              "71       1\n",
              "Name: target, dtype: int64"
            ]
          },
          "metadata": {},
          "execution_count": 11
        }
      ]
    },
    {
      "cell_type": "code",
      "metadata": {
        "colab": {
          "base_uri": "https://localhost:8080/"
        },
        "id": "6LnsBeEPHIqO",
        "outputId": "d51dc42c-c9a8-4f17-9f47-109f43746de8"
      },
      "source": [
        "# Create training and test datasets with 80:20 ratio\n",
        "X_train, X_test, y_train, y_test = train_test_split(dataset.combined_description, \n",
        "                                                    dataset.target, \n",
        "                                                    test_size=0.20, \n",
        "                                                    random_state=42)\n",
        "print('\\033[1mShape of the training set:\\033[0m', X_train.shape, X_test.shape)\n",
        "print('\\033[1mShape of the test set:\\033[0m', y_train.shape, y_test.shape)"
      ],
      "execution_count": 12,
      "outputs": [
        {
          "output_type": "stream",
          "name": "stdout",
          "text": [
            "\u001b[1mShape of the training set:\u001b[0m (6733,) (1684,)\n",
            "\u001b[1mShape of the test set:\u001b[0m (6733,) (1684,)\n"
          ]
        }
      ]
    },
    {
      "cell_type": "markdown",
      "metadata": {
        "id": "x1Iwmsdycm0q"
      },
      "source": [
        "**MACHINE LEARNING**"
      ]
    },
    {
      "cell_type": "code",
      "metadata": {
        "id": "S2B65uNyEvfE"
      },
      "source": [
        "def fit_n_print(model, X_train, X_test, y_train, y_test):  # take the model, train data and test data as input\n",
        "    \n",
        "    start = time.time()  # note the start time \n",
        "\n",
        "    clf = model\n",
        "    clf = Pipeline([('vect', CountVectorizer()),\n",
        "                     ('tfidf', TfidfTransformer()),\n",
        "                     ('model', model),\n",
        "                     ])\n",
        "\n",
        "    clf.fit(X_train, y_train)   # fit the model using the train data\n",
        "\n",
        "    pred_train=clf.predict(X_train) # model predictions on the training data\n",
        "    y_pred = clf.predict(X_test)   # model predictions on the test data\n",
        "    \n",
        "    accuracy_training = (accuracy_score(y_train,pred_train))*100 #accurancy on training\n",
        "    accuracy_test= (accuracy_score(y_test,y_pred ))*100  #accuracy on test\n",
        "    \n",
        "\n",
        "    recallscore_training =(recall_score(y_train,pred_train,average='weighted'))*100  #recall on training\n",
        "    recallscore_test = (recall_score(y_test,y_pred, average='weighted'))*100  #recall on test\n",
        "    \n",
        "    precision_training = (precision_score(y_train,pred_train, average='weighted'))*100\n",
        "    precision_test = (precision_score(y_test,y_pred,average='weighted'))*100\n",
        "    \n",
        "    f1score_training = (f1_score(y_train,pred_train, average='weighted'))*100\n",
        "    f1score_test = (f1_score(y_test,y_pred, average='weighted'))*100\n",
        "        \n",
        "    end = time.time()  #note the end time\n",
        "       \n",
        "    duration = end - start  # calculate the total duration\n",
        "\n",
        "    print('Algorithm:', type(model).__name__)\n",
        "    print(\"\\n Classification report:\\n\", classification_report(y_test, y_pred))\n",
        "    print(\"\\n Confusion report:\\n\", confusion_matrix(y_test, y_pred))\n",
        "    print(\"Accuracy Score:\", accuracy_score(y_test, y_pred))\n",
        "    print()\n",
        "    print(\"\\n \\n\")\n",
        "     \n",
        "    \n",
        "\n",
        "    return  accuracy_training,accuracy_test,recallscore_training, recallscore_test, precision_training,precision_test,f1score_training, f1score_test,  duration, y_pred  # return all the metrics along with predictions\n",
        "\n",
        "\n",
        "\n"
      ],
      "execution_count": 16,
      "outputs": []
    },
    {
      "cell_type": "code",
      "metadata": {
        "colab": {
          "base_uri": "https://localhost:8080/"
        },
        "id": "Wp-gpIYgE5zO",
        "outputId": "cf112541-a76a-4097-e4b8-caf9b0838347"
      },
      "source": [
        "rf  = RandomForestClassifier()\n",
        "xgb = XGBClassifier()\n",
        "SVC = LinearSVC()\n",
        "KNN = KNeighborsClassifier()\n",
        "NB = MultinomialNB()\n",
        "\n",
        "result = {}   # Create an empty dictionary to later use to store metrics of each of the models\n",
        "\n",
        "for model, name  in zip([rf,xgb, SVC,KNN,NB], \n",
        "                         ['Random Forest', 'Xgboost', 'SVC','KNN','Naive Bayes']):\n",
        "    result[name] = fit_n_print(model,X_train, X_test, y_train, y_test)"
      ],
      "execution_count": 19,
      "outputs": [
        {
          "output_type": "stream",
          "name": "stdout",
          "text": [
            "Algorithm: RandomForestClassifier\n",
            "\n",
            " Classification report:\n",
            "               precision    recall  f1-score   support\n",
            "\n",
            "           0       0.62      0.98      0.76       783\n",
            "           1       0.00      0.00      0.00         3\n",
            "           2       0.93      0.42      0.58        31\n",
            "           3       0.00      0.00      0.00         5\n",
            "           4       0.66      0.37      0.47        62\n",
            "           5       1.00      0.17      0.29        35\n",
            "           6       0.62      0.20      0.30        25\n",
            "           7       0.00      0.00      0.00        10\n",
            "           8       0.00      0.00      0.00        15\n",
            "           9       1.00      0.92      0.96        12\n",
            "          10       0.50      0.05      0.10        19\n",
            "          11       0.00      0.00      0.00        34\n",
            "          12       0.90      0.32      0.47        56\n",
            "          13       0.00      0.00      0.00         6\n",
            "          14       0.00      0.00      0.00         5\n",
            "          15       0.00      0.00      0.00         5\n",
            "          16       0.50      0.17      0.25         6\n",
            "          17       0.85      0.87      0.86        61\n",
            "          18       0.67      0.21      0.32        19\n",
            "          19       0.00      0.00      0.00         8\n",
            "          20       0.00      0.00      0.00         5\n",
            "          21       0.00      0.00      0.00        11\n",
            "          22       1.00      0.06      0.11        17\n",
            "          23       1.00      0.11      0.20        37\n",
            "          24       0.30      0.50      0.37         6\n",
            "          25       0.50      0.20      0.29        10\n",
            "          27       0.75      0.31      0.44        29\n",
            "          28       0.00      0.00      0.00        16\n",
            "          30       1.00      0.25      0.40         4\n",
            "          31       1.00      0.33      0.50         3\n",
            "          33       0.50      0.67      0.57         3\n",
            "          34       1.00      0.12      0.22        16\n",
            "          35       0.00      0.00      0.00        10\n",
            "          36       1.00      0.17      0.29         6\n",
            "          37       0.00      0.00      0.00         9\n",
            "          38       0.00      0.00      0.00         1\n",
            "          39       0.00      0.00      0.00         4\n",
            "          40       0.00      0.00      0.00        13\n",
            "          41       0.00      0.00      0.00         2\n",
            "          42       0.00      0.00      0.00         4\n",
            "          43       0.15      0.29      0.20         7\n",
            "          45       0.92      0.52      0.67        23\n",
            "          46       0.00      0.00      0.00         2\n",
            "          47       0.00      0.00      0.00         2\n",
            "          48       0.00      0.00      0.00         4\n",
            "          49       0.00      0.00      0.00         4\n",
            "          51       0.00      0.00      0.00         2\n",
            "          55       0.00      0.00      0.00         1\n",
            "          56       0.61      0.45      0.52        31\n",
            "          57       0.00      0.00      0.00         1\n",
            "          58       0.00      0.00      0.00         1\n",
            "          59       0.00      0.00      0.00         6\n",
            "          62       0.00      0.00      0.00         2\n",
            "          63       0.00      0.00      0.00         2\n",
            "          64       0.00      0.00      0.00         1\n",
            "          67       0.00      0.00      0.00        11\n",
            "          69       0.00      0.00      0.00         1\n",
            "          72       0.60      0.81      0.69       122\n",
            "          73       0.46      0.22      0.30        55\n",
            "\n",
            "    accuracy                           0.64      1684\n",
            "   macro avg       0.32      0.16      0.19      1684\n",
            "weighted avg       0.59      0.64      0.55      1684\n",
            "\n",
            "\n",
            " Confusion report:\n",
            " [[771   0   0 ...   0   0   0]\n",
            " [  1   0   0 ...   0   2   0]\n",
            " [ 16   0  13 ...   0   1   1]\n",
            " ...\n",
            " [  1   0   0 ...   0   0   0]\n",
            " [  6   0   1 ...   0  99   7]\n",
            " [ 14   0   0 ...   0  27  12]]\n",
            "Accuracy Score: 0.6359857482185273\n",
            "\n",
            "\n",
            " \n",
            "\n",
            "Algorithm: XGBClassifier\n",
            "\n",
            " Classification report:\n",
            "               precision    recall  f1-score   support\n",
            "\n",
            "           0       0.65      0.96      0.78       783\n",
            "           1       0.00      0.00      0.00         3\n",
            "           2       0.86      0.39      0.53        31\n",
            "           3       0.00      0.00      0.00         5\n",
            "           4       0.69      0.39      0.49        62\n",
            "           5       0.68      0.37      0.48        35\n",
            "           6       0.67      0.08      0.14        25\n",
            "           7       0.50      0.20      0.29        10\n",
            "           8       0.55      0.40      0.46        15\n",
            "           9       1.00      0.83      0.91        12\n",
            "          10       0.50      0.21      0.30        19\n",
            "          11       0.89      0.24      0.37        34\n",
            "          12       0.87      0.36      0.51        56\n",
            "          13       0.00      0.00      0.00         6\n",
            "          14       0.00      0.00      0.00         5\n",
            "          15       0.25      0.20      0.22         5\n",
            "          16       0.43      0.50      0.46         6\n",
            "          17       0.88      0.72      0.79        61\n",
            "          18       0.62      0.42      0.50        19\n",
            "          19       0.00      0.00      0.00         8\n",
            "          20       0.00      0.00      0.00         5\n",
            "          21       0.00      0.00      0.00        11\n",
            "          22       0.47      0.41      0.44        17\n",
            "          23       1.00      0.11      0.20        37\n",
            "          24       0.14      0.17      0.15         6\n",
            "          25       0.50      0.10      0.17        10\n",
            "          27       0.62      0.34      0.44        29\n",
            "          28       0.20      0.06      0.10        16\n",
            "          30       0.00      0.00      0.00         4\n",
            "          31       0.00      0.00      0.00         3\n",
            "          32       0.00      0.00      0.00         0\n",
            "          33       0.40      0.67      0.50         3\n",
            "          34       0.17      0.06      0.09        16\n",
            "          35       0.00      0.00      0.00        10\n",
            "          36       0.80      0.67      0.73         6\n",
            "          37       0.67      0.22      0.33         9\n",
            "          38       0.00      0.00      0.00         1\n",
            "          39       0.00      0.00      0.00         4\n",
            "          40       0.00      0.00      0.00        13\n",
            "          41       0.00      0.00      0.00         2\n",
            "          42       0.00      0.00      0.00         4\n",
            "          43       0.00      0.00      0.00         7\n",
            "          45       0.92      0.48      0.63        23\n",
            "          46       0.00      0.00      0.00         2\n",
            "          47       0.00      0.00      0.00         2\n",
            "          48       0.00      0.00      0.00         4\n",
            "          49       0.00      0.00      0.00         4\n",
            "          51       0.00      0.00      0.00         2\n",
            "          55       0.00      0.00      0.00         1\n",
            "          56       0.55      0.35      0.43        31\n",
            "          57       0.00      0.00      0.00         1\n",
            "          58       0.00      0.00      0.00         1\n",
            "          59       1.00      0.17      0.29         6\n",
            "          62       0.00      0.00      0.00         2\n",
            "          63       0.00      0.00      0.00         2\n",
            "          64       0.00      0.00      0.00         1\n",
            "          67       0.60      0.55      0.57        11\n",
            "          69       0.00      0.00      0.00         1\n",
            "          72       0.55      0.86      0.67       122\n",
            "          73       0.75      0.11      0.19        55\n",
            "\n",
            "    accuracy                           0.64      1684\n",
            "   macro avg       0.32      0.19      0.22      1684\n",
            "weighted avg       0.62      0.64      0.58      1684\n",
            "\n",
            "\n",
            " Confusion report:\n",
            " [[752   0   0 ...   0   0   1]\n",
            " [  1   0   0 ...   0   1   0]\n",
            " [ 15   0  12 ...   0   3   0]\n",
            " ...\n",
            " [  1   0   0 ...   0   0   0]\n",
            " [  7   0   1 ...   0 105   0]\n",
            " [  9   0   0 ...   0  39   6]]\n",
            "Accuracy Score: 0.6425178147268409\n",
            "\n",
            "\n",
            " \n",
            "\n",
            "Algorithm: LinearSVC\n",
            "\n",
            " Classification report:\n",
            "               precision    recall  f1-score   support\n",
            "\n",
            "           0       0.75      0.95      0.84       783\n",
            "           1       0.00      0.00      0.00         3\n",
            "           2       0.83      0.61      0.70        31\n",
            "           3       0.33      0.20      0.25         5\n",
            "           4       0.63      0.61      0.62        62\n",
            "           5       0.63      0.63      0.63        35\n",
            "           6       0.69      0.36      0.47        25\n",
            "           7       1.00      0.50      0.67        10\n",
            "           8       0.25      0.13      0.17        15\n",
            "           9       0.92      0.92      0.92        12\n",
            "          10       0.64      0.37      0.47        19\n",
            "          11       0.40      0.24      0.30        34\n",
            "          12       0.69      0.43      0.53        56\n",
            "          13       0.00      0.00      0.00         6\n",
            "          14       0.00      0.00      0.00         5\n",
            "          15       0.33      0.20      0.25         5\n",
            "          16       0.56      0.83      0.67         6\n",
            "          17       0.92      0.92      0.92        61\n",
            "          18       0.73      0.42      0.53        19\n",
            "          19       0.00      0.00      0.00         8\n",
            "          20       0.00      0.00      0.00         5\n",
            "          21       0.00      0.00      0.00        11\n",
            "          22       0.48      0.59      0.53        17\n",
            "          23       0.61      0.30      0.40        37\n",
            "          24       0.22      0.33      0.27         6\n",
            "          25       0.33      0.30      0.32        10\n",
            "          27       0.70      0.48      0.57        29\n",
            "          28       0.25      0.06      0.10        16\n",
            "          30       1.00      0.25      0.40         4\n",
            "          31       0.50      0.33      0.40         3\n",
            "          33       0.50      0.67      0.57         3\n",
            "          34       0.83      0.31      0.45        16\n",
            "          35       0.67      0.60      0.63        10\n",
            "          36       0.80      0.67      0.73         6\n",
            "          37       0.50      0.56      0.53         9\n",
            "          38       0.33      1.00      0.50         1\n",
            "          39       0.50      0.50      0.50         4\n",
            "          40       0.33      0.08      0.12        13\n",
            "          41       0.00      0.00      0.00         2\n",
            "          42       0.00      0.00      0.00         4\n",
            "          43       1.00      0.29      0.44         7\n",
            "          44       0.00      0.00      0.00         0\n",
            "          45       0.71      0.52      0.60        23\n",
            "          46       0.00      0.00      0.00         2\n",
            "          47       1.00      0.50      0.67         2\n",
            "          48       0.00      0.00      0.00         4\n",
            "          49       0.00      0.00      0.00         4\n",
            "          51       0.00      0.00      0.00         2\n",
            "          55       0.00      0.00      0.00         1\n",
            "          56       0.56      0.45      0.50        31\n",
            "          57       0.00      0.00      0.00         1\n",
            "          58       0.00      0.00      0.00         1\n",
            "          59       0.67      0.33      0.44         6\n",
            "          62       0.00      0.00      0.00         2\n",
            "          63       1.00      0.50      0.67         2\n",
            "          64       0.00      0.00      0.00         1\n",
            "          67       0.67      0.55      0.60        11\n",
            "          69       0.00      0.00      0.00         1\n",
            "          72       0.57      0.86      0.68       122\n",
            "          73       0.82      0.16      0.27        55\n",
            "\n",
            "    accuracy                           0.70      1684\n",
            "   macro avg       0.43      0.33      0.35      1684\n",
            "weighted avg       0.67      0.70      0.66      1684\n",
            "\n",
            "\n",
            " Confusion report:\n",
            " [[740   0   1 ...   0   0   0]\n",
            " [  0   0   0 ...   0   0   0]\n",
            " [  5   0  19 ...   0   2   0]\n",
            " ...\n",
            " [  1   0   0 ...   0   0   0]\n",
            " [  4   0   1 ...   0 105   0]\n",
            " [  2   0   0 ...   0  37   9]]\n",
            "Accuracy Score: 0.6989311163895487\n",
            "\n",
            "\n",
            " \n",
            "\n",
            "Algorithm: KNeighborsClassifier\n",
            "\n",
            " Classification report:\n",
            "               precision    recall  f1-score   support\n",
            "\n",
            "           0       0.69      0.97      0.80       783\n",
            "           1       0.00      0.00      0.00         3\n",
            "           2       0.73      0.61      0.67        31\n",
            "           3       0.25      0.20      0.22         5\n",
            "           4       0.60      0.50      0.54        62\n",
            "           5       0.58      0.43      0.49        35\n",
            "           6       0.54      0.28      0.37        25\n",
            "           7       1.00      0.10      0.18        10\n",
            "           8       0.50      0.07      0.12        15\n",
            "           9       0.89      0.67      0.76        12\n",
            "          10       0.43      0.16      0.23        19\n",
            "          11       0.45      0.29      0.36        34\n",
            "          12       0.83      0.34      0.48        56\n",
            "          13       0.00      0.00      0.00         6\n",
            "          14       0.50      0.20      0.29         5\n",
            "          15       0.17      0.20      0.18         5\n",
            "          16       0.50      0.67      0.57         6\n",
            "          17       0.88      0.85      0.87        61\n",
            "          18       0.33      0.11      0.16        19\n",
            "          19       0.00      0.00      0.00         8\n",
            "          20       0.00      0.00      0.00         5\n",
            "          21       0.00      0.00      0.00        11\n",
            "          22       0.62      0.29      0.40        17\n",
            "          23       0.54      0.19      0.28        37\n",
            "          24       0.27      0.50      0.35         6\n",
            "          25       0.00      0.00      0.00        10\n",
            "          26       0.00      0.00      0.00         0\n",
            "          27       0.58      0.24      0.34        29\n",
            "          28       0.67      0.12      0.21        16\n",
            "          30       1.00      0.25      0.40         4\n",
            "          31       0.00      0.00      0.00         3\n",
            "          33       0.50      0.67      0.57         3\n",
            "          34       0.80      0.25      0.38        16\n",
            "          35       0.00      0.00      0.00        10\n",
            "          36       1.00      0.67      0.80         6\n",
            "          37       0.83      0.56      0.67         9\n",
            "          38       0.33      1.00      0.50         1\n",
            "          39       0.00      0.00      0.00         4\n",
            "          40       1.00      0.08      0.14        13\n",
            "          41       0.00      0.00      0.00         2\n",
            "          42       0.00      0.00      0.00         4\n",
            "          43       0.33      0.14      0.20         7\n",
            "          45       0.77      0.43      0.56        23\n",
            "          46       0.00      0.00      0.00         2\n",
            "          47       0.00      0.00      0.00         2\n",
            "          48       0.00      0.00      0.00         4\n",
            "          49       0.00      0.00      0.00         4\n",
            "          51       1.00      0.50      0.67         2\n",
            "          55       0.00      0.00      0.00         1\n",
            "          56       0.35      0.61      0.45        31\n",
            "          57       0.00      0.00      0.00         1\n",
            "          58       0.00      0.00      0.00         1\n",
            "          59       1.00      0.33      0.50         6\n",
            "          62       0.00      0.00      0.00         2\n",
            "          63       0.00      0.00      0.00         2\n",
            "          64       0.00      0.00      0.00         1\n",
            "          67       0.00      0.00      0.00        11\n",
            "          69       0.00      0.00      0.00         1\n",
            "          72       0.60      0.78      0.68       122\n",
            "          73       0.57      0.07      0.13        55\n",
            "\n",
            "    accuracy                           0.66      1684\n",
            "   macro avg       0.38      0.24      0.26      1684\n",
            "weighted avg       0.62      0.66      0.60      1684\n",
            "\n",
            "\n",
            " Confusion report:\n",
            " [[756   0   3 ...   0   0   0]\n",
            " [  0   0   0 ...   0   1   0]\n",
            " [ 10   0  19 ...   0   1   0]\n",
            " ...\n",
            " [  0   0   0 ...   0   0   0]\n",
            " [  5   0   1 ...   0  95   1]\n",
            " [  9   0   0 ...   0  28   4]]\n",
            "Accuracy Score: 0.6561757719714965\n",
            "\n",
            "\n",
            " \n",
            "\n",
            "Algorithm: MultinomialNB\n",
            "\n",
            " Classification report:\n",
            "               precision    recall  f1-score   support\n",
            "\n",
            "           0       0.55      1.00      0.71       783\n",
            "           1       0.00      0.00      0.00         3\n",
            "           2       0.00      0.00      0.00        31\n",
            "           3       0.00      0.00      0.00         5\n",
            "           4       0.62      0.08      0.14        62\n",
            "           5       0.00      0.00      0.00        35\n",
            "           6       0.00      0.00      0.00        25\n",
            "           7       0.00      0.00      0.00        10\n",
            "           8       0.00      0.00      0.00        15\n",
            "           9       0.00      0.00      0.00        12\n",
            "          10       0.00      0.00      0.00        19\n",
            "          11       0.00      0.00      0.00        34\n",
            "          12       0.50      0.02      0.03        56\n",
            "          13       0.00      0.00      0.00         6\n",
            "          14       0.00      0.00      0.00         5\n",
            "          15       0.00      0.00      0.00         5\n",
            "          16       0.00      0.00      0.00         6\n",
            "          17       1.00      0.51      0.67        61\n",
            "          18       0.00      0.00      0.00        19\n",
            "          19       0.00      0.00      0.00         8\n",
            "          20       0.00      0.00      0.00         5\n",
            "          21       0.00      0.00      0.00        11\n",
            "          22       0.00      0.00      0.00        17\n",
            "          23       0.00      0.00      0.00        37\n",
            "          24       0.00      0.00      0.00         6\n",
            "          25       0.00      0.00      0.00        10\n",
            "          27       0.00      0.00      0.00        29\n",
            "          28       0.00      0.00      0.00        16\n",
            "          30       0.00      0.00      0.00         4\n",
            "          31       0.00      0.00      0.00         3\n",
            "          33       0.00      0.00      0.00         3\n",
            "          34       0.00      0.00      0.00        16\n",
            "          35       0.00      0.00      0.00        10\n",
            "          36       0.00      0.00      0.00         6\n",
            "          37       0.00      0.00      0.00         9\n",
            "          38       0.00      0.00      0.00         1\n",
            "          39       0.00      0.00      0.00         4\n",
            "          40       0.00      0.00      0.00        13\n",
            "          41       0.00      0.00      0.00         2\n",
            "          42       0.00      0.00      0.00         4\n",
            "          43       0.00      0.00      0.00         7\n",
            "          45       0.00      0.00      0.00        23\n",
            "          46       0.00      0.00      0.00         2\n",
            "          47       0.00      0.00      0.00         2\n",
            "          48       0.00      0.00      0.00         4\n",
            "          49       0.00      0.00      0.00         4\n",
            "          51       0.00      0.00      0.00         2\n",
            "          55       0.00      0.00      0.00         1\n",
            "          56       0.00      0.00      0.00        31\n",
            "          57       0.00      0.00      0.00         1\n",
            "          58       0.00      0.00      0.00         1\n",
            "          59       0.00      0.00      0.00         6\n",
            "          62       0.00      0.00      0.00         2\n",
            "          63       0.00      0.00      0.00         2\n",
            "          64       0.00      0.00      0.00         1\n",
            "          67       0.00      0.00      0.00        11\n",
            "          69       0.00      0.00      0.00         1\n",
            "          72       0.49      0.90      0.63       122\n",
            "          73       0.00      0.00      0.00        55\n",
            "\n",
            "    accuracy                           0.55      1684\n",
            "   macro avg       0.05      0.04      0.04      1684\n",
            "weighted avg       0.37      0.55      0.41      1684\n",
            "\n",
            "\n",
            " Confusion report:\n",
            " [[783   0   0 ...   0   0   0]\n",
            " [  2   0   0 ...   0   1   0]\n",
            " [ 16   0   0 ...   0  15   0]\n",
            " ...\n",
            " [  1   0   0 ...   0   0   0]\n",
            " [ 12   0   0 ...   0 110   0]\n",
            " [ 14   0   0 ...   0  41   0]]\n",
            "Accuracy Score: 0.5522565320665083\n",
            "\n",
            "\n",
            " \n",
            "\n"
          ]
        }
      ]
    },
    {
      "cell_type": "code",
      "metadata": {
        "id": "boIGLLJWS7Ep"
      },
      "source": [
        "result_normal = pd.DataFrame(np.array(list(result.values()))[:,:-1],    # make a dataframe out of the metrics from result dictionary \n",
        "                       columns= ['accuracy_training','accuracy_test',\n",
        "                                 'recallscore_training', 'recallscore_test', \n",
        "                                 'precision_training','precision_test',\n",
        "                                 'f1score_training', 'f1score_test', \n",
        "                                 'Elapsed'],\n",
        "                      index= result.keys())   # use the model names as index\n",
        "\n",
        "result_normal.index.name = 'Model'   # name the index of the result1 dataframe as 'Model'\n",
        "\n",
        "result_normal"
      ],
      "execution_count": null,
      "outputs": []
    },
    {
      "cell_type": "markdown",
      "metadata": {
        "id": "WjBRZ7lmchig"
      },
      "source": [
        "**DEEP LEARNING**"
      ]
    },
    {
      "cell_type": "code",
      "metadata": {
        "id": "TUBW8S6pyjYm"
      },
      "source": [
        "gloveFileName = '/content/drive/MyDrive/Great_Learning/NLP_sarcasm_detection/glove.6B/glove.6B.200d.txt'"
      ],
      "execution_count": 139,
      "outputs": []
    },
    {
      "cell_type": "code",
      "metadata": {
        "id": "cxOfdxMWz3V2"
      },
      "source": [
        "#Tokenizing and Padding the Independent features\n",
        "\n",
        "from tensorflow.python.keras.preprocessing.sequence import pad_sequences\n",
        "\n",
        "MAX_LENGTH = 300\n",
        "tokenizer = Tokenizer()\n",
        "tokenizer.fit_on_texts(data_eng.combined_description.values)\n",
        "post_seq = tokenizer.texts_to_sequences(data_eng.combined_description.values)\n",
        "post_seq_padded = pad_sequences(post_seq, maxlen=MAX_LENGTH)"
      ],
      "execution_count": 140,
      "outputs": []
    },
    {
      "cell_type": "code",
      "metadata": {
        "id": "R57X65lQ0Hld"
      },
      "source": [
        "y = data_eng['target']"
      ],
      "execution_count": 141,
      "outputs": []
    },
    {
      "cell_type": "code",
      "metadata": {
        "id": "OAGf2lw50Kut"
      },
      "source": [
        "#Splitting the data into Train and Test (Ratio = 0.20)\n",
        "X_train, X_test, y_train, y_test = train_test_split(post_seq_padded, y, test_size=0.2, random_state=42)"
      ],
      "execution_count": 142,
      "outputs": []
    },
    {
      "cell_type": "code",
      "metadata": {
        "colab": {
          "base_uri": "https://localhost:8080/"
        },
        "id": "bvXtsVXO0K6C",
        "outputId": "ad65e9b9-8387-457d-a455-652555b72364"
      },
      "source": [
        "X_train.shape,X_test.shape"
      ],
      "execution_count": 143,
      "outputs": [
        {
          "output_type": "execute_result",
          "data": {
            "text/plain": [
              "((5608, 300), (1402, 300))"
            ]
          },
          "metadata": {},
          "execution_count": 143
        }
      ]
    },
    {
      "cell_type": "code",
      "metadata": {
        "colab": {
          "base_uri": "https://localhost:8080/"
        },
        "id": "9gYjc7Ju0Orv",
        "outputId": "1d763cf2-2549-49b1-de0b-3b0cf2ecd1e8"
      },
      "source": [
        "y_train.shape, y_test.shape"
      ],
      "execution_count": 144,
      "outputs": [
        {
          "output_type": "execute_result",
          "data": {
            "text/plain": [
              "((5608,), (1402,))"
            ]
          },
          "metadata": {},
          "execution_count": 144
        }
      ]
    },
    {
      "cell_type": "code",
      "metadata": {
        "colab": {
          "base_uri": "https://localhost:8080/"
        },
        "id": "VVhYKq-C0Q5K",
        "outputId": "bc836d83-04cc-4857-a3f2-77c34bc06deb"
      },
      "source": [
        "#Creating input dimension ('vocab_size')\n",
        "\n",
        "vocab_size = len(tokenizer.word_index) + 1\n",
        "max_features = vocab_size \n",
        "vocab_size"
      ],
      "execution_count": 145,
      "outputs": [
        {
          "output_type": "execute_result",
          "data": {
            "text/plain": [
              "15541"
            ]
          },
          "metadata": {},
          "execution_count": 145
        }
      ]
    },
    {
      "cell_type": "code",
      "metadata": {
        "colab": {
          "base_uri": "https://localhost:8080/"
        },
        "id": "jeiPKEal0TVy",
        "outputId": "dc1ef0be-0816-470c-cabe-4bcfc09297be"
      },
      "source": [
        "# Creating Output dimension ('num_class')\n",
        "num_class = len(np.unique(data_eng['target'].values))\n",
        "num_class"
      ],
      "execution_count": 146,
      "outputs": [
        {
          "output_type": "execute_result",
          "data": {
            "text/plain": [
              "74"
            ]
          },
          "metadata": {},
          "execution_count": 146
        }
      ]
    },
    {
      "cell_type": "markdown",
      "metadata": {
        "id": "UAHI8zgA3TDk"
      },
      "source": [
        "**Implementing Bi LSTM**"
      ]
    },
    {
      "cell_type": "code",
      "metadata": {
        "id": "aGdN0ioD0Xhr"
      },
      "source": [
        "max_features = vocab_size  \n",
        "maxlen = 200\n",
        "seq_output_size = 128\n",
        "filters = 64\n",
        "kernel_size = 5\n",
        "pool_size = 4\n",
        "activation_func = 'sigmoid'"
      ],
      "execution_count": 147,
      "outputs": []
    },
    {
      "cell_type": "code",
      "metadata": {
        "colab": {
          "base_uri": "https://localhost:8080/"
        },
        "id": "2VcdOFEZ0vUt",
        "outputId": "5231bd3f-843f-4238-be9a-0e0e42118c77"
      },
      "source": [
        "from keras import layers\n",
        "# For Embedding Layer\n",
        "from keras.layers.embeddings import Embedding\n",
        "\n",
        "\n",
        "# Bi directional LSTM\n",
        "# Input for variable-length sequences of integers\n",
        "inputs = keras.Input(shape=(None,), dtype=\"int32\")\n",
        "# Embed each integer in a 128-dimensional vector\n",
        "x = layers.Embedding(max_features, 128)(inputs)\n",
        "x = layers.Dropout(0.2)(x)\n",
        "# Add 2 bidirectional LSTMs\n",
        "x = layers.Bidirectional(layers.LSTM(64, return_sequences=True))(x)\n",
        "x = layers.Bidirectional(layers.LSTM(64))(x)\n",
        "x = layers.Dropout(0.2)(x)\n",
        "x = layers.Dense(32, activation='relu')(x)\n",
        "outputs = layers.Dense(num_class, activation='softmax')(x)\n",
        "# Add a classifier\n",
        "bilstm_model = keras.Model(inputs, outputs)\n",
        "bilstm_model.summary()"
      ],
      "execution_count": 148,
      "outputs": [
        {
          "output_type": "stream",
          "name": "stdout",
          "text": [
            "Model: \"model\"\n",
            "_________________________________________________________________\n",
            " Layer (type)                Output Shape              Param #   \n",
            "=================================================================\n",
            " input_1 (InputLayer)        [(None, None)]            0         \n",
            "                                                                 \n",
            " embedding (Embedding)       (None, None, 128)         1989248   \n",
            "                                                                 \n",
            " dropout (Dropout)           (None, None, 128)         0         \n",
            "                                                                 \n",
            " bidirectional (Bidirectiona  (None, None, 128)        98816     \n",
            " l)                                                              \n",
            "                                                                 \n",
            " bidirectional_1 (Bidirectio  (None, 128)              98816     \n",
            " nal)                                                            \n",
            "                                                                 \n",
            " dropout_1 (Dropout)         (None, 128)               0         \n",
            "                                                                 \n",
            " dense (Dense)               (None, 32)                4128      \n",
            "                                                                 \n",
            " dense_1 (Dense)             (None, 74)                2442      \n",
            "                                                                 \n",
            "=================================================================\n",
            "Total params: 2,193,450\n",
            "Trainable params: 2,193,450\n",
            "Non-trainable params: 0\n",
            "_________________________________________________________________\n"
          ]
        }
      ]
    },
    {
      "cell_type": "code",
      "metadata": {
        "colab": {
          "base_uri": "https://localhost:8080/"
        },
        "id": "LrVXpGB40xic",
        "outputId": "e8e67c11-3a91-4f5f-f068-002da4f68ba6"
      },
      "source": [
        "#model.compile(\"adam\", \"binary_crossentropy\", metrics=[\"accuracy\"])\n",
        "bilstm_model.compile(optimizer='adam',\n",
        "              loss='sparse_categorical_crossentropy',\n",
        "              metrics=['acc'])\n",
        "bilstm_model.fit(X_train, y_train, batch_size=20, epochs=7, validation_data=(X_test, y_test))"
      ],
      "execution_count": 149,
      "outputs": [
        {
          "output_type": "stream",
          "name": "stdout",
          "text": [
            "Epoch 1/7\n",
            "281/281 [==============================] - 224s 765ms/step - loss: 2.4381 - acc: 0.5018 - val_loss: 2.0595 - val_acc: 0.5421\n",
            "Epoch 2/7\n",
            "281/281 [==============================] - 214s 760ms/step - loss: 1.9049 - acc: 0.5446 - val_loss: 1.9983 - val_acc: 0.5492\n",
            "Epoch 3/7\n",
            "281/281 [==============================] - 214s 762ms/step - loss: 1.7174 - acc: 0.5651 - val_loss: 2.0902 - val_acc: 0.5414\n",
            "Epoch 4/7\n",
            "281/281 [==============================] - 214s 762ms/step - loss: 1.5482 - acc: 0.5952 - val_loss: 2.1155 - val_acc: 0.5121\n",
            "Epoch 5/7\n",
            "281/281 [==============================] - 214s 762ms/step - loss: 1.3914 - acc: 0.6289 - val_loss: 2.1216 - val_acc: 0.4765\n",
            "Epoch 6/7\n",
            "281/281 [==============================] - 212s 755ms/step - loss: 1.2440 - acc: 0.6523 - val_loss: 2.1695 - val_acc: 0.5307\n",
            "Epoch 7/7\n",
            "281/281 [==============================] - 212s 754ms/step - loss: 1.1261 - acc: 0.6744 - val_loss: 2.2275 - val_acc: 0.5178\n"
          ]
        },
        {
          "output_type": "execute_result",
          "data": {
            "text/plain": [
              "<keras.callbacks.History at 0x7f05149ed750>"
            ]
          },
          "metadata": {},
          "execution_count": 149
        }
      ]
    },
    {
      "cell_type": "code",
      "metadata": {
        "colab": {
          "base_uri": "https://localhost:8080/"
        },
        "id": "nWGlm1h-3v0P",
        "outputId": "6ea19114-7f42-450e-8d46-07a4f75a1792"
      },
      "source": [
        "bi_lstm_predicted = bilstm_model.predict(X_test)\n",
        "bi_lstm_predicted = np.argmax(bi_lstm_predicted, axis=1)\n",
        "accuracy_score(y_test, bi_lstm_predicted)"
      ],
      "execution_count": 150,
      "outputs": [
        {
          "output_type": "execute_result",
          "data": {
            "text/plain": [
              "0.5178316690442225"
            ]
          },
          "metadata": {},
          "execution_count": 150
        }
      ]
    },
    {
      "cell_type": "markdown",
      "metadata": {
        "id": "1j8Kq137pkh9"
      },
      "source": [
        "**Machine Learning Models.**\n",
        "5 Machine learning models – Random Forests, XGBoost, SVC, kNN, Naïve Bayes were selected.All models help in classification problems. Hence, the selection. \n",
        " \n",
        "**Random Forests**\n",
        "Random forests or random decision forests are an ensemble learning method for classification and regression.\n",
        "Algorithm creates multiple decision trees at training time and output of the class is the mode of the classes (classification) or mean prediction (regression) of the individual trees.\n",
        "Random decision forests correct for decision trees’ habit of overfitting to their training set.\n",
        "In two-dimensional space this hyperplane is a line dividing a plane in two parts where in each class lay either side.\n",
        " \n",
        "**XGBoost**\n",
        "XGBoost stands for eXtreme Gradient Boosting.\n",
        "XGBoost is an ensemble learning algorithm meaning that it combines the results of many models, called base learners, to make a prediction. Like Random Forests, XGBoost uses Decision Trees as base learners.\n",
        "Individual decision trees are low-bias, high-variance models. They are incredibly good at finding the relationships in any type of training data but struggle to generalize well on unseen data.\n",
        "XGBoost is an implementation of gradient boosted decision trees designed for speed and performance.\n",
        "Its speed and performance are unparalleled and it consistently outperforms any other algorithms aimed at supervised learning tasks.\n",
        " \n",
        "**Linear SVC**\n",
        "The Support Vector Machine (SVM) technique is a popular and highly accurate machine learning method for classification problems. SVM try to find an optimal hyperplane within the input space to correctly classify the binary (or multi-class)\n",
        "classification problem. In the two-dimensional space this hyperplane is a line dividing a plane in two parts where in each class lay in either side.\n",
        "\n",
        "**KNN**\n",
        "K Nearest Neighbors is a  Supervised Learning algorithm and is mostly used for classification and also regression. \n",
        "KNN is a non-parametric and lazy learning algorithm.\n",
        "Non-parametric means there is no assumption for underlying data distribution.\n",
        "Lazy algorithms do not need any training data points for model generation.\n",
        "All training data used in the testing phase.\n",
        "Hence. training faster and testing phase slower and costlier leading to more memory usage and also more time.\n",
        "KNN algorithm is uses distances such as Euclidean, Manhattan and Minkowski to find the K nearest neighbors in the training data and then uses these labels to predict. \n",
        "Naïve Bayes\n",
        "A Naive Bayes classifier is an algorithm that uses Bayes’ theorem to classify objects. Naive Bayes classifiers assume strong, or naive, independence between attributes of data points. The key insight of Bayes’ theorem is that the probability of an event can be adjusted as new data is introduced. These classifiers are widely used for machine learning because they are simple to implement.\n",
        " \n",
        "**Deep learning models**\n",
        "\n",
        "**Bi-LSTM:(Bi-directional long short term memory):**\n",
        "Bidirectional recurrent neural networks(RNN) are really just putting two independent RNNs together. This structure allows the networks to have both backward and forward information about the sequence at every time step\n",
        "Using bidirectional will run the inputs in two ways, one from past to future and one from future to past and what differs this approach from unidirectional is that in the LSTM that runs backward you preserve information from the future and using the two hidden states combined you are able in any point in time to preserve information from both past and future.\n",
        "In NLP sometimes to understand a word we need not just to the previous word, but also the next word.\n",
        " \n",
        "**Model Tuning and hypertuning**\n",
        "We plan to test some more DL models RNN, LSTM and research on feasibility of other models too.\n",
        "Also, hyper tuning , cross-validation , gridSearch will be performed on these models to see the improvement in the accuracy scores.\n"
      ]
    }
  ]
}