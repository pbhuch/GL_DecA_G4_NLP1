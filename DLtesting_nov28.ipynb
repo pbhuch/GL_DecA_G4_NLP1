{
  "nbformat": 4,
  "nbformat_minor": 0,
  "metadata": {
    "colab": {
      "name": "DLtesting_nov28.ipynb",
      "provenance": [],
      "collapsed_sections": [],
      "authorship_tag": "ABX9TyPmSmL9JI+jz5lK3xZrXirI",
      "include_colab_link": true
    },
    "kernelspec": {
      "name": "python3",
      "display_name": "Python 3"
    },
    "language_info": {
      "name": "python"
    },
    "accelerator": "GPU"
  },
  "cells": [
    {
      "cell_type": "markdown",
      "metadata": {
        "id": "view-in-github",
        "colab_type": "text"
      },
      "source": [
        "<a href=\"https://colab.research.google.com/github/pbhuch/GL_DecA_G4_NLP1/blob/NLP1_PM/DLtesting_nov28.ipynb\" target=\"_parent\"><img src=\"https://colab.research.google.com/assets/colab-badge.svg\" alt=\"Open In Colab\"/></a>"
      ]
    },
    {
      "cell_type": "code",
      "metadata": {
        "colab": {
          "base_uri": "https://localhost:8080/",
          "height": 505
        },
        "id": "k-GLB0nIhYtY",
        "outputId": "7b879b37-7f4a-4bf1-9292-723a2fb36bbe"
      },
      "source": [
        "!pip install ftfy\n",
        "from time import time\n",
        "from PIL import Image\n",
        "from zipfile import ZipFile\n",
        "import os, sys, itertools, re\n",
        "import tensorflow as tf\n",
        "import pandas as pd\n",
        "import numpy as np\n",
        "import seaborn as sns\n",
        "import matplotlib.pyplot as plt\n",
        "%matplotlib inline\n",
        "from sklearn.model_selection import train_test_split\n",
        "import plotly as py\n",
        "import plotly.graph_objs as go\n",
        "import plotly.express as px\n",
        "from plotly.offline import init_notebook_mode, iplot, plot\n",
        "from sklearn.preprocessing import QuantileTransformer\n",
        "from sklearn.ensemble import RandomForestClassifier\n",
        "from sklearn.ensemble import VotingClassifier\n",
        "from sklearn.ensemble import BaggingClassifier\n",
        "from sklearn.tree import DecisionTreeClassifier\n",
        "from sklearn.metrics import accuracy_score,f1_score,recall_score,precision_score, confusion_matrix, classification_report\n",
        "import sklearn.neighbors._base\n",
        "\n",
        "import imblearn\n",
        "from imblearn.over_sampling import SMOTE\n",
        "\n",
        "from tensorflow.keras.utils import to_categorical\n",
        "from tensorflow.keras.models import Model, Sequential\n",
        "from tensorflow.keras.initializers import Constant\n",
        "from tensorflow.keras.layers import Flatten, Dense, Dropout, BatchNormalization, Activation, Conv2D, MaxPooling2D, Reshape, Embedding, LSTM,  TimeDistributed, Bidirectional, Lambda, Input, Add, GlobalMaxPool1D\n",
        "from tensorflow.keras import regularizers, optimizers\n",
        "from sklearn.metrics import r2_score\n",
        "from tensorflow.keras.models import load_model\n",
        "from tensorflow import keras\n",
        "from tensorflow.keras.optimizers import Adam\n",
        "from tensorflow.keras.wrappers.scikit_learn import KerasClassifier, KerasRegressor\n",
        "#import cv2\n",
        "from tensorflow.keras.applications.mobilenet import preprocess_input\n",
        "from tensorflow.keras.callbacks import ModelCheckpoint, EarlyStopping, ReduceLROnPlateau\n",
        "\n",
        "# to define loss\n",
        "from tensorflow.keras.losses import binary_crossentropy\n",
        "from tensorflow.keras.backend import log, epsilon\n",
        "\n",
        "from tensorflow.keras.preprocessing.sequence import pad_sequences\n",
        "from tensorflow.keras.preprocessing.text import Tokenizer\n",
        "from tensorflow.keras.preprocessing import sequence\n",
        "from tensorflow.keras.datasets import imdb\n",
        "\n",
        "from itertools import islice\n",
        "\n",
        "import re\n",
        "import nltk\n",
        "from nltk.corpus import stopwords\n",
        "\n",
        "from ftfy import fix_encoding, fix_text, badness\n",
        "from wordcloud import WordCloud, STOPWORDS, ImageColorGenerator\n",
        "\n",
        "from sklearn.utils import resample\n",
        "\n",
        "import pickle, string\n",
        "\n",
        "import cufflinks as cf\n",
        "cf.go_offline()\n",
        "cf.set_config_file(offline=False, world_readable=True)\n",
        "\n",
        "import plotly as py\n",
        "import plotly.graph_objs as go\n",
        "from plotly.offline import download_plotlyjs,init_notebook_mode,plot,iplot\n",
        "\n",
        "import spacy\n",
        "\n",
        "# import nlpaug.augmenter.char as nac\n",
        "# import nlpaug.augmenter.word as naw\n",
        "# import nlpaug.augmenter.sentence as nas\n",
        "# import nlpaug.flow as nafc\n",
        "\n",
        "# from nlpaug.util import Action\n",
        "\n",
        "# Suppress warnings\n",
        "import warnings; warnings.filterwarnings('ignore')\n",
        "\n",
        "SEED = 123                 # to be able to rerun the same NN\n",
        "np.random.seed(SEED)\n",
        "tf.random.set_seed(SEED)\n",
        "\n",
        "from IPython.display import display\n",
        "pd.options.display.max_columns = None\n",
        "pd.options.display.max_rows = None\n",
        "\n",
        "! pip install langdetect\n",
        "from langdetect import detect\n",
        "from langdetect import detect\n",
        "!pip install goslate\n",
        "from goslate import Goslate\n",
        "!pip install spacy\n",
        "from collections import defaultdict\n",
        "from bs4 import BeautifulSoup\n",
        "import gensim\n",
        "import gensim.corpora as corpora\n",
        "#Remove stemming(snowball stemming) add lemmatistaion using simple_process from gensim \n",
        "from gensim.utils import simple_preprocess\n",
        "from gensim.models.ldamodel import LdaModel\n",
        "from gensim.models import CoherenceModel\n",
        "\n",
        "# spacy for lemmatization\n",
        "import spacy\n",
        "\n",
        "from sklearn.naive_bayes import MultinomialNB\n",
        "from sklearn.neighbors import KNeighborsClassifier\n",
        "from sklearn.svm import SVC, LinearSVC\n",
        "from xgboost import XGBClassifier\n",
        "from sklearn.pipeline import Pipeline\n",
        "from sklearn.feature_extraction.text import CountVectorizer, TfidfVectorizer, TfidfTransformer"
      ],
      "execution_count": 16,
      "outputs": [
        {
          "output_type": "stream",
          "name": "stdout",
          "text": [
            "Requirement already satisfied: ftfy in /usr/local/lib/python3.7/dist-packages (6.0.3)\n",
            "Requirement already satisfied: wcwidth in /usr/local/lib/python3.7/dist-packages (from ftfy) (0.2.5)\n"
          ]
        },
        {
          "output_type": "display_data",
          "data": {
            "text/html": [
              "        <script type=\"text/javascript\">\n",
              "        window.PlotlyConfig = {MathJaxConfig: 'local'};\n",
              "        if (window.MathJax) {MathJax.Hub.Config({SVG: {font: \"STIX-Web\"}});}\n",
              "        if (typeof require !== 'undefined') {\n",
              "        require.undef(\"plotly\");\n",
              "        requirejs.config({\n",
              "            paths: {\n",
              "                'plotly': ['https://cdn.plot.ly/plotly-latest.min']\n",
              "            }\n",
              "        });\n",
              "        require(['plotly'], function(Plotly) {\n",
              "            window._Plotly = Plotly;\n",
              "        });\n",
              "        }\n",
              "        </script>\n",
              "        "
            ]
          },
          "metadata": {}
        },
        {
          "output_type": "stream",
          "name": "stdout",
          "text": [
            "Requirement already satisfied: langdetect in /usr/local/lib/python3.7/dist-packages (1.0.9)\n",
            "Requirement already satisfied: six in /usr/local/lib/python3.7/dist-packages (from langdetect) (1.15.0)\n",
            "Requirement already satisfied: goslate in /usr/local/lib/python3.7/dist-packages (1.5.2)\n",
            "Requirement already satisfied: futures in /usr/local/lib/python3.7/dist-packages (from goslate) (2.2.0)\n",
            "Requirement already satisfied: spacy in /usr/local/lib/python3.7/dist-packages (2.2.4)\n",
            "Requirement already satisfied: cymem<2.1.0,>=2.0.2 in /usr/local/lib/python3.7/dist-packages (from spacy) (2.0.6)\n",
            "Requirement already satisfied: thinc==7.4.0 in /usr/local/lib/python3.7/dist-packages (from spacy) (7.4.0)\n",
            "Requirement already satisfied: catalogue<1.1.0,>=0.0.7 in /usr/local/lib/python3.7/dist-packages (from spacy) (1.0.0)\n",
            "Requirement already satisfied: plac<1.2.0,>=0.9.6 in /usr/local/lib/python3.7/dist-packages (from spacy) (1.1.3)\n",
            "Requirement already satisfied: requests<3.0.0,>=2.13.0 in /usr/local/lib/python3.7/dist-packages (from spacy) (2.23.0)\n",
            "Requirement already satisfied: tqdm<5.0.0,>=4.38.0 in /usr/local/lib/python3.7/dist-packages (from spacy) (4.62.3)\n",
            "Requirement already satisfied: setuptools in /usr/local/lib/python3.7/dist-packages (from spacy) (57.4.0)\n",
            "Requirement already satisfied: blis<0.5.0,>=0.4.0 in /usr/local/lib/python3.7/dist-packages (from spacy) (0.4.1)\n",
            "Requirement already satisfied: wasabi<1.1.0,>=0.4.0 in /usr/local/lib/python3.7/dist-packages (from spacy) (0.8.2)\n",
            "Requirement already satisfied: preshed<3.1.0,>=3.0.2 in /usr/local/lib/python3.7/dist-packages (from spacy) (3.0.6)\n",
            "Requirement already satisfied: srsly<1.1.0,>=1.0.2 in /usr/local/lib/python3.7/dist-packages (from spacy) (1.0.5)\n",
            "Requirement already satisfied: numpy>=1.15.0 in /usr/local/lib/python3.7/dist-packages (from spacy) (1.19.5)\n",
            "Requirement already satisfied: murmurhash<1.1.0,>=0.28.0 in /usr/local/lib/python3.7/dist-packages (from spacy) (1.0.6)\n",
            "Requirement already satisfied: importlib-metadata>=0.20 in /usr/local/lib/python3.7/dist-packages (from catalogue<1.1.0,>=0.0.7->spacy) (4.8.2)\n",
            "Requirement already satisfied: zipp>=0.5 in /usr/local/lib/python3.7/dist-packages (from importlib-metadata>=0.20->catalogue<1.1.0,>=0.0.7->spacy) (3.6.0)\n",
            "Requirement already satisfied: typing-extensions>=3.6.4 in /usr/local/lib/python3.7/dist-packages (from importlib-metadata>=0.20->catalogue<1.1.0,>=0.0.7->spacy) (3.10.0.2)\n",
            "Requirement already satisfied: urllib3!=1.25.0,!=1.25.1,<1.26,>=1.21.1 in /usr/local/lib/python3.7/dist-packages (from requests<3.0.0,>=2.13.0->spacy) (1.24.3)\n",
            "Requirement already satisfied: idna<3,>=2.5 in /usr/local/lib/python3.7/dist-packages (from requests<3.0.0,>=2.13.0->spacy) (2.10)\n",
            "Requirement already satisfied: chardet<4,>=3.0.2 in /usr/local/lib/python3.7/dist-packages (from requests<3.0.0,>=2.13.0->spacy) (3.0.4)\n",
            "Requirement already satisfied: certifi>=2017.4.17 in /usr/local/lib/python3.7/dist-packages (from requests<3.0.0,>=2.13.0->spacy) (2021.10.8)\n"
          ]
        }
      ]
    },
    {
      "cell_type": "code",
      "metadata": {
        "id": "mDvnnzUFqRPb"
      },
      "source": [
        "dataset = pd.read_excel('/content/sample_data/df_DetermApplived_GroupMerged_forDL_PriyaM.xlsx')"
      ],
      "execution_count": 17,
      "outputs": []
    },
    {
      "cell_type": "code",
      "metadata": {
        "colab": {
          "base_uri": "https://localhost:8080/"
        },
        "id": "XbK1kgo7qfQ0",
        "outputId": "237b5874-4f9a-48ea-89b5-ab6ef00a3c12"
      },
      "source": [
        "dataset.info()"
      ],
      "execution_count": 18,
      "outputs": [
        {
          "output_type": "stream",
          "name": "stdout",
          "text": [
            "<class 'pandas.core.frame.DataFrame'>\n",
            "RangeIndex: 7860 entries, 0 to 7859\n",
            "Data columns (total 9 columns):\n",
            " #   Column                Non-Null Count  Dtype  \n",
            "---  ------                --------------  -----  \n",
            " 0   Unnamed: 0            7860 non-null   int64  \n",
            " 1   Short description     7851 non-null   object \n",
            " 2   Description           7845 non-null   object \n",
            " 3   Caller                7860 non-null   object \n",
            " 4   Assignment group      7860 non-null   object \n",
            " 5   New Assignment Group  7860 non-null   object \n",
            " 6   combined_description  7860 non-null   object \n",
            " 7   pred_group            0 non-null      float64\n",
            " 8   Language              7860 non-null   object \n",
            "dtypes: float64(1), int64(1), object(7)\n",
            "memory usage: 552.8+ KB\n"
          ]
        }
      ]
    },
    {
      "cell_type": "code",
      "metadata": {
        "id": "4tAZ8ZTsqiSv"
      },
      "source": [
        "dataset = dataset.drop(columns='Unnamed: 0',axis=1)"
      ],
      "execution_count": 19,
      "outputs": []
    },
    {
      "cell_type": "code",
      "metadata": {
        "colab": {
          "base_uri": "https://localhost:8080/",
          "height": 397
        },
        "id": "SSOzwirnqwZh",
        "outputId": "ab1dee34-fc0e-477d-c31b-9fadfbd4bbc2"
      },
      "source": [
        "dataset.head()"
      ],
      "execution_count": 20,
      "outputs": [
        {
          "output_type": "execute_result",
          "data": {
            "text/html": [
              "<div>\n",
              "<style scoped>\n",
              "    .dataframe tbody tr th:only-of-type {\n",
              "        vertical-align: middle;\n",
              "    }\n",
              "\n",
              "    .dataframe tbody tr th {\n",
              "        vertical-align: top;\n",
              "    }\n",
              "\n",
              "    .dataframe thead th {\n",
              "        text-align: right;\n",
              "    }\n",
              "</style>\n",
              "<table border=\"1\" class=\"dataframe\">\n",
              "  <thead>\n",
              "    <tr style=\"text-align: right;\">\n",
              "      <th></th>\n",
              "      <th>Short description</th>\n",
              "      <th>Description</th>\n",
              "      <th>Caller</th>\n",
              "      <th>Assignment group</th>\n",
              "      <th>New Assignment Group</th>\n",
              "      <th>combined_description</th>\n",
              "      <th>pred_group</th>\n",
              "      <th>Language</th>\n",
              "    </tr>\n",
              "  </thead>\n",
              "  <tbody>\n",
              "    <tr>\n",
              "      <th>0</th>\n",
              "      <td>login issue</td>\n",
              "      <td>verified user details. employee and manager na...</td>\n",
              "      <td>spxjnwir pjlcoqds</td>\n",
              "      <td>GRP_0</td>\n",
              "      <td>GRP_0</td>\n",
              "      <td>login issue verified user details  employee an...</td>\n",
              "      <td>NaN</td>\n",
              "      <td>en</td>\n",
              "    </tr>\n",
              "    <tr>\n",
              "      <th>1</th>\n",
              "      <td>outlook</td>\n",
              "      <td>team my meetings/skype meetings etc are not ap...</td>\n",
              "      <td>hmjdrvpb komuaywn</td>\n",
              "      <td>GRP_0</td>\n",
              "      <td>GRP_0</td>\n",
              "      <td>outlook team my meetings/skype meetings etc ar...</td>\n",
              "      <td>NaN</td>\n",
              "      <td>en</td>\n",
              "    </tr>\n",
              "    <tr>\n",
              "      <th>2</th>\n",
              "      <td>cant log in to vpn</td>\n",
              "      <td>hi i cannot log on to vpn best</td>\n",
              "      <td>eylqgodm ybqkwiam</td>\n",
              "      <td>GRP_0</td>\n",
              "      <td>GRP_0</td>\n",
              "      <td>cant log in to vpn hi i cannot log on to vpn best</td>\n",
              "      <td>NaN</td>\n",
              "      <td>en</td>\n",
              "    </tr>\n",
              "    <tr>\n",
              "      <th>3</th>\n",
              "      <td>unable to access hr tool page</td>\n",
              "      <td>unable to access hr tool page</td>\n",
              "      <td>xbkucsvz gcpydteq</td>\n",
              "      <td>GRP_0</td>\n",
              "      <td>GRP_0</td>\n",
              "      <td>unable to access hr tool page unable to access...</td>\n",
              "      <td>NaN</td>\n",
              "      <td>en</td>\n",
              "    </tr>\n",
              "    <tr>\n",
              "      <th>4</th>\n",
              "      <td>skype error</td>\n",
              "      <td>skype error</td>\n",
              "      <td>owlgqjme qhcozdfx</td>\n",
              "      <td>GRP_0</td>\n",
              "      <td>GRP_0</td>\n",
              "      <td>skype error skype error</td>\n",
              "      <td>NaN</td>\n",
              "      <td>no</td>\n",
              "    </tr>\n",
              "  </tbody>\n",
              "</table>\n",
              "</div>"
            ],
            "text/plain": [
              "               Short description  \\\n",
              "0                    login issue   \n",
              "1                        outlook   \n",
              "2             cant log in to vpn   \n",
              "3  unable to access hr tool page   \n",
              "4                    skype error   \n",
              "\n",
              "                                         Description             Caller  \\\n",
              "0  verified user details. employee and manager na...  spxjnwir pjlcoqds   \n",
              "1  team my meetings/skype meetings etc are not ap...  hmjdrvpb komuaywn   \n",
              "2                     hi i cannot log on to vpn best  eylqgodm ybqkwiam   \n",
              "3                      unable to access hr tool page  xbkucsvz gcpydteq   \n",
              "4                                        skype error  owlgqjme qhcozdfx   \n",
              "\n",
              "  Assignment group New Assignment Group  \\\n",
              "0            GRP_0                GRP_0   \n",
              "1            GRP_0                GRP_0   \n",
              "2            GRP_0                GRP_0   \n",
              "3            GRP_0                GRP_0   \n",
              "4            GRP_0                GRP_0   \n",
              "\n",
              "                                combined_description  pred_group Language  \n",
              "0  login issue verified user details  employee an...         NaN       en  \n",
              "1  outlook team my meetings/skype meetings etc ar...         NaN       en  \n",
              "2  cant log in to vpn hi i cannot log on to vpn best         NaN       en  \n",
              "3  unable to access hr tool page unable to access...         NaN       en  \n",
              "4                            skype error skype error         NaN       no  "
            ]
          },
          "metadata": {},
          "execution_count": 20
        }
      ]
    },
    {
      "cell_type": "code",
      "metadata": {
        "colab": {
          "base_uri": "https://localhost:8080/"
        },
        "id": "gSf5WDMBryqs",
        "outputId": "052decc7-1e2c-46cc-e8aa-e0066f464080"
      },
      "source": [
        "dataset['target'] = dataset['New Assignment Group'].astype('category').cat.codes\n",
        "dataset.info()"
      ],
      "execution_count": 22,
      "outputs": [
        {
          "output_type": "stream",
          "name": "stdout",
          "text": [
            "<class 'pandas.core.frame.DataFrame'>\n",
            "RangeIndex: 7860 entries, 0 to 7859\n",
            "Data columns (total 9 columns):\n",
            " #   Column                Non-Null Count  Dtype  \n",
            "---  ------                --------------  -----  \n",
            " 0   Short description     7851 non-null   object \n",
            " 1   Description           7845 non-null   object \n",
            " 2   Caller                7860 non-null   object \n",
            " 3   Assignment group      7860 non-null   object \n",
            " 4   New Assignment Group  7860 non-null   object \n",
            " 5   combined_description  7860 non-null   object \n",
            " 6   pred_group            0 non-null      float64\n",
            " 7   Language              7860 non-null   object \n",
            " 8   target                7860 non-null   int8   \n",
            "dtypes: float64(1), int8(1), object(7)\n",
            "memory usage: 499.1+ KB\n"
          ]
        }
      ]
    },
    {
      "cell_type": "code",
      "metadata": {
        "colab": {
          "base_uri": "https://localhost:8080/"
        },
        "id": "ADcSi7gisSVB",
        "outputId": "aa1c23c1-8c0c-441e-cf4c-0743b95836aa"
      },
      "source": [
        "# # # Creating Output dimension ('num_class')\n",
        "num_class_all = len(np.unique(dataset['target'].values))\n",
        "num_class_all"
      ],
      "execution_count": 23,
      "outputs": [
        {
          "output_type": "execute_result",
          "data": {
            "text/plain": [
              "48"
            ]
          },
          "metadata": {},
          "execution_count": 23
        }
      ]
    },
    {
      "cell_type": "code",
      "metadata": {
        "id": "htE-RjdmsJbH"
      },
      "source": [
        "dataset_without_aug =dataset.copy()"
      ],
      "execution_count": 34,
      "outputs": []
    },
    {
      "cell_type": "code",
      "metadata": {
        "id": "ywo-WL_srhxq"
      },
      "source": [
        "gloveFileName = '/content/sample_data/glove.6B.200d.txt'"
      ],
      "execution_count": 35,
      "outputs": []
    },
    {
      "cell_type": "code",
      "metadata": {
        "id": "D7JPOhYwr-KJ"
      },
      "source": [
        "# #Tokenizing and Padding the Independent features\n",
        "\n",
        "from tensorflow.python.keras.preprocessing.sequence import pad_sequences\n",
        "\n",
        "MAX_LENGTH = 300\n",
        "tokenizer = Tokenizer()\n",
        "tokenizer.fit_on_texts(dataset_without_aug.combined_description\t)\n",
        "post_seq = tokenizer.texts_to_sequences(dataset_without_aug.combined_description.values)\n",
        "post_seq_padded = pad_sequences(post_seq, maxlen=MAX_LENGTH)"
      ],
      "execution_count": 36,
      "outputs": []
    },
    {
      "cell_type": "code",
      "metadata": {
        "colab": {
          "base_uri": "https://localhost:8080/"
        },
        "id": "Csuo7DXSsQKa",
        "outputId": "72c2b61d-6758-4a62-c23d-967777aa813e"
      },
      "source": [
        "#Creating input dimension ('vocab_size')\n",
        "\n",
        "vocab_size = len(tokenizer.word_index) + 1\n",
        "max_features = vocab_size \n",
        "vocab_size"
      ],
      "execution_count": 37,
      "outputs": [
        {
          "output_type": "execute_result",
          "data": {
            "text/plain": [
              "12144"
            ]
          },
          "metadata": {},
          "execution_count": 37
        }
      ]
    },
    {
      "cell_type": "code",
      "metadata": {
        "id": "6GfFRN1csAG_"
      },
      "source": [
        "y = dataset_without_aug['target']"
      ],
      "execution_count": 38,
      "outputs": []
    },
    {
      "cell_type": "code",
      "metadata": {
        "id": "JMRrdQqeDvEt"
      },
      "source": [
        "X_train, X_test, y_train, y_test = train_test_split(post_seq_padded, y, test_size=0.2, random_state=42)"
      ],
      "execution_count": 39,
      "outputs": []
    },
    {
      "cell_type": "code",
      "metadata": {
        "colab": {
          "base_uri": "https://localhost:8080/"
        },
        "id": "-8PyZ1zLsEK1",
        "outputId": "ab9a952d-9f20-4467-d25d-0da5ea7cd386"
      },
      "source": [
        "X_train.shape,X_test.shape,y_train.shape, y_test.shape"
      ],
      "execution_count": 40,
      "outputs": [
        {
          "output_type": "execute_result",
          "data": {
            "text/plain": [
              "((6288, 300), (1572, 300), (6288,), (1572,))"
            ]
          },
          "metadata": {},
          "execution_count": 40
        }
      ]
    },
    {
      "cell_type": "code",
      "metadata": {
        "colab": {
          "base_uri": "https://localhost:8080/"
        },
        "id": "mrpPRe5mttoJ",
        "outputId": "0907fbe4-7e94-435b-a9a4-317a70ab4d08"
      },
      "source": [
        "# # # Creating Output dimension ('num_class')\n",
        "num_class = len(np.unique(y_train.values))\n",
        "num_class"
      ],
      "execution_count": 41,
      "outputs": [
        {
          "output_type": "execute_result",
          "data": {
            "text/plain": [
              "48"
            ]
          },
          "metadata": {},
          "execution_count": 41
        }
      ]
    },
    {
      "cell_type": "code",
      "metadata": {
        "id": "FBoGqJbMsboD"
      },
      "source": [
        "max_features = vocab_size  \n",
        "maxlen = 200\n",
        "seq_output_size = 128\n",
        "filters = 64\n",
        "kernel_size = 5\n",
        "pool_size = 4\n",
        "activation_func = 'sigmoid'"
      ],
      "execution_count": 42,
      "outputs": []
    },
    {
      "cell_type": "code",
      "metadata": {
        "colab": {
          "base_uri": "https://localhost:8080/"
        },
        "id": "6fV7dhiutcfh",
        "outputId": "9deb24ce-f66d-479c-d229-c2f189c7714f"
      },
      "source": [
        "from keras import layers\n",
        "# For Embedding Layer\n",
        "from keras.layers.embeddings import Embedding\n",
        "\n",
        "\n",
        "# Bi directional LSTM\n",
        "# Input for variable-length sequences of integers\n",
        "inputs = keras.Input(shape=(None,), dtype=\"int32\")\n",
        "# Embed each integer in a 128-dimensional vector\n",
        "x = layers.Embedding(max_features, 128)(inputs)\n",
        "x = layers.Dropout(0.2)(x)\n",
        "# Add 2 bidirectional LSTMs\n",
        "x = layers.Bidirectional(layers.LSTM(64, return_sequences=True))(x)\n",
        "x = layers.Bidirectional(layers.LSTM(64))(x)\n",
        "x = layers.Dropout(0.2)(x)\n",
        "x = layers.Dense(32, activation='relu')(x)\n",
        "outputs = layers.Dense(num_class, activation='softmax')(x)\n",
        "# Add a classifier\n",
        "bilstm_model = keras.Model(inputs, outputs)\n",
        "bilstm_model.summary()"
      ],
      "execution_count": 44,
      "outputs": [
        {
          "output_type": "stream",
          "name": "stdout",
          "text": [
            "Model: \"model\"\n",
            "_________________________________________________________________\n",
            " Layer (type)                Output Shape              Param #   \n",
            "=================================================================\n",
            " input_2 (InputLayer)        [(None, None)]            0         \n",
            "                                                                 \n",
            " embedding_1 (Embedding)     (None, None, 128)         1554432   \n",
            "                                                                 \n",
            " dropout (Dropout)           (None, None, 128)         0         \n",
            "                                                                 \n",
            " bidirectional (Bidirectiona  (None, None, 128)        98816     \n",
            " l)                                                              \n",
            "                                                                 \n",
            " bidirectional_1 (Bidirectio  (None, 128)              98816     \n",
            " nal)                                                            \n",
            "                                                                 \n",
            " dropout_1 (Dropout)         (None, 128)               0         \n",
            "                                                                 \n",
            " dense (Dense)               (None, 32)                4128      \n",
            "                                                                 \n",
            " dense_1 (Dense)             (None, 48)                1584      \n",
            "                                                                 \n",
            "=================================================================\n",
            "Total params: 1,757,776\n",
            "Trainable params: 1,757,776\n",
            "Non-trainable params: 0\n",
            "_________________________________________________________________\n"
          ]
        }
      ]
    },
    {
      "cell_type": "code",
      "metadata": {
        "colab": {
          "base_uri": "https://localhost:8080/"
        },
        "id": "9cgIirr3t20q",
        "outputId": "268ce162-7ed5-4050-9932-02744d262233"
      },
      "source": [
        "bilstm_model.compile(optimizer='adam',\n",
        "              loss='sparse_categorical_crossentropy',\n",
        "              metrics=['acc'])\n",
        "bilstm_model.fit(X_train, y_train, batch_size=20, epochs=7, validation_data=(X_test, y_test))"
      ],
      "execution_count": 45,
      "outputs": [
        {
          "output_type": "stream",
          "name": "stdout",
          "text": [
            "Epoch 1/7\n",
            "315/315 [==============================] - 104s 297ms/step - loss: 2.2450 - acc: 0.5165 - val_loss: 1.9737 - val_acc: 0.5337\n",
            "Epoch 2/7\n",
            "315/315 [==============================] - 92s 291ms/step - loss: 1.8134 - acc: 0.5608 - val_loss: 1.9042 - val_acc: 0.5681\n",
            "Epoch 3/7\n",
            "315/315 [==============================] - 92s 292ms/step - loss: 1.6017 - acc: 0.5903 - val_loss: 1.8999 - val_acc: 0.5642\n",
            "Epoch 4/7\n",
            "315/315 [==============================] - 92s 291ms/step - loss: 1.4283 - acc: 0.6128 - val_loss: 1.9147 - val_acc: 0.5293\n",
            "Epoch 5/7\n",
            "315/315 [==============================] - 92s 292ms/step - loss: 1.2665 - acc: 0.6490 - val_loss: 1.9513 - val_acc: 0.5363\n",
            "Epoch 6/7\n",
            "315/315 [==============================] - 92s 292ms/step - loss: 1.1358 - acc: 0.6823 - val_loss: 2.0016 - val_acc: 0.5585\n",
            "Epoch 7/7\n",
            "315/315 [==============================] - 92s 292ms/step - loss: 1.0092 - acc: 0.7061 - val_loss: 2.0529 - val_acc: 0.5604\n"
          ]
        },
        {
          "output_type": "execute_result",
          "data": {
            "text/plain": [
              "<keras.callbacks.History at 0x7f137635f410>"
            ]
          },
          "metadata": {},
          "execution_count": 45
        }
      ]
    },
    {
      "cell_type": "code",
      "metadata": {
        "colab": {
          "base_uri": "https://localhost:8080/"
        },
        "id": "EBAgd-Vs0F1c",
        "outputId": "e9ee23cf-1152-4959-946a-078a0b3322cd"
      },
      "source": [
        "bi_lstm_predicted = bilstm_model.predict(X_test)\n",
        "bi_lstm_predicted = np.argmax(bi_lstm_predicted, axis=1)\n",
        "accuracy_score(y_test, bi_lstm_predicted)"
      ],
      "execution_count": 46,
      "outputs": [
        {
          "output_type": "execute_result",
          "data": {
            "text/plain": [
              "0.5604325699745547"
            ]
          },
          "metadata": {},
          "execution_count": 46
        }
      ]
    },
    {
      "cell_type": "markdown",
      "metadata": {
        "id": "5WjMGdbe0Z6u"
      },
      "source": [
        "**DL With augementation - part 1**"
      ]
    },
    {
      "cell_type": "code",
      "metadata": {
        "colab": {
          "base_uri": "https://localhost:8080/",
          "height": 523
        },
        "id": "GETruzJY0hP-",
        "outputId": "dca7adeb-e3bc-40f8-b067-a154faf45f7f"
      },
      "source": [
        "!pip install nlpaug"
      ],
      "execution_count": 47,
      "outputs": [
        {
          "output_type": "stream",
          "name": "stdout",
          "text": [
            "Collecting nlpaug\n",
            "  Downloading nlpaug-1.1.8-py3-none-any.whl (409 kB)\n",
            "\u001b[K     |████████████████████████████████| 409 kB 5.2 MB/s \n",
            "\u001b[?25hRequirement already satisfied: numpy>=1.16.2 in /usr/local/lib/python3.7/dist-packages (from nlpaug) (1.19.5)\n",
            "Requirement already satisfied: requests>=2.22.0 in /usr/local/lib/python3.7/dist-packages (from nlpaug) (2.23.0)\n",
            "Collecting pandas>=1.2.0\n",
            "  Downloading pandas-1.3.4-cp37-cp37m-manylinux_2_17_x86_64.manylinux2014_x86_64.whl (11.3 MB)\n",
            "\u001b[K     |████████████████████████████████| 11.3 MB 40.5 MB/s \n",
            "\u001b[?25hRequirement already satisfied: python-dateutil>=2.7.3 in /usr/local/lib/python3.7/dist-packages (from pandas>=1.2.0->nlpaug) (2.8.2)\n",
            "Requirement already satisfied: pytz>=2017.3 in /usr/local/lib/python3.7/dist-packages (from pandas>=1.2.0->nlpaug) (2018.9)\n",
            "Requirement already satisfied: six>=1.5 in /usr/local/lib/python3.7/dist-packages (from python-dateutil>=2.7.3->pandas>=1.2.0->nlpaug) (1.15.0)\n",
            "Requirement already satisfied: idna<3,>=2.5 in /usr/local/lib/python3.7/dist-packages (from requests>=2.22.0->nlpaug) (2.10)\n",
            "Requirement already satisfied: urllib3!=1.25.0,!=1.25.1,<1.26,>=1.21.1 in /usr/local/lib/python3.7/dist-packages (from requests>=2.22.0->nlpaug) (1.24.3)\n",
            "Requirement already satisfied: certifi>=2017.4.17 in /usr/local/lib/python3.7/dist-packages (from requests>=2.22.0->nlpaug) (2021.10.8)\n",
            "Requirement already satisfied: chardet<4,>=3.0.2 in /usr/local/lib/python3.7/dist-packages (from requests>=2.22.0->nlpaug) (3.0.4)\n",
            "Installing collected packages: pandas, nlpaug\n",
            "  Attempting uninstall: pandas\n",
            "    Found existing installation: pandas 1.1.5\n",
            "    Uninstalling pandas-1.1.5:\n",
            "      Successfully uninstalled pandas-1.1.5\n",
            "\u001b[31mERROR: pip's dependency resolver does not currently take into account all the packages that are installed. This behaviour is the source of the following dependency conflicts.\n",
            "google-colab 1.0.0 requires pandas~=1.1.0; python_version >= \"3.0\", but you have pandas 1.3.4 which is incompatible.\u001b[0m\n",
            "Successfully installed nlpaug-1.1.8 pandas-1.3.4\n"
          ]
        },
        {
          "output_type": "display_data",
          "data": {
            "application/vnd.colab-display-data+json": {
              "pip_warning": {
                "packages": [
                  "pandas"
                ]
              }
            }
          },
          "metadata": {}
        }
      ]
    },
    {
      "cell_type": "code",
      "metadata": {
        "id": "dW1bsENx0k5C"
      },
      "source": [
        "\n",
        "import nlpaug.augmenter.char as nac\n",
        "import nlpaug.augmenter.word as naw\n",
        "import nlpaug.augmenter.sentence as nas\n",
        "import nlpaug.flow as nafc\n",
        "\n",
        "from nlpaug.util import Action\n"
      ],
      "execution_count": 48,
      "outputs": []
    },
    {
      "cell_type": "code",
      "metadata": {
        "id": "LHYnSgKx1-j3"
      },
      "source": [
        "dataset_with_aug =dataset.copy()"
      ],
      "execution_count": 49,
      "outputs": []
    },
    {
      "cell_type": "code",
      "metadata": {
        "colab": {
          "base_uri": "https://localhost:8080/"
        },
        "id": "4yOLaY1F7j4e",
        "outputId": "e5ec376f-28ca-46d2-e173-38ce99b6360a"
      },
      "source": [
        "dataset_with_aug.info()"
      ],
      "execution_count": 50,
      "outputs": [
        {
          "output_type": "stream",
          "name": "stdout",
          "text": [
            "<class 'pandas.core.frame.DataFrame'>\n",
            "RangeIndex: 7860 entries, 0 to 7859\n",
            "Data columns (total 9 columns):\n",
            " #   Column                Non-Null Count  Dtype  \n",
            "---  ------                --------------  -----  \n",
            " 0   Short description     7851 non-null   object \n",
            " 1   Description           7845 non-null   object \n",
            " 2   Caller                7860 non-null   object \n",
            " 3   Assignment group      7860 non-null   object \n",
            " 4   New Assignment Group  7860 non-null   object \n",
            " 5   combined_description  7860 non-null   object \n",
            " 6   pred_group            0 non-null      float64\n",
            " 7   Language              7860 non-null   object \n",
            " 8   target                7860 non-null   int8   \n",
            "dtypes: float64(1), int8(1), object(7)\n",
            "memory usage: 499.1+ KB\n"
          ]
        }
      ]
    },
    {
      "cell_type": "code",
      "metadata": {
        "colab": {
          "base_uri": "https://localhost:8080/"
        },
        "id": "ZUeOnKE85enh",
        "outputId": "a4871d9f-c014-47de-db2b-271afb4d8080"
      },
      "source": [
        "dataset_with_aug['target'].value_counts()"
      ],
      "execution_count": 51,
      "outputs": [
        {
          "output_type": "execute_result",
          "data": {
            "text/plain": [
              "0     3660\n",
              "46     591\n",
              "16     285\n",
              "47     252\n",
              "4      251\n",
              "11     213\n",
              "12     209\n",
              "22     197\n",
              "41     182\n",
              "5      143\n",
              "2      139\n",
              "38     128\n",
              "6      116\n",
              "17     115\n",
              "25     103\n",
              "21      97\n",
              "30      95\n",
              "10      88\n",
              "45      88\n",
              "8       84\n",
              "24      67\n",
              "26      62\n",
              "18      55\n",
              "20      44\n",
              "32      40\n",
              "31      40\n",
              "23      39\n",
              "33      37\n",
              "7       36\n",
              "35      35\n",
              "13      33\n",
              "1       31\n",
              "3       30\n",
              "15      27\n",
              "36      27\n",
              "37      25\n",
              "43      25\n",
              "44      21\n",
              "9       19\n",
              "29      19\n",
              "19      17\n",
              "42      16\n",
              "28      15\n",
              "34      15\n",
              "39      14\n",
              "14      13\n",
              "27      11\n",
              "40      11\n",
              "Name: target, dtype: int64"
            ]
          },
          "metadata": {},
          "execution_count": 51
        }
      ]
    },
    {
      "cell_type": "code",
      "metadata": {
        "colab": {
          "base_uri": "https://localhost:8080/"
        },
        "id": "7vCPKVNL2QTM",
        "outputId": "31cf55a5-7703-4350-e07a-814d3fe5799c"
      },
      "source": [
        "# Create training and test datasets with 80:20 ratio\n",
        "X_train, X_test, y_train, y_test = train_test_split(dataset_with_aug.combined_description, \n",
        "                                                    dataset_with_aug.target, \n",
        "                                                    test_size=0.20, \n",
        "                                                    random_state=42)\n",
        "print('\\033[1mShape of the training set:\\033[0m', X_train.shape, y_train.shape)\n",
        "print('\\033[1mShape of the test set:\\033[0m', X_test.shape, y_test.shape)"
      ],
      "execution_count": 52,
      "outputs": [
        {
          "output_type": "stream",
          "name": "stdout",
          "text": [
            "\u001b[1mShape of the training set:\u001b[0m (6288,) (6288,)\n",
            "\u001b[1mShape of the test set:\u001b[0m (1572,) (1572,)\n"
          ]
        }
      ]
    },
    {
      "cell_type": "code",
      "metadata": {
        "colab": {
          "base_uri": "https://localhost:8080/",
          "height": 237
        },
        "id": "r_X4cR4u3L9y",
        "outputId": "d42d285b-1cc9-4931-8a1a-c73c5f5a3980"
      },
      "source": [
        "#Create Dataset \n",
        "y_train_df_old = pd.DataFrame(y_train,columns=['target'])\n",
        "#y_train_df_old_nogrp0 = dataset1[dataset1['Assignment group'] != 'GRP_0']\n",
        "\n",
        "descending_order = y_train_df_old['target'].value_counts().sort_values(ascending=False).index\n",
        "plt.subplots(figsize=(22,5))\n",
        "#add code to rotate the labels\n",
        "ax=sns.countplot(x='target', data=y_train_df_old, color='royalblue',order=descending_order)\n",
        "ax.set_xticklabels(ax.get_xticklabels(), rotation=45, ha=\"right\")\n",
        "plt.tight_layout()\n",
        "plt.title('Group count before augmentation')\n",
        "plt.show()"
      ],
      "execution_count": 53,
      "outputs": [
        {
          "output_type": "display_data",
          "data": {
            "image/png": "[encoded data removed]",
            "text/plain": [
              "<Figure size 1584x360 with 1 Axes>"
            ]
          },
          "metadata": {
            "needs_background": "light"
          }
        }
      ]
    },
    {
      "cell_type": "code",
      "metadata": {
        "id": "IGbWqpeD3Ohn"
      },
      "source": [
        "##Create Dataset for 'others' i.e all groups which is not part of GRP_0\n",
        "#y_train_df_old = pd. DataFrame(target,columns=['target'])\n",
        "#y_train_df_old_nogrp0 = y_train_df_old[y_train_df_old['target'] != 0]\n",
        "\n",
        "# descending_order = y_train_df_old_nogrp0['target'].value_counts().sort_values(ascending=False).index\n",
        "# plt.subplots(figsize=(22,5))\n",
        "# #add code to rotate the labels\n",
        "# ax=sns.countplot(x='target', data=y_train_df_old_nogrp0, color='royalblue',order=descending_order)\n",
        "# ax.set_xticklabels(ax.get_xticklabels(), rotation=45, ha=\"right\")\n",
        "# plt.tight_layout()\n",
        "# plt.title('Group count before augmentation excluding GRP_0')\n",
        "# plt.show()"
      ],
      "execution_count": 119,
      "outputs": []
    },
    {
      "cell_type": "code",
      "metadata": {
        "colab": {
          "base_uri": "https://localhost:8080/"
        },
        "id": "TjaGFmOn1hUs",
        "outputId": "c91a0766-4859-4802-ab71-e89d8447f71f"
      },
      "source": [
        "#import nltk\n",
        "nltk.download('averaged_perceptron_tagger')\n",
        "nltk.download('wordnet')"
      ],
      "execution_count": 55,
      "outputs": [
        {
          "output_type": "stream",
          "name": "stdout",
          "text": [
            "[nltk_data] Downloading package averaged_perceptron_tagger to\n",
            "[nltk_data]     /root/nltk_data...\n",
            "[nltk_data]   Unzipping taggers/averaged_perceptron_tagger.zip.\n",
            "[nltk_data] Downloading package wordnet to /root/nltk_data...\n",
            "[nltk_data]   Unzipping corpora/wordnet.zip.\n"
          ]
        },
        {
          "output_type": "execute_result",
          "data": {
            "text/plain": [
              "True"
            ]
          },
          "metadata": {},
          "execution_count": 55
        }
      ]
    },
    {
      "cell_type": "code",
      "metadata": {
        "id": "l_7Vn0O21jyS"
      },
      "source": [
        "aug = naw.SynonymAug(aug_src='wordnet',aug_max=3)"
      ],
      "execution_count": 56,
      "outputs": []
    },
    {
      "cell_type": "code",
      "metadata": {
        "colab": {
          "base_uri": "https://localhost:8080/"
        },
        "id": "u1ii9p1y11kH",
        "outputId": "5e5aca25-d237-4c73-82cd-8e5b2aaa4338"
      },
      "source": [
        "# Take an example for augmentation\n",
        "example=aug.augment(X_train[5],n=2)\n",
        "print('\\033[1mOriginal text:\\033[0m')\n",
        "print(X_train[5])\n",
        "print('_'*100)\n",
        "print('\\033[1mAugmented text:\\033[0m')\n",
        "print(example[0])\n",
        "print(example[1])"
      ],
      "execution_count": 57,
      "outputs": [
        {
          "output_type": "stream",
          "name": "stdout",
          "text": [
            "\u001b[1mOriginal text:\u001b[0m\n",
            "unable to log in to engineering tool and skype unable to log in to engineering tool and skype\n",
            "____________________________________________________________________________________________________\n",
            "\u001b[1mAugmented text:\u001b[0m\n",
            "unable to log in to engineering pecker and skype unable to log in to engineering tool and skype\n",
            "unable to log in to engineering tool and skype unable to lumber in to engineering puppet and skype\n"
          ]
        }
      ]
    },
    {
      "cell_type": "code",
      "metadata": {
        "id": "fVHIECes18pf"
      },
      "source": [
        "augmented_sentences=[]\n",
        "augmented_sentences_labels=[]\n",
        "for i in X_train.index:\n",
        "  if y_train[i] in (24,9,12,2,19,3,6):\n",
        "    temps=aug.augment(X_train[i],n=3)\n",
        "    for sent in temps:\n",
        "      augmented_sentences.append(sent)\n",
        "      augmented_sentences_labels.append(y_train[i])\n",
        "  elif y_train[i] in (13,10,5,25,14,4,29,33,16,18,31,7,17,26,34):    \n",
        "    temps=aug.augment(X_train[i],n=6)\n",
        "    for sent in temps:\n",
        "      augmented_sentences.append(sent)\n",
        "      augmented_sentences_labels.append(y_train[i])\n",
        "  elif y_train[i] in (72,57,54,66,69,73,35,64,70,71):    \n",
        "    temps=aug.augment(X_train[i],n=50)\n",
        "    for sent in temps:\n",
        "      augmented_sentences.append(sent)\n",
        "      augmented_sentences_labels.append(y_train[i])\n",
        "  elif y_train[i] not in (0,8,24,9,12,2,19,3,6,13,10,5,25,14,4,29,33,16,18,31,7,17,26,34,72,57,54,66,69,73,35,64,70,71):    \n",
        "    temps=aug.augment(X_train[i],n=12)\n",
        "    for sent in temps:\n",
        "      augmented_sentences.append(sent)\n",
        "      augmented_sentences_labels.append(y_train[i])"
      ],
      "execution_count": 58,
      "outputs": []
    },
    {
      "cell_type": "code",
      "metadata": {
        "colab": {
          "base_uri": "https://localhost:8080/"
        },
        "id": "5NBj7Eq85UAV",
        "outputId": "651e1172-c9d7-4426-ad73-afcd6a679842"
      },
      "source": [
        "X_train=X_train.append(pd.Series(augmented_sentences),ignore_index=True)\n",
        "y_train=y_train.append(pd.Series(augmented_sentences_labels),ignore_index=True)\n",
        "\n",
        "print(X_train.shape)\n",
        "print(y_train.shape)\n",
        "\n",
        "print(X_test.shape)\n",
        "print(y_test.shape)"
      ],
      "execution_count": 59,
      "outputs": [
        {
          "output_type": "stream",
          "name": "stdout",
          "text": [
            "(36272,)\n",
            "(36272,)\n",
            "(1572,)\n",
            "(1572,)\n"
          ]
        }
      ]
    },
    {
      "cell_type": "code",
      "metadata": {
        "id": "e7o6sejf5XoM"
      },
      "source": [
        "y_train_df = pd. DataFrame(y_train,columns=['target'])\n"
      ],
      "execution_count": 60,
      "outputs": []
    },
    {
      "cell_type": "code",
      "metadata": {
        "colab": {
          "base_uri": "https://localhost:8080/",
          "height": 237
        },
        "id": "2d223iz95a39",
        "outputId": "8c7554e5-25de-470b-f5ac-c9cf9e23dc7a"
      },
      "source": [
        "#Create Dataset \n",
        "#y_train_df_old_nogrp0 = dataset1[dataset1['Assignment group'] != 'GRP_0']\n",
        "\n",
        "descending_order = y_train_df['target'].value_counts().sort_values(ascending=False).index\n",
        "plt.subplots(figsize=(22,5))\n",
        "#add code to rotate the labels\n",
        "ax=sns.countplot(x='target', data=y_train_df, color='royalblue',order=descending_order)\n",
        "ax.set_xticklabels(ax.get_xticklabels(), rotation=45, ha=\"right\")\n",
        "plt.tight_layout()\n",
        "plt.title('Group count after augmentation')\n",
        "plt.show()"
      ],
      "execution_count": 61,
      "outputs": [
        {
          "output_type": "display_data",
          "data": {
            "image/png": "[encoded data removed]",
            "text/plain": [
              "<Figure size 1584x360 with 1 Axes>"
            ]
          },
          "metadata": {
            "needs_background": "light"
          }
        }
      ]
    },
    {
      "cell_type": "code",
      "metadata": {
        "id": "nwIEv6Hq6BCo"
      },
      "source": [
        "#Create Dataset for 'others' i.e all groups which is not part of GRP_0\n",
        "#y_train_df_old = pd. DataFrame(y_train_df,columns=['target'])\n",
        "#y_train_df_nogrp0 = y_train_df[y_train_df['target'] != 0]\n",
        "\n",
        "# descending_order = y_train_df_nogrp0['target'].value_counts().sort_values(ascending=False).index\n",
        "# plt.subplots(figsize=(22,5))\n",
        "# #add code to rotate the labels\n",
        "# ax=sns.countplot(x='target', data=y_train_df_nogrp0, color='royalblue',order=descending_order)\n",
        "# ax.set_xticklabels(ax.get_xticklabels(), rotation=45, ha=\"right\")\n",
        "# plt.tight_layout()\n",
        "# plt.title('Group count after augmentation excluding GRP_0')\n",
        "# plt.show()"
      ],
      "execution_count": 117,
      "outputs": []
    },
    {
      "cell_type": "code",
      "metadata": {
        "colab": {
          "base_uri": "https://localhost:8080/"
        },
        "id": "1ed4YG2889P6",
        "outputId": "8e4b9712-2cb0-4040-ca23-ae49dd0ebbdf"
      },
      "source": [
        "y_train_df.groupby(['target']).size()"
      ],
      "execution_count": 62,
      "outputs": [
        {
          "output_type": "execute_result",
          "data": {
            "text/plain": [
              "target\n",
              "0     2927\n",
              "1      338\n",
              "2      440\n",
              "3       88\n",
              "4     1330\n",
              "5      840\n",
              "6      368\n",
              "7      196\n",
              "8       74\n",
              "9       56\n",
              "10     455\n",
              "11    2249\n",
              "12     676\n",
              "13     189\n",
              "14      70\n",
              "15     247\n",
              "16    1603\n",
              "17     707\n",
              "18     287\n",
              "19      52\n",
              "20     364\n",
              "21     988\n",
              "22    2106\n",
              "23     416\n",
              "24     224\n",
              "25     588\n",
              "26     378\n",
              "27     130\n",
              "28     156\n",
              "29     119\n",
              "30     962\n",
              "31     231\n",
              "32     442\n",
              "33     217\n",
              "34      70\n",
              "35    1428\n",
              "36     234\n",
              "37     273\n",
              "38    1313\n",
              "39     156\n",
              "40     130\n",
              "41    1807\n",
              "42     156\n",
              "43     260\n",
              "44     234\n",
              "45     923\n",
              "46    6227\n",
              "47    2548\n",
              "dtype: int64"
            ]
          },
          "metadata": {},
          "execution_count": 62
        }
      ]
    },
    {
      "cell_type": "code",
      "metadata": {
        "id": "QKaRUd3q9Zqp"
      },
      "source": [
        "#Tokenizing and Padding the Independent features\n",
        "\n",
        "from tensorflow.python.keras.preprocessing.sequence import pad_sequences\n",
        "\n",
        "MAX_LENGTH = 300\n",
        "tokenizer = Tokenizer()\n",
        "tokenizer.fit_on_texts(X_train.values)\n",
        "post_seq = tokenizer.texts_to_sequences(X_train.values)\n",
        "post_seq_padded_Xtrain = pad_sequences(post_seq, maxlen=MAX_LENGTH)"
      ],
      "execution_count": 63,
      "outputs": []
    },
    {
      "cell_type": "code",
      "metadata": {
        "colab": {
          "base_uri": "https://localhost:8080/"
        },
        "id": "3oS4aSOs9ns3",
        "outputId": "685ba3bf-90c4-4ed6-fac8-41ac37d84410"
      },
      "source": [
        "#Creating input dimension ('vocab_size')\n",
        "\n",
        "vocab_size = len(tokenizer.word_index) + 1\n",
        "max_features = vocab_size \n",
        "vocab_size"
      ],
      "execution_count": 64,
      "outputs": [
        {
          "output_type": "execute_result",
          "data": {
            "text/plain": [
              "14096"
            ]
          },
          "metadata": {},
          "execution_count": 64
        }
      ]
    },
    {
      "cell_type": "code",
      "metadata": {
        "id": "6H32kzdX9Z12"
      },
      "source": [
        "#Tokenizing and Padding the Independent features\n",
        "\n",
        "from tensorflow.python.keras.preprocessing.sequence import pad_sequences\n",
        "\n",
        "MAX_LENGTH = 300\n",
        "tokenizer = Tokenizer()\n",
        "tokenizer.fit_on_texts(X_test.values)\n",
        "post_seq = tokenizer.texts_to_sequences(X_test.values)\n",
        "post_seq_padded_Xtest = pad_sequences(post_seq, maxlen=MAX_LENGTH)"
      ],
      "execution_count": 65,
      "outputs": []
    },
    {
      "cell_type": "code",
      "metadata": {
        "colab": {
          "base_uri": "https://localhost:8080/"
        },
        "id": "Xx992Z2W9isG",
        "outputId": "d7dd3cdd-7c10-477f-ea67-471cdae40c5e"
      },
      "source": [
        "num_class = len(np.unique(y_train.values))\n",
        "num_class"
      ],
      "execution_count": 66,
      "outputs": [
        {
          "output_type": "execute_result",
          "data": {
            "text/plain": [
              "48"
            ]
          },
          "metadata": {},
          "execution_count": 66
        }
      ]
    },
    {
      "cell_type": "code",
      "metadata": {
        "colab": {
          "base_uri": "https://localhost:8080/"
        },
        "id": "UuOSU1Si-ZGy",
        "outputId": "43c57817-4f6c-48ed-9e08-658294ffe05d"
      },
      "source": [
        "num_class_test = len(np.unique(y_test.values))\n",
        "num_class_test"
      ],
      "execution_count": 67,
      "outputs": [
        {
          "output_type": "execute_result",
          "data": {
            "text/plain": [
              "48"
            ]
          },
          "metadata": {},
          "execution_count": 67
        }
      ]
    },
    {
      "cell_type": "code",
      "metadata": {
        "id": "kMToYq269q3g"
      },
      "source": [
        "max_features = vocab_size  \n",
        "maxlen = 200\n",
        "seq_output_size = 128\n",
        "filters = 64\n",
        "kernel_size = 5\n",
        "pool_size = 4\n",
        "activation_func = 'sigmoid'"
      ],
      "execution_count": 68,
      "outputs": []
    },
    {
      "cell_type": "code",
      "metadata": {
        "colab": {
          "base_uri": "https://localhost:8080/"
        },
        "id": "_BHHi-DG9tJs",
        "outputId": "a9d4057c-109d-4c07-c5af-318cfac6ffb6"
      },
      "source": [
        "from keras import layers\n",
        "# For Embedding Layer\n",
        "from keras.layers.embeddings import Embedding\n",
        "\n",
        "\n",
        "# Bi directional LSTM\n",
        "# Input for variable-length sequences of integers\n",
        "inputs = keras.Input(shape=(None,), dtype=\"int32\")\n",
        "# Embed each integer in a 128-dimensional vector\n",
        "x = layers.Embedding(max_features, 128)(inputs)\n",
        "x = layers.Dropout(0.2)(x)\n",
        "# Add 2 bidirectional LSTMs\n",
        "x = layers.Bidirectional(layers.LSTM(64, return_sequences=True))(x)\n",
        "x = layers.Bidirectional(layers.LSTM(64))(x)\n",
        "x = layers.Dropout(0.2)(x)\n",
        "x = layers.Dense(32, activation='relu')(x)\n",
        "outputs = layers.Dense(num_class, activation='softmax')(x)\n",
        "# Add a classifier\n",
        "bilstm_model = keras.Model(inputs, outputs)\n",
        "bilstm_model.summary()"
      ],
      "execution_count": 69,
      "outputs": [
        {
          "output_type": "stream",
          "name": "stdout",
          "text": [
            "Model: \"model_1\"\n",
            "_________________________________________________________________\n",
            " Layer (type)                Output Shape              Param #   \n",
            "=================================================================\n",
            " input_3 (InputLayer)        [(None, None)]            0         \n",
            "                                                                 \n",
            " embedding_2 (Embedding)     (None, None, 128)         1804288   \n",
            "                                                                 \n",
            " dropout_2 (Dropout)         (None, None, 128)         0         \n",
            "                                                                 \n",
            " bidirectional_2 (Bidirectio  (None, None, 128)        98816     \n",
            " nal)                                                            \n",
            "                                                                 \n",
            " bidirectional_3 (Bidirectio  (None, 128)              98816     \n",
            " nal)                                                            \n",
            "                                                                 \n",
            " dropout_3 (Dropout)         (None, 128)               0         \n",
            "                                                                 \n",
            " dense_2 (Dense)             (None, 32)                4128      \n",
            "                                                                 \n",
            " dense_3 (Dense)             (None, 48)                1584      \n",
            "                                                                 \n",
            "=================================================================\n",
            "Total params: 2,007,632\n",
            "Trainable params: 2,007,632\n",
            "Non-trainable params: 0\n",
            "_________________________________________________________________\n"
          ]
        }
      ]
    },
    {
      "cell_type": "code",
      "metadata": {
        "colab": {
          "base_uri": "https://localhost:8080/"
        },
        "id": "9GMkDwHl9xw1",
        "outputId": "708131d5-507a-4ab0-a9a3-14918214afaa"
      },
      "source": [
        "#model.compile(\"adam\", \"binary_crossentropy\", metrics=[\"accuracy\"])\n",
        "bilstm_model.compile(optimizer='adam',\n",
        "              loss='sparse_categorical_crossentropy',\n",
        "              metrics=['acc'])\n",
        "bilstm_model.fit(post_seq_padded_Xtrain, y_train, batch_size=20, epochs=7, validation_data=(post_seq_padded_Xtest, y_test))"
      ],
      "execution_count": 70,
      "outputs": [
        {
          "output_type": "stream",
          "name": "stdout",
          "text": [
            "Epoch 1/7\n",
            "1814/1814 [==============================] - 497s 270ms/step - loss: 1.8966 - acc: 0.4643 - val_loss: 5.2908 - val_acc: 0.1749\n",
            "Epoch 2/7\n",
            "1814/1814 [==============================] - 490s 270ms/step - loss: 0.8668 - acc: 0.7340 - val_loss: 7.0104 - val_acc: 0.1266\n",
            "Epoch 3/7\n",
            "1814/1814 [==============================] - 492s 271ms/step - loss: 0.5653 - acc: 0.8186 - val_loss: 7.1947 - val_acc: 0.1603\n",
            "Epoch 4/7\n",
            "1814/1814 [==============================] - 491s 271ms/step - loss: 0.4531 - acc: 0.8487 - val_loss: 7.6162 - val_acc: 0.1393\n",
            "Epoch 5/7\n",
            "1814/1814 [==============================] - 493s 272ms/step - loss: 0.3913 - acc: 0.8646 - val_loss: 8.0394 - val_acc: 0.1807\n",
            "Epoch 6/7\n",
            "1814/1814 [==============================] - 492s 271ms/step - loss: 0.3585 - acc: 0.8728 - val_loss: 7.7060 - val_acc: 0.1947\n",
            "Epoch 7/7\n",
            "1814/1814 [==============================] - 492s 271ms/step - loss: 0.3330 - acc: 0.8789 - val_loss: 8.2947 - val_acc: 0.1539\n"
          ]
        },
        {
          "output_type": "execute_result",
          "data": {
            "text/plain": [
              "<keras.callbacks.History at 0x7f121f018710>"
            ]
          },
          "metadata": {},
          "execution_count": 70
        }
      ]
    },
    {
      "cell_type": "code",
      "metadata": {
        "colab": {
          "base_uri": "https://localhost:8080/"
        },
        "id": "y7OLopDA90K1",
        "outputId": "ad03ee58-046a-4039-b907-56f24696556d"
      },
      "source": [
        "bi_lstm_predicted = bilstm_model.predict(post_seq_padded_Xtest)\n",
        "bi_lstm_predicted = np.argmax(bi_lstm_predicted, axis=1)\n",
        "accuracy_score(y_test, bi_lstm_predicted)"
      ],
      "execution_count": 71,
      "outputs": [
        {
          "output_type": "execute_result",
          "data": {
            "text/plain": [
              "0.15394402035623408"
            ]
          },
          "metadata": {},
          "execution_count": 71
        }
      ]
    }
  ]
}